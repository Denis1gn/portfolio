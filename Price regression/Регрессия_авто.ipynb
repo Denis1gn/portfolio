{
 "cells": [
  {
   "cell_type": "markdown",
   "metadata": {},
   "source": [
    "# Определение стоимости автомобилей"
   ]
  },
  {
   "cell_type": "markdown",
   "metadata": {},
   "source": [
    "Сервис по продаже автомобилей с пробегом «Не бит, не крашен» разрабатывает приложение для привлечения новых клиентов. В нём можно быстро узнать рыночную стоимость своего автомобиля. В вашем распоряжении исторические данные: технические характеристики, комплектации и цены автомобилей. Вам нужно построить модель для определения стоимости. \n",
    "\n",
    "Заказчику важны:\n",
    "\n",
    "- качество предсказания;\n",
    "- скорость предсказания;\n",
    "- время обучения."
   ]
  },
  {
   "cell_type": "code",
   "execution_count": 1,
   "metadata": {},
   "outputs": [],
   "source": [
    "# библиотеки для работы с данными\n",
    "import pandas as pd\n",
    "import numpy as np\n",
    "from scipy.stats import randint\n",
    "\n",
    "# библиотеки для графиков\n",
    "import seaborn as sns\n",
    "import matplotlib.pyplot as plt\n",
    "\n",
    "# загружаем класс pipeline\n",
    "from sklearn.pipeline import Pipeline\n",
    "\n",
    "# загружаем классы для подготовки данных\n",
    "from sklearn.model_selection import train_test_split\n",
    "from sklearn.preprocessing import (OneHotEncoder, \n",
    "                                   OrdinalEncoder, \n",
    "                                   MinMaxScaler)\n",
    "from sklearn.compose import ColumnTransformer\n",
    "\n",
    "# загружаем класс для работы с пропусками\n",
    "from sklearn.impute import SimpleImputer\n",
    "\n",
    "# загрузим модели\n",
    "from sklearn.model_selection import RandomizedSearchCV\n",
    "from sklearn.linear_model import LinearRegression\n",
    "from sklearn.svm import SVR\n",
    "from sklearn.tree import DecisionTreeRegressor\n",
    "import lightgbm as lgb\n",
    "from catboost import CatBoostRegressor\n",
    "\n",
    "# импорт MSE\n",
    "from sklearn.metrics import root_mean_squared_error, make_scorer\n",
    "\n",
    "# библиотека для корреляционной матрицы и проверки на мультиколлинеарность\n",
    "from phik.report import plot_correlation_matrix\n",
    "from statsmodels.stats.outliers_influence import variance_inflation_factor\n",
    "\n",
    "#импорт Shap для объяснения интерпретации модели\n",
    "import shap"
   ]
  },
  {
   "cell_type": "code",
   "execution_count": 2,
   "metadata": {},
   "outputs": [],
   "source": [
    "RANDOM_STATE = 42\n",
    "TEST_SIZE = 0.25"
   ]
  },
  {
   "cell_type": "markdown",
   "metadata": {},
   "source": [
    "## Подготовка данных"
   ]
  },
  {
   "cell_type": "markdown",
   "metadata": {},
   "source": [
    "### Загрузка и изучение данных"
   ]
  },
  {
   "cell_type": "code",
   "execution_count": 3,
   "metadata": {},
   "outputs": [],
   "source": [
    "df = pd.read_csv('autos.csv')"
   ]
  },
  {
   "cell_type": "code",
   "execution_count": 4,
   "metadata": {},
   "outputs": [],
   "source": [
    "# Улучшенная функция для основной информации о датафрейме\n",
    "def data_exploration(dataframe):\n",
    "    print('\\033[1m' + 'Информация о датафрейме:')\n",
    "    print('\\033[0m')\n",
    "    dataframe.info()\n",
    "    \n",
    "    print('\\033[1m' + 'Первые пять строк:')\n",
    "    print('\\033[0m')\n",
    "    display(dataframe.head())\n",
    "    \n",
    "    print('\\033[1m' + 'Статистическое описание данных:')\n",
    "    print('\\033[0m')\n",
    "    display(dataframe.describe())\n",
    "    \n",
    "    print('\\033[1m' + 'Количество уникальных значений:')\n",
    "    print('\\033[0m')\n",
    "    display(dataframe.nunique())\n",
    "    \n",
    "    print('\\033[1m' + 'Пропуски в данных:')\n",
    "    print('\\033[0m')\n",
    "    missing = dataframe.isna().sum()\n",
    "    missing = missing[missing > 0]\n",
    "    plt.figure(figsize=(10, 5))\n",
    "    sns.barplot(x=missing.index, y=missing.values)\n",
    "    plt.title('Количество пропущенных значений по столбцам')\n",
    "    plt.xticks(rotation=45)\n",
    "    plt.show()\n",
    "    \n",
    "    print('\\033[1m' + 'Количество дубликатов:')\n",
    "    print('\\033[0m')\n",
    "    print(dataframe.duplicated().sum())"
   ]
  },
  {
   "cell_type": "code",
   "execution_count": 5,
   "metadata": {},
   "outputs": [
    {
     "name": "stdout",
     "output_type": "stream",
     "text": [
      "\u001b[1mИнформация о датафрейме:\n",
      "\u001b[0m\n",
      "<class 'pandas.core.frame.DataFrame'>\n",
      "RangeIndex: 354369 entries, 0 to 354368\n",
      "Data columns (total 16 columns):\n",
      " #   Column             Non-Null Count   Dtype \n",
      "---  ------             --------------   ----- \n",
      " 0   DateCrawled        354369 non-null  object\n",
      " 1   Price              354369 non-null  int64 \n",
      " 2   VehicleType        316879 non-null  object\n",
      " 3   RegistrationYear   354369 non-null  int64 \n",
      " 4   Gearbox            334536 non-null  object\n",
      " 5   Power              354369 non-null  int64 \n",
      " 6   Model              334664 non-null  object\n",
      " 7   Kilometer          354369 non-null  int64 \n",
      " 8   RegistrationMonth  354369 non-null  int64 \n",
      " 9   FuelType           321474 non-null  object\n",
      " 10  Brand              354369 non-null  object\n",
      " 11  Repaired           283215 non-null  object\n",
      " 12  DateCreated        354369 non-null  object\n",
      " 13  NumberOfPictures   354369 non-null  int64 \n",
      " 14  PostalCode         354369 non-null  int64 \n",
      " 15  LastSeen           354369 non-null  object\n",
      "dtypes: int64(7), object(9)\n",
      "memory usage: 43.3+ MB\n",
      "\u001b[1mПервые пять строк:\n",
      "\u001b[0m\n"
     ]
    },
    {
     "data": {
      "text/html": [
       "<div>\n",
       "<style scoped>\n",
       "    .dataframe tbody tr th:only-of-type {\n",
       "        vertical-align: middle;\n",
       "    }\n",
       "\n",
       "    .dataframe tbody tr th {\n",
       "        vertical-align: top;\n",
       "    }\n",
       "\n",
       "    .dataframe thead th {\n",
       "        text-align: right;\n",
       "    }\n",
       "</style>\n",
       "<table border=\"1\" class=\"dataframe\">\n",
       "  <thead>\n",
       "    <tr style=\"text-align: right;\">\n",
       "      <th></th>\n",
       "      <th>DateCrawled</th>\n",
       "      <th>Price</th>\n",
       "      <th>VehicleType</th>\n",
       "      <th>RegistrationYear</th>\n",
       "      <th>Gearbox</th>\n",
       "      <th>Power</th>\n",
       "      <th>Model</th>\n",
       "      <th>Kilometer</th>\n",
       "      <th>RegistrationMonth</th>\n",
       "      <th>FuelType</th>\n",
       "      <th>Brand</th>\n",
       "      <th>Repaired</th>\n",
       "      <th>DateCreated</th>\n",
       "      <th>NumberOfPictures</th>\n",
       "      <th>PostalCode</th>\n",
       "      <th>LastSeen</th>\n",
       "    </tr>\n",
       "  </thead>\n",
       "  <tbody>\n",
       "    <tr>\n",
       "      <th>0</th>\n",
       "      <td>2016-03-24 11:52:17</td>\n",
       "      <td>480</td>\n",
       "      <td>NaN</td>\n",
       "      <td>1993</td>\n",
       "      <td>manual</td>\n",
       "      <td>0</td>\n",
       "      <td>golf</td>\n",
       "      <td>150000</td>\n",
       "      <td>0</td>\n",
       "      <td>petrol</td>\n",
       "      <td>volkswagen</td>\n",
       "      <td>NaN</td>\n",
       "      <td>2016-03-24 00:00:00</td>\n",
       "      <td>0</td>\n",
       "      <td>70435</td>\n",
       "      <td>2016-04-07 03:16:57</td>\n",
       "    </tr>\n",
       "    <tr>\n",
       "      <th>1</th>\n",
       "      <td>2016-03-24 10:58:45</td>\n",
       "      <td>18300</td>\n",
       "      <td>coupe</td>\n",
       "      <td>2011</td>\n",
       "      <td>manual</td>\n",
       "      <td>190</td>\n",
       "      <td>NaN</td>\n",
       "      <td>125000</td>\n",
       "      <td>5</td>\n",
       "      <td>gasoline</td>\n",
       "      <td>audi</td>\n",
       "      <td>yes</td>\n",
       "      <td>2016-03-24 00:00:00</td>\n",
       "      <td>0</td>\n",
       "      <td>66954</td>\n",
       "      <td>2016-04-07 01:46:50</td>\n",
       "    </tr>\n",
       "    <tr>\n",
       "      <th>2</th>\n",
       "      <td>2016-03-14 12:52:21</td>\n",
       "      <td>9800</td>\n",
       "      <td>suv</td>\n",
       "      <td>2004</td>\n",
       "      <td>auto</td>\n",
       "      <td>163</td>\n",
       "      <td>grand</td>\n",
       "      <td>125000</td>\n",
       "      <td>8</td>\n",
       "      <td>gasoline</td>\n",
       "      <td>jeep</td>\n",
       "      <td>NaN</td>\n",
       "      <td>2016-03-14 00:00:00</td>\n",
       "      <td>0</td>\n",
       "      <td>90480</td>\n",
       "      <td>2016-04-05 12:47:46</td>\n",
       "    </tr>\n",
       "    <tr>\n",
       "      <th>3</th>\n",
       "      <td>2016-03-17 16:54:04</td>\n",
       "      <td>1500</td>\n",
       "      <td>small</td>\n",
       "      <td>2001</td>\n",
       "      <td>manual</td>\n",
       "      <td>75</td>\n",
       "      <td>golf</td>\n",
       "      <td>150000</td>\n",
       "      <td>6</td>\n",
       "      <td>petrol</td>\n",
       "      <td>volkswagen</td>\n",
       "      <td>no</td>\n",
       "      <td>2016-03-17 00:00:00</td>\n",
       "      <td>0</td>\n",
       "      <td>91074</td>\n",
       "      <td>2016-03-17 17:40:17</td>\n",
       "    </tr>\n",
       "    <tr>\n",
       "      <th>4</th>\n",
       "      <td>2016-03-31 17:25:20</td>\n",
       "      <td>3600</td>\n",
       "      <td>small</td>\n",
       "      <td>2008</td>\n",
       "      <td>manual</td>\n",
       "      <td>69</td>\n",
       "      <td>fabia</td>\n",
       "      <td>90000</td>\n",
       "      <td>7</td>\n",
       "      <td>gasoline</td>\n",
       "      <td>skoda</td>\n",
       "      <td>no</td>\n",
       "      <td>2016-03-31 00:00:00</td>\n",
       "      <td>0</td>\n",
       "      <td>60437</td>\n",
       "      <td>2016-04-06 10:17:21</td>\n",
       "    </tr>\n",
       "  </tbody>\n",
       "</table>\n",
       "</div>"
      ],
      "text/plain": [
       "           DateCrawled  Price VehicleType  RegistrationYear Gearbox  Power  \\\n",
       "0  2016-03-24 11:52:17    480         NaN              1993  manual      0   \n",
       "1  2016-03-24 10:58:45  18300       coupe              2011  manual    190   \n",
       "2  2016-03-14 12:52:21   9800         suv              2004    auto    163   \n",
       "3  2016-03-17 16:54:04   1500       small              2001  manual     75   \n",
       "4  2016-03-31 17:25:20   3600       small              2008  manual     69   \n",
       "\n",
       "   Model  Kilometer  RegistrationMonth  FuelType       Brand Repaired  \\\n",
       "0   golf     150000                  0    petrol  volkswagen      NaN   \n",
       "1    NaN     125000                  5  gasoline        audi      yes   \n",
       "2  grand     125000                  8  gasoline        jeep      NaN   \n",
       "3   golf     150000                  6    petrol  volkswagen       no   \n",
       "4  fabia      90000                  7  gasoline       skoda       no   \n",
       "\n",
       "           DateCreated  NumberOfPictures  PostalCode             LastSeen  \n",
       "0  2016-03-24 00:00:00                 0       70435  2016-04-07 03:16:57  \n",
       "1  2016-03-24 00:00:00                 0       66954  2016-04-07 01:46:50  \n",
       "2  2016-03-14 00:00:00                 0       90480  2016-04-05 12:47:46  \n",
       "3  2016-03-17 00:00:00                 0       91074  2016-03-17 17:40:17  \n",
       "4  2016-03-31 00:00:00                 0       60437  2016-04-06 10:17:21  "
      ]
     },
     "metadata": {},
     "output_type": "display_data"
    },
    {
     "name": "stdout",
     "output_type": "stream",
     "text": [
      "\u001b[1mСтатистическое описание данных:\n",
      "\u001b[0m\n"
     ]
    },
    {
     "data": {
      "text/html": [
       "<div>\n",
       "<style scoped>\n",
       "    .dataframe tbody tr th:only-of-type {\n",
       "        vertical-align: middle;\n",
       "    }\n",
       "\n",
       "    .dataframe tbody tr th {\n",
       "        vertical-align: top;\n",
       "    }\n",
       "\n",
       "    .dataframe thead th {\n",
       "        text-align: right;\n",
       "    }\n",
       "</style>\n",
       "<table border=\"1\" class=\"dataframe\">\n",
       "  <thead>\n",
       "    <tr style=\"text-align: right;\">\n",
       "      <th></th>\n",
       "      <th>Price</th>\n",
       "      <th>RegistrationYear</th>\n",
       "      <th>Power</th>\n",
       "      <th>Kilometer</th>\n",
       "      <th>RegistrationMonth</th>\n",
       "      <th>NumberOfPictures</th>\n",
       "      <th>PostalCode</th>\n",
       "    </tr>\n",
       "  </thead>\n",
       "  <tbody>\n",
       "    <tr>\n",
       "      <th>count</th>\n",
       "      <td>354369.000000</td>\n",
       "      <td>354369.000000</td>\n",
       "      <td>354369.000000</td>\n",
       "      <td>354369.000000</td>\n",
       "      <td>354369.000000</td>\n",
       "      <td>354369.0</td>\n",
       "      <td>354369.000000</td>\n",
       "    </tr>\n",
       "    <tr>\n",
       "      <th>mean</th>\n",
       "      <td>4416.656776</td>\n",
       "      <td>2004.234448</td>\n",
       "      <td>110.094337</td>\n",
       "      <td>128211.172535</td>\n",
       "      <td>5.714645</td>\n",
       "      <td>0.0</td>\n",
       "      <td>50508.689087</td>\n",
       "    </tr>\n",
       "    <tr>\n",
       "      <th>std</th>\n",
       "      <td>4514.158514</td>\n",
       "      <td>90.227958</td>\n",
       "      <td>189.850405</td>\n",
       "      <td>37905.341530</td>\n",
       "      <td>3.726421</td>\n",
       "      <td>0.0</td>\n",
       "      <td>25783.096248</td>\n",
       "    </tr>\n",
       "    <tr>\n",
       "      <th>min</th>\n",
       "      <td>0.000000</td>\n",
       "      <td>1000.000000</td>\n",
       "      <td>0.000000</td>\n",
       "      <td>5000.000000</td>\n",
       "      <td>0.000000</td>\n",
       "      <td>0.0</td>\n",
       "      <td>1067.000000</td>\n",
       "    </tr>\n",
       "    <tr>\n",
       "      <th>25%</th>\n",
       "      <td>1050.000000</td>\n",
       "      <td>1999.000000</td>\n",
       "      <td>69.000000</td>\n",
       "      <td>125000.000000</td>\n",
       "      <td>3.000000</td>\n",
       "      <td>0.0</td>\n",
       "      <td>30165.000000</td>\n",
       "    </tr>\n",
       "    <tr>\n",
       "      <th>50%</th>\n",
       "      <td>2700.000000</td>\n",
       "      <td>2003.000000</td>\n",
       "      <td>105.000000</td>\n",
       "      <td>150000.000000</td>\n",
       "      <td>6.000000</td>\n",
       "      <td>0.0</td>\n",
       "      <td>49413.000000</td>\n",
       "    </tr>\n",
       "    <tr>\n",
       "      <th>75%</th>\n",
       "      <td>6400.000000</td>\n",
       "      <td>2008.000000</td>\n",
       "      <td>143.000000</td>\n",
       "      <td>150000.000000</td>\n",
       "      <td>9.000000</td>\n",
       "      <td>0.0</td>\n",
       "      <td>71083.000000</td>\n",
       "    </tr>\n",
       "    <tr>\n",
       "      <th>max</th>\n",
       "      <td>20000.000000</td>\n",
       "      <td>9999.000000</td>\n",
       "      <td>20000.000000</td>\n",
       "      <td>150000.000000</td>\n",
       "      <td>12.000000</td>\n",
       "      <td>0.0</td>\n",
       "      <td>99998.000000</td>\n",
       "    </tr>\n",
       "  </tbody>\n",
       "</table>\n",
       "</div>"
      ],
      "text/plain": [
       "               Price  RegistrationYear          Power      Kilometer  \\\n",
       "count  354369.000000     354369.000000  354369.000000  354369.000000   \n",
       "mean     4416.656776       2004.234448     110.094337  128211.172535   \n",
       "std      4514.158514         90.227958     189.850405   37905.341530   \n",
       "min         0.000000       1000.000000       0.000000    5000.000000   \n",
       "25%      1050.000000       1999.000000      69.000000  125000.000000   \n",
       "50%      2700.000000       2003.000000     105.000000  150000.000000   \n",
       "75%      6400.000000       2008.000000     143.000000  150000.000000   \n",
       "max     20000.000000       9999.000000   20000.000000  150000.000000   \n",
       "\n",
       "       RegistrationMonth  NumberOfPictures     PostalCode  \n",
       "count      354369.000000          354369.0  354369.000000  \n",
       "mean            5.714645               0.0   50508.689087  \n",
       "std             3.726421               0.0   25783.096248  \n",
       "min             0.000000               0.0    1067.000000  \n",
       "25%             3.000000               0.0   30165.000000  \n",
       "50%             6.000000               0.0   49413.000000  \n",
       "75%             9.000000               0.0   71083.000000  \n",
       "max            12.000000               0.0   99998.000000  "
      ]
     },
     "metadata": {},
     "output_type": "display_data"
    },
    {
     "name": "stdout",
     "output_type": "stream",
     "text": [
      "\u001b[1mКоличество уникальных значений:\n",
      "\u001b[0m\n"
     ]
    },
    {
     "data": {
      "text/plain": [
       "DateCrawled          271174\n",
       "Price                  3731\n",
       "VehicleType               8\n",
       "RegistrationYear        151\n",
       "Gearbox                   2\n",
       "Power                   712\n",
       "Model                   250\n",
       "Kilometer                13\n",
       "RegistrationMonth        13\n",
       "FuelType                  7\n",
       "Brand                    40\n",
       "Repaired                  2\n",
       "DateCreated             109\n",
       "NumberOfPictures          1\n",
       "PostalCode             8143\n",
       "LastSeen             179150\n",
       "dtype: int64"
      ]
     },
     "metadata": {},
     "output_type": "display_data"
    },
    {
     "name": "stdout",
     "output_type": "stream",
     "text": [
      "\u001b[1mПропуски в данных:\n",
      "\u001b[0m\n"
     ]
    },
    {
     "data": {
      "image/png": "[encoded data removed]",
      "text/plain": [
       "<Figure size 1000x500 with 1 Axes>"
      ]
     },
     "metadata": {},
     "output_type": "display_data"
    },
    {
     "name": "stdout",
     "output_type": "stream",
     "text": [
      "\u001b[1mКоличество дубликатов:\n",
      "\u001b[0m\n",
      "4\n"
     ]
    }
   ],
   "source": [
    "data_exploration(df)"
   ]
  },
  {
   "cell_type": "markdown",
   "metadata": {},
   "source": [
    "#### Итоги загрузки и первичного изучения данных: \n",
    "\n",
    "- Всего 354369 строк\n",
    "\n",
    "__Признаки:__\n",
    "\n",
    "- __DateCrawled__ — дата скачивания анкеты из базы\n",
    "- __VehicleType__ — тип автомобильного кузова\n",
    "- __RegistrationYear__ — год регистрации автомобиля\n",
    "- __Gearbox__ — тип коробки передач\n",
    "- __Power__ — мощность (л. с.)\n",
    "- __Model__ — модель автомобиля\n",
    "- __Kilometer__ — пробег (км)\n",
    "- __RegistrationMonth__ — месяц регистрации автомобиля\n",
    "- __FuelType__ — тип топлива\n",
    "- __Brand__ — марка автомобиля\n",
    "- __Repaired__ — была машина в ремонте или нет\n",
    "- __DateCreated__ — дата создания анкеты\n",
    "- __NumberOfPictures__ — количество фотографий автомобиля\n",
    "- __PostalCode__ — почтовый индекс владельца анкеты (пользователя)\n",
    "- __LastSeen__ — дата последней активности пользователя\n",
    "\n",
    "__Целевой признак:__\n",
    "- __Price — цена (евро)__\n",
    "\n",
    "__Выбросы, пропуски и дубликаты:__\n",
    "- NumberOfPictures состоит из нулевых значений, столбец не несет информационной важности\n",
    "- Замечены аномалии RegistrationYear, Power\n",
    "- Пропуски данных в столбцах VehicleType, Gearbox, Model, FuelType, Repaired\n",
    "- 4 полных дубликата"
   ]
  },
  {
   "cell_type": "markdown",
   "metadata": {},
   "source": [
    "### Ручная предобработка данных \n",
    "\n",
    "Проведем ручную предобработку данных, часть предобратоки проведем в pipeline "
   ]
  },
  {
   "cell_type": "markdown",
   "metadata": {},
   "source": [
    "#### Устранение дубликатов"
   ]
  },
  {
   "cell_type": "code",
   "execution_count": 6,
   "metadata": {},
   "outputs": [
    {
     "data": {
      "text/plain": [
       "0"
      ]
     },
     "execution_count": 6,
     "metadata": {},
     "output_type": "execute_result"
    }
   ],
   "source": [
    "#Уберем дубликаты\n",
    "df = df.drop_duplicates()\n",
    "df.duplicated().sum()"
   ]
  },
  {
   "cell_type": "markdown",
   "metadata": {},
   "source": [
    "4 дубликаты устранено"
   ]
  },
  {
   "cell_type": "markdown",
   "metadata": {},
   "source": [
    "#### Создание признака lifetime на основе малоинформативных данных"
   ]
  },
  {
   "cell_type": "markdown",
   "metadata": {},
   "source": [
    "В ходе первичного анализа были замечены аномальные годы регистрации авто. Устраним эти аномалии и сделаем новый признак из данных. "
   ]
  },
  {
   "cell_type": "code",
   "execution_count": 7,
   "metadata": {},
   "outputs": [
    {
     "data": {
      "text/html": [
       "<div>\n",
       "<style scoped>\n",
       "    .dataframe tbody tr th:only-of-type {\n",
       "        vertical-align: middle;\n",
       "    }\n",
       "\n",
       "    .dataframe tbody tr th {\n",
       "        vertical-align: top;\n",
       "    }\n",
       "\n",
       "    .dataframe thead th {\n",
       "        text-align: right;\n",
       "    }\n",
       "</style>\n",
       "<table border=\"1\" class=\"dataframe\">\n",
       "  <thead>\n",
       "    <tr style=\"text-align: right;\">\n",
       "      <th></th>\n",
       "      <th>DateCrawled</th>\n",
       "      <th>Price</th>\n",
       "      <th>VehicleType</th>\n",
       "      <th>RegistrationYear</th>\n",
       "      <th>Gearbox</th>\n",
       "      <th>Power</th>\n",
       "      <th>Model</th>\n",
       "      <th>Kilometer</th>\n",
       "      <th>RegistrationMonth</th>\n",
       "      <th>FuelType</th>\n",
       "      <th>Brand</th>\n",
       "      <th>Repaired</th>\n",
       "      <th>DateCreated</th>\n",
       "      <th>NumberOfPictures</th>\n",
       "      <th>PostalCode</th>\n",
       "      <th>LastSeen</th>\n",
       "    </tr>\n",
       "  </thead>\n",
       "  <tbody>\n",
       "    <tr>\n",
       "      <th>15</th>\n",
       "      <td>2016-03-11 21:39:15</td>\n",
       "      <td>450</td>\n",
       "      <td>small</td>\n",
       "      <td>1910</td>\n",
       "      <td>NaN</td>\n",
       "      <td>0</td>\n",
       "      <td>ka</td>\n",
       "      <td>5000</td>\n",
       "      <td>0</td>\n",
       "      <td>petrol</td>\n",
       "      <td>ford</td>\n",
       "      <td>NaN</td>\n",
       "      <td>2016-03-11 00:00:00</td>\n",
       "      <td>0</td>\n",
       "      <td>24148</td>\n",
       "      <td>2016-03-19 08:46:47</td>\n",
       "    </tr>\n",
       "    <tr>\n",
       "      <th>622</th>\n",
       "      <td>2016-03-16 16:55:09</td>\n",
       "      <td>0</td>\n",
       "      <td>NaN</td>\n",
       "      <td>1111</td>\n",
       "      <td>NaN</td>\n",
       "      <td>0</td>\n",
       "      <td>NaN</td>\n",
       "      <td>5000</td>\n",
       "      <td>0</td>\n",
       "      <td>NaN</td>\n",
       "      <td>opel</td>\n",
       "      <td>NaN</td>\n",
       "      <td>2016-03-16 00:00:00</td>\n",
       "      <td>0</td>\n",
       "      <td>44628</td>\n",
       "      <td>2016-03-20 16:44:37</td>\n",
       "    </tr>\n",
       "    <tr>\n",
       "      <th>1928</th>\n",
       "      <td>2016-03-25 15:58:21</td>\n",
       "      <td>7000</td>\n",
       "      <td>suv</td>\n",
       "      <td>1945</td>\n",
       "      <td>manual</td>\n",
       "      <td>48</td>\n",
       "      <td>other</td>\n",
       "      <td>150000</td>\n",
       "      <td>2</td>\n",
       "      <td>petrol</td>\n",
       "      <td>volkswagen</td>\n",
       "      <td>no</td>\n",
       "      <td>2016-03-25 00:00:00</td>\n",
       "      <td>0</td>\n",
       "      <td>58135</td>\n",
       "      <td>2016-03-25 15:58:21</td>\n",
       "    </tr>\n",
       "    <tr>\n",
       "      <th>2273</th>\n",
       "      <td>2016-03-15 21:44:32</td>\n",
       "      <td>1800</td>\n",
       "      <td>convertible</td>\n",
       "      <td>1925</td>\n",
       "      <td>NaN</td>\n",
       "      <td>0</td>\n",
       "      <td>NaN</td>\n",
       "      <td>5000</td>\n",
       "      <td>1</td>\n",
       "      <td>NaN</td>\n",
       "      <td>sonstige_autos</td>\n",
       "      <td>no</td>\n",
       "      <td>2016-03-15 00:00:00</td>\n",
       "      <td>0</td>\n",
       "      <td>79288</td>\n",
       "      <td>2016-04-07 05:15:34</td>\n",
       "    </tr>\n",
       "    <tr>\n",
       "      <th>3333</th>\n",
       "      <td>2016-03-15 21:36:20</td>\n",
       "      <td>10500</td>\n",
       "      <td>sedan</td>\n",
       "      <td>1955</td>\n",
       "      <td>manual</td>\n",
       "      <td>30</td>\n",
       "      <td>other</td>\n",
       "      <td>60000</td>\n",
       "      <td>0</td>\n",
       "      <td>petrol</td>\n",
       "      <td>ford</td>\n",
       "      <td>NaN</td>\n",
       "      <td>2016-03-15 00:00:00</td>\n",
       "      <td>0</td>\n",
       "      <td>53498</td>\n",
       "      <td>2016-04-07 08:16:11</td>\n",
       "    </tr>\n",
       "  </tbody>\n",
       "</table>\n",
       "</div>"
      ],
      "text/plain": [
       "              DateCrawled  Price  VehicleType  RegistrationYear Gearbox  \\\n",
       "15    2016-03-11 21:39:15    450        small              1910     NaN   \n",
       "622   2016-03-16 16:55:09      0          NaN              1111     NaN   \n",
       "1928  2016-03-25 15:58:21   7000          suv              1945  manual   \n",
       "2273  2016-03-15 21:44:32   1800  convertible              1925     NaN   \n",
       "3333  2016-03-15 21:36:20  10500        sedan              1955  manual   \n",
       "\n",
       "      Power  Model  Kilometer  RegistrationMonth FuelType           Brand  \\\n",
       "15        0     ka       5000                  0   petrol            ford   \n",
       "622       0    NaN       5000                  0      NaN            opel   \n",
       "1928     48  other     150000                  2   petrol      volkswagen   \n",
       "2273      0    NaN       5000                  1      NaN  sonstige_autos   \n",
       "3333     30  other      60000                  0   petrol            ford   \n",
       "\n",
       "     Repaired          DateCreated  NumberOfPictures  PostalCode  \\\n",
       "15        NaN  2016-03-11 00:00:00                 0       24148   \n",
       "622       NaN  2016-03-16 00:00:00                 0       44628   \n",
       "1928       no  2016-03-25 00:00:00                 0       58135   \n",
       "2273       no  2016-03-15 00:00:00                 0       79288   \n",
       "3333      NaN  2016-03-15 00:00:00                 0       53498   \n",
       "\n",
       "                 LastSeen  \n",
       "15    2016-03-19 08:46:47  \n",
       "622   2016-03-20 16:44:37  \n",
       "1928  2016-03-25 15:58:21  \n",
       "2273  2016-04-07 05:15:34  \n",
       "3333  2016-04-07 08:16:11  "
      ]
     },
     "metadata": {},
     "output_type": "display_data"
    },
    {
     "name": "stdout",
     "output_type": "stream",
     "text": [
      "DateCrawled          610\n",
      "Price                610\n",
      "VehicleType          350\n",
      "RegistrationYear     610\n",
      "Gearbox              308\n",
      "Power                610\n",
      "Model                326\n",
      "Kilometer            610\n",
      "RegistrationMonth    610\n",
      "FuelType             337\n",
      "Brand                610\n",
      "Repaired             246\n",
      "DateCreated          610\n",
      "NumberOfPictures     610\n",
      "PostalCode           610\n",
      "LastSeen             610\n",
      "dtype: int64\n"
     ]
    }
   ],
   "source": [
    "#Изучим кол-во аномальных значений\n",
    "display(df[df['RegistrationYear'] <= 1960].head())\n",
    "print(df[df['RegistrationYear'] <= 1960].count())"
   ]
  },
  {
   "cell_type": "code",
   "execution_count": 8,
   "metadata": {},
   "outputs": [],
   "source": [
    "#Оставим только машины которые после 1960 и до 2016 года \n",
    "df = df[(df['RegistrationYear'] >= 1960) & (df['RegistrationYear'] <= 2016)]"
   ]
  },
  {
   "cell_type": "code",
   "execution_count": 9,
   "metadata": {},
   "outputs": [
    {
     "data": {
      "text/html": [
       "<div>\n",
       "<style scoped>\n",
       "    .dataframe tbody tr th:only-of-type {\n",
       "        vertical-align: middle;\n",
       "    }\n",
       "\n",
       "    .dataframe tbody tr th {\n",
       "        vertical-align: top;\n",
       "    }\n",
       "\n",
       "    .dataframe thead th {\n",
       "        text-align: right;\n",
       "    }\n",
       "</style>\n",
       "<table border=\"1\" class=\"dataframe\">\n",
       "  <thead>\n",
       "    <tr style=\"text-align: right;\">\n",
       "      <th></th>\n",
       "      <th>Price</th>\n",
       "      <th>VehicleType</th>\n",
       "      <th>Gearbox</th>\n",
       "      <th>Power</th>\n",
       "      <th>Model</th>\n",
       "      <th>Kilometer</th>\n",
       "      <th>FuelType</th>\n",
       "      <th>Repaired</th>\n",
       "      <th>Lifetime</th>\n",
       "    </tr>\n",
       "  </thead>\n",
       "  <tbody>\n",
       "    <tr>\n",
       "      <th>0</th>\n",
       "      <td>480</td>\n",
       "      <td>NaN</td>\n",
       "      <td>manual</td>\n",
       "      <td>0</td>\n",
       "      <td>golf</td>\n",
       "      <td>150000</td>\n",
       "      <td>petrol</td>\n",
       "      <td>NaN</td>\n",
       "      <td>23.225188</td>\n",
       "    </tr>\n",
       "    <tr>\n",
       "      <th>1</th>\n",
       "      <td>18300</td>\n",
       "      <td>coupe</td>\n",
       "      <td>manual</td>\n",
       "      <td>190</td>\n",
       "      <td>NaN</td>\n",
       "      <td>125000</td>\n",
       "      <td>gasoline</td>\n",
       "      <td>yes</td>\n",
       "      <td>4.898015</td>\n",
       "    </tr>\n",
       "    <tr>\n",
       "      <th>2</th>\n",
       "      <td>9800</td>\n",
       "      <td>suv</td>\n",
       "      <td>auto</td>\n",
       "      <td>163</td>\n",
       "      <td>grand</td>\n",
       "      <td>125000</td>\n",
       "      <td>gasoline</td>\n",
       "      <td>NaN</td>\n",
       "      <td>11.616701</td>\n",
       "    </tr>\n",
       "    <tr>\n",
       "      <th>3</th>\n",
       "      <td>1500</td>\n",
       "      <td>small</td>\n",
       "      <td>manual</td>\n",
       "      <td>75</td>\n",
       "      <td>golf</td>\n",
       "      <td>150000</td>\n",
       "      <td>petrol</td>\n",
       "      <td>no</td>\n",
       "      <td>14.792608</td>\n",
       "    </tr>\n",
       "    <tr>\n",
       "      <th>4</th>\n",
       "      <td>3600</td>\n",
       "      <td>small</td>\n",
       "      <td>manual</td>\n",
       "      <td>69</td>\n",
       "      <td>fabia</td>\n",
       "      <td>90000</td>\n",
       "      <td>gasoline</td>\n",
       "      <td>no</td>\n",
       "      <td>7.748118</td>\n",
       "    </tr>\n",
       "  </tbody>\n",
       "</table>\n",
       "</div>"
      ],
      "text/plain": [
       "   Price VehicleType Gearbox  Power  Model  Kilometer  FuelType Repaired  \\\n",
       "0    480         NaN  manual      0   golf     150000    petrol      NaN   \n",
       "1  18300       coupe  manual    190    NaN     125000  gasoline      yes   \n",
       "2   9800         suv    auto    163  grand     125000  gasoline      NaN   \n",
       "3   1500       small  manual     75   golf     150000    petrol       no   \n",
       "4   3600       small  manual     69  fabia      90000  gasoline       no   \n",
       "\n",
       "    Lifetime  \n",
       "0  23.225188  \n",
       "1   4.898015  \n",
       "2  11.616701  \n",
       "3  14.792608  \n",
       "4   7.748118  "
      ]
     },
     "execution_count": 9,
     "metadata": {},
     "output_type": "execute_result"
    }
   ],
   "source": [
    "# Преобразование столбца DateCreated в формат datetime\n",
    "df['DateCreated'] = pd.to_datetime(df['DateCreated'])\n",
    "\n",
    "# Обработка RegistrationMonth: если месяц равен 0, заменить его на 1 (предположим, что 0 означает январь)\n",
    "df['RegistrationMonth'] = df['RegistrationMonth'].replace(0, 1)\n",
    "\n",
    "# Создание столбца RegistrationDate на основе RegistrationYear и RegistrationMonth\n",
    "df['RegistrationDate'] = pd.to_datetime(df['RegistrationYear'].astype(str) + '-' + df['RegistrationMonth'].astype(str) + '-01')\n",
    "\n",
    "# Вычисление lifetime в годах\n",
    "df['Lifetime'] = (df['DateCreated'] - df['RegistrationDate']).dt.total_seconds() / (365.25 * 24 * 3600)\n",
    "\n",
    "# Список признаков для удаления\n",
    "columns_to_drop = ['DateCrawled', 'DateCreated', 'LastSeen', 'PostalCode', 'RegistrationMonth', \"Brand\", 'RegistrationYear', 'NumberOfPictures', 'RegistrationDate']\n",
    "\n",
    "# Удаление признаков\n",
    "df = df.drop(columns=columns_to_drop)\n",
    "\n",
    "#Изучим новый датафрейм с измениями\n",
    "df.head()"
   ]
  },
  {
   "cell_type": "markdown",
   "metadata": {},
   "source": [
    "__Результаты предобработки:__\n",
    "- Убрано 4 дубликата\n",
    "- Оставили только машины которые после 1960 и до 2021 года \n",
    "- Убрали признаки 'DateCrawled', 'DateCreated', 'LastSeen', 'PostalCode', 'RegistrationMonth', \"Brand\", 'RegistrationYear', 'NumberOfPictures', 'RegistrationDate' "
   ]
  },
  {
   "cell_type": "markdown",
   "metadata": {},
   "source": [
    "### Анализ числовых признаков"
   ]
  },
  {
   "cell_type": "code",
   "execution_count": 10,
   "metadata": {},
   "outputs": [],
   "source": [
    "numerical_columns_eda = df.select_dtypes(include=['number'], exclude=['object']).columns.tolist()\n",
    "categoric_columns_eda = df.select_dtypes(include=['object'], exclude=['number']).columns.tolist()"
   ]
  },
  {
   "cell_type": "code",
   "execution_count": 11,
   "metadata": {},
   "outputs": [],
   "source": [
    "# Функция для вычисления нижнего и верхнего пределов для определения выбросов\n",
    "def outlier_detection(data):\n",
    "    Q1 = data.quantile(0.25)\n",
    "    Q3 = data.quantile(0.75)\n",
    "    IQR = Q3 - Q1\n",
    "    lower_range = Q1 - (1.5 * IQR)\n",
    "    upper_range = Q3 + (1.5 * IQR)\n",
    "    return lower_range, upper_range\n",
    "\n",
    "\n",
    "# Функция для вывода анализа количественных данных\n",
    "def plot_numerical_features(dataframe, features):\n",
    "    for feature in features:\n",
    "        if feature != 'id' and pd.api.types.is_numeric_dtype(dataframe[feature]):\n",
    "            #Построение гистограммы и ящика с усами\n",
    "            fig, axes = plt.subplots(1, 2, figsize=(12, 5))\n",
    "            sns.histplot(dataframe[feature], kde=True, ax=axes[0], log_scale=False, palette=\"viridis\")\n",
    "            axes[0].set_title(f'Гистограмма {feature}')\n",
    "            sns.boxplot(y=dataframe[feature], ax=axes[1])\n",
    "            axes[1].set_title(f'Разброс {feature}')\n",
    "            plt.show()\n",
    "            # Отображение описательной статистики\n",
    "            display(dataframe[feature].describe().to_frame().T)\n",
    "\n",
    "            # Вычисление и вывод нижнего и верхнего пределов для выбросов\n",
    "            lower_range, upper_range = outlier_detection(dataframe[feature])\n",
    "            print(f'Нижняя граница выбросов признака {feature}: {lower_range}')\n",
    "            print(f'Верхняя граница выбросов признака {feature}: {upper_range}')\n",
    "\n",
    "            # Подсчет значений за пределами границ\n",
    "            below_lower = dataframe[dataframe[feature] < lower_range].shape[0]\n",
    "            above_upper = dataframe[dataframe[feature] > upper_range].shape[0]\n",
    "            print(f'Количество значений за нижней границей {feature}: {below_lower}')"
   ]
  },
  {
   "cell_type": "code",
   "execution_count": 12,
   "metadata": {},
   "outputs": [
    {
     "data": {
      "image/png": "[encoded data removed]",
      "text/plain": [
       "<Figure size 1200x500 with 2 Axes>"
      ]
     },
     "metadata": {},
     "output_type": "display_data"
    },
    {
     "data": {
      "text/html": [
       "<div>\n",
       "<style scoped>\n",
       "    .dataframe tbody tr th:only-of-type {\n",
       "        vertical-align: middle;\n",
       "    }\n",
       "\n",
       "    .dataframe tbody tr th {\n",
       "        vertical-align: top;\n",
       "    }\n",
       "\n",
       "    .dataframe thead th {\n",
       "        text-align: right;\n",
       "    }\n",
       "</style>\n",
       "<table border=\"1\" class=\"dataframe\">\n",
       "  <thead>\n",
       "    <tr style=\"text-align: right;\">\n",
       "      <th></th>\n",
       "      <th>count</th>\n",
       "      <th>mean</th>\n",
       "      <th>std</th>\n",
       "      <th>min</th>\n",
       "      <th>25%</th>\n",
       "      <th>50%</th>\n",
       "      <th>75%</th>\n",
       "      <th>max</th>\n",
       "    </tr>\n",
       "  </thead>\n",
       "  <tbody>\n",
       "    <tr>\n",
       "      <th>Price</th>\n",
       "      <td>339413.0</td>\n",
       "      <td>4469.917885</td>\n",
       "      <td>4543.710777</td>\n",
       "      <td>0.0</td>\n",
       "      <td>1100.0</td>\n",
       "      <td>2799.0</td>\n",
       "      <td>6500.0</td>\n",
       "      <td>20000.0</td>\n",
       "    </tr>\n",
       "  </tbody>\n",
       "</table>\n",
       "</div>"
      ],
      "text/plain": [
       "          count         mean          std  min     25%     50%     75%  \\\n",
       "Price  339413.0  4469.917885  4543.710777  0.0  1100.0  2799.0  6500.0   \n",
       "\n",
       "           max  \n",
       "Price  20000.0  "
      ]
     },
     "metadata": {},
     "output_type": "display_data"
    },
    {
     "name": "stdout",
     "output_type": "stream",
     "text": [
      "Нижняя граница выбросов признака Price: -7000.0\n",
      "Верхняя граница выбросов признака Price: 14600.0\n",
      "Количество значений за нижней границей Price: 0\n"
     ]
    },
    {
     "data": {
      "image/png": "[encoded data removed]",
      "text/plain": [
       "<Figure size 1200x500 with 2 Axes>"
      ]
     },
     "metadata": {},
     "output_type": "display_data"
    },
    {
     "data": {
      "text/html": [
       "<div>\n",
       "<style scoped>\n",
       "    .dataframe tbody tr th:only-of-type {\n",
       "        vertical-align: middle;\n",
       "    }\n",
       "\n",
       "    .dataframe tbody tr th {\n",
       "        vertical-align: top;\n",
       "    }\n",
       "\n",
       "    .dataframe thead th {\n",
       "        text-align: right;\n",
       "    }\n",
       "</style>\n",
       "<table border=\"1\" class=\"dataframe\">\n",
       "  <thead>\n",
       "    <tr style=\"text-align: right;\">\n",
       "      <th></th>\n",
       "      <th>count</th>\n",
       "      <th>mean</th>\n",
       "      <th>std</th>\n",
       "      <th>min</th>\n",
       "      <th>25%</th>\n",
       "      <th>50%</th>\n",
       "      <th>75%</th>\n",
       "      <th>max</th>\n",
       "    </tr>\n",
       "  </thead>\n",
       "  <tbody>\n",
       "    <tr>\n",
       "      <th>Power</th>\n",
       "      <td>339413.0</td>\n",
       "      <td>111.074809</td>\n",
       "      <td>186.92621</td>\n",
       "      <td>0.0</td>\n",
       "      <td>69.0</td>\n",
       "      <td>105.0</td>\n",
       "      <td>143.0</td>\n",
       "      <td>20000.0</td>\n",
       "    </tr>\n",
       "  </tbody>\n",
       "</table>\n",
       "</div>"
      ],
      "text/plain": [
       "          count        mean        std  min   25%    50%    75%      max\n",
       "Power  339413.0  111.074809  186.92621  0.0  69.0  105.0  143.0  20000.0"
      ]
     },
     "metadata": {},
     "output_type": "display_data"
    },
    {
     "name": "stdout",
     "output_type": "stream",
     "text": [
      "Нижняя граница выбросов признака Power: -42.0\n",
      "Верхняя граница выбросов признака Power: 254.0\n",
      "Количество значений за нижней границей Power: 0\n"
     ]
    },
    {
     "data": {
      "image/png": "[encoded data removed]",
      "text/plain": [
       "<Figure size 1200x500 with 2 Axes>"
      ]
     },
     "metadata": {},
     "output_type": "display_data"
    },
    {
     "data": {
      "text/html": [
       "<div>\n",
       "<style scoped>\n",
       "    .dataframe tbody tr th:only-of-type {\n",
       "        vertical-align: middle;\n",
       "    }\n",
       "\n",
       "    .dataframe tbody tr th {\n",
       "        vertical-align: top;\n",
       "    }\n",
       "\n",
       "    .dataframe thead th {\n",
       "        text-align: right;\n",
       "    }\n",
       "</style>\n",
       "<table border=\"1\" class=\"dataframe\">\n",
       "  <thead>\n",
       "    <tr style=\"text-align: right;\">\n",
       "      <th></th>\n",
       "      <th>count</th>\n",
       "      <th>mean</th>\n",
       "      <th>std</th>\n",
       "      <th>min</th>\n",
       "      <th>25%</th>\n",
       "      <th>50%</th>\n",
       "      <th>75%</th>\n",
       "      <th>max</th>\n",
       "    </tr>\n",
       "  </thead>\n",
       "  <tbody>\n",
       "    <tr>\n",
       "      <th>Kilometer</th>\n",
       "      <td>339413.0</td>\n",
       "      <td>128152.840345</td>\n",
       "      <td>37813.33503</td>\n",
       "      <td>5000.0</td>\n",
       "      <td>125000.0</td>\n",
       "      <td>150000.0</td>\n",
       "      <td>150000.0</td>\n",
       "      <td>150000.0</td>\n",
       "    </tr>\n",
       "  </tbody>\n",
       "</table>\n",
       "</div>"
      ],
      "text/plain": [
       "              count           mean          std     min       25%       50%  \\\n",
       "Kilometer  339413.0  128152.840345  37813.33503  5000.0  125000.0  150000.0   \n",
       "\n",
       "                75%       max  \n",
       "Kilometer  150000.0  150000.0  "
      ]
     },
     "metadata": {},
     "output_type": "display_data"
    },
    {
     "name": "stdout",
     "output_type": "stream",
     "text": [
      "Нижняя граница выбросов признака Kilometer: 87500.0\n",
      "Верхняя граница выбросов признака Kilometer: 187500.0\n",
      "Количество значений за нижней границей Kilometer: 51271\n"
     ]
    },
    {
     "data": {
      "image/png": "[encoded data removed]",
      "text/plain": [
       "<Figure size 1200x500 with 2 Axes>"
      ]
     },
     "metadata": {},
     "output_type": "display_data"
    },
    {
     "data": {
      "text/html": [
       "<div>\n",
       "<style scoped>\n",
       "    .dataframe tbody tr th:only-of-type {\n",
       "        vertical-align: middle;\n",
       "    }\n",
       "\n",
       "    .dataframe tbody tr th {\n",
       "        vertical-align: top;\n",
       "    }\n",
       "\n",
       "    .dataframe thead th {\n",
       "        text-align: right;\n",
       "    }\n",
       "</style>\n",
       "<table border=\"1\" class=\"dataframe\">\n",
       "  <thead>\n",
       "    <tr style=\"text-align: right;\">\n",
       "      <th></th>\n",
       "      <th>count</th>\n",
       "      <th>mean</th>\n",
       "      <th>std</th>\n",
       "      <th>min</th>\n",
       "      <th>25%</th>\n",
       "      <th>50%</th>\n",
       "      <th>75%</th>\n",
       "      <th>max</th>\n",
       "    </tr>\n",
       "  </thead>\n",
       "  <tbody>\n",
       "    <tr>\n",
       "      <th>Lifetime</th>\n",
       "      <td>339413.0</td>\n",
       "      <td>13.264855</td>\n",
       "      <td>6.778254</td>\n",
       "      <td>-0.741958</td>\n",
       "      <td>8.826831</td>\n",
       "      <td>13.078713</td>\n",
       "      <td>17.078713</td>\n",
       "      <td>56.262834</td>\n",
       "    </tr>\n",
       "  </tbody>\n",
       "</table>\n",
       "</div>"
      ],
      "text/plain": [
       "             count       mean       std       min       25%        50%  \\\n",
       "Lifetime  339413.0  13.264855  6.778254 -0.741958  8.826831  13.078713   \n",
       "\n",
       "                75%        max  \n",
       "Lifetime  17.078713  56.262834  "
      ]
     },
     "metadata": {},
     "output_type": "display_data"
    },
    {
     "name": "stdout",
     "output_type": "stream",
     "text": [
      "Нижняя граница выбросов признака Lifetime: -3.550992470910332\n",
      "Верхняя граница выбросов признака Lifetime: 29.456536618754274\n",
      "Количество значений за нижней границей Lifetime: 0\n"
     ]
    }
   ],
   "source": [
    "plot_numerical_features(df, numerical_columns_eda)"
   ]
  },
  {
   "cell_type": "markdown",
   "metadata": {},
   "source": [
    "#### Работа с аномалиями у числовых признаков"
   ]
  },
  {
   "cell_type": "markdown",
   "metadata": {},
   "source": [
    "__Результаты анализа количественных признаков:__\n",
    "- Средняя цена 4416 евро, при этом максимальная 20000 евро. Минимальная цена 0. Возможно аномалия, которую нужно исправить\n",
    "- Судя по графику разброса признака Power 75% значений имеют менее 143 лошадиных сил, при этом есть много аномалий которые стоит определить и удалить.\n",
    "- Среднее значение километража 128331 км, учитывая, что среди наблюдений есть очень старые машины, то такое вполне вероятно.\n",
    "- Средний возраст машины 12,6 лет, при этом есть машины которым более 30 лет. Присутствуют аномалии с отрицательным возрастом, их надо удалить"
   ]
  },
  {
   "cell_type": "code",
   "execution_count": 13,
   "metadata": {},
   "outputs": [
    {
     "name": "stdout",
     "output_type": "stream",
     "text": [
      "Доля цен с 0 значением: 0.03\n"
     ]
    }
   ],
   "source": [
    "#Определим долю машин с ценой 0\n",
    "print('Доля цен с 0 значением:', round(df['Price'][df['Price']==0].count() / df['Price'].count(), 2))"
   ]
  },
  {
   "cell_type": "markdown",
   "metadata": {},
   "source": [
    "Доля наблюдений где значение цены 0 незначительная, поэтому заменим их на медианное значение."
   ]
  },
  {
   "cell_type": "code",
   "execution_count": 14,
   "metadata": {},
   "outputs": [
    {
     "data": {
      "text/plain": [
       "0"
      ]
     },
     "execution_count": 14,
     "metadata": {},
     "output_type": "execute_result"
    }
   ],
   "source": [
    "# Вычисление медианного значения для столбца 'Price'\n",
    "median_price = df['Price'].median()\n",
    "\n",
    "# Замена нулевых значений медианным значением\n",
    "df.loc[df['Price'] == 0, 'Price'] = median_price\n",
    "\n",
    "# Проверим результат подстановки\n",
    "df['Price'][df['Price']==0].count()"
   ]
  },
  {
   "cell_type": "code",
   "execution_count": 15,
   "metadata": {},
   "outputs": [],
   "source": [
    "#Для поиска аномалий (выбросов) найдем границы +-1.5 IQR у столбцов\n",
    "def outlier_treatment(data):\n",
    "    Q1 = data.quantile(0.25)\n",
    "    Q3 = data.quantile(0.75)\n",
    "    IQR = Q3 - Q1\n",
    "    lower_range = Q1 - (1.5 * IQR)\n",
    "    upper_range = Q3 + (1.5 * IQR)\n",
    "    return lower_range, upper_range"
   ]
  },
  {
   "cell_type": "code",
   "execution_count": 16,
   "metadata": {},
   "outputs": [
    {
     "name": "stdout",
     "output_type": "stream",
     "text": [
      "(-42.0, 254.0)\n",
      "Price          7105\n",
      "VehicleType    6903\n",
      "Gearbox        7012\n",
      "Power          7105\n",
      "Model          6587\n",
      "Kilometer      7105\n",
      "FuelType       6747\n",
      "Repaired       6190\n",
      "Lifetime       7105\n",
      "dtype: int64\n"
     ]
    },
    {
     "data": {
      "text/plain": [
       "count    296050.000000\n",
       "mean        116.242604\n",
       "std          45.846394\n",
       "min           1.000000\n",
       "25%          75.000000\n",
       "50%         110.000000\n",
       "75%         144.000000\n",
       "max         254.000000\n",
       "Name: Power, dtype: float64"
      ]
     },
     "execution_count": 16,
     "metadata": {},
     "output_type": "execute_result"
    }
   ],
   "source": [
    "#Примением поиск границ для выброса\n",
    "print(outlier_treatment(df['Power']))\n",
    "#Посчитаем сколько наблюдений вне границ выбросов\n",
    "print(df[(df['Power'] > 254) | (df['Power'] < 0)].count())\n",
    "#Уберем значения которые выходят за рамки границ\n",
    "df = df[(df['Power'] <= 254) & (df['Power'] > 0)]\n",
    "df['Power'].describe()"
   ]
  },
  {
   "cell_type": "code",
   "execution_count": 17,
   "metadata": {},
   "outputs": [],
   "source": [
    "#Оставим наблюдения у которых lifetime больше 0\n",
    "df = df[df['Lifetime'] > 0]"
   ]
  },
  {
   "cell_type": "markdown",
   "metadata": {},
   "source": [
    "### Анализ категорийных признаков"
   ]
  },
  {
   "cell_type": "code",
   "execution_count": 18,
   "metadata": {},
   "outputs": [],
   "source": [
    "def plot_top_categories_by_median_price(df, target_column, categoric_columns):\n",
    "    for column in categoric_columns:\n",
    "        # Вычисляем медианное значение Price для каждой категории\n",
    "        median_price_per_category = df.groupby(column)[target_column].median()\n",
    "        \n",
    "        # Сортируем категории по медианному значению Price в убывающем порядке\n",
    "        sorted_categories = median_price_per_category.sort_values(ascending=False)\n",
    "        \n",
    "        # Берем топ-10 категорий\n",
    "        top_10_categories = sorted_categories.head(10)\n",
    "        \n",
    "        # Строим график\n",
    "        plt.figure(figsize=(10, 6))\n",
    "        top_10_categories.plot(kind='bar', color='skyblue')\n",
    "        plt.title(f'Top 10 Categories in {column} by Median {target_column}')\n",
    "        plt.xlabel(column)\n",
    "        plt.ylabel(f'Median {target_column}')\n",
    "        plt.xticks(rotation=45)\n",
    "        plt.tight_layout()\n",
    "        plt.show()\n",
    "        \n",
    "        # Отображаем таблицу с результатами\n",
    "        display(top_10_categories.reset_index().rename(columns={target_column: f'Median {target_column}'}))"
   ]
  },
  {
   "cell_type": "code",
   "execution_count": 19,
   "metadata": {},
   "outputs": [
    {
     "data": {
      "image/png": "[encoded data removed]",
      "text/plain": [
       "<Figure size 1000x600 with 1 Axes>"
      ]
     },
     "metadata": {},
     "output_type": "display_data"
    },
    {
     "data": {
      "text/html": [
       "<div>\n",
       "<style scoped>\n",
       "    .dataframe tbody tr th:only-of-type {\n",
       "        vertical-align: middle;\n",
       "    }\n",
       "\n",
       "    .dataframe tbody tr th {\n",
       "        vertical-align: top;\n",
       "    }\n",
       "\n",
       "    .dataframe thead th {\n",
       "        text-align: right;\n",
       "    }\n",
       "</style>\n",
       "<table border=\"1\" class=\"dataframe\">\n",
       "  <thead>\n",
       "    <tr style=\"text-align: right;\">\n",
       "      <th></th>\n",
       "      <th>VehicleType</th>\n",
       "      <th>Median Price</th>\n",
       "    </tr>\n",
       "  </thead>\n",
       "  <tbody>\n",
       "    <tr>\n",
       "      <th>0</th>\n",
       "      <td>suv</td>\n",
       "      <td>8500.0</td>\n",
       "    </tr>\n",
       "    <tr>\n",
       "      <th>1</th>\n",
       "      <td>convertible</td>\n",
       "      <td>5500.0</td>\n",
       "    </tr>\n",
       "    <tr>\n",
       "      <th>2</th>\n",
       "      <td>bus</td>\n",
       "      <td>4499.0</td>\n",
       "    </tr>\n",
       "    <tr>\n",
       "      <th>3</th>\n",
       "      <td>coupe</td>\n",
       "      <td>3700.0</td>\n",
       "    </tr>\n",
       "    <tr>\n",
       "      <th>4</th>\n",
       "      <td>wagon</td>\n",
       "      <td>3390.0</td>\n",
       "    </tr>\n",
       "    <tr>\n",
       "      <th>5</th>\n",
       "      <td>sedan</td>\n",
       "      <td>3000.0</td>\n",
       "    </tr>\n",
       "    <tr>\n",
       "      <th>6</th>\n",
       "      <td>other</td>\n",
       "      <td>2799.0</td>\n",
       "    </tr>\n",
       "    <tr>\n",
       "      <th>7</th>\n",
       "      <td>small</td>\n",
       "      <td>1790.0</td>\n",
       "    </tr>\n",
       "  </tbody>\n",
       "</table>\n",
       "</div>"
      ],
      "text/plain": [
       "   VehicleType  Median Price\n",
       "0          suv        8500.0\n",
       "1  convertible        5500.0\n",
       "2          bus        4499.0\n",
       "3        coupe        3700.0\n",
       "4        wagon        3390.0\n",
       "5        sedan        3000.0\n",
       "6        other        2799.0\n",
       "7        small        1790.0"
      ]
     },
     "metadata": {},
     "output_type": "display_data"
    },
    {
     "data": {
      "image/png": "[encoded data removed]",
      "text/plain": [
       "<Figure size 1000x600 with 1 Axes>"
      ]
     },
     "metadata": {},
     "output_type": "display_data"
    },
    {
     "data": {
      "text/html": [
       "<div>\n",
       "<style scoped>\n",
       "    .dataframe tbody tr th:only-of-type {\n",
       "        vertical-align: middle;\n",
       "    }\n",
       "\n",
       "    .dataframe tbody tr th {\n",
       "        vertical-align: top;\n",
       "    }\n",
       "\n",
       "    .dataframe thead th {\n",
       "        text-align: right;\n",
       "    }\n",
       "</style>\n",
       "<table border=\"1\" class=\"dataframe\">\n",
       "  <thead>\n",
       "    <tr style=\"text-align: right;\">\n",
       "      <th></th>\n",
       "      <th>Gearbox</th>\n",
       "      <th>Median Price</th>\n",
       "    </tr>\n",
       "  </thead>\n",
       "  <tbody>\n",
       "    <tr>\n",
       "      <th>0</th>\n",
       "      <td>auto</td>\n",
       "      <td>5500.0</td>\n",
       "    </tr>\n",
       "    <tr>\n",
       "      <th>1</th>\n",
       "      <td>manual</td>\n",
       "      <td>2799.0</td>\n",
       "    </tr>\n",
       "  </tbody>\n",
       "</table>\n",
       "</div>"
      ],
      "text/plain": [
       "  Gearbox  Median Price\n",
       "0    auto        5500.0\n",
       "1  manual        2799.0"
      ]
     },
     "metadata": {},
     "output_type": "display_data"
    },
    {
     "data": {
      "image/png": "[encoded data removed]",
      "text/plain": [
       "<Figure size 1000x600 with 1 Axes>"
      ]
     },
     "metadata": {},
     "output_type": "display_data"
    },
    {
     "data": {
      "text/html": [
       "<div>\n",
       "<style scoped>\n",
       "    .dataframe tbody tr th:only-of-type {\n",
       "        vertical-align: middle;\n",
       "    }\n",
       "\n",
       "    .dataframe tbody tr th {\n",
       "        vertical-align: top;\n",
       "    }\n",
       "\n",
       "    .dataframe thead th {\n",
       "        text-align: right;\n",
       "    }\n",
       "</style>\n",
       "<table border=\"1\" class=\"dataframe\">\n",
       "  <thead>\n",
       "    <tr style=\"text-align: right;\">\n",
       "      <th></th>\n",
       "      <th>Model</th>\n",
       "      <th>Median Price</th>\n",
       "    </tr>\n",
       "  </thead>\n",
       "  <tbody>\n",
       "    <tr>\n",
       "      <th>0</th>\n",
       "      <td>gl</td>\n",
       "      <td>18999.0</td>\n",
       "    </tr>\n",
       "    <tr>\n",
       "      <th>1</th>\n",
       "      <td>q3</td>\n",
       "      <td>18324.5</td>\n",
       "    </tr>\n",
       "    <tr>\n",
       "      <th>2</th>\n",
       "      <td>glk</td>\n",
       "      <td>17900.0</td>\n",
       "    </tr>\n",
       "    <tr>\n",
       "      <th>3</th>\n",
       "      <td>a5</td>\n",
       "      <td>16500.0</td>\n",
       "    </tr>\n",
       "    <tr>\n",
       "      <th>4</th>\n",
       "      <td>q5</td>\n",
       "      <td>16499.0</td>\n",
       "    </tr>\n",
       "    <tr>\n",
       "      <th>5</th>\n",
       "      <td>v60</td>\n",
       "      <td>16495.0</td>\n",
       "    </tr>\n",
       "    <tr>\n",
       "      <th>6</th>\n",
       "      <td>cx_reihe</td>\n",
       "      <td>15450.0</td>\n",
       "    </tr>\n",
       "    <tr>\n",
       "      <th>7</th>\n",
       "      <td>amarok</td>\n",
       "      <td>15120.0</td>\n",
       "    </tr>\n",
       "    <tr>\n",
       "      <th>8</th>\n",
       "      <td>q7</td>\n",
       "      <td>15000.0</td>\n",
       "    </tr>\n",
       "    <tr>\n",
       "      <th>9</th>\n",
       "      <td>cc</td>\n",
       "      <td>14900.0</td>\n",
       "    </tr>\n",
       "  </tbody>\n",
       "</table>\n",
       "</div>"
      ],
      "text/plain": [
       "      Model  Median Price\n",
       "0        gl       18999.0\n",
       "1        q3       18324.5\n",
       "2       glk       17900.0\n",
       "3        a5       16500.0\n",
       "4        q5       16499.0\n",
       "5       v60       16495.0\n",
       "6  cx_reihe       15450.0\n",
       "7    amarok       15120.0\n",
       "8        q7       15000.0\n",
       "9        cc       14900.0"
      ]
     },
     "metadata": {},
     "output_type": "display_data"
    },
    {
     "data": {
      "image/png": "[encoded data removed]",
      "text/plain": [
       "<Figure size 1000x600 with 1 Axes>"
      ]
     },
     "metadata": {},
     "output_type": "display_data"
    },
    {
     "data": {
      "text/html": [
       "<div>\n",
       "<style scoped>\n",
       "    .dataframe tbody tr th:only-of-type {\n",
       "        vertical-align: middle;\n",
       "    }\n",
       "\n",
       "    .dataframe tbody tr th {\n",
       "        vertical-align: top;\n",
       "    }\n",
       "\n",
       "    .dataframe thead th {\n",
       "        text-align: right;\n",
       "    }\n",
       "</style>\n",
       "<table border=\"1\" class=\"dataframe\">\n",
       "  <thead>\n",
       "    <tr style=\"text-align: right;\">\n",
       "      <th></th>\n",
       "      <th>FuelType</th>\n",
       "      <th>Median Price</th>\n",
       "    </tr>\n",
       "  </thead>\n",
       "  <tbody>\n",
       "    <tr>\n",
       "      <th>0</th>\n",
       "      <td>hybrid</td>\n",
       "      <td>10900.0</td>\n",
       "    </tr>\n",
       "    <tr>\n",
       "      <th>1</th>\n",
       "      <td>electric</td>\n",
       "      <td>5999.0</td>\n",
       "    </tr>\n",
       "    <tr>\n",
       "      <th>2</th>\n",
       "      <td>gasoline</td>\n",
       "      <td>5550.0</td>\n",
       "    </tr>\n",
       "    <tr>\n",
       "      <th>3</th>\n",
       "      <td>cng</td>\n",
       "      <td>3999.0</td>\n",
       "    </tr>\n",
       "    <tr>\n",
       "      <th>4</th>\n",
       "      <td>lpg</td>\n",
       "      <td>2800.0</td>\n",
       "    </tr>\n",
       "    <tr>\n",
       "      <th>5</th>\n",
       "      <td>petrol</td>\n",
       "      <td>2400.0</td>\n",
       "    </tr>\n",
       "    <tr>\n",
       "      <th>6</th>\n",
       "      <td>other</td>\n",
       "      <td>1800.0</td>\n",
       "    </tr>\n",
       "  </tbody>\n",
       "</table>\n",
       "</div>"
      ],
      "text/plain": [
       "   FuelType  Median Price\n",
       "0    hybrid       10900.0\n",
       "1  electric        5999.0\n",
       "2  gasoline        5550.0\n",
       "3       cng        3999.0\n",
       "4       lpg        2800.0\n",
       "5    petrol        2400.0\n",
       "6     other        1800.0"
      ]
     },
     "metadata": {},
     "output_type": "display_data"
    },
    {
     "data": {
      "image/png": "[encoded data removed]",
      "text/plain": [
       "<Figure size 1000x600 with 1 Axes>"
      ]
     },
     "metadata": {},
     "output_type": "display_data"
    },
    {
     "data": {
      "text/html": [
       "<div>\n",
       "<style scoped>\n",
       "    .dataframe tbody tr th:only-of-type {\n",
       "        vertical-align: middle;\n",
       "    }\n",
       "\n",
       "    .dataframe tbody tr th {\n",
       "        vertical-align: top;\n",
       "    }\n",
       "\n",
       "    .dataframe thead th {\n",
       "        text-align: right;\n",
       "    }\n",
       "</style>\n",
       "<table border=\"1\" class=\"dataframe\">\n",
       "  <thead>\n",
       "    <tr style=\"text-align: right;\">\n",
       "      <th></th>\n",
       "      <th>Repaired</th>\n",
       "      <th>Median Price</th>\n",
       "    </tr>\n",
       "  </thead>\n",
       "  <tbody>\n",
       "    <tr>\n",
       "      <th>0</th>\n",
       "      <td>no</td>\n",
       "      <td>3800.0</td>\n",
       "    </tr>\n",
       "    <tr>\n",
       "      <th>1</th>\n",
       "      <td>yes</td>\n",
       "      <td>1111.0</td>\n",
       "    </tr>\n",
       "  </tbody>\n",
       "</table>\n",
       "</div>"
      ],
      "text/plain": [
       "  Repaired  Median Price\n",
       "0       no        3800.0\n",
       "1      yes        1111.0"
      ]
     },
     "metadata": {},
     "output_type": "display_data"
    }
   ],
   "source": [
    "plot_top_categories_by_median_price(df, 'Price', categoric_columns_eda)"
   ]
  },
  {
   "cell_type": "markdown",
   "metadata": {},
   "source": []
  },
  {
   "cell_type": "markdown",
   "metadata": {},
   "source": [
    "#### Корректировка аномалий в категорийных данных"
   ]
  },
  {
   "cell_type": "code",
   "execution_count": 20,
   "metadata": {},
   "outputs": [],
   "source": [
    "# Замена значений \"gasoline\" на \"petrol\" в столбце 'FuelType'\n",
    "df['FuelType'] = df['FuelType'].replace('gasoline', 'petrol')"
   ]
  },
  {
   "cell_type": "markdown",
   "metadata": {},
   "source": [
    "__Результаты анализа категорийных признаков:__\n",
    "- Среди наиболее дорогих моделей авто - SUV, для них медианное значение 8500 евро.\n",
    "- gl наиболее дорогая модель авто, 19 тысяч евро \n",
    "- коробка автомат дороже ручного коробки 5500 vs 2700\n",
    "- гибриды дороже всего почти вдвое дороже электроавтомобилей\n",
    "- машины которые не ремонтировались дороже машин после ремонта\n",
    "- заменили значения gasoline на petrol"
   ]
  },
  {
   "cell_type": "markdown",
   "metadata": {},
   "source": [
    "### Анализ предподготовленных данных. Оптимизация & проверка мультиколлинеарности. "
   ]
  },
  {
   "cell_type": "code",
   "execution_count": 21,
   "metadata": {},
   "outputs": [
    {
     "name": "stdout",
     "output_type": "stream",
     "text": [
      "<class 'pandas.core.frame.DataFrame'>\n",
      "Int64Index: 292123 entries, 1 to 354368\n",
      "Data columns (total 9 columns):\n",
      " #   Column       Non-Null Count   Dtype  \n",
      "---  ------       --------------   -----  \n",
      " 0   Price        292123 non-null  int64  \n",
      " 1   VehicleType  284182 non-null  object \n",
      " 2   Gearbox      286663 non-null  object \n",
      " 3   Power        292123 non-null  int64  \n",
      " 4   Model        281113 non-null  object \n",
      " 5   Kilometer    292123 non-null  int64  \n",
      " 6   FuelType     277403 non-null  object \n",
      " 7   Repaired     249198 non-null  object \n",
      " 8   Lifetime     292123 non-null  float64\n",
      "dtypes: float64(1), int64(3), object(5)\n",
      "memory usage: 22.3+ MB\n"
     ]
    },
    {
     "data": {
      "text/html": [
       "<div>\n",
       "<style scoped>\n",
       "    .dataframe tbody tr th:only-of-type {\n",
       "        vertical-align: middle;\n",
       "    }\n",
       "\n",
       "    .dataframe tbody tr th {\n",
       "        vertical-align: top;\n",
       "    }\n",
       "\n",
       "    .dataframe thead th {\n",
       "        text-align: right;\n",
       "    }\n",
       "</style>\n",
       "<table border=\"1\" class=\"dataframe\">\n",
       "  <thead>\n",
       "    <tr style=\"text-align: right;\">\n",
       "      <th></th>\n",
       "      <th>Price</th>\n",
       "      <th>VehicleType</th>\n",
       "      <th>Gearbox</th>\n",
       "      <th>Power</th>\n",
       "      <th>Model</th>\n",
       "      <th>Kilometer</th>\n",
       "      <th>FuelType</th>\n",
       "      <th>Repaired</th>\n",
       "      <th>Lifetime</th>\n",
       "    </tr>\n",
       "  </thead>\n",
       "  <tbody>\n",
       "    <tr>\n",
       "      <th>1</th>\n",
       "      <td>18300</td>\n",
       "      <td>coupe</td>\n",
       "      <td>manual</td>\n",
       "      <td>190</td>\n",
       "      <td>NaN</td>\n",
       "      <td>125000</td>\n",
       "      <td>petrol</td>\n",
       "      <td>yes</td>\n",
       "      <td>4.898015</td>\n",
       "    </tr>\n",
       "    <tr>\n",
       "      <th>2</th>\n",
       "      <td>9800</td>\n",
       "      <td>suv</td>\n",
       "      <td>auto</td>\n",
       "      <td>163</td>\n",
       "      <td>grand</td>\n",
       "      <td>125000</td>\n",
       "      <td>petrol</td>\n",
       "      <td>NaN</td>\n",
       "      <td>11.616701</td>\n",
       "    </tr>\n",
       "    <tr>\n",
       "      <th>3</th>\n",
       "      <td>1500</td>\n",
       "      <td>small</td>\n",
       "      <td>manual</td>\n",
       "      <td>75</td>\n",
       "      <td>golf</td>\n",
       "      <td>150000</td>\n",
       "      <td>petrol</td>\n",
       "      <td>no</td>\n",
       "      <td>14.792608</td>\n",
       "    </tr>\n",
       "    <tr>\n",
       "      <th>4</th>\n",
       "      <td>3600</td>\n",
       "      <td>small</td>\n",
       "      <td>manual</td>\n",
       "      <td>69</td>\n",
       "      <td>fabia</td>\n",
       "      <td>90000</td>\n",
       "      <td>petrol</td>\n",
       "      <td>no</td>\n",
       "      <td>7.748118</td>\n",
       "    </tr>\n",
       "    <tr>\n",
       "      <th>5</th>\n",
       "      <td>650</td>\n",
       "      <td>sedan</td>\n",
       "      <td>manual</td>\n",
       "      <td>102</td>\n",
       "      <td>3er</td>\n",
       "      <td>150000</td>\n",
       "      <td>petrol</td>\n",
       "      <td>yes</td>\n",
       "      <td>20.509240</td>\n",
       "    </tr>\n",
       "  </tbody>\n",
       "</table>\n",
       "</div>"
      ],
      "text/plain": [
       "   Price VehicleType Gearbox  Power  Model  Kilometer FuelType Repaired  \\\n",
       "1  18300       coupe  manual    190    NaN     125000   petrol      yes   \n",
       "2   9800         suv    auto    163  grand     125000   petrol      NaN   \n",
       "3   1500       small  manual     75   golf     150000   petrol       no   \n",
       "4   3600       small  manual     69  fabia      90000   petrol       no   \n",
       "5    650       sedan  manual    102    3er     150000   petrol      yes   \n",
       "\n",
       "    Lifetime  \n",
       "1   4.898015  \n",
       "2  11.616701  \n",
       "3  14.792608  \n",
       "4   7.748118  \n",
       "5  20.509240  "
      ]
     },
     "execution_count": 21,
     "metadata": {},
     "output_type": "execute_result"
    }
   ],
   "source": [
    "df.info()\n",
    "df.head(5)"
   ]
  },
  {
   "cell_type": "code",
   "execution_count": 22,
   "metadata": {},
   "outputs": [],
   "source": [
    "cat_columns = df.select_dtypes(exclude='number').columns.tolist()\n",
    "\n",
    "# Приведение категориальных признаков к типу category\n",
    "for col in cat_columns:\n",
    "    df[col] = df[col].astype('category')"
   ]
  },
  {
   "cell_type": "code",
   "execution_count": 23,
   "metadata": {},
   "outputs": [],
   "source": [
    "# Оптимизация числовых типов данных\n",
    "def optimize_memory_usage(df: pd.DataFrame, print_size: bool=True) -> pd.DataFrame:\n",
    "    '''\n",
    "    Function optimizes memory usage in dataframe\n",
    "    df: pd.DataFrame - data table\n",
    "    print_size: bool - display of optimization results\n",
    "    return pd.DataFrame - amount of optimized memory\n",
    "    '''\n",
    "    numerics = ['int16', 'int32', 'int64', 'float16', 'float32', 'float64'] # Типы, которые будем проверять на оптимизацию\n",
    "    # Размер занимаемой памяти до оптимизации (в Мб)\n",
    "    before_size = df.memory_usage().sum() / 1024**2    \n",
    "    for column in df.columns:\n",
    "        column_type = df[column].dtypes\n",
    "        if column_type in numerics:\n",
    "            column_min = df[column].min()\n",
    "            column_max = df[column].max()\n",
    "            if str(column_type).startswith('int'):\n",
    "                if column_min > np.iinfo(np.int8).min and column_max < np.iinfo(np.int8).max:\n",
    "                    df[column] = df[column].astype(np.int8)\n",
    "                elif column_min > np.iinfo(np.int16).min and column_max < np.iinfo(np.int16).max:\n",
    "                    df[column] = df[column].astype(np.int16)\n",
    "                elif column_min > np.iinfo(np.int32).min and column_max < np.iinfo(np.int32).max:\n",
    "                    df[column] = df[column].astype(np.int32)\n",
    "                elif column_min > np.iinfo(np.int64).min and column_max < np.iinfo(np.int64).max:\n",
    "                    df[column] = df[column].astype(np.int64)  \n",
    "            else:\n",
    "                if column_min > np.finfo(np.float32).min and column_max < np.finfo(np.float32).max:\n",
    "                    df[column] = df[column].astype(np.float32)\n",
    "                else:\n",
    "                    df[column] = df[column].astype(np.float64)    \n",
    "    # Размер занимаемой памяти после оптимизации (в Мб)\n",
    "    after_size = df.memory_usage().sum() / 1024**2\n",
    "    if print_size: print('Размер использования памяти: до {:5.2f} Mb - после {:5.2f} Mb ({:.1f}%)'\n",
    "                         .format(before_size, after_size, 100 * (before_size - after_size) / before_size))\n",
    "    return df"
   ]
  },
  {
   "cell_type": "code",
   "execution_count": 24,
   "metadata": {},
   "outputs": [
    {
     "name": "stdout",
     "output_type": "stream",
     "text": [
      "Размер использования памяти: до 12.83 Mb - после  7.25 Mb (43.4%)\n"
     ]
    },
    {
     "data": {
      "text/html": [
       "<div>\n",
       "<style scoped>\n",
       "    .dataframe tbody tr th:only-of-type {\n",
       "        vertical-align: middle;\n",
       "    }\n",
       "\n",
       "    .dataframe tbody tr th {\n",
       "        vertical-align: top;\n",
       "    }\n",
       "\n",
       "    .dataframe thead th {\n",
       "        text-align: right;\n",
       "    }\n",
       "</style>\n",
       "<table border=\"1\" class=\"dataframe\">\n",
       "  <thead>\n",
       "    <tr style=\"text-align: right;\">\n",
       "      <th></th>\n",
       "      <th>Price</th>\n",
       "      <th>VehicleType</th>\n",
       "      <th>Gearbox</th>\n",
       "      <th>Power</th>\n",
       "      <th>Model</th>\n",
       "      <th>Kilometer</th>\n",
       "      <th>FuelType</th>\n",
       "      <th>Repaired</th>\n",
       "      <th>Lifetime</th>\n",
       "    </tr>\n",
       "  </thead>\n",
       "  <tbody>\n",
       "    <tr>\n",
       "      <th>1</th>\n",
       "      <td>18300</td>\n",
       "      <td>coupe</td>\n",
       "      <td>manual</td>\n",
       "      <td>190</td>\n",
       "      <td>NaN</td>\n",
       "      <td>125000</td>\n",
       "      <td>petrol</td>\n",
       "      <td>yes</td>\n",
       "      <td>4.898015</td>\n",
       "    </tr>\n",
       "    <tr>\n",
       "      <th>2</th>\n",
       "      <td>9800</td>\n",
       "      <td>suv</td>\n",
       "      <td>auto</td>\n",
       "      <td>163</td>\n",
       "      <td>grand</td>\n",
       "      <td>125000</td>\n",
       "      <td>petrol</td>\n",
       "      <td>NaN</td>\n",
       "      <td>11.616701</td>\n",
       "    </tr>\n",
       "    <tr>\n",
       "      <th>3</th>\n",
       "      <td>1500</td>\n",
       "      <td>small</td>\n",
       "      <td>manual</td>\n",
       "      <td>75</td>\n",
       "      <td>golf</td>\n",
       "      <td>150000</td>\n",
       "      <td>petrol</td>\n",
       "      <td>no</td>\n",
       "      <td>14.792608</td>\n",
       "    </tr>\n",
       "    <tr>\n",
       "      <th>4</th>\n",
       "      <td>3600</td>\n",
       "      <td>small</td>\n",
       "      <td>manual</td>\n",
       "      <td>69</td>\n",
       "      <td>fabia</td>\n",
       "      <td>90000</td>\n",
       "      <td>petrol</td>\n",
       "      <td>no</td>\n",
       "      <td>7.748118</td>\n",
       "    </tr>\n",
       "    <tr>\n",
       "      <th>5</th>\n",
       "      <td>650</td>\n",
       "      <td>sedan</td>\n",
       "      <td>manual</td>\n",
       "      <td>102</td>\n",
       "      <td>3er</td>\n",
       "      <td>150000</td>\n",
       "      <td>petrol</td>\n",
       "      <td>yes</td>\n",
       "      <td>20.509241</td>\n",
       "    </tr>\n",
       "    <tr>\n",
       "      <th>...</th>\n",
       "      <td>...</td>\n",
       "      <td>...</td>\n",
       "      <td>...</td>\n",
       "      <td>...</td>\n",
       "      <td>...</td>\n",
       "      <td>...</td>\n",
       "      <td>...</td>\n",
       "      <td>...</td>\n",
       "      <td>...</td>\n",
       "    </tr>\n",
       "    <tr>\n",
       "      <th>354360</th>\n",
       "      <td>3999</td>\n",
       "      <td>wagon</td>\n",
       "      <td>manual</td>\n",
       "      <td>3</td>\n",
       "      <td>3er</td>\n",
       "      <td>150000</td>\n",
       "      <td>petrol</td>\n",
       "      <td>no</td>\n",
       "      <td>10.921287</td>\n",
       "    </tr>\n",
       "    <tr>\n",
       "      <th>354362</th>\n",
       "      <td>3200</td>\n",
       "      <td>sedan</td>\n",
       "      <td>manual</td>\n",
       "      <td>225</td>\n",
       "      <td>leon</td>\n",
       "      <td>150000</td>\n",
       "      <td>petrol</td>\n",
       "      <td>yes</td>\n",
       "      <td>11.882273</td>\n",
       "    </tr>\n",
       "    <tr>\n",
       "      <th>354366</th>\n",
       "      <td>1199</td>\n",
       "      <td>convertible</td>\n",
       "      <td>auto</td>\n",
       "      <td>101</td>\n",
       "      <td>fortwo</td>\n",
       "      <td>125000</td>\n",
       "      <td>petrol</td>\n",
       "      <td>no</td>\n",
       "      <td>16.010952</td>\n",
       "    </tr>\n",
       "    <tr>\n",
       "      <th>354367</th>\n",
       "      <td>9200</td>\n",
       "      <td>bus</td>\n",
       "      <td>manual</td>\n",
       "      <td>102</td>\n",
       "      <td>transporter</td>\n",
       "      <td>150000</td>\n",
       "      <td>petrol</td>\n",
       "      <td>no</td>\n",
       "      <td>20.049282</td>\n",
       "    </tr>\n",
       "    <tr>\n",
       "      <th>354368</th>\n",
       "      <td>3400</td>\n",
       "      <td>wagon</td>\n",
       "      <td>manual</td>\n",
       "      <td>100</td>\n",
       "      <td>golf</td>\n",
       "      <td>150000</td>\n",
       "      <td>petrol</td>\n",
       "      <td>NaN</td>\n",
       "      <td>13.801506</td>\n",
       "    </tr>\n",
       "  </tbody>\n",
       "</table>\n",
       "<p>292123 rows × 9 columns</p>\n",
       "</div>"
      ],
      "text/plain": [
       "        Price  VehicleType Gearbox  Power        Model  Kilometer FuelType  \\\n",
       "1       18300        coupe  manual    190          NaN     125000   petrol   \n",
       "2        9800          suv    auto    163        grand     125000   petrol   \n",
       "3        1500        small  manual     75         golf     150000   petrol   \n",
       "4        3600        small  manual     69        fabia      90000   petrol   \n",
       "5         650        sedan  manual    102          3er     150000   petrol   \n",
       "...       ...          ...     ...    ...          ...        ...      ...   \n",
       "354360   3999        wagon  manual      3          3er     150000   petrol   \n",
       "354362   3200        sedan  manual    225         leon     150000   petrol   \n",
       "354366   1199  convertible    auto    101       fortwo     125000   petrol   \n",
       "354367   9200          bus  manual    102  transporter     150000   petrol   \n",
       "354368   3400        wagon  manual    100         golf     150000   petrol   \n",
       "\n",
       "       Repaired   Lifetime  \n",
       "1           yes   4.898015  \n",
       "2           NaN  11.616701  \n",
       "3            no  14.792608  \n",
       "4            no   7.748118  \n",
       "5           yes  20.509241  \n",
       "...         ...        ...  \n",
       "354360       no  10.921287  \n",
       "354362      yes  11.882273  \n",
       "354366       no  16.010952  \n",
       "354367       no  20.049282  \n",
       "354368      NaN  13.801506  \n",
       "\n",
       "[292123 rows x 9 columns]"
      ]
     },
     "execution_count": 24,
     "metadata": {},
     "output_type": "execute_result"
    }
   ],
   "source": [
    "optimize_memory_usage(df)"
   ]
  },
  {
   "cell_type": "code",
   "execution_count": 25,
   "metadata": {},
   "outputs": [
    {
     "name": "stdout",
     "output_type": "stream",
     "text": [
      "<class 'pandas.core.frame.DataFrame'>\n",
      "Int64Index: 292123 entries, 1 to 354368\n",
      "Data columns (total 9 columns):\n",
      " #   Column       Non-Null Count   Dtype   \n",
      "---  ------       --------------   -----   \n",
      " 0   Price        292123 non-null  int16   \n",
      " 1   VehicleType  284182 non-null  category\n",
      " 2   Gearbox      286663 non-null  category\n",
      " 3   Power        292123 non-null  int16   \n",
      " 4   Model        281113 non-null  category\n",
      " 5   Kilometer    292123 non-null  int32   \n",
      " 6   FuelType     277403 non-null  category\n",
      " 7   Repaired     249198 non-null  category\n",
      " 8   Lifetime     292123 non-null  float32 \n",
      "dtypes: category(5), float32(1), int16(2), int32(1)\n",
      "memory usage: 7.3 MB\n"
     ]
    },
    {
     "data": {
      "text/html": [
       "<div>\n",
       "<style scoped>\n",
       "    .dataframe tbody tr th:only-of-type {\n",
       "        vertical-align: middle;\n",
       "    }\n",
       "\n",
       "    .dataframe tbody tr th {\n",
       "        vertical-align: top;\n",
       "    }\n",
       "\n",
       "    .dataframe thead th {\n",
       "        text-align: right;\n",
       "    }\n",
       "</style>\n",
       "<table border=\"1\" class=\"dataframe\">\n",
       "  <thead>\n",
       "    <tr style=\"text-align: right;\">\n",
       "      <th></th>\n",
       "      <th>Price</th>\n",
       "      <th>VehicleType</th>\n",
       "      <th>Gearbox</th>\n",
       "      <th>Power</th>\n",
       "      <th>Model</th>\n",
       "      <th>Kilometer</th>\n",
       "      <th>FuelType</th>\n",
       "      <th>Repaired</th>\n",
       "      <th>Lifetime</th>\n",
       "    </tr>\n",
       "  </thead>\n",
       "  <tbody>\n",
       "    <tr>\n",
       "      <th>1</th>\n",
       "      <td>18300</td>\n",
       "      <td>coupe</td>\n",
       "      <td>manual</td>\n",
       "      <td>190</td>\n",
       "      <td>NaN</td>\n",
       "      <td>125000</td>\n",
       "      <td>petrol</td>\n",
       "      <td>yes</td>\n",
       "      <td>4.898015</td>\n",
       "    </tr>\n",
       "    <tr>\n",
       "      <th>2</th>\n",
       "      <td>9800</td>\n",
       "      <td>suv</td>\n",
       "      <td>auto</td>\n",
       "      <td>163</td>\n",
       "      <td>grand</td>\n",
       "      <td>125000</td>\n",
       "      <td>petrol</td>\n",
       "      <td>NaN</td>\n",
       "      <td>11.616701</td>\n",
       "    </tr>\n",
       "    <tr>\n",
       "      <th>3</th>\n",
       "      <td>1500</td>\n",
       "      <td>small</td>\n",
       "      <td>manual</td>\n",
       "      <td>75</td>\n",
       "      <td>golf</td>\n",
       "      <td>150000</td>\n",
       "      <td>petrol</td>\n",
       "      <td>no</td>\n",
       "      <td>14.792608</td>\n",
       "    </tr>\n",
       "    <tr>\n",
       "      <th>4</th>\n",
       "      <td>3600</td>\n",
       "      <td>small</td>\n",
       "      <td>manual</td>\n",
       "      <td>69</td>\n",
       "      <td>fabia</td>\n",
       "      <td>90000</td>\n",
       "      <td>petrol</td>\n",
       "      <td>no</td>\n",
       "      <td>7.748118</td>\n",
       "    </tr>\n",
       "    <tr>\n",
       "      <th>5</th>\n",
       "      <td>650</td>\n",
       "      <td>sedan</td>\n",
       "      <td>manual</td>\n",
       "      <td>102</td>\n",
       "      <td>3er</td>\n",
       "      <td>150000</td>\n",
       "      <td>petrol</td>\n",
       "      <td>yes</td>\n",
       "      <td>20.509241</td>\n",
       "    </tr>\n",
       "  </tbody>\n",
       "</table>\n",
       "</div>"
      ],
      "text/plain": [
       "   Price VehicleType Gearbox  Power  Model  Kilometer FuelType Repaired  \\\n",
       "1  18300       coupe  manual    190    NaN     125000   petrol      yes   \n",
       "2   9800         suv    auto    163  grand     125000   petrol      NaN   \n",
       "3   1500       small  manual     75   golf     150000   petrol       no   \n",
       "4   3600       small  manual     69  fabia      90000   petrol       no   \n",
       "5    650       sedan  manual    102    3er     150000   petrol      yes   \n",
       "\n",
       "    Lifetime  \n",
       "1   4.898015  \n",
       "2  11.616701  \n",
       "3  14.792608  \n",
       "4   7.748118  \n",
       "5  20.509241  "
      ]
     },
     "execution_count": 25,
     "metadata": {},
     "output_type": "execute_result"
    }
   ],
   "source": [
    "df.info()\n",
    "df.head()"
   ]
  },
  {
   "cell_type": "code",
   "execution_count": 26,
   "metadata": {},
   "outputs": [
    {
     "data": {
      "image/png": "[encoded data removed]",
      "text/plain": [
       "<Figure size 1000x1000 with 2 Axes>"
      ]
     },
     "metadata": {},
     "output_type": "display_data"
    }
   ],
   "source": [
    "#Обозначим список столбцов с числовыми данными\n",
    "numerical_columns_corr = df.select_dtypes(include=['number'], exclude=['object']).columns.tolist()\n",
    "\n",
    "#Изучим корреляцию \n",
    "phik_overview = df.phik_matrix(interval_cols=numerical_columns_corr)\n",
    "plot_correlation_matrix(phik_overview.values, x_labels=phik_overview.columns, y_labels=phik_overview.index, \n",
    "                        vmin=0, vmax=1, color_map='Greens', title=r'correlation $\\phi_K$', fontsize_factor=1,\n",
    "                        figsize=(10,10))\n",
    "plt.tight_layout()"
   ]
  },
  {
   "cell_type": "markdown",
   "metadata": {},
   "source": [
    "__Итоги анализа корреляции данных после EDA:__\n",
    "- 292123 наблюдений после введения корректировок\n",
    "- Провели оптимизацию размера данных. Размер использования памяти: до 12.83 Mb - после  7.81 Mb (39.1%)\n",
    "- Корреляционная матрица демонстрирует высокие уровни корреляции для признаков lifetime & model, что может быть обусловлено машинами выпускавшимеся в старые периоды времени. При этом довольно умеренный уровень корреляции между lifetime и целевым признаком.\n"
   ]
  },
  {
   "cell_type": "markdown",
   "metadata": {},
   "source": [
    "###  Итоги раздела :\n",
    "__Итоги загрузки и первичного изучения данных:__ \n",
    "\n",
    "- Всего 354369 строк\n",
    "\n",
    "__Признаки:__\n",
    "\n",
    "- __DateCrawled__ — дата скачивания анкеты из базы\n",
    "- __VehicleType__ — тип автомобильного кузова\n",
    "- __RegistrationYear__ — год регистрации автомобиля\n",
    "- __Gearbox__ — тип коробки передач\n",
    "- __Power__ — мощность (л. с.)\n",
    "- __Model__ — модель автомобиля\n",
    "- __Kilometer__ — пробег (км)\n",
    "- __RegistrationMonth__ — месяц регистрации автомобиля\n",
    "- __FuelType__ — тип топлива\n",
    "- __Brand__ — марка автомобиля\n",
    "- __Repaired__ — была машина в ремонте или нет\n",
    "- __DateCreated__ — дата создания анкеты\n",
    "- __NumberOfPictures__ — количество фотографий автомобиля\n",
    "- __PostalCode__ — почтовый индекс владельца анкеты (пользователя)\n",
    "- __LastSeen__ — дата последней активности пользователя\n",
    "\n",
    "__Целевой признак:__\n",
    "- __Price — цена (евро)__\n",
    "\n",
    "__Выбросы, пропуски и дубликаты:__\n",
    "- NumberOfPictures состоит из нулевых значений, столбец не несет информационной важности\n",
    "- Замечены аномалии RegistrationYear, Power\n",
    "- Пропуски данных в столбцах VehicleType, Gearbox, Model, FuelType, Repaired\n",
    "- 4 полных дубликата\n",
    "\n",
    "__Результаты предобработки:__\n",
    "- Убрано 4 дубликата\n",
    "- Оставили только машины которые после 1960 и до 2016 года \n",
    "- Убрали признаки 'DateCrawled', 'DateCreated', 'LastSeen', 'PostalCode', 'RegistrationMonth', \"Brand\", 'RegistrationYear', 'NumberOfPictures', 'RegistrationDate' \n",
    "\n",
    "__Результаты анализа и корректировки аномалий количественных признаков:__\n",
    "- Средняя цена 4416 евро, при этом максимальная 20000 евро. Минимальная цена 0. Возможно аномалия, которую нужно исправить\n",
    "- Судя по графику разброса признака Power 75% значений имеют менее 143 лошадиных сил, при этом есть много аномалий которые стоит определить и удалить.\n",
    "- Среднее значение километража 128331 км, учитывая, что среди наблюдений есть очень старые машины, то такое вполне вероятно.\n",
    "- Средний возраст машины 12,6 лет, при этом есть машины которым более 30 лет. Присутствуют аномалии с отрицательным возрастом, их надо удалить\n",
    "- Заменили нулевые значения стоимости машин на медианные\n",
    "- Убрали значения аномальные значения в категории power\n",
    "- Исключили наблюдения с отрицательным lifetime\n",
    "\n",
    "__Результаты анализа и корректировки аномалий категорийных признаков:__\n",
    "- Среди наиболее дорогих моделей авто - SUV, для них медианное значение 8500 евро.\n",
    "- gl наиболее дорогая модель авто, 19 тысяч евро \n",
    "- коробка автомат дороже ручного коробки 5500 vs 2700\n",
    "- гибриды дороже всего почти вдвое дороже электроавтомобилей\n",
    "- машины которые не ремонтировались дороже машин после ремонта\n",
    "- в столбце FuelType заменили значения gasoline на petrol\n",
    "\n",
    "\n",
    "__Итоги анализа корреляции данных после EDA:__\n",
    "- 292123 наблюдений осталось после проведения корректировок\n",
    "- Провели оптимизацию размера данных. Размер использования памяти: до 22.29 Mb - после 17.27 Mb (22.5%)\n",
    "- Корреляционная матрица демонстрирует высокие уровни корреляции для признаков vehicle type & model, что может быть обусловлено модельным рядом марки\n",
    "\n",
    "\n"
   ]
  },
  {
   "cell_type": "markdown",
   "metadata": {},
   "source": [
    "## Обучение моделей"
   ]
  },
  {
   "cell_type": "markdown",
   "metadata": {},
   "source": [
    "### Подготовка пайплайна"
   ]
  },
  {
   "cell_type": "code",
   "execution_count": 27,
   "metadata": {},
   "outputs": [
    {
     "data": {
      "text/plain": [
       "((219092, 8), (73031, 8))"
      ]
     },
     "execution_count": 27,
     "metadata": {},
     "output_type": "execute_result"
    }
   ],
   "source": [
    "X = df.drop(['Price'], axis=1)\n",
    "y = df['Price']\n",
    "\n",
    "#Разделения данных на обучающую выборку и тестовую выборку \n",
    "X_train, X_test, y_train, y_test = train_test_split(\n",
    "    X,\n",
    "    y,\n",
    "    test_size = TEST_SIZE, \n",
    "    random_state = RANDOM_STATE)\n",
    "\n",
    "X_train.shape, X_test.shape"
   ]
  },
  {
   "cell_type": "code",
   "execution_count": 28,
   "metadata": {},
   "outputs": [
    {
     "name": "stdout",
     "output_type": "stream",
     "text": [
      "ohe_columns: ['VehicleType', 'Gearbox', 'Model', 'FuelType', 'Repaired']\n",
      "num_columns: ['Power', 'Kilometer', 'Lifetime']\n"
     ]
    }
   ],
   "source": [
    "ohe_columns = cat_columns.copy()\n",
    "num_columns = X_train.select_dtypes(exclude='category').columns.tolist()\n",
    "\n",
    "print('ohe_columns:', ohe_columns)\n",
    "print('num_columns:', num_columns)"
   ]
  },
  {
   "cell_type": "code",
   "execution_count": 29,
   "metadata": {},
   "outputs": [
    {
     "name": "stdout",
     "output_type": "stream",
     "text": [
      "ord_columns: ['VehicleType', 'Gearbox', 'Model', 'FuelType', 'Repaired']\n",
      "unique_categories: [['wagon', 'bus', 'small', 'sedan', 'suv', 'other', 'convertible', 'coupe'], ['manual', 'auto'], ['astra', 'roomster', 'cordoba', 'e_klasse', 'golf', 'forester', 'omega', 'polo', 'other', '147', 'altea', 'fortwo', 'colt', '3er', 'zafira', 'transporter', 'a6', 'corsa', 'a_klasse', 'leon', 'tucson', 'berlingo', '500', 'a4', 'ka', 'lupo', 'focus', 'galaxy', 'passat', 'seicento', '3_reihe', 'discovery', 'twingo', 'slk', 'insignia', '5er', 'ibiza', 'touran', 'panda', 'v50', '1er', 'megane', 'toledo', '4_reihe', 'carisma', 'i_reihe', 'punto', 'cooper', '2_reihe', 'caddy', 'c_klasse', '80', 'mondeo', 'voyager', 'fiesta', 'swift', 'kuga', 'sharan', 'up', 'a3', 'laguna', 'clubman', 'v_klasse', 'transit', 'phaeton', 'micra', 'c2', '1_reihe', 'bora', 'beetle', 'jetta', 'm_klasse', 'yaris', 'ducato', 'mx_reihe', 'kangoo', 'b_klasse', 'z_reihe', 'c5', '5_reihe', 'arosa', 'xc_reihe', 'fabia', '6_reihe', 'croma', 'cr_reihe', 'signum', 'civic', 'impreza', '156', 'bravo', 'clio', 'clk', 'almera', 'qashqai', 'auris', 'grand', 'a2', 'logan', 'primera', 'r19', 'kaefer', 'superb', 'touareg', 'vectra', 'octavia', 'calibra', 'sprinter', 'accord', 'eos', 'lancer', 'move', 'x_reihe', 'defender', 'v70', 'ptcruiser', 'outlander', 'scenic', 'meriva', 'agila', 'modus', 'fox', 'v40', 'x_trail', 's_max', 'spider', '850', 'avensis', 'one', 'verso', 'forfour', 's_klasse', 'c_max', '601', 'picanto', 'rio', 'c_reihe', 'tt', 'c4', 'c1', 'freelander', 'a5', 'alhambra', '7er', 'getz', 'aygo', 'a1', 'tiguan', 'combo', 'corolla', 'g_klasse', '100', 'espace', 'wrangler', 'jazz', 'note', 'doblo', '200', 'tigra', 'sorento', 'escort', 'scirocco', 'charade', 'legacy', 'pajero', 'cl', 'juke', 'boxster', 'kadett', 'cx_reihe', 'ceed', 'c3', 'cuore', 'roadster', 'jimny', 'fusion', 'sirion', 'rav', 'santa', 'rx_reihe', 'sportage', 'sandero', 'mii', 'cc', '9000', 'a8', 'nubira', 'stilo', 's60', 'cherokee', 'x_type', 'vito', 'matiz', 'vivaro', 'duster', 'viano', 'exeo', 'crossfire', 'antara', 'justy', '900', 'carnival', 'navara', 'mustang', 'q7', '300c', 'lanos', 'sl', 'delta', 'serie_2', 'yeti', 'range_rover_sport', 'terios', 'galant', 's_type', '159', 'glk', 'elefantino', 'aveo', 'q5', 'ypsilon', 'citigo', 'lybra', '90', 'kalos', 'spark', 'niva', 'range_rover', 'v60', 'captiva', 'cayenne', '145', 'm_reihe', 'gl', 'samara', 'kappa', 'amarok', 'musa', '6er', 'lodgy', 'serie_3', 'b_max', 'i3', '911', 'materia', 'q3', 'kalina', 'rangerover'], ['petrol', 'electric', 'lpg', 'cng', 'other', 'hybrid'], ['no', 'yes']]\n"
     ]
    }
   ],
   "source": [
    "ord_columns = cat_columns.copy()\n",
    "print('ord_columns:', ord_columns)\n",
    "\n",
    "# Сбор уникальных категорий для каждого столбца\n",
    "unique_categories = [X_train[col].dropna().unique().tolist() for col in ord_columns]\n",
    "print('unique_categories:', unique_categories)"
   ]
  },
  {
   "cell_type": "code",
   "execution_count": 30,
   "metadata": {},
   "outputs": [],
   "source": [
    "#Пайплайн для подготовки категорийных признаков под модель LinearRegression\n",
    "ohe_pipe = Pipeline(\n",
    "    [\n",
    "        (\n",
    "            'simpleImputer_ohe', \n",
    "            SimpleImputer(missing_values=np.nan, strategy='most_frequent')\n",
    "        ),\n",
    "        (\n",
    "            'ohe', \n",
    "            OneHotEncoder(drop='first', handle_unknown= 'error', sparse_output=False)\n",
    "        )\n",
    "    ]\n",
    ")\n",
    "\n",
    "# Пайплайн для подготовки категорийных признаков под модель DecissionTree\n",
    "ord_pipe = Pipeline(\n",
    "    [\n",
    "        (\n",
    "            'simpleImputer_ord',\n",
    "            SimpleImputer(missing_values=np.nan, strategy='most_frequent')\n",
    "        ),\n",
    "        (\n",
    "            'ord',\n",
    "            OrdinalEncoder(categories=unique_categories,\n",
    "                           handle_unknown='use_encoded_value', unknown_value=-1)\n",
    "        )\n",
    "    ]\n",
    ")\n",
    "\n",
    "# Пайплайн для подготовки пропущенных категорий для модели LightGBM\n",
    "imput_pipe = Pipeline(\n",
    "    [\n",
    "        (\n",
    "            'simpleImputer', \n",
    "            SimpleImputer(missing_values=np.nan, strategy='most_frequent')\n",
    "        )\n",
    "    ]\n",
    ")"
   ]
  },
  {
   "cell_type": "code",
   "execution_count": 31,
   "metadata": {},
   "outputs": [],
   "source": [
    "#Пайплайн для подготовки данных с OneHotEncoder для модели LinearRegression\n",
    "data_preprocessor = ColumnTransformer(\n",
    "    [\n",
    "        ('ohe', ohe_pipe, ohe_columns),\n",
    "        ('num', MinMaxScaler(), num_columns)\n",
    "    ], \n",
    "    remainder='passthrough'\n",
    ") \n",
    "\n",
    "# Пайплайн для подготовки данных с OrdinalEncoder для модели DecisionTreeRegressor\n",
    "data_preprocessor_ord = ColumnTransformer(\n",
    "    [\n",
    "        ('ord', ord_pipe, ord_columns)\n",
    "    ],\n",
    "    remainder='passthrough'\n",
    ")"
   ]
  },
  {
   "cell_type": "code",
   "execution_count": 32,
   "metadata": {},
   "outputs": [],
   "source": [
    "#Итоговый пайплайн\n",
    "pipe_final = Pipeline(\n",
    "    [\n",
    "        ('preprocessor', 'passthrough'),\n",
    "        ('models', LinearRegression())\n",
    "    ]\n",
    ")\n",
    "\n",
    "# Словарь гиперпараметров моделей\n",
    "parameters = [\n",
    "    # Словарь для модели DecisionTreeRegressor\n",
    "    {\n",
    "        'models': [DecisionTreeRegressor(random_state=RANDOM_STATE)],\n",
    "        'models__max_depth': range(1, 12),\n",
    "        'models__max_features': range(0, 7),\n",
    "        'preprocessor': [data_preprocessor_ord]\n",
    "    },\n",
    "    # Словарь для модели LinearRegression\n",
    "    {\n",
    "        'models': [LinearRegression()],\n",
    "        'preprocessor': [data_preprocessor]\n",
    "    },\n",
    "    # Словарь для модели LGBMRegressor\n",
    "    {\n",
    "        'models': [lgb.LGBMRegressor(random_state=RANDOM_STATE)],\n",
    "        'models__num_leaves': range(1, 70),\n",
    "        'models__n_estimators': range(100, 500),\n",
    "        'preprocessor': ['passthrough']\n",
    "    }\n",
    "]"
   ]
  },
  {
   "cell_type": "code",
   "execution_count": 33,
   "metadata": {},
   "outputs": [],
   "source": [
    "rmse_scorer = make_scorer(root_mean_squared_error, greater_is_better=False)\n",
    "\n",
    "\n",
    "randomized_search = RandomizedSearchCV(\n",
    "    pipe_final, \n",
    "    parameters, \n",
    "    scoring = rmse_scorer, \n",
    "    random_state=RANDOM_STATE, \n",
    "    n_jobs=-1\n",
    ")"
   ]
  },
  {
   "cell_type": "code",
   "execution_count": 34,
   "metadata": {},
   "outputs": [
    {
     "name": "stdout",
     "output_type": "stream",
     "text": [
      "<class 'pandas.core.frame.DataFrame'>\n",
      "Int64Index: 219092 entries, 138275 to 147876\n",
      "Data columns (total 8 columns):\n",
      " #   Column       Non-Null Count   Dtype   \n",
      "---  ------       --------------   -----   \n",
      " 0   VehicleType  213093 non-null  category\n",
      " 1   Gearbox      214972 non-null  category\n",
      " 2   Power        219092 non-null  int16   \n",
      " 3   Model        210849 non-null  category\n",
      " 4   Kilometer    219092 non-null  int32   \n",
      " 5   FuelType     208087 non-null  category\n",
      " 6   Repaired     187008 non-null  category\n",
      " 7   Lifetime     219092 non-null  float32 \n",
      "dtypes: category(5), float32(1), int16(1), int32(1)\n",
      "memory usage: 5.0 MB\n"
     ]
    }
   ],
   "source": [
    "X_train.info()"
   ]
  },
  {
   "cell_type": "code",
   "execution_count": 35,
   "metadata": {},
   "outputs": [
    {
     "name": "stdout",
     "output_type": "stream",
     "text": [
      "CPU times: user 21.5 s, sys: 4.02 s, total: 25.5 s\n",
      "Wall time: 26 s\n"
     ]
    },
    {
     "data": {
      "text/html": [
       "<style>#sk-container-id-1 {\n",
       "  /* Definition of color scheme common for light and dark mode */\n",
       "  --sklearn-color-text: black;\n",
       "  --sklearn-color-line: gray;\n",
       "  /* Definition of color scheme for unfitted estimators */\n",
       "  --sklearn-color-unfitted-level-0: #fff5e6;\n",
       "  --sklearn-color-unfitted-level-1: #f6e4d2;\n",
       "  --sklearn-color-unfitted-level-2: #ffe0b3;\n",
       "  --sklearn-color-unfitted-level-3: chocolate;\n",
       "  /* Definition of color scheme for fitted estimators */\n",
       "  --sklearn-color-fitted-level-0: #f0f8ff;\n",
       "  --sklearn-color-fitted-level-1: #d4ebff;\n",
       "  --sklearn-color-fitted-level-2: #b3dbfd;\n",
       "  --sklearn-color-fitted-level-3: cornflowerblue;\n",
       "\n",
       "  /* Specific color for light theme */\n",
       "  --sklearn-color-text-on-default-background: var(--sg-text-color, var(--theme-code-foreground, var(--jp-content-font-color1, black)));\n",
       "  --sklearn-color-background: var(--sg-background-color, var(--theme-background, var(--jp-layout-color0, white)));\n",
       "  --sklearn-color-border-box: var(--sg-text-color, var(--theme-code-foreground, var(--jp-content-font-color1, black)));\n",
       "  --sklearn-color-icon: #696969;\n",
       "\n",
       "  @media (prefers-color-scheme: dark) {\n",
       "    /* Redefinition of color scheme for dark theme */\n",
       "    --sklearn-color-text-on-default-background: var(--sg-text-color, var(--theme-code-foreground, var(--jp-content-font-color1, white)));\n",
       "    --sklearn-color-background: var(--sg-background-color, var(--theme-background, var(--jp-layout-color0, #111)));\n",
       "    --sklearn-color-border-box: var(--sg-text-color, var(--theme-code-foreground, var(--jp-content-font-color1, white)));\n",
       "    --sklearn-color-icon: #878787;\n",
       "  }\n",
       "}\n",
       "\n",
       "#sk-container-id-1 {\n",
       "  color: var(--sklearn-color-text);\n",
       "}\n",
       "\n",
       "#sk-container-id-1 pre {\n",
       "  padding: 0;\n",
       "}\n",
       "\n",
       "#sk-container-id-1 input.sk-hidden--visually {\n",
       "  border: 0;\n",
       "  clip: rect(1px 1px 1px 1px);\n",
       "  clip: rect(1px, 1px, 1px, 1px);\n",
       "  height: 1px;\n",
       "  margin: -1px;\n",
       "  overflow: hidden;\n",
       "  padding: 0;\n",
       "  position: absolute;\n",
       "  width: 1px;\n",
       "}\n",
       "\n",
       "#sk-container-id-1 div.sk-dashed-wrapped {\n",
       "  border: 1px dashed var(--sklearn-color-line);\n",
       "  margin: 0 0.4em 0.5em 0.4em;\n",
       "  box-sizing: border-box;\n",
       "  padding-bottom: 0.4em;\n",
       "  background-color: var(--sklearn-color-background);\n",
       "}\n",
       "\n",
       "#sk-container-id-1 div.sk-container {\n",
       "  /* jupyter's `normalize.less` sets `[hidden] { display: none; }`\n",
       "     but bootstrap.min.css set `[hidden] { display: none !important; }`\n",
       "     so we also need the `!important` here to be able to override the\n",
       "     default hidden behavior on the sphinx rendered scikit-learn.org.\n",
       "     See: https://github.com/scikit-learn/scikit-learn/issues/21755 */\n",
       "  display: inline-block !important;\n",
       "  position: relative;\n",
       "}\n",
       "\n",
       "#sk-container-id-1 div.sk-text-repr-fallback {\n",
       "  display: none;\n",
       "}\n",
       "\n",
       "div.sk-parallel-item,\n",
       "div.sk-serial,\n",
       "div.sk-item {\n",
       "  /* draw centered vertical line to link estimators */\n",
       "  background-image: linear-gradient(var(--sklearn-color-text-on-default-background), var(--sklearn-color-text-on-default-background));\n",
       "  background-size: 2px 100%;\n",
       "  background-repeat: no-repeat;\n",
       "  background-position: center center;\n",
       "}\n",
       "\n",
       "/* Parallel-specific style estimator block */\n",
       "\n",
       "#sk-container-id-1 div.sk-parallel-item::after {\n",
       "  content: \"\";\n",
       "  width: 100%;\n",
       "  border-bottom: 2px solid var(--sklearn-color-text-on-default-background);\n",
       "  flex-grow: 1;\n",
       "}\n",
       "\n",
       "#sk-container-id-1 div.sk-parallel {\n",
       "  display: flex;\n",
       "  align-items: stretch;\n",
       "  justify-content: center;\n",
       "  background-color: var(--sklearn-color-background);\n",
       "  position: relative;\n",
       "}\n",
       "\n",
       "#sk-container-id-1 div.sk-parallel-item {\n",
       "  display: flex;\n",
       "  flex-direction: column;\n",
       "}\n",
       "\n",
       "#sk-container-id-1 div.sk-parallel-item:first-child::after {\n",
       "  align-self: flex-end;\n",
       "  width: 50%;\n",
       "}\n",
       "\n",
       "#sk-container-id-1 div.sk-parallel-item:last-child::after {\n",
       "  align-self: flex-start;\n",
       "  width: 50%;\n",
       "}\n",
       "\n",
       "#sk-container-id-1 div.sk-parallel-item:only-child::after {\n",
       "  width: 0;\n",
       "}\n",
       "\n",
       "/* Serial-specific style estimator block */\n",
       "\n",
       "#sk-container-id-1 div.sk-serial {\n",
       "  display: flex;\n",
       "  flex-direction: column;\n",
       "  align-items: center;\n",
       "  background-color: var(--sklearn-color-background);\n",
       "  padding-right: 1em;\n",
       "  padding-left: 1em;\n",
       "}\n",
       "\n",
       "\n",
       "/* Toggleable style: style used for estimator/Pipeline/ColumnTransformer box that is\n",
       "clickable and can be expanded/collapsed.\n",
       "- Pipeline and ColumnTransformer use this feature and define the default style\n",
       "- Estimators will overwrite some part of the style using the `sk-estimator` class\n",
       "*/\n",
       "\n",
       "/* Pipeline and ColumnTransformer style (default) */\n",
       "\n",
       "#sk-container-id-1 div.sk-toggleable {\n",
       "  /* Default theme specific background. It is overwritten whether we have a\n",
       "  specific estimator or a Pipeline/ColumnTransformer */\n",
       "  background-color: var(--sklearn-color-background);\n",
       "}\n",
       "\n",
       "/* Toggleable label */\n",
       "#sk-container-id-1 label.sk-toggleable__label {\n",
       "  cursor: pointer;\n",
       "  display: block;\n",
       "  width: 100%;\n",
       "  margin-bottom: 0;\n",
       "  padding: 0.5em;\n",
       "  box-sizing: border-box;\n",
       "  text-align: center;\n",
       "}\n",
       "\n",
       "#sk-container-id-1 label.sk-toggleable__label-arrow:before {\n",
       "  /* Arrow on the left of the label */\n",
       "  content: \"▸\";\n",
       "  float: left;\n",
       "  margin-right: 0.25em;\n",
       "  color: var(--sklearn-color-icon);\n",
       "}\n",
       "\n",
       "#sk-container-id-1 label.sk-toggleable__label-arrow:hover:before {\n",
       "  color: var(--sklearn-color-text);\n",
       "}\n",
       "\n",
       "/* Toggleable content - dropdown */\n",
       "\n",
       "#sk-container-id-1 div.sk-toggleable__content {\n",
       "  max-height: 0;\n",
       "  max-width: 0;\n",
       "  overflow: hidden;\n",
       "  text-align: left;\n",
       "  /* unfitted */\n",
       "  background-color: var(--sklearn-color-unfitted-level-0);\n",
       "}\n",
       "\n",
       "#sk-container-id-1 div.sk-toggleable__content.fitted {\n",
       "  /* fitted */\n",
       "  background-color: var(--sklearn-color-fitted-level-0);\n",
       "}\n",
       "\n",
       "#sk-container-id-1 div.sk-toggleable__content pre {\n",
       "  margin: 0.2em;\n",
       "  border-radius: 0.25em;\n",
       "  color: var(--sklearn-color-text);\n",
       "  /* unfitted */\n",
       "  background-color: var(--sklearn-color-unfitted-level-0);\n",
       "}\n",
       "\n",
       "#sk-container-id-1 div.sk-toggleable__content.fitted pre {\n",
       "  /* unfitted */\n",
       "  background-color: var(--sklearn-color-fitted-level-0);\n",
       "}\n",
       "\n",
       "#sk-container-id-1 input.sk-toggleable__control:checked~div.sk-toggleable__content {\n",
       "  /* Expand drop-down */\n",
       "  max-height: 200px;\n",
       "  max-width: 100%;\n",
       "  overflow: auto;\n",
       "}\n",
       "\n",
       "#sk-container-id-1 input.sk-toggleable__control:checked~label.sk-toggleable__label-arrow:before {\n",
       "  content: \"▾\";\n",
       "}\n",
       "\n",
       "/* Pipeline/ColumnTransformer-specific style */\n",
       "\n",
       "#sk-container-id-1 div.sk-label input.sk-toggleable__control:checked~label.sk-toggleable__label {\n",
       "  color: var(--sklearn-color-text);\n",
       "  background-color: var(--sklearn-color-unfitted-level-2);\n",
       "}\n",
       "\n",
       "#sk-container-id-1 div.sk-label.fitted input.sk-toggleable__control:checked~label.sk-toggleable__label {\n",
       "  background-color: var(--sklearn-color-fitted-level-2);\n",
       "}\n",
       "\n",
       "/* Estimator-specific style */\n",
       "\n",
       "/* Colorize estimator box */\n",
       "#sk-container-id-1 div.sk-estimator input.sk-toggleable__control:checked~label.sk-toggleable__label {\n",
       "  /* unfitted */\n",
       "  background-color: var(--sklearn-color-unfitted-level-2);\n",
       "}\n",
       "\n",
       "#sk-container-id-1 div.sk-estimator.fitted input.sk-toggleable__control:checked~label.sk-toggleable__label {\n",
       "  /* fitted */\n",
       "  background-color: var(--sklearn-color-fitted-level-2);\n",
       "}\n",
       "\n",
       "#sk-container-id-1 div.sk-label label.sk-toggleable__label,\n",
       "#sk-container-id-1 div.sk-label label {\n",
       "  /* The background is the default theme color */\n",
       "  color: var(--sklearn-color-text-on-default-background);\n",
       "}\n",
       "\n",
       "/* On hover, darken the color of the background */\n",
       "#sk-container-id-1 div.sk-label:hover label.sk-toggleable__label {\n",
       "  color: var(--sklearn-color-text);\n",
       "  background-color: var(--sklearn-color-unfitted-level-2);\n",
       "}\n",
       "\n",
       "/* Label box, darken color on hover, fitted */\n",
       "#sk-container-id-1 div.sk-label.fitted:hover label.sk-toggleable__label.fitted {\n",
       "  color: var(--sklearn-color-text);\n",
       "  background-color: var(--sklearn-color-fitted-level-2);\n",
       "}\n",
       "\n",
       "/* Estimator label */\n",
       "\n",
       "#sk-container-id-1 div.sk-label label {\n",
       "  font-family: monospace;\n",
       "  font-weight: bold;\n",
       "  display: inline-block;\n",
       "  line-height: 1.2em;\n",
       "}\n",
       "\n",
       "#sk-container-id-1 div.sk-label-container {\n",
       "  text-align: center;\n",
       "}\n",
       "\n",
       "/* Estimator-specific */\n",
       "#sk-container-id-1 div.sk-estimator {\n",
       "  font-family: monospace;\n",
       "  border: 1px dotted var(--sklearn-color-border-box);\n",
       "  border-radius: 0.25em;\n",
       "  box-sizing: border-box;\n",
       "  margin-bottom: 0.5em;\n",
       "  /* unfitted */\n",
       "  background-color: var(--sklearn-color-unfitted-level-0);\n",
       "}\n",
       "\n",
       "#sk-container-id-1 div.sk-estimator.fitted {\n",
       "  /* fitted */\n",
       "  background-color: var(--sklearn-color-fitted-level-0);\n",
       "}\n",
       "\n",
       "/* on hover */\n",
       "#sk-container-id-1 div.sk-estimator:hover {\n",
       "  /* unfitted */\n",
       "  background-color: var(--sklearn-color-unfitted-level-2);\n",
       "}\n",
       "\n",
       "#sk-container-id-1 div.sk-estimator.fitted:hover {\n",
       "  /* fitted */\n",
       "  background-color: var(--sklearn-color-fitted-level-2);\n",
       "}\n",
       "\n",
       "/* Specification for estimator info (e.g. \"i\" and \"?\") */\n",
       "\n",
       "/* Common style for \"i\" and \"?\" */\n",
       "\n",
       ".sk-estimator-doc-link,\n",
       "a:link.sk-estimator-doc-link,\n",
       "a:visited.sk-estimator-doc-link {\n",
       "  float: right;\n",
       "  font-size: smaller;\n",
       "  line-height: 1em;\n",
       "  font-family: monospace;\n",
       "  background-color: var(--sklearn-color-background);\n",
       "  border-radius: 1em;\n",
       "  height: 1em;\n",
       "  width: 1em;\n",
       "  text-decoration: none !important;\n",
       "  margin-left: 1ex;\n",
       "  /* unfitted */\n",
       "  border: var(--sklearn-color-unfitted-level-1) 1pt solid;\n",
       "  color: var(--sklearn-color-unfitted-level-1);\n",
       "}\n",
       "\n",
       ".sk-estimator-doc-link.fitted,\n",
       "a:link.sk-estimator-doc-link.fitted,\n",
       "a:visited.sk-estimator-doc-link.fitted {\n",
       "  /* fitted */\n",
       "  border: var(--sklearn-color-fitted-level-1) 1pt solid;\n",
       "  color: var(--sklearn-color-fitted-level-1);\n",
       "}\n",
       "\n",
       "/* On hover */\n",
       "div.sk-estimator:hover .sk-estimator-doc-link:hover,\n",
       ".sk-estimator-doc-link:hover,\n",
       "div.sk-label-container:hover .sk-estimator-doc-link:hover,\n",
       ".sk-estimator-doc-link:hover {\n",
       "  /* unfitted */\n",
       "  background-color: var(--sklearn-color-unfitted-level-3);\n",
       "  color: var(--sklearn-color-background);\n",
       "  text-decoration: none;\n",
       "}\n",
       "\n",
       "div.sk-estimator.fitted:hover .sk-estimator-doc-link.fitted:hover,\n",
       ".sk-estimator-doc-link.fitted:hover,\n",
       "div.sk-label-container:hover .sk-estimator-doc-link.fitted:hover,\n",
       ".sk-estimator-doc-link.fitted:hover {\n",
       "  /* fitted */\n",
       "  background-color: var(--sklearn-color-fitted-level-3);\n",
       "  color: var(--sklearn-color-background);\n",
       "  text-decoration: none;\n",
       "}\n",
       "\n",
       "/* Span, style for the box shown on hovering the info icon */\n",
       ".sk-estimator-doc-link span {\n",
       "  display: none;\n",
       "  z-index: 9999;\n",
       "  position: relative;\n",
       "  font-weight: normal;\n",
       "  right: .2ex;\n",
       "  padding: .5ex;\n",
       "  margin: .5ex;\n",
       "  width: min-content;\n",
       "  min-width: 20ex;\n",
       "  max-width: 50ex;\n",
       "  color: var(--sklearn-color-text);\n",
       "  box-shadow: 2pt 2pt 4pt #999;\n",
       "  /* unfitted */\n",
       "  background: var(--sklearn-color-unfitted-level-0);\n",
       "  border: .5pt solid var(--sklearn-color-unfitted-level-3);\n",
       "}\n",
       "\n",
       ".sk-estimator-doc-link.fitted span {\n",
       "  /* fitted */\n",
       "  background: var(--sklearn-color-fitted-level-0);\n",
       "  border: var(--sklearn-color-fitted-level-3);\n",
       "}\n",
       "\n",
       ".sk-estimator-doc-link:hover span {\n",
       "  display: block;\n",
       "}\n",
       "\n",
       "/* \"?\"-specific style due to the `<a>` HTML tag */\n",
       "\n",
       "#sk-container-id-1 a.estimator_doc_link {\n",
       "  float: right;\n",
       "  font-size: 1rem;\n",
       "  line-height: 1em;\n",
       "  font-family: monospace;\n",
       "  background-color: var(--sklearn-color-background);\n",
       "  border-radius: 1rem;\n",
       "  height: 1rem;\n",
       "  width: 1rem;\n",
       "  text-decoration: none;\n",
       "  /* unfitted */\n",
       "  color: var(--sklearn-color-unfitted-level-1);\n",
       "  border: var(--sklearn-color-unfitted-level-1) 1pt solid;\n",
       "}\n",
       "\n",
       "#sk-container-id-1 a.estimator_doc_link.fitted {\n",
       "  /* fitted */\n",
       "  border: var(--sklearn-color-fitted-level-1) 1pt solid;\n",
       "  color: var(--sklearn-color-fitted-level-1);\n",
       "}\n",
       "\n",
       "/* On hover */\n",
       "#sk-container-id-1 a.estimator_doc_link:hover {\n",
       "  /* unfitted */\n",
       "  background-color: var(--sklearn-color-unfitted-level-3);\n",
       "  color: var(--sklearn-color-background);\n",
       "  text-decoration: none;\n",
       "}\n",
       "\n",
       "#sk-container-id-1 a.estimator_doc_link.fitted:hover {\n",
       "  /* fitted */\n",
       "  background-color: var(--sklearn-color-fitted-level-3);\n",
       "}\n",
       "</style><div id=\"sk-container-id-1\" class=\"sk-top-container\"><div class=\"sk-text-repr-fallback\"><pre>RandomizedSearchCV(estimator=Pipeline(steps=[(&#x27;preprocessor&#x27;, &#x27;passthrough&#x27;),\n",
       "                                             (&#x27;models&#x27;, LinearRegression())]),\n",
       "                   n_jobs=-1,\n",
       "                   param_distributions=[{&#x27;models&#x27;: [DecisionTreeRegressor(random_state=42)],\n",
       "                                         &#x27;models__max_depth&#x27;: range(1, 12),\n",
       "                                         &#x27;models__max_features&#x27;: range(0, 7),\n",
       "                                         &#x27;preprocessor&#x27;: [ColumnTransformer(remainder=&#x27;passthrough&#x27;,\n",
       "                                                                            transformers=[(&#x27;ord&#x27;,\n",
       "                                                                                           Pipeline(steps=...\n",
       "                                                                                            &#x27;Model&#x27;,\n",
       "                                                                                            &#x27;FuelType&#x27;,\n",
       "                                                                                            &#x27;Repaired&#x27;]),\n",
       "                                                                                          (&#x27;num&#x27;,\n",
       "                                                                                           MinMaxScaler(),\n",
       "                                                                                           [&#x27;Power&#x27;,\n",
       "                                                                                            &#x27;Kilometer&#x27;,\n",
       "                                                                                            &#x27;Lifetime&#x27;])])]},\n",
       "                                        {&#x27;models&#x27;: [LGBMRegressor(random_state=42)],\n",
       "                                         &#x27;models__n_estimators&#x27;: range(100, 500),\n",
       "                                         &#x27;models__num_leaves&#x27;: range(1, 70),\n",
       "                                         &#x27;preprocessor&#x27;: [&#x27;passthrough&#x27;]}],\n",
       "                   random_state=42,\n",
       "                   scoring=make_scorer(root_mean_squared_error, greater_is_better=False, response_method=&#x27;predict&#x27;))</pre><b>In a Jupyter environment, please rerun this cell to show the HTML representation or trust the notebook. <br />On GitHub, the HTML representation is unable to render, please try loading this page with nbviewer.org.</b></div><div class=\"sk-container\" hidden><div class=\"sk-item sk-dashed-wrapped\"><div class=\"sk-label-container\"><div class=\"sk-label fitted sk-toggleable\"><input class=\"sk-toggleable__control sk-hidden--visually\" id=\"sk-estimator-id-1\" type=\"checkbox\" ><label for=\"sk-estimator-id-1\" class=\"sk-toggleable__label fitted sk-toggleable__label-arrow fitted\">&nbsp;&nbsp;RandomizedSearchCV<a class=\"sk-estimator-doc-link fitted\" rel=\"noreferrer\" target=\"_blank\" href=\"https://scikit-learn.org/1.5/modules/generated/sklearn.model_selection.RandomizedSearchCV.html\">?<span>Documentation for RandomizedSearchCV</span></a><span class=\"sk-estimator-doc-link fitted\">i<span>Fitted</span></span></label><div class=\"sk-toggleable__content fitted\"><pre>RandomizedSearchCV(estimator=Pipeline(steps=[(&#x27;preprocessor&#x27;, &#x27;passthrough&#x27;),\n",
       "                                             (&#x27;models&#x27;, LinearRegression())]),\n",
       "                   n_jobs=-1,\n",
       "                   param_distributions=[{&#x27;models&#x27;: [DecisionTreeRegressor(random_state=42)],\n",
       "                                         &#x27;models__max_depth&#x27;: range(1, 12),\n",
       "                                         &#x27;models__max_features&#x27;: range(0, 7),\n",
       "                                         &#x27;preprocessor&#x27;: [ColumnTransformer(remainder=&#x27;passthrough&#x27;,\n",
       "                                                                            transformers=[(&#x27;ord&#x27;,\n",
       "                                                                                           Pipeline(steps=...\n",
       "                                                                                            &#x27;Model&#x27;,\n",
       "                                                                                            &#x27;FuelType&#x27;,\n",
       "                                                                                            &#x27;Repaired&#x27;]),\n",
       "                                                                                          (&#x27;num&#x27;,\n",
       "                                                                                           MinMaxScaler(),\n",
       "                                                                                           [&#x27;Power&#x27;,\n",
       "                                                                                            &#x27;Kilometer&#x27;,\n",
       "                                                                                            &#x27;Lifetime&#x27;])])]},\n",
       "                                        {&#x27;models&#x27;: [LGBMRegressor(random_state=42)],\n",
       "                                         &#x27;models__n_estimators&#x27;: range(100, 500),\n",
       "                                         &#x27;models__num_leaves&#x27;: range(1, 70),\n",
       "                                         &#x27;preprocessor&#x27;: [&#x27;passthrough&#x27;]}],\n",
       "                   random_state=42,\n",
       "                   scoring=make_scorer(root_mean_squared_error, greater_is_better=False, response_method=&#x27;predict&#x27;))</pre></div> </div></div><div class=\"sk-parallel\"><div class=\"sk-parallel-item\"><div class=\"sk-item\"><div class=\"sk-label-container\"><div class=\"sk-label fitted sk-toggleable\"><input class=\"sk-toggleable__control sk-hidden--visually\" id=\"sk-estimator-id-2\" type=\"checkbox\" ><label for=\"sk-estimator-id-2\" class=\"sk-toggleable__label fitted sk-toggleable__label-arrow fitted\">best_estimator_: Pipeline</label><div class=\"sk-toggleable__content fitted\"><pre>Pipeline(steps=[(&#x27;preprocessor&#x27;, &#x27;passthrough&#x27;),\n",
       "                (&#x27;models&#x27;,\n",
       "                 LGBMRegressor(n_estimators=441, num_leaves=48,\n",
       "                               random_state=42))])</pre></div> </div></div><div class=\"sk-serial\"><div class=\"sk-item\"><div class=\"sk-serial\"><div class=\"sk-item\"><div class=\"sk-estimator fitted sk-toggleable\"><input class=\"sk-toggleable__control sk-hidden--visually\" id=\"sk-estimator-id-3\" type=\"checkbox\" ><label for=\"sk-estimator-id-3\" class=\"sk-toggleable__label fitted sk-toggleable__label-arrow fitted\">passthrough</label><div class=\"sk-toggleable__content fitted\"><pre>passthrough</pre></div> </div></div><div class=\"sk-item\"><div class=\"sk-estimator fitted sk-toggleable\"><input class=\"sk-toggleable__control sk-hidden--visually\" id=\"sk-estimator-id-4\" type=\"checkbox\" ><label for=\"sk-estimator-id-4\" class=\"sk-toggleable__label fitted sk-toggleable__label-arrow fitted\">LGBMRegressor</label><div class=\"sk-toggleable__content fitted\"><pre>LGBMRegressor(n_estimators=441, num_leaves=48, random_state=42)</pre></div> </div></div></div></div></div></div></div></div></div></div></div>"
      ],
      "text/plain": [
       "RandomizedSearchCV(estimator=Pipeline(steps=[('preprocessor', 'passthrough'),\n",
       "                                             ('models', LinearRegression())]),\n",
       "                   n_jobs=-1,\n",
       "                   param_distributions=[{'models': [DecisionTreeRegressor(random_state=42)],\n",
       "                                         'models__max_depth': range(1, 12),\n",
       "                                         'models__max_features': range(0, 7),\n",
       "                                         'preprocessor': [ColumnTransformer(remainder='passthrough',\n",
       "                                                                            transformers=[('ord',\n",
       "                                                                                           Pipeline(steps=...\n",
       "                                                                                            'Model',\n",
       "                                                                                            'FuelType',\n",
       "                                                                                            'Repaired']),\n",
       "                                                                                          ('num',\n",
       "                                                                                           MinMaxScaler(),\n",
       "                                                                                           ['Power',\n",
       "                                                                                            'Kilometer',\n",
       "                                                                                            'Lifetime'])])]},\n",
       "                                        {'models': [LGBMRegressor(random_state=42)],\n",
       "                                         'models__n_estimators': range(100, 500),\n",
       "                                         'models__num_leaves': range(1, 70),\n",
       "                                         'preprocessor': ['passthrough']}],\n",
       "                   random_state=42,\n",
       "                   scoring=make_scorer(root_mean_squared_error, greater_is_better=False, response_method='predict'))"
      ]
     },
     "execution_count": 35,
     "metadata": {},
     "output_type": "execute_result"
    }
   ],
   "source": [
    "%%time\n",
    "randomized_search.fit(X_train, y_train)"
   ]
  },
  {
   "cell_type": "code",
   "execution_count": 36,
   "metadata": {},
   "outputs": [
    {
     "name": "stdout",
     "output_type": "stream",
     "text": [
      "Лучшая модель и её параметры:\n",
      "\n",
      " Pipeline(steps=[('preprocessor', 'passthrough'),\n",
      "                ('models',\n",
      "                 LGBMRegressor(n_estimators=441, num_leaves=48,\n",
      "                               random_state=42))])\n",
      "Метрика лучшей модели на кросс-валидации: -1548.6692335606485\n"
     ]
    }
   ],
   "source": [
    "print('Лучшая модель и её параметры:\\n\\n', randomized_search.best_estimator_)\n",
    "print ('Метрика лучшей модели на кросс-валидации:', randomized_search.best_score_)"
   ]
  },
  {
   "cell_type": "markdown",
   "metadata": {},
   "source": [
    "__Результаты обучения:__\n",
    "- Обучение моделей заняло 25 секунд\n",
    "- Лучшая модель LGBMRegressor(n_estimators=441, num_leaves=48, random_state=42))])\n",
    "- Метрика RMSE на лучшей модели 1548"
   ]
  },
  {
   "cell_type": "markdown",
   "metadata": {},
   "source": [
    "## Анализ моделей"
   ]
  },
  {
   "cell_type": "code",
   "execution_count": 37,
   "metadata": {},
   "outputs": [
    {
     "data": {
      "text/html": [
       "<div>\n",
       "<style scoped>\n",
       "    .dataframe tbody tr th:only-of-type {\n",
       "        vertical-align: middle;\n",
       "    }\n",
       "\n",
       "    .dataframe tbody tr th {\n",
       "        vertical-align: top;\n",
       "    }\n",
       "\n",
       "    .dataframe thead th {\n",
       "        text-align: right;\n",
       "    }\n",
       "</style>\n",
       "<table border=\"1\" class=\"dataframe\">\n",
       "  <thead>\n",
       "    <tr style=\"text-align: right;\">\n",
       "      <th></th>\n",
       "      <th>rank_test_score</th>\n",
       "      <th>param_models</th>\n",
       "      <th>mean_test_score</th>\n",
       "      <th>params</th>\n",
       "    </tr>\n",
       "  </thead>\n",
       "  <tbody>\n",
       "    <tr>\n",
       "      <th>0</th>\n",
       "      <td>1</td>\n",
       "      <td>LGBMRegressor(random_state=42)</td>\n",
       "      <td>-1548.669234</td>\n",
       "      <td>{'preprocessor': 'passthrough', 'models__num_leaves': 48, 'models__n_estimators': 441, 'models': LGBMRegressor(random_state=42)}</td>\n",
       "    </tr>\n",
       "    <tr>\n",
       "      <th>1</th>\n",
       "      <td>2</td>\n",
       "      <td>LGBMRegressor(random_state=42)</td>\n",
       "      <td>-1551.250089</td>\n",
       "      <td>{'preprocessor': 'passthrough', 'models__num_leaves': 55, 'models__n_estimators': 327, 'models': LGBMRegressor(random_state=42)}</td>\n",
       "    </tr>\n",
       "    <tr>\n",
       "      <th>4</th>\n",
       "      <td>3</td>\n",
       "      <td>LGBMRegressor(random_state=42)</td>\n",
       "      <td>-1555.162652</td>\n",
       "      <td>{'preprocessor': 'passthrough', 'models__num_leaves': 39, 'models__n_estimators': 411, 'models': LGBMRegressor(random_state=42)}</td>\n",
       "    </tr>\n",
       "    <tr>\n",
       "      <th>3</th>\n",
       "      <td>4</td>\n",
       "      <td>LGBMRegressor(random_state=42)</td>\n",
       "      <td>-1560.507469</td>\n",
       "      <td>{'preprocessor': 'passthrough', 'models__num_leaves': 69, 'models__n_estimators': 176, 'models': LGBMRegressor(random_state=42)}</td>\n",
       "    </tr>\n",
       "    <tr>\n",
       "      <th>7</th>\n",
       "      <td>5</td>\n",
       "      <td>LGBMRegressor(random_state=42)</td>\n",
       "      <td>-1564.029659</td>\n",
       "      <td>{'preprocessor': 'passthrough', 'models__num_leaves': 30, 'models__n_estimators': 419, 'models': LGBMRegressor(random_state=42)}</td>\n",
       "    </tr>\n",
       "  </tbody>\n",
       "</table>\n",
       "</div>"
      ],
      "text/plain": [
       "   rank_test_score                    param_models  mean_test_score  \\\n",
       "0                1  LGBMRegressor(random_state=42)     -1548.669234   \n",
       "1                2  LGBMRegressor(random_state=42)     -1551.250089   \n",
       "4                3  LGBMRegressor(random_state=42)     -1555.162652   \n",
       "3                4  LGBMRegressor(random_state=42)     -1560.507469   \n",
       "7                5  LGBMRegressor(random_state=42)     -1564.029659   \n",
       "\n",
       "                                                                                                                             params  \n",
       "0  {'preprocessor': 'passthrough', 'models__num_leaves': 48, 'models__n_estimators': 441, 'models': LGBMRegressor(random_state=42)}  \n",
       "1  {'preprocessor': 'passthrough', 'models__num_leaves': 55, 'models__n_estimators': 327, 'models': LGBMRegressor(random_state=42)}  \n",
       "4  {'preprocessor': 'passthrough', 'models__num_leaves': 39, 'models__n_estimators': 411, 'models': LGBMRegressor(random_state=42)}  \n",
       "3  {'preprocessor': 'passthrough', 'models__num_leaves': 69, 'models__n_estimators': 176, 'models': LGBMRegressor(random_state=42)}  \n",
       "7  {'preprocessor': 'passthrough', 'models__num_leaves': 30, 'models__n_estimators': 419, 'models': LGBMRegressor(random_state=42)}  "
      ]
     },
     "metadata": {},
     "output_type": "display_data"
    }
   ],
   "source": [
    "pd.set_option('display.max_colwidth', None)\n",
    "\n",
    "result = pd.DataFrame(randomized_search.cv_results_)\n",
    "display(result[\n",
    "    ['rank_test_score', 'param_models', 'mean_test_score','params']\n",
    "].sort_values('rank_test_score').head()) "
   ]
  },
  {
   "cell_type": "code",
   "execution_count": 38,
   "metadata": {},
   "outputs": [
    {
     "name": "stdout",
     "output_type": "stream",
     "text": [
      "RMSE: 1534.66128568504\n",
      "CPU times: user 1.95 s, sys: 47.5 ms, total: 2 s\n",
      "Wall time: 347 ms\n"
     ]
    }
   ],
   "source": [
    "%%time\n",
    "\n",
    "#Подготовим предсказания\n",
    "y_pred = randomized_search.predict(X_test)\n",
    "print(\"RMSE:\", root_mean_squared_error(y_test, y_pred))"
   ]
  },
  {
   "cell_type": "markdown",
   "metadata": {},
   "source": [
    "__Результат тестирования:__\n",
    "- Результат тестирования на лучшей модели RMSE - 1534, что удовлетворяет требованию заказчика\n",
    "- Время работы 2 сек"
   ]
  },
  {
   "cell_type": "markdown",
   "metadata": {},
   "source": [
    "## Анализ важности признаков"
   ]
  },
  {
   "cell_type": "code",
   "execution_count": 39,
   "metadata": {},
   "outputs": [
    {
     "data": {
      "image/png": "[encoded data removed]",
      "text/plain": [
       "<Figure size 800x470 with 2 Axes>"
      ]
     },
     "metadata": {},
     "output_type": "display_data"
    }
   ],
   "source": [
    "feature_names = X_test.columns\n",
    "\n",
    "# Инициализация explainer с параметром feature_perturbation\n",
    "explainer = shap.TreeExplainer(randomized_search.best_estimator_.named_steps['models'], feature_perturbation=\"tree_path_dependent\")\n",
    "\n",
    "# Получение SHAP значений\n",
    "shap_values = explainer.shap_values(X_test)\n",
    "\n",
    "# Преобразование в объект Explanation\n",
    "shap_values_exp = shap.Explanation(values=shap_values, base_values=explainer.expected_value, data=X_test, feature_names=feature_names)\n",
    "\n",
    "# Визуализация\n",
    "shap.summary_plot(shap_values_exp, X_test)"
   ]
  },
  {
   "cell_type": "markdown",
   "metadata": {},
   "source": [
    "__Результаты анализа влияния признаков:__\n",
    "- Чем старее машина, тем ниже стоимость\n",
    "- Высокая мощность машины повышает цену\n",
    "- Чем больше километраж на машине, тем ниже цена "
   ]
  },
  {
   "cell_type": "markdown",
   "metadata": {},
   "source": [
    "##  Результаты проекта\n",
    "\n",
    "###  Итоги раздела :\n",
    "__Итоги загрузки и первичного изучения данных:__ \n",
    "\n",
    "- Всего 354369 строк\n",
    "\n",
    "__Признаки:__\n",
    "\n",
    "- __DateCrawled__ — дата скачивания анкеты из базы\n",
    "- __VehicleType__ — тип автомобильного кузова\n",
    "- __RegistrationYear__ — год регистрации автомобиля\n",
    "- __Gearbox__ — тип коробки передач\n",
    "- __Power__ — мощность (л. с.)\n",
    "- __Model__ — модель автомобиля\n",
    "- __Kilometer__ — пробег (км)\n",
    "- __RegistrationMonth__ — месяц регистрации автомобиля\n",
    "- __FuelType__ — тип топлива\n",
    "- __Brand__ — марка автомобиля\n",
    "- __Repaired__ — была машина в ремонте или нет\n",
    "- __DateCreated__ — дата создания анкеты\n",
    "- __NumberOfPictures__ — количество фотографий автомобиля\n",
    "- __PostalCode__ — почтовый индекс владельца анкеты (пользователя)\n",
    "- __LastSeen__ — дата последней активности пользователя\n",
    "\n",
    "__Целевой признак:__\n",
    "- __Price — цена (евро)__\n",
    "\n",
    "__Выбросы, пропуски и дубликаты:__\n",
    "- NumberOfPictures состоит из нулевых значений, столбец не несет информационной важности\n",
    "- Замечены аномалии RegistrationYear, Power\n",
    "- Пропуски данных в столбцах VehicleType, Gearbox, Model, FuelType, Repaired\n",
    "- 4 полных дубликата\n",
    "\n",
    "__Результаты предобработки:__\n",
    "- Убрано 4 дубликата\n",
    "- Оставили только машины которые после 1960 и до 2016 года \n",
    "- Убрали признаки 'DateCrawled', 'DateCreated', 'LastSeen', 'PostalCode', 'RegistrationMonth', \"Brand\", 'RegistrationYear', 'NumberOfPictures', 'RegistrationDate' \n",
    "\n",
    "__Результаты анализа и корректировки аномалий количественных признаков:__\n",
    "- Средняя цена 4416 евро, при этом максимальная 20000 евро. Минимальная цена 0. Возможно аномалия, которую нужно исправить\n",
    "- Судя по графику разброса признака Power 75% значений имеют менее 143 лошадиных сил, при этом есть много аномалий которые стоит определить и удалить.\n",
    "- Среднее значение километража 128331 км, учитывая, что среди наблюдений есть очень старые машины, то такое вполне вероятно.\n",
    "- Средний возраст машины 12,6 лет, при этом есть машины которым более 30 лет. Присутствуют аномалии с отрицательным возрастом, их надо удалить\n",
    "- Заменили нулевые значения стоимости машин на медианные\n",
    "- Убрали значения аномальные значения в категории power\n",
    "- Исключили наблюдения с отрицательным lifetime\n",
    "\n",
    "__Результаты анализа и корректировки аномалий категорийных признаков:__\n",
    "- Среди наиболее дорогих моделей авто - SUV, для них медианное значение 8500 евро.\n",
    "- gl наиболее дорогая модель авто, 19 тысяч евро \n",
    "- коробка автомат дороже ручного коробки 5500 vs 2700\n",
    "- гибриды дороже всего почти вдвое дороже электроавтомобилей\n",
    "- машины которые не ремонтировались дороже машин после ремонта\n",
    "- в столбце FuelType заменили значения gasoline на petrol\n",
    "\n",
    "\n",
    "__Итоги анализа корреляции данных после EDA:__\n",
    "- 292123 наблюдений осталось после проведения корректировок\n",
    "- Провели оптимизацию размера данных. Размер использования памяти: до 12.83 Mb - после  7.81 Mb (39.1%)\n",
    "- Корреляционная матрица демонстрирует высокие уровни корреляции для признаков lifetime & model, что может быть обусловлено машинами выпускавшимеся в старые периоды времени. При этом довольно умеренный уровень корреляции между lifetime и целевым признаком.\n",
    "\n",
    "__Результаты обучения:__\n",
    "- Обучение моделей заняло 16 минут\n",
    "- Лучшая модель LGBMRegressor(n_estimators=441, num_leaves=48, random_state=42))])\n",
    "- Метрика RMSE на лучшей модели 1548\n",
    "\n",
    "__Результат тестирования:__\n",
    "- Результат тестирования на лучшей модели RMSE - 1534, что удовлетворяет требованию заказчика\n",
    "- Время работы 2.58 сек\n",
    "\n",
    "__Результаты анализа влияния признаков:__\n",
    "- Чем старее машина, тем ниже стоимость\n",
    "- Высокая мощность машины повышает цену\n",
    "- Чем больше километраж на машине, тем ниже цена \n",
    "\n"
   ]
  }
 ],
 "metadata": {
  "ExecuteTimeLog": [
   {
    "duration": 51,
    "start_time": "2024-05-12T18:05:20.200Z"
   },
   {
    "duration": 399,
    "start_time": "2024-05-12T18:05:23.431Z"
   },
   {
    "duration": 1380,
    "start_time": "2024-05-12T18:05:24.746Z"
   },
   {
    "duration": 142,
    "start_time": "2024-05-12T18:05:34.980Z"
   },
   {
    "duration": 25,
    "start_time": "2024-05-12T18:05:45.398Z"
   },
   {
    "duration": 3,
    "start_time": "2024-05-12T20:41:04.350Z"
   },
   {
    "duration": 2993,
    "start_time": "2024-05-12T20:41:05.717Z"
   },
   {
    "duration": 156,
    "start_time": "2024-05-12T20:41:09.936Z"
   },
   {
    "duration": 9,
    "start_time": "2024-05-12T20:41:21.053Z"
   },
   {
    "duration": 1553,
    "start_time": "2024-05-12T20:41:35.121Z"
   },
   {
    "duration": 102,
    "start_time": "2024-05-12T20:44:23.723Z"
   },
   {
    "duration": 6,
    "start_time": "2024-05-12T20:47:21.169Z"
   },
   {
    "duration": 5,
    "start_time": "2024-05-12T20:47:40.488Z"
   },
   {
    "duration": 10,
    "start_time": "2024-05-12T20:48:58.185Z"
   },
   {
    "duration": 4,
    "start_time": "2024-05-12T20:49:10.966Z"
   },
   {
    "duration": 4,
    "start_time": "2024-05-12T20:49:36.282Z"
   },
   {
    "duration": 82731,
    "start_time": "2024-05-12T20:49:52.068Z"
   },
   {
    "duration": 49,
    "start_time": "2024-05-13T07:49:05.099Z"
   },
   {
    "duration": 1299,
    "start_time": "2024-05-13T07:49:12.269Z"
   },
   {
    "duration": 2882,
    "start_time": "2024-05-13T07:49:13.570Z"
   },
   {
    "duration": 9,
    "start_time": "2024-05-13T07:49:16.453Z"
   },
   {
    "duration": 21,
    "start_time": "2024-05-13T07:49:16.464Z"
   },
   {
    "duration": 15,
    "start_time": "2024-05-13T07:49:16.487Z"
   },
   {
    "duration": 5,
    "start_time": "2024-05-13T07:49:16.504Z"
   },
   {
    "duration": 1425,
    "start_time": "2024-05-13T07:49:16.510Z"
   },
   {
    "duration": 816,
    "start_time": "2024-05-13T07:49:17.937Z"
   },
   {
    "duration": 21,
    "start_time": "2024-05-13T07:49:27.702Z"
   },
   {
    "duration": 23,
    "start_time": "2024-05-13T07:50:02.034Z"
   },
   {
    "duration": 31,
    "start_time": "2024-05-13T15:18:39.229Z"
   },
   {
    "duration": 16,
    "start_time": "2024-05-13T15:19:25.276Z"
   },
   {
    "duration": 9,
    "start_time": "2024-05-13T15:19:50.059Z"
   },
   {
    "duration": 4558,
    "start_time": "2024-05-13T15:20:04.263Z"
   },
   {
    "duration": 95,
    "start_time": "2024-05-13T15:20:19.064Z"
   },
   {
    "duration": 6187,
    "start_time": "2024-05-13T15:31:34.849Z"
   },
   {
    "duration": 7,
    "start_time": "2024-05-13T15:34:25.677Z"
   },
   {
    "duration": 1831,
    "start_time": "2024-05-13T15:34:51.081Z"
   },
   {
    "duration": 200,
    "start_time": "2024-05-13T15:39:55.611Z"
   },
   {
    "duration": 10,
    "start_time": "2024-05-13T15:40:01.903Z"
   },
   {
    "duration": 1832,
    "start_time": "2024-05-13T15:40:02.389Z"
   },
   {
    "duration": 17,
    "start_time": "2024-05-13T15:40:34.683Z"
   },
   {
    "duration": 2351,
    "start_time": "2024-05-13T15:40:44.415Z"
   },
   {
    "duration": 1190,
    "start_time": "2024-05-13T15:40:46.768Z"
   },
   {
    "duration": 866,
    "start_time": "2024-05-13T15:40:47.960Z"
   },
   {
    "duration": 6,
    "start_time": "2024-05-13T15:40:48.828Z"
   },
   {
    "duration": 1485,
    "start_time": "2024-05-13T15:40:48.836Z"
   },
   {
    "duration": 499,
    "start_time": "2024-05-13T15:40:50.323Z"
   },
   {
    "duration": 13,
    "start_time": "2024-05-13T15:40:50.824Z"
   },
   {
    "duration": 20449,
    "start_time": "2024-05-13T15:40:50.839Z"
   },
   {
    "duration": 32,
    "start_time": "2024-05-13T15:41:11.290Z"
   },
   {
    "duration": 1411,
    "start_time": "2024-05-13T15:44:50.354Z"
   },
   {
    "duration": 3203,
    "start_time": "2024-05-13T19:23:40.535Z"
   },
   {
    "duration": 1331,
    "start_time": "2024-05-13T19:23:43.740Z"
   },
   {
    "duration": 3006,
    "start_time": "2024-05-13T19:23:45.072Z"
   },
   {
    "duration": 5,
    "start_time": "2024-05-13T19:23:48.080Z"
   },
   {
    "duration": 1419,
    "start_time": "2024-05-13T19:23:48.087Z"
   },
   {
    "duration": 452,
    "start_time": "2024-05-13T19:23:49.508Z"
   },
   {
    "duration": 14,
    "start_time": "2024-05-13T19:23:49.963Z"
   },
   {
    "duration": 94343,
    "start_time": "2024-05-13T19:23:49.979Z"
   },
   {
    "duration": 40,
    "start_time": "2024-05-13T19:25:24.324Z"
   },
   {
    "duration": 167,
    "start_time": "2024-05-13T19:25:24.366Z"
   },
   {
    "duration": 0,
    "start_time": "2024-05-13T19:25:24.534Z"
   },
   {
    "duration": 3181,
    "start_time": "2024-05-14T04:42:04.385Z"
   },
   {
    "duration": 1313,
    "start_time": "2024-05-14T04:42:07.568Z"
   },
   {
    "duration": 2891,
    "start_time": "2024-05-14T04:42:08.883Z"
   },
   {
    "duration": 7,
    "start_time": "2024-05-14T04:42:11.776Z"
   },
   {
    "duration": 1482,
    "start_time": "2024-05-14T04:42:11.785Z"
   },
   {
    "duration": 530,
    "start_time": "2024-05-14T04:42:13.269Z"
   },
   {
    "duration": 14,
    "start_time": "2024-05-14T04:42:13.802Z"
   },
   {
    "duration": 23098,
    "start_time": "2024-05-14T04:42:13.818Z"
   },
   {
    "duration": 122,
    "start_time": "2024-05-14T04:42:36.918Z"
   },
   {
    "duration": 0,
    "start_time": "2024-05-14T04:42:37.041Z"
   },
   {
    "duration": 0,
    "start_time": "2024-05-14T04:42:37.042Z"
   },
   {
    "duration": 1405,
    "start_time": "2024-05-14T04:55:53.760Z"
   },
   {
    "duration": 18,
    "start_time": "2024-05-14T04:56:03.072Z"
   },
   {
    "duration": 5,
    "start_time": "2024-05-14T06:01:25.723Z"
   },
   {
    "duration": 43,
    "start_time": "2024-05-14T06:01:51.019Z"
   },
   {
    "duration": 66476,
    "start_time": "2024-05-14T06:01:57.037Z"
   },
   {
    "duration": 2267,
    "start_time": "2024-05-14T08:14:39.035Z"
   },
   {
    "duration": 1185,
    "start_time": "2024-05-14T08:14:41.304Z"
   },
   {
    "duration": 844,
    "start_time": "2024-05-14T08:14:42.490Z"
   },
   {
    "duration": 5,
    "start_time": "2024-05-14T08:14:43.336Z"
   },
   {
    "duration": 1434,
    "start_time": "2024-05-14T08:14:43.343Z"
   },
   {
    "duration": 513,
    "start_time": "2024-05-14T08:14:44.778Z"
   },
   {
    "duration": 13,
    "start_time": "2024-05-14T08:14:45.293Z"
   },
   {
    "duration": 23680,
    "start_time": "2024-05-14T08:14:45.308Z"
   },
   {
    "duration": 1872,
    "start_time": "2024-05-14T08:15:08.991Z"
   },
   {
    "duration": 0,
    "start_time": "2024-05-14T08:15:10.865Z"
   },
   {
    "duration": 0,
    "start_time": "2024-05-14T08:15:10.866Z"
   },
   {
    "duration": 0,
    "start_time": "2024-05-14T08:15:10.867Z"
   },
   {
    "duration": 0,
    "start_time": "2024-05-14T08:15:10.868Z"
   },
   {
    "duration": 0,
    "start_time": "2024-05-14T08:15:10.870Z"
   },
   {
    "duration": 31,
    "start_time": "2024-05-14T08:47:13.172Z"
   },
   {
    "duration": 21,
    "start_time": "2024-05-14T08:47:22.844Z"
   },
   {
    "duration": 8,
    "start_time": "2024-05-14T08:47:43.279Z"
   },
   {
    "duration": 7,
    "start_time": "2024-05-14T08:47:50.283Z"
   },
   {
    "duration": 9,
    "start_time": "2024-05-14T08:47:57.047Z"
   },
   {
    "duration": 8,
    "start_time": "2024-05-14T08:48:04.617Z"
   },
   {
    "duration": 22,
    "start_time": "2024-05-14T08:49:23.201Z"
   },
   {
    "duration": 52,
    "start_time": "2024-05-14T08:50:29.354Z"
   },
   {
    "duration": 7,
    "start_time": "2024-05-14T08:53:32.570Z"
   },
   {
    "duration": 11,
    "start_time": "2024-05-14T08:54:31.760Z"
   },
   {
    "duration": 7,
    "start_time": "2024-05-14T08:54:53.505Z"
   },
   {
    "duration": 13,
    "start_time": "2024-05-14T08:55:04.287Z"
   },
   {
    "duration": 18,
    "start_time": "2024-05-14T08:55:14.578Z"
   },
   {
    "duration": 20,
    "start_time": "2024-05-14T09:30:21.730Z"
   },
   {
    "duration": 28,
    "start_time": "2024-05-14T09:31:31.779Z"
   },
   {
    "duration": 57,
    "start_time": "2024-05-14T09:31:45.578Z"
   },
   {
    "duration": 6,
    "start_time": "2024-05-14T10:31:08.924Z"
   },
   {
    "duration": 191,
    "start_time": "2024-05-14T10:31:43.597Z"
   },
   {
    "duration": 729,
    "start_time": "2024-05-14T10:42:47.850Z"
   },
   {
    "duration": 23,
    "start_time": "2024-05-14T10:42:59.858Z"
   },
   {
    "duration": 2331,
    "start_time": "2024-05-14T10:43:16.870Z"
   },
   {
    "duration": 1122,
    "start_time": "2024-05-14T10:43:19.203Z"
   },
   {
    "duration": 858,
    "start_time": "2024-05-14T10:43:20.327Z"
   },
   {
    "duration": 5,
    "start_time": "2024-05-14T10:43:21.186Z"
   },
   {
    "duration": 1444,
    "start_time": "2024-05-14T10:43:21.193Z"
   },
   {
    "duration": 530,
    "start_time": "2024-05-14T10:43:22.638Z"
   },
   {
    "duration": 3,
    "start_time": "2024-05-14T10:43:23.170Z"
   },
   {
    "duration": 27,
    "start_time": "2024-05-14T10:43:23.174Z"
   },
   {
    "duration": 18,
    "start_time": "2024-05-14T10:43:23.202Z"
   },
   {
    "duration": 77,
    "start_time": "2024-05-14T10:43:23.222Z"
   },
   {
    "duration": 14,
    "start_time": "2024-05-14T10:43:23.301Z"
   },
   {
    "duration": 96297,
    "start_time": "2024-05-14T10:43:23.317Z"
   },
   {
    "duration": 1725,
    "start_time": "2024-05-14T10:44:59.616Z"
   },
   {
    "duration": 0,
    "start_time": "2024-05-14T10:45:01.344Z"
   },
   {
    "duration": 0,
    "start_time": "2024-05-14T10:45:01.345Z"
   },
   {
    "duration": 0,
    "start_time": "2024-05-14T10:45:01.346Z"
   },
   {
    "duration": 0,
    "start_time": "2024-05-14T10:45:01.347Z"
   },
   {
    "duration": 0,
    "start_time": "2024-05-14T10:45:01.348Z"
   },
   {
    "duration": 2263,
    "start_time": "2024-05-14T10:46:11.733Z"
   },
   {
    "duration": 1100,
    "start_time": "2024-05-14T10:46:13.999Z"
   },
   {
    "duration": 834,
    "start_time": "2024-05-14T10:46:16.238Z"
   },
   {
    "duration": 6,
    "start_time": "2024-05-14T10:46:17.074Z"
   },
   {
    "duration": 1431,
    "start_time": "2024-05-14T10:46:18.920Z"
   },
   {
    "duration": 2358,
    "start_time": "2024-05-14T12:01:32.305Z"
   },
   {
    "duration": 1193,
    "start_time": "2024-05-14T12:01:34.665Z"
   },
   {
    "duration": 869,
    "start_time": "2024-05-14T12:01:35.860Z"
   },
   {
    "duration": 6,
    "start_time": "2024-05-14T12:01:36.730Z"
   },
   {
    "duration": 1438,
    "start_time": "2024-05-14T12:01:36.737Z"
   },
   {
    "duration": 502,
    "start_time": "2024-05-14T12:01:38.176Z"
   },
   {
    "duration": 3,
    "start_time": "2024-05-14T12:01:38.680Z"
   },
   {
    "duration": 33,
    "start_time": "2024-05-14T12:01:38.684Z"
   },
   {
    "duration": 18,
    "start_time": "2024-05-14T12:01:38.718Z"
   },
   {
    "duration": 67,
    "start_time": "2024-05-14T12:01:38.738Z"
   },
   {
    "duration": 14,
    "start_time": "2024-05-14T12:01:38.807Z"
   },
   {
    "duration": 13868,
    "start_time": "2024-05-14T12:01:38.823Z"
   },
   {
    "duration": 1927,
    "start_time": "2024-05-14T12:01:52.692Z"
   },
   {
    "duration": 0,
    "start_time": "2024-05-14T12:01:54.621Z"
   },
   {
    "duration": 0,
    "start_time": "2024-05-14T12:01:54.622Z"
   },
   {
    "duration": 0,
    "start_time": "2024-05-14T12:01:54.623Z"
   },
   {
    "duration": 0,
    "start_time": "2024-05-14T12:01:54.624Z"
   },
   {
    "duration": 0,
    "start_time": "2024-05-14T12:01:54.625Z"
   },
   {
    "duration": 2357,
    "start_time": "2024-05-14T12:18:56.019Z"
   },
   {
    "duration": 1202,
    "start_time": "2024-05-14T12:18:58.378Z"
   },
   {
    "duration": 912,
    "start_time": "2024-05-14T12:18:59.581Z"
   },
   {
    "duration": 5,
    "start_time": "2024-05-14T12:19:00.495Z"
   },
   {
    "duration": 1588,
    "start_time": "2024-05-14T12:19:00.502Z"
   },
   {
    "duration": 563,
    "start_time": "2024-05-14T12:19:02.091Z"
   },
   {
    "duration": 3,
    "start_time": "2024-05-14T12:19:02.656Z"
   },
   {
    "duration": 52,
    "start_time": "2024-05-14T12:19:02.664Z"
   },
   {
    "duration": 92,
    "start_time": "2024-05-14T12:19:02.718Z"
   },
   {
    "duration": 60,
    "start_time": "2024-05-14T12:19:02.813Z"
   },
   {
    "duration": 14,
    "start_time": "2024-05-14T12:19:02.875Z"
   },
   {
    "duration": 23171,
    "start_time": "2024-05-14T12:19:02.891Z"
   },
   {
    "duration": 1903,
    "start_time": "2024-05-14T12:19:26.065Z"
   },
   {
    "duration": 0,
    "start_time": "2024-05-14T12:19:27.970Z"
   },
   {
    "duration": 0,
    "start_time": "2024-05-14T12:19:27.971Z"
   },
   {
    "duration": 0,
    "start_time": "2024-05-14T12:19:27.972Z"
   },
   {
    "duration": 0,
    "start_time": "2024-05-14T12:19:27.974Z"
   },
   {
    "duration": 0,
    "start_time": "2024-05-14T12:19:27.974Z"
   },
   {
    "duration": 16,
    "start_time": "2024-05-14T12:20:25.807Z"
   },
   {
    "duration": 29,
    "start_time": "2024-05-14T12:20:48.555Z"
   },
   {
    "duration": 18,
    "start_time": "2024-05-14T12:21:03.621Z"
   },
   {
    "duration": 20,
    "start_time": "2024-05-14T12:21:12.905Z"
   },
   {
    "duration": 18,
    "start_time": "2024-05-14T12:21:22.922Z"
   },
   {
    "duration": 19,
    "start_time": "2024-05-14T12:21:29.371Z"
   },
   {
    "duration": 56,
    "start_time": "2024-05-14T12:22:50.721Z"
   },
   {
    "duration": 2323,
    "start_time": "2024-05-14T12:22:58.309Z"
   },
   {
    "duration": 1208,
    "start_time": "2024-05-14T12:23:00.634Z"
   },
   {
    "duration": 887,
    "start_time": "2024-05-14T12:23:01.844Z"
   },
   {
    "duration": 6,
    "start_time": "2024-05-14T12:23:02.733Z"
   },
   {
    "duration": 1442,
    "start_time": "2024-05-14T12:23:02.740Z"
   },
   {
    "duration": 494,
    "start_time": "2024-05-14T12:23:04.183Z"
   },
   {
    "duration": 4,
    "start_time": "2024-05-14T12:23:04.678Z"
   },
   {
    "duration": 16,
    "start_time": "2024-05-14T12:23:04.684Z"
   },
   {
    "duration": 20,
    "start_time": "2024-05-14T12:23:04.702Z"
   },
   {
    "duration": 81,
    "start_time": "2024-05-14T12:23:04.724Z"
   },
   {
    "duration": 9,
    "start_time": "2024-05-14T12:23:04.807Z"
   },
   {
    "duration": 79780,
    "start_time": "2024-05-14T12:23:04.819Z"
   },
   {
    "duration": 665,
    "start_time": "2024-05-14T12:24:24.600Z"
   },
   {
    "duration": 30,
    "start_time": "2024-05-14T12:24:25.267Z"
   },
   {
    "duration": 22134,
    "start_time": "2024-05-14T12:24:25.299Z"
   },
   {
    "duration": 20,
    "start_time": "2024-05-14T12:24:47.435Z"
   },
   {
    "duration": 5,
    "start_time": "2024-05-14T12:24:47.465Z"
   },
   {
    "duration": 16431,
    "start_time": "2024-05-14T12:24:47.471Z"
   },
   {
    "duration": 2388,
    "start_time": "2024-05-14T12:35:07.464Z"
   },
   {
    "duration": 1238,
    "start_time": "2024-05-14T12:35:09.855Z"
   },
   {
    "duration": 852,
    "start_time": "2024-05-14T12:35:11.094Z"
   },
   {
    "duration": 6,
    "start_time": "2024-05-14T12:35:11.948Z"
   },
   {
    "duration": 1436,
    "start_time": "2024-05-14T12:35:11.957Z"
   },
   {
    "duration": 542,
    "start_time": "2024-05-14T12:35:13.395Z"
   },
   {
    "duration": 27,
    "start_time": "2024-05-14T12:35:13.938Z"
   },
   {
    "duration": 56,
    "start_time": "2024-05-14T12:35:13.966Z"
   },
   {
    "duration": 7,
    "start_time": "2024-05-14T12:35:14.024Z"
   },
   {
    "duration": 83786,
    "start_time": "2024-05-14T12:35:14.033Z"
   },
   {
    "duration": 736,
    "start_time": "2024-05-14T12:36:37.821Z"
   },
   {
    "duration": 21533,
    "start_time": "2024-05-14T12:36:38.559Z"
   },
   {
    "duration": 20,
    "start_time": "2024-05-14T12:37:00.094Z"
   },
   {
    "duration": 49,
    "start_time": "2024-05-14T12:37:00.117Z"
   },
   {
    "duration": 14881,
    "start_time": "2024-05-14T12:37:00.168Z"
   },
   {
    "duration": 3,
    "start_time": "2024-05-14T12:37:15.050Z"
   },
   {
    "duration": 2281,
    "start_time": "2024-05-14T12:38:19.044Z"
   },
   {
    "duration": 1092,
    "start_time": "2024-05-14T12:38:21.327Z"
   },
   {
    "duration": 839,
    "start_time": "2024-05-14T12:38:22.421Z"
   },
   {
    "duration": 7,
    "start_time": "2024-05-14T12:38:23.261Z"
   },
   {
    "duration": 1409,
    "start_time": "2024-05-14T12:38:23.270Z"
   },
   {
    "duration": 457,
    "start_time": "2024-05-14T12:38:24.681Z"
   },
   {
    "duration": 25,
    "start_time": "2024-05-14T12:38:25.140Z"
   },
   {
    "duration": 55,
    "start_time": "2024-05-14T12:38:25.167Z"
   },
   {
    "duration": 9,
    "start_time": "2024-05-14T12:38:25.224Z"
   },
   {
    "duration": 22408,
    "start_time": "2024-05-14T12:38:25.235Z"
   },
   {
    "duration": 672,
    "start_time": "2024-05-14T12:38:47.644Z"
   },
   {
    "duration": 9358,
    "start_time": "2024-05-14T12:38:48.317Z"
   },
   {
    "duration": 19,
    "start_time": "2024-05-14T12:38:57.676Z"
   },
   {
    "duration": 5,
    "start_time": "2024-05-14T12:38:57.697Z"
   },
   {
    "duration": 14977,
    "start_time": "2024-05-14T12:38:57.703Z"
   },
   {
    "duration": 3,
    "start_time": "2024-05-14T12:39:12.682Z"
   },
   {
    "duration": 6,
    "start_time": "2024-05-14T12:59:52.721Z"
   },
   {
    "duration": 15730,
    "start_time": "2024-05-14T13:00:05.105Z"
   },
   {
    "duration": 10557,
    "start_time": "2024-05-14T13:24:45.032Z"
   },
   {
    "duration": 14,
    "start_time": "2024-05-14T13:48:58.321Z"
   },
   {
    "duration": 29,
    "start_time": "2024-05-14T13:50:07.767Z"
   },
   {
    "duration": 814,
    "start_time": "2024-05-14T13:50:40.669Z"
   },
   {
    "duration": 28,
    "start_time": "2024-05-14T13:50:50.333Z"
   },
   {
    "duration": 937,
    "start_time": "2024-05-14T13:50:59.696Z"
   },
   {
    "duration": 2388,
    "start_time": "2024-05-14T13:51:17.729Z"
   },
   {
    "duration": 1089,
    "start_time": "2024-05-14T13:51:20.119Z"
   },
   {
    "duration": 856,
    "start_time": "2024-05-14T13:51:21.210Z"
   },
   {
    "duration": 6,
    "start_time": "2024-05-14T13:51:22.067Z"
   },
   {
    "duration": 1426,
    "start_time": "2024-05-14T13:51:22.075Z"
   },
   {
    "duration": 494,
    "start_time": "2024-05-14T13:51:23.503Z"
   },
   {
    "duration": 18,
    "start_time": "2024-05-14T13:51:23.999Z"
   },
   {
    "duration": 73,
    "start_time": "2024-05-14T13:51:24.018Z"
   },
   {
    "duration": 8,
    "start_time": "2024-05-14T13:51:24.093Z"
   },
   {
    "duration": 704,
    "start_time": "2024-05-14T13:51:24.102Z"
   },
   {
    "duration": 9802,
    "start_time": "2024-05-14T13:51:24.808Z"
   },
   {
    "duration": 18,
    "start_time": "2024-05-14T13:51:34.612Z"
   },
   {
    "duration": 6,
    "start_time": "2024-05-14T13:51:34.631Z"
   },
   {
    "duration": 15049,
    "start_time": "2024-05-14T13:51:34.639Z"
   },
   {
    "duration": 3,
    "start_time": "2024-05-14T13:51:49.690Z"
   },
   {
    "duration": 38,
    "start_time": "2024-05-14T13:51:49.694Z"
   },
   {
    "duration": 137,
    "start_time": "2024-05-14T13:53:56.386Z"
   },
   {
    "duration": 53,
    "start_time": "2024-05-14T13:54:05.459Z"
   },
   {
    "duration": 49,
    "start_time": "2024-05-14T13:55:09.663Z"
   },
   {
    "duration": 45,
    "start_time": "2024-05-14T13:55:16.957Z"
   },
   {
    "duration": 2244,
    "start_time": "2024-05-14T13:55:32.112Z"
   },
   {
    "duration": 1184,
    "start_time": "2024-05-14T13:55:34.358Z"
   },
   {
    "duration": 854,
    "start_time": "2024-05-14T13:55:35.544Z"
   },
   {
    "duration": 5,
    "start_time": "2024-05-14T13:55:36.400Z"
   },
   {
    "duration": 1420,
    "start_time": "2024-05-14T13:55:36.407Z"
   },
   {
    "duration": 519,
    "start_time": "2024-05-14T13:55:37.829Z"
   },
   {
    "duration": 30,
    "start_time": "2024-05-14T13:55:38.350Z"
   },
   {
    "duration": 56,
    "start_time": "2024-05-14T13:55:38.382Z"
   },
   {
    "duration": 8,
    "start_time": "2024-05-14T13:55:38.440Z"
   },
   {
    "duration": 723,
    "start_time": "2024-05-14T13:55:38.465Z"
   },
   {
    "duration": 9961,
    "start_time": "2024-05-14T13:55:39.189Z"
   },
   {
    "duration": 19,
    "start_time": "2024-05-14T13:55:49.151Z"
   },
   {
    "duration": 21,
    "start_time": "2024-05-14T13:55:49.172Z"
   },
   {
    "duration": 15654,
    "start_time": "2024-05-14T13:55:49.195Z"
   },
   {
    "duration": 3,
    "start_time": "2024-05-14T13:56:04.851Z"
   },
   {
    "duration": 46,
    "start_time": "2024-05-14T13:56:04.864Z"
   },
   {
    "duration": 3933,
    "start_time": "2024-05-16T15:15:01.013Z"
   },
   {
    "duration": 1433,
    "start_time": "2024-05-16T15:15:04.949Z"
   },
   {
    "duration": 3030,
    "start_time": "2024-05-16T15:15:06.384Z"
   },
   {
    "duration": 7,
    "start_time": "2024-05-16T15:15:09.416Z"
   },
   {
    "duration": 1702,
    "start_time": "2024-05-16T15:15:09.425Z"
   },
   {
    "duration": 587,
    "start_time": "2024-05-16T15:15:11.130Z"
   },
   {
    "duration": 23,
    "start_time": "2024-05-16T15:15:11.719Z"
   },
   {
    "duration": 60,
    "start_time": "2024-05-16T15:15:11.744Z"
   },
   {
    "duration": 27,
    "start_time": "2024-05-16T15:15:11.806Z"
   },
   {
    "duration": 802,
    "start_time": "2024-05-16T15:15:11.835Z"
   },
   {
    "duration": 11433,
    "start_time": "2024-05-16T15:15:12.639Z"
   },
   {
    "duration": 21,
    "start_time": "2024-05-16T15:15:24.075Z"
   },
   {
    "duration": 6,
    "start_time": "2024-05-16T15:15:24.098Z"
   },
   {
    "duration": 17015,
    "start_time": "2024-05-16T15:15:24.107Z"
   },
   {
    "duration": 4,
    "start_time": "2024-05-16T15:15:41.129Z"
   },
   {
    "duration": 55,
    "start_time": "2024-05-16T15:15:41.134Z"
   },
   {
    "duration": 2603,
    "start_time": "2024-05-16T15:53:19.928Z"
   },
   {
    "duration": 1311,
    "start_time": "2024-05-16T15:53:22.533Z"
   },
   {
    "duration": 979,
    "start_time": "2024-05-16T15:53:23.845Z"
   },
   {
    "duration": 5,
    "start_time": "2024-05-16T15:53:24.826Z"
   },
   {
    "duration": 1689,
    "start_time": "2024-05-16T15:53:24.833Z"
   },
   {
    "duration": 580,
    "start_time": "2024-05-16T15:53:26.523Z"
   },
   {
    "duration": 27,
    "start_time": "2024-05-16T15:53:27.104Z"
   },
   {
    "duration": 67,
    "start_time": "2024-05-16T15:53:27.133Z"
   },
   {
    "duration": 9,
    "start_time": "2024-05-16T15:53:27.201Z"
   },
   {
    "duration": 821,
    "start_time": "2024-05-16T15:53:27.211Z"
   },
   {
    "duration": 9863,
    "start_time": "2024-05-16T15:53:28.033Z"
   },
   {
    "duration": 20,
    "start_time": "2024-05-16T15:53:37.898Z"
   },
   {
    "duration": 20,
    "start_time": "2024-05-16T15:53:37.919Z"
   },
   {
    "duration": 16939,
    "start_time": "2024-05-16T15:53:37.941Z"
   },
   {
    "duration": 4,
    "start_time": "2024-05-16T15:53:54.882Z"
   },
   {
    "duration": 44,
    "start_time": "2024-05-16T15:53:54.888Z"
   },
   {
    "duration": 52,
    "start_time": "2024-05-16T15:54:02.555Z"
   },
   {
    "duration": 2653,
    "start_time": "2024-05-16T15:54:25.155Z"
   },
   {
    "duration": 1275,
    "start_time": "2024-05-16T15:54:27.810Z"
   },
   {
    "duration": 959,
    "start_time": "2024-05-16T15:54:29.086Z"
   },
   {
    "duration": 6,
    "start_time": "2024-05-16T15:54:30.047Z"
   },
   {
    "duration": 1726,
    "start_time": "2024-05-16T15:54:30.055Z"
   },
   {
    "duration": 594,
    "start_time": "2024-05-16T15:54:31.782Z"
   },
   {
    "duration": 26,
    "start_time": "2024-05-16T15:54:32.378Z"
   },
   {
    "duration": 114,
    "start_time": "2024-05-16T15:54:32.406Z"
   },
   {
    "duration": 91,
    "start_time": "2024-05-16T15:54:32.521Z"
   },
   {
    "duration": 838,
    "start_time": "2024-05-16T15:54:32.614Z"
   },
   {
    "duration": 3422,
    "start_time": "2024-05-16T15:54:33.454Z"
   },
   {
    "duration": 21,
    "start_time": "2024-05-16T15:54:36.878Z"
   },
   {
    "duration": 5,
    "start_time": "2024-05-16T15:54:36.901Z"
   },
   {
    "duration": 16737,
    "start_time": "2024-05-16T15:54:36.908Z"
   },
   {
    "duration": 3,
    "start_time": "2024-05-16T15:54:53.647Z"
   },
   {
    "duration": 91,
    "start_time": "2024-05-16T15:54:53.652Z"
   },
   {
    "duration": 58,
    "start_time": "2024-05-16T15:55:22.108Z"
   },
   {
    "duration": 2649,
    "start_time": "2024-05-16T15:55:33.663Z"
   },
   {
    "duration": 1325,
    "start_time": "2024-05-16T15:55:36.315Z"
   },
   {
    "duration": 978,
    "start_time": "2024-05-16T15:55:37.642Z"
   },
   {
    "duration": 8,
    "start_time": "2024-05-16T15:55:38.622Z"
   },
   {
    "duration": 1648,
    "start_time": "2024-05-16T15:55:38.632Z"
   },
   {
    "duration": 549,
    "start_time": "2024-05-16T15:55:40.283Z"
   },
   {
    "duration": 23,
    "start_time": "2024-05-16T15:55:40.834Z"
   },
   {
    "duration": 76,
    "start_time": "2024-05-16T15:55:40.859Z"
   },
   {
    "duration": 10,
    "start_time": "2024-05-16T15:55:40.937Z"
   },
   {
    "duration": 786,
    "start_time": "2024-05-16T15:55:40.949Z"
   },
   {
    "duration": 9931,
    "start_time": "2024-05-16T15:55:41.737Z"
   },
   {
    "duration": 21,
    "start_time": "2024-05-16T15:55:51.670Z"
   },
   {
    "duration": 12,
    "start_time": "2024-05-16T15:55:51.693Z"
   },
   {
    "duration": 16646,
    "start_time": "2024-05-16T15:55:51.707Z"
   },
   {
    "duration": 3,
    "start_time": "2024-05-16T15:56:08.355Z"
   },
   {
    "duration": 78,
    "start_time": "2024-05-16T15:56:08.359Z"
   },
   {
    "duration": 3593,
    "start_time": "2024-05-20T15:14:19.105Z"
   },
   {
    "duration": 1310,
    "start_time": "2024-05-20T15:14:23.519Z"
   },
   {
    "duration": 2893,
    "start_time": "2024-05-20T15:14:27.070Z"
   },
   {
    "duration": 6,
    "start_time": "2024-05-20T15:14:29.965Z"
   },
   {
    "duration": 1463,
    "start_time": "2024-05-20T15:14:29.972Z"
   },
   {
    "duration": 501,
    "start_time": "2024-05-20T15:14:31.437Z"
   },
   {
    "duration": 19,
    "start_time": "2024-05-20T15:14:33.152Z"
   },
   {
    "duration": 68,
    "start_time": "2024-05-20T15:14:33.769Z"
   },
   {
    "duration": 9,
    "start_time": "2024-05-20T15:14:34.419Z"
   },
   {
    "duration": 713,
    "start_time": "2024-05-20T15:14:35.120Z"
   },
   {
    "duration": 3285,
    "start_time": "2024-05-20T15:14:35.835Z"
   },
   {
    "duration": 18,
    "start_time": "2024-05-20T15:14:39.122Z"
   },
   {
    "duration": 5,
    "start_time": "2024-05-20T15:14:39.203Z"
   },
   {
    "duration": 15258,
    "start_time": "2024-05-20T15:14:40.071Z"
   },
   {
    "duration": 3,
    "start_time": "2024-05-20T15:14:55.330Z"
   },
   {
    "duration": 75,
    "start_time": "2024-05-20T15:14:55.335Z"
   },
   {
    "duration": 3,
    "start_time": "2024-05-20T15:15:43.178Z"
   },
   {
    "duration": 4,
    "start_time": "2024-05-20T15:15:50.370Z"
   },
   {
    "duration": 246,
    "start_time": "2024-05-20T15:16:39.662Z"
   },
   {
    "duration": 6,
    "start_time": "2024-05-20T15:21:52.780Z"
   },
   {
    "duration": 2497,
    "start_time": "2024-05-20T15:21:53.705Z"
   },
   {
    "duration": 6,
    "start_time": "2024-05-20T15:25:14.303Z"
   },
   {
    "duration": 1459,
    "start_time": "2024-05-20T15:25:14.934Z"
   },
   {
    "duration": 2077,
    "start_time": "2024-05-20T15:25:29.901Z"
   },
   {
    "duration": 4,
    "start_time": "2024-05-20T15:26:23.876Z"
   },
   {
    "duration": 1439,
    "start_time": "2024-05-20T15:26:24.448Z"
   },
   {
    "duration": 12,
    "start_time": "2024-05-20T15:51:15.340Z"
   },
   {
    "duration": 3,
    "start_time": "2024-05-20T15:51:32.706Z"
   },
   {
    "duration": 24,
    "start_time": "2024-05-20T15:51:33.525Z"
   },
   {
    "duration": 327,
    "start_time": "2024-05-20T15:52:54.737Z"
   },
   {
    "duration": 70,
    "start_time": "2024-05-20T15:52:59.189Z"
   },
   {
    "duration": 18,
    "start_time": "2024-05-20T15:53:01.103Z"
   },
   {
    "duration": 3419,
    "start_time": "2024-05-22T19:19:27.132Z"
   },
   {
    "duration": 1789,
    "start_time": "2024-05-22T19:19:30.553Z"
   },
   {
    "duration": 2867,
    "start_time": "2024-05-22T19:19:32.345Z"
   },
   {
    "duration": 6,
    "start_time": "2024-05-22T19:19:35.214Z"
   },
   {
    "duration": 1477,
    "start_time": "2024-05-22T19:19:35.222Z"
   },
   {
    "duration": 533,
    "start_time": "2024-05-22T19:19:36.701Z"
   },
   {
    "duration": 26,
    "start_time": "2024-05-22T19:19:37.236Z"
   },
   {
    "duration": 53,
    "start_time": "2024-05-22T19:19:37.264Z"
   },
   {
    "duration": 8,
    "start_time": "2024-05-22T19:19:37.319Z"
   },
   {
    "duration": 740,
    "start_time": "2024-05-22T19:19:37.329Z"
   },
   {
    "duration": 10896,
    "start_time": "2024-05-22T19:19:38.071Z"
   },
   {
    "duration": 24,
    "start_time": "2024-05-22T19:19:48.968Z"
   },
   {
    "duration": 7,
    "start_time": "2024-05-22T19:19:48.994Z"
   },
   {
    "duration": 16593,
    "start_time": "2024-05-22T19:19:49.004Z"
   },
   {
    "duration": 5,
    "start_time": "2024-05-22T19:20:05.599Z"
   },
   {
    "duration": 82,
    "start_time": "2024-05-22T19:20:05.607Z"
   },
   {
    "duration": 10,
    "start_time": "2024-05-22T19:20:05.691Z"
   },
   {
    "duration": 1509,
    "start_time": "2024-05-22T19:20:05.702Z"
   },
   {
    "duration": 3,
    "start_time": "2024-05-22T19:20:07.213Z"
   },
   {
    "duration": 94,
    "start_time": "2024-05-22T19:20:07.219Z"
   },
   {
    "duration": 18,
    "start_time": "2024-05-22T19:20:07.315Z"
   },
   {
    "duration": 130,
    "start_time": "2024-05-22T19:20:07.335Z"
   },
   {
    "duration": 0,
    "start_time": "2024-05-22T19:20:07.467Z"
   },
   {
    "duration": 0,
    "start_time": "2024-05-22T19:20:07.468Z"
   },
   {
    "duration": 0,
    "start_time": "2024-05-22T19:20:07.470Z"
   },
   {
    "duration": 3197,
    "start_time": "2024-05-23T13:17:34.214Z"
   },
   {
    "duration": 1580,
    "start_time": "2024-05-23T13:17:37.413Z"
   },
   {
    "duration": 2899,
    "start_time": "2024-05-23T13:17:38.995Z"
   },
   {
    "duration": 5,
    "start_time": "2024-05-23T13:17:41.896Z"
   },
   {
    "duration": 1502,
    "start_time": "2024-05-23T13:17:41.903Z"
   },
   {
    "duration": 537,
    "start_time": "2024-05-23T13:17:43.406Z"
   },
   {
    "duration": 31,
    "start_time": "2024-05-23T13:17:43.945Z"
   },
   {
    "duration": 63,
    "start_time": "2024-05-23T13:17:43.978Z"
   },
   {
    "duration": 8,
    "start_time": "2024-05-23T13:17:44.057Z"
   },
   {
    "duration": 736,
    "start_time": "2024-05-23T13:17:44.067Z"
   },
   {
    "duration": 10991,
    "start_time": "2024-05-23T13:17:44.805Z"
   },
   {
    "duration": 20,
    "start_time": "2024-05-23T13:17:55.798Z"
   },
   {
    "duration": 14,
    "start_time": "2024-05-23T13:17:55.819Z"
   },
   {
    "duration": 15763,
    "start_time": "2024-05-23T13:17:55.836Z"
   },
   {
    "duration": 4,
    "start_time": "2024-05-23T13:18:11.600Z"
   },
   {
    "duration": 75,
    "start_time": "2024-05-23T13:18:11.605Z"
   },
   {
    "duration": 5,
    "start_time": "2024-05-23T13:18:11.681Z"
   },
   {
    "duration": 2404,
    "start_time": "2024-05-23T13:18:11.688Z"
   },
   {
    "duration": 3,
    "start_time": "2024-05-23T13:18:14.093Z"
   },
   {
    "duration": 109,
    "start_time": "2024-05-23T13:18:14.098Z"
   },
   {
    "duration": 20,
    "start_time": "2024-05-23T13:18:14.208Z"
   },
   {
    "duration": 144,
    "start_time": "2024-05-23T13:18:14.230Z"
   },
   {
    "duration": 0,
    "start_time": "2024-05-23T13:18:14.375Z"
   },
   {
    "duration": 0,
    "start_time": "2024-05-23T13:18:14.376Z"
   },
   {
    "duration": 0,
    "start_time": "2024-05-23T13:18:14.377Z"
   },
   {
    "duration": 2430,
    "start_time": "2024-05-23T13:22:06.210Z"
   },
   {
    "duration": 1514,
    "start_time": "2024-05-23T13:22:08.643Z"
   },
   {
    "duration": 938,
    "start_time": "2024-05-23T13:22:10.159Z"
   },
   {
    "duration": 5,
    "start_time": "2024-05-23T13:22:11.098Z"
   },
   {
    "duration": 1569,
    "start_time": "2024-05-23T13:22:11.105Z"
   },
   {
    "duration": 553,
    "start_time": "2024-05-23T13:22:12.675Z"
   },
   {
    "duration": 26,
    "start_time": "2024-05-23T13:22:13.230Z"
   },
   {
    "duration": 58,
    "start_time": "2024-05-23T13:22:13.257Z"
   },
   {
    "duration": 14,
    "start_time": "2024-05-23T13:22:13.317Z"
   },
   {
    "duration": 746,
    "start_time": "2024-05-23T13:22:13.333Z"
   },
   {
    "duration": 3571,
    "start_time": "2024-05-23T13:22:14.081Z"
   },
   {
    "duration": 19,
    "start_time": "2024-05-23T13:22:17.654Z"
   },
   {
    "duration": 5,
    "start_time": "2024-05-23T13:22:17.675Z"
   },
   {
    "duration": 15883,
    "start_time": "2024-05-23T13:22:17.683Z"
   },
   {
    "duration": 4,
    "start_time": "2024-05-23T13:22:33.567Z"
   },
   {
    "duration": 76,
    "start_time": "2024-05-23T13:22:33.572Z"
   },
   {
    "duration": 4,
    "start_time": "2024-05-23T13:22:33.657Z"
   },
   {
    "duration": 2433,
    "start_time": "2024-05-23T13:22:33.663Z"
   },
   {
    "duration": 3,
    "start_time": "2024-05-23T13:22:36.097Z"
   },
   {
    "duration": 89,
    "start_time": "2024-05-23T13:22:36.102Z"
   },
   {
    "duration": 18,
    "start_time": "2024-05-23T13:22:36.193Z"
   },
   {
    "duration": 5,
    "start_time": "2024-05-23T13:22:36.212Z"
   },
   {
    "duration": 20,
    "start_time": "2024-05-23T13:22:36.218Z"
   },
   {
    "duration": 0,
    "start_time": "2024-05-23T13:22:36.239Z"
   },
   {
    "duration": 0,
    "start_time": "2024-05-23T13:22:36.240Z"
   },
   {
    "duration": 150,
    "start_time": "2024-05-23T13:22:45.643Z"
   },
   {
    "duration": 8,
    "start_time": "2024-05-23T13:23:33.360Z"
   },
   {
    "duration": 10,
    "start_time": "2024-05-23T13:23:37.749Z"
   },
   {
    "duration": 3,
    "start_time": "2024-05-23T13:23:46.768Z"
   },
   {
    "duration": 3143695,
    "start_time": "2024-05-23T13:23:48.609Z"
   },
   {
    "duration": 12,
    "start_time": "2024-05-23T15:18:26.223Z"
   },
   {
    "duration": 5,
    "start_time": "2024-05-23T15:19:33.715Z"
   },
   {
    "duration": 3,
    "start_time": "2024-05-23T15:19:43.945Z"
   },
   {
    "duration": 2410,
    "start_time": "2024-05-23T15:20:49.176Z"
   },
   {
    "duration": 1437,
    "start_time": "2024-05-23T15:20:51.589Z"
   },
   {
    "duration": 875,
    "start_time": "2024-05-23T15:20:53.028Z"
   },
   {
    "duration": 5,
    "start_time": "2024-05-23T15:20:53.905Z"
   },
   {
    "duration": 1437,
    "start_time": "2024-05-23T15:20:53.912Z"
   },
   {
    "duration": 514,
    "start_time": "2024-05-23T15:20:55.351Z"
   },
   {
    "duration": 22,
    "start_time": "2024-05-23T15:20:55.867Z"
   },
   {
    "duration": 71,
    "start_time": "2024-05-23T15:20:55.890Z"
   },
   {
    "duration": 8,
    "start_time": "2024-05-23T15:20:55.963Z"
   },
   {
    "duration": 706,
    "start_time": "2024-05-23T15:20:55.973Z"
   },
   {
    "duration": 9487,
    "start_time": "2024-05-23T15:20:56.681Z"
   },
   {
    "duration": 18,
    "start_time": "2024-05-23T15:21:06.170Z"
   },
   {
    "duration": 6,
    "start_time": "2024-05-23T15:21:06.190Z"
   },
   {
    "duration": 2383,
    "start_time": "2024-05-23T15:21:21.354Z"
   },
   {
    "duration": 1525,
    "start_time": "2024-05-23T15:21:23.739Z"
   },
   {
    "duration": 878,
    "start_time": "2024-05-23T15:21:25.266Z"
   },
   {
    "duration": 6,
    "start_time": "2024-05-23T15:21:26.145Z"
   },
   {
    "duration": 1467,
    "start_time": "2024-05-23T15:21:26.155Z"
   },
   {
    "duration": 491,
    "start_time": "2024-05-23T15:21:27.624Z"
   },
   {
    "duration": 19,
    "start_time": "2024-05-23T15:21:28.117Z"
   },
   {
    "duration": 69,
    "start_time": "2024-05-23T15:21:28.137Z"
   },
   {
    "duration": 13,
    "start_time": "2024-05-23T15:21:28.208Z"
   },
   {
    "duration": 709,
    "start_time": "2024-05-23T15:21:28.224Z"
   },
   {
    "duration": 10326,
    "start_time": "2024-05-23T15:21:28.934Z"
   },
   {
    "duration": 19,
    "start_time": "2024-05-23T15:21:39.262Z"
   },
   {
    "duration": 8,
    "start_time": "2024-05-23T15:21:39.283Z"
   },
   {
    "duration": 15808,
    "start_time": "2024-05-23T15:21:39.292Z"
   },
   {
    "duration": 3,
    "start_time": "2024-05-23T15:21:55.102Z"
   },
   {
    "duration": 88,
    "start_time": "2024-05-23T15:21:55.106Z"
   },
   {
    "duration": 5,
    "start_time": "2024-05-23T15:21:55.195Z"
   },
   {
    "duration": 1475,
    "start_time": "2024-05-23T15:21:55.201Z"
   },
   {
    "duration": 3,
    "start_time": "2024-05-23T15:21:56.677Z"
   },
   {
    "duration": 91,
    "start_time": "2024-05-23T15:21:56.681Z"
   },
   {
    "duration": 19,
    "start_time": "2024-05-23T15:21:56.774Z"
   },
   {
    "duration": 11,
    "start_time": "2024-05-23T15:21:56.795Z"
   },
   {
    "duration": 27,
    "start_time": "2024-05-23T15:21:56.807Z"
   },
   {
    "duration": 24,
    "start_time": "2024-05-23T15:21:56.836Z"
   },
   {
    "duration": 2505,
    "start_time": "2024-05-23T15:37:57.818Z"
   },
   {
    "duration": 1619,
    "start_time": "2024-05-23T15:38:00.325Z"
   },
   {
    "duration": 924,
    "start_time": "2024-05-23T15:38:01.945Z"
   },
   {
    "duration": 6,
    "start_time": "2024-05-23T15:38:02.870Z"
   },
   {
    "duration": 1585,
    "start_time": "2024-05-23T15:38:02.878Z"
   },
   {
    "duration": 544,
    "start_time": "2024-05-23T15:38:04.464Z"
   },
   {
    "duration": 21,
    "start_time": "2024-05-23T15:38:05.009Z"
   },
   {
    "duration": 69,
    "start_time": "2024-05-23T15:38:05.032Z"
   },
   {
    "duration": 14,
    "start_time": "2024-05-23T15:38:05.103Z"
   },
   {
    "duration": 731,
    "start_time": "2024-05-23T15:38:05.119Z"
   },
   {
    "duration": 3189,
    "start_time": "2024-05-23T15:38:05.855Z"
   },
   {
    "duration": 22,
    "start_time": "2024-05-23T15:38:09.046Z"
   },
   {
    "duration": 5,
    "start_time": "2024-05-23T15:38:09.070Z"
   },
   {
    "duration": 16408,
    "start_time": "2024-05-23T15:38:09.078Z"
   },
   {
    "duration": 3,
    "start_time": "2024-05-23T15:38:25.488Z"
   },
   {
    "duration": 71,
    "start_time": "2024-05-23T15:38:25.492Z"
   },
   {
    "duration": 4,
    "start_time": "2024-05-23T15:38:25.564Z"
   },
   {
    "duration": 1513,
    "start_time": "2024-05-23T15:38:25.570Z"
   },
   {
    "duration": 2,
    "start_time": "2024-05-23T15:38:27.085Z"
   },
   {
    "duration": 96,
    "start_time": "2024-05-23T15:38:27.088Z"
   },
   {
    "duration": 19,
    "start_time": "2024-05-23T15:38:27.186Z"
   },
   {
    "duration": 15,
    "start_time": "2024-05-23T15:38:27.207Z"
   },
   {
    "duration": 123,
    "start_time": "2024-05-23T15:38:27.223Z"
   },
   {
    "duration": 4,
    "start_time": "2024-05-23T15:38:27.347Z"
   },
   {
    "duration": 103240,
    "start_time": "2024-05-23T15:38:27.356Z"
   },
   {
    "duration": 2475,
    "start_time": "2024-05-23T15:40:14.553Z"
   },
   {
    "duration": 1562,
    "start_time": "2024-05-23T15:40:17.031Z"
   },
   {
    "duration": 924,
    "start_time": "2024-05-23T15:40:18.595Z"
   },
   {
    "duration": 6,
    "start_time": "2024-05-23T15:40:19.521Z"
   },
   {
    "duration": 1511,
    "start_time": "2024-05-23T15:40:19.528Z"
   },
   {
    "duration": 490,
    "start_time": "2024-05-23T15:40:21.041Z"
   },
   {
    "duration": 30,
    "start_time": "2024-05-23T15:40:21.533Z"
   },
   {
    "duration": 56,
    "start_time": "2024-05-23T15:40:21.564Z"
   },
   {
    "duration": 9,
    "start_time": "2024-05-23T15:40:21.621Z"
   },
   {
    "duration": 778,
    "start_time": "2024-05-23T15:40:21.633Z"
   },
   {
    "duration": 9955,
    "start_time": "2024-05-23T15:40:22.413Z"
   },
   {
    "duration": 22,
    "start_time": "2024-05-23T15:40:32.370Z"
   },
   {
    "duration": 7,
    "start_time": "2024-05-23T15:40:32.393Z"
   },
   {
    "duration": 15713,
    "start_time": "2024-05-23T15:40:32.402Z"
   },
   {
    "duration": 3,
    "start_time": "2024-05-23T15:40:48.117Z"
   },
   {
    "duration": 82,
    "start_time": "2024-05-23T15:40:48.121Z"
   },
   {
    "duration": 5,
    "start_time": "2024-05-23T15:40:48.205Z"
   },
   {
    "duration": 1475,
    "start_time": "2024-05-23T15:40:48.211Z"
   },
   {
    "duration": 3,
    "start_time": "2024-05-23T15:40:49.687Z"
   },
   {
    "duration": 111,
    "start_time": "2024-05-23T15:40:49.691Z"
   },
   {
    "duration": 20,
    "start_time": "2024-05-23T15:40:49.804Z"
   },
   {
    "duration": 4,
    "start_time": "2024-05-23T15:40:49.825Z"
   },
   {
    "duration": 26,
    "start_time": "2024-05-23T15:40:49.831Z"
   },
   {
    "duration": 4,
    "start_time": "2024-05-23T15:40:49.859Z"
   },
   {
    "duration": 92333,
    "start_time": "2024-05-23T15:40:49.864Z"
   },
   {
    "duration": 2274,
    "start_time": "2024-05-23T15:42:24.902Z"
   },
   {
    "duration": 1406,
    "start_time": "2024-05-23T15:42:27.178Z"
   },
   {
    "duration": 873,
    "start_time": "2024-05-23T15:42:28.585Z"
   },
   {
    "duration": 5,
    "start_time": "2024-05-23T15:42:29.460Z"
   },
   {
    "duration": 1538,
    "start_time": "2024-05-23T15:42:29.467Z"
   },
   {
    "duration": 563,
    "start_time": "2024-05-23T15:42:31.006Z"
   },
   {
    "duration": 19,
    "start_time": "2024-05-23T15:42:31.571Z"
   },
   {
    "duration": 77,
    "start_time": "2024-05-23T15:42:31.592Z"
   },
   {
    "duration": 13,
    "start_time": "2024-05-23T15:42:31.670Z"
   },
   {
    "duration": 753,
    "start_time": "2024-05-23T15:42:31.686Z"
   },
   {
    "duration": 9895,
    "start_time": "2024-05-23T15:42:32.441Z"
   },
   {
    "duration": 18,
    "start_time": "2024-05-23T15:42:42.338Z"
   },
   {
    "duration": 8,
    "start_time": "2024-05-23T15:42:42.358Z"
   },
   {
    "duration": 15146,
    "start_time": "2024-05-23T15:42:42.368Z"
   },
   {
    "duration": 5,
    "start_time": "2024-05-23T15:42:57.515Z"
   },
   {
    "duration": 82,
    "start_time": "2024-05-23T15:42:57.521Z"
   },
   {
    "duration": 4,
    "start_time": "2024-05-23T15:42:57.605Z"
   },
   {
    "duration": 2373,
    "start_time": "2024-05-23T15:42:57.611Z"
   },
   {
    "duration": 2,
    "start_time": "2024-05-23T15:42:59.986Z"
   },
   {
    "duration": 85,
    "start_time": "2024-05-23T15:42:59.989Z"
   },
   {
    "duration": 18,
    "start_time": "2024-05-23T15:43:00.076Z"
   },
   {
    "duration": 20,
    "start_time": "2024-05-23T15:43:00.095Z"
   },
   {
    "duration": 39,
    "start_time": "2024-05-23T15:43:00.116Z"
   },
   {
    "duration": 25,
    "start_time": "2024-05-23T15:43:00.156Z"
   },
   {
    "duration": 3614,
    "start_time": "2024-05-24T08:33:59.897Z"
   },
   {
    "duration": 1586,
    "start_time": "2024-05-24T08:34:03.513Z"
   },
   {
    "duration": 2756,
    "start_time": "2024-05-24T08:34:05.101Z"
   },
   {
    "duration": 5,
    "start_time": "2024-05-24T08:34:07.859Z"
   },
   {
    "duration": 1269,
    "start_time": "2024-05-24T08:34:07.865Z"
   },
   {
    "duration": 451,
    "start_time": "2024-05-24T08:34:09.136Z"
   },
   {
    "duration": 24,
    "start_time": "2024-05-24T08:34:09.588Z"
   },
   {
    "duration": 56,
    "start_time": "2024-05-24T08:34:09.614Z"
   },
   {
    "duration": 7,
    "start_time": "2024-05-24T08:34:09.671Z"
   },
   {
    "duration": 734,
    "start_time": "2024-05-24T08:34:09.680Z"
   },
   {
    "duration": 9846,
    "start_time": "2024-05-24T08:34:10.416Z"
   },
   {
    "duration": 19,
    "start_time": "2024-05-24T08:34:20.264Z"
   },
   {
    "duration": 4,
    "start_time": "2024-05-24T08:34:20.285Z"
   },
   {
    "duration": 12903,
    "start_time": "2024-05-24T08:34:20.290Z"
   },
   {
    "duration": 3,
    "start_time": "2024-05-24T08:34:33.195Z"
   },
   {
    "duration": 81,
    "start_time": "2024-05-24T08:34:33.199Z"
   },
   {
    "duration": 4,
    "start_time": "2024-05-24T08:34:33.282Z"
   },
   {
    "duration": 2242,
    "start_time": "2024-05-24T08:34:33.287Z"
   },
   {
    "duration": 2,
    "start_time": "2024-05-24T08:34:35.531Z"
   },
   {
    "duration": 60,
    "start_time": "2024-05-24T08:34:35.534Z"
   },
   {
    "duration": 31,
    "start_time": "2024-05-24T08:34:35.596Z"
   },
   {
    "duration": 15,
    "start_time": "2024-05-24T08:34:35.629Z"
   },
   {
    "duration": 9,
    "start_time": "2024-05-24T08:34:35.645Z"
   },
   {
    "duration": 5,
    "start_time": "2024-05-24T08:34:35.656Z"
   },
   {
    "duration": 3005,
    "start_time": "2024-05-24T10:36:49.353Z"
   },
   {
    "duration": 1540,
    "start_time": "2024-05-24T10:36:52.360Z"
   },
   {
    "duration": 789,
    "start_time": "2024-05-24T10:36:53.901Z"
   },
   {
    "duration": 5,
    "start_time": "2024-05-24T10:36:54.692Z"
   },
   {
    "duration": 1342,
    "start_time": "2024-05-24T10:36:54.698Z"
   },
   {
    "duration": 443,
    "start_time": "2024-05-24T10:36:56.042Z"
   },
   {
    "duration": 17,
    "start_time": "2024-05-24T10:36:56.486Z"
   },
   {
    "duration": 56,
    "start_time": "2024-05-24T10:36:56.517Z"
   },
   {
    "duration": 7,
    "start_time": "2024-05-24T10:36:56.575Z"
   },
   {
    "duration": 821,
    "start_time": "2024-05-24T10:36:56.585Z"
   },
   {
    "duration": 9622,
    "start_time": "2024-05-24T10:36:57.416Z"
   },
   {
    "duration": 19,
    "start_time": "2024-05-24T10:37:07.040Z"
   },
   {
    "duration": 5,
    "start_time": "2024-05-24T10:37:07.061Z"
   },
   {
    "duration": 13758,
    "start_time": "2024-05-24T10:37:07.067Z"
   },
   {
    "duration": 3,
    "start_time": "2024-05-24T10:37:20.827Z"
   },
   {
    "duration": 68,
    "start_time": "2024-05-24T10:37:20.831Z"
   },
   {
    "duration": 5,
    "start_time": "2024-05-24T10:37:20.900Z"
   },
   {
    "duration": 1428,
    "start_time": "2024-05-24T10:37:20.906Z"
   },
   {
    "duration": 2,
    "start_time": "2024-05-24T10:37:22.336Z"
   },
   {
    "duration": 77,
    "start_time": "2024-05-24T10:37:22.339Z"
   },
   {
    "duration": 19,
    "start_time": "2024-05-24T10:37:22.417Z"
   },
   {
    "duration": 4,
    "start_time": "2024-05-24T10:37:22.437Z"
   },
   {
    "duration": 21,
    "start_time": "2024-05-24T10:37:22.442Z"
   },
   {
    "duration": 11,
    "start_time": "2024-05-24T10:37:22.464Z"
   },
   {
    "duration": 74358,
    "start_time": "2024-05-24T10:37:22.476Z"
   },
   {
    "duration": 2758,
    "start_time": "2024-05-24T10:38:40.167Z"
   },
   {
    "duration": 1373,
    "start_time": "2024-05-24T10:38:42.928Z"
   },
   {
    "duration": 789,
    "start_time": "2024-05-24T10:38:44.304Z"
   },
   {
    "duration": 6,
    "start_time": "2024-05-24T10:38:45.094Z"
   },
   {
    "duration": 1342,
    "start_time": "2024-05-24T10:38:45.101Z"
   },
   {
    "duration": 478,
    "start_time": "2024-05-24T10:38:46.444Z"
   },
   {
    "duration": 18,
    "start_time": "2024-05-24T10:38:46.923Z"
   },
   {
    "duration": 59,
    "start_time": "2024-05-24T10:38:46.942Z"
   },
   {
    "duration": 25,
    "start_time": "2024-05-24T10:38:47.003Z"
   },
   {
    "duration": 743,
    "start_time": "2024-05-24T10:38:47.030Z"
   },
   {
    "duration": 3247,
    "start_time": "2024-05-24T10:38:47.775Z"
   },
   {
    "duration": 21,
    "start_time": "2024-05-24T10:38:51.023Z"
   },
   {
    "duration": 6,
    "start_time": "2024-05-24T10:38:51.045Z"
   },
   {
    "duration": 13526,
    "start_time": "2024-05-24T10:38:51.053Z"
   },
   {
    "duration": 3,
    "start_time": "2024-05-24T10:39:04.581Z"
   },
   {
    "duration": 81,
    "start_time": "2024-05-24T10:39:04.585Z"
   },
   {
    "duration": 4,
    "start_time": "2024-05-24T10:39:04.667Z"
   },
   {
    "duration": 2255,
    "start_time": "2024-05-24T10:39:04.673Z"
   },
   {
    "duration": 2,
    "start_time": "2024-05-24T10:39:06.930Z"
   },
   {
    "duration": 70,
    "start_time": "2024-05-24T10:39:06.934Z"
   },
   {
    "duration": 27,
    "start_time": "2024-05-24T10:39:07.005Z"
   },
   {
    "duration": 12,
    "start_time": "2024-05-24T10:39:07.033Z"
   },
   {
    "duration": 16,
    "start_time": "2024-05-24T10:39:07.046Z"
   },
   {
    "duration": 22,
    "start_time": "2024-05-24T10:39:07.064Z"
   },
   {
    "duration": 312552,
    "start_time": "2024-05-24T10:39:07.087Z"
   },
   {
    "duration": 117,
    "start_time": "2024-05-24T10:47:00.782Z"
   },
   {
    "duration": 17,
    "start_time": "2024-05-24T10:47:13.841Z"
   },
   {
    "duration": 93825,
    "start_time": "2024-05-24T10:53:27.008Z"
   },
   {
    "duration": 19,
    "start_time": "2024-05-24T10:55:13.581Z"
   },
   {
    "duration": 63,
    "start_time": "2024-05-24T11:28:13.626Z"
   },
   {
    "duration": 4,
    "start_time": "2024-05-24T11:28:27.250Z"
   },
   {
    "duration": 2,
    "start_time": "2024-05-24T11:28:30.426Z"
   },
   {
    "duration": 65237,
    "start_time": "2024-05-24T11:28:34.530Z"
   },
   {
    "duration": 5,
    "start_time": "2024-05-24T11:45:58.643Z"
   },
   {
    "duration": 3,
    "start_time": "2024-05-24T11:45:59.630Z"
   },
   {
    "duration": 182757,
    "start_time": "2024-05-24T11:46:00.782Z"
   },
   {
    "duration": 10,
    "start_time": "2024-05-24T11:52:00.235Z"
   },
   {
    "duration": 5,
    "start_time": "2024-05-24T11:54:16.993Z"
   },
   {
    "duration": 5,
    "start_time": "2024-05-24T11:54:24.593Z"
   },
   {
    "duration": 3,
    "start_time": "2024-05-24T11:54:25.878Z"
   },
   {
    "duration": 430025,
    "start_time": "2024-05-24T11:54:26.510Z"
   },
   {
    "duration": 17,
    "start_time": "2024-05-24T12:03:58.374Z"
   },
   {
    "duration": 18,
    "start_time": "2024-05-24T12:04:18.180Z"
   },
   {
    "duration": 17,
    "start_time": "2024-05-24T12:04:29.375Z"
   },
   {
    "duration": 20,
    "start_time": "2024-05-24T12:05:07.310Z"
   },
   {
    "duration": 2176,
    "start_time": "2024-05-24T12:07:24.840Z"
   },
   {
    "duration": 58,
    "start_time": "2024-05-24T12:09:44.290Z"
   },
   {
    "duration": 2049,
    "start_time": "2024-05-24T12:09:49.872Z"
   },
   {
    "duration": 16,
    "start_time": "2024-05-24T12:35:43.416Z"
   },
   {
    "duration": 10,
    "start_time": "2024-05-24T12:35:51.796Z"
   },
   {
    "duration": 5,
    "start_time": "2024-05-24T12:36:40.324Z"
   },
   {
    "duration": 55,
    "start_time": "2024-05-24T13:01:22.826Z"
   },
   {
    "duration": 6,
    "start_time": "2024-05-24T13:01:37.961Z"
   },
   {
    "duration": 5,
    "start_time": "2024-05-24T13:02:32.287Z"
   },
   {
    "duration": 5,
    "start_time": "2024-05-24T13:03:25.303Z"
   },
   {
    "duration": 19,
    "start_time": "2024-05-24T13:05:25.096Z"
   },
   {
    "duration": 2684,
    "start_time": "2024-05-24T13:05:38.634Z"
   },
   {
    "duration": 1352,
    "start_time": "2024-05-24T13:05:41.320Z"
   },
   {
    "duration": 766,
    "start_time": "2024-05-24T13:05:42.673Z"
   },
   {
    "duration": 5,
    "start_time": "2024-05-24T13:05:43.440Z"
   },
   {
    "duration": 1293,
    "start_time": "2024-05-24T13:05:43.447Z"
   },
   {
    "duration": 490,
    "start_time": "2024-05-24T13:05:44.741Z"
   },
   {
    "duration": 17,
    "start_time": "2024-05-24T13:05:45.232Z"
   },
   {
    "duration": 64,
    "start_time": "2024-05-24T13:05:45.251Z"
   },
   {
    "duration": 8,
    "start_time": "2024-05-24T13:05:45.316Z"
   },
   {
    "duration": 729,
    "start_time": "2024-05-24T13:05:45.325Z"
   },
   {
    "duration": 10138,
    "start_time": "2024-05-24T13:05:46.056Z"
   },
   {
    "duration": 20,
    "start_time": "2024-05-24T13:05:56.195Z"
   },
   {
    "duration": 7,
    "start_time": "2024-05-24T13:05:56.216Z"
   },
   {
    "duration": 12895,
    "start_time": "2024-05-24T13:05:56.226Z"
   },
   {
    "duration": 5,
    "start_time": "2024-05-24T13:06:09.123Z"
   },
   {
    "duration": 39,
    "start_time": "2024-05-24T13:06:09.129Z"
   },
   {
    "duration": 3,
    "start_time": "2024-05-24T13:06:09.169Z"
   },
   {
    "duration": 71,
    "start_time": "2024-05-24T13:06:09.174Z"
   },
   {
    "duration": 5,
    "start_time": "2024-05-24T13:06:09.247Z"
   },
   {
    "duration": 1483,
    "start_time": "2024-05-24T13:06:09.253Z"
   },
   {
    "duration": 2,
    "start_time": "2024-05-24T13:06:10.737Z"
   },
   {
    "duration": 74,
    "start_time": "2024-05-24T13:06:10.741Z"
   },
   {
    "duration": 17,
    "start_time": "2024-05-24T13:06:10.816Z"
   },
   {
    "duration": 3,
    "start_time": "2024-05-24T13:06:10.835Z"
   },
   {
    "duration": 9,
    "start_time": "2024-05-24T13:06:10.839Z"
   },
   {
    "duration": 4,
    "start_time": "2024-05-24T13:06:10.849Z"
   },
   {
    "duration": 427785,
    "start_time": "2024-05-24T13:06:10.855Z"
   },
   {
    "duration": 18,
    "start_time": "2024-05-24T13:13:18.641Z"
   },
   {
    "duration": 20,
    "start_time": "2024-05-24T13:13:18.660Z"
   },
   {
    "duration": 2332,
    "start_time": "2024-05-24T13:13:18.682Z"
   },
   {
    "duration": 19,
    "start_time": "2024-05-24T13:17:57.448Z"
   },
   {
    "duration": 43,
    "start_time": "2024-05-24T13:26:30.079Z"
   },
   {
    "duration": 2660,
    "start_time": "2024-05-24T13:27:54.779Z"
   },
   {
    "duration": 1348,
    "start_time": "2024-05-24T13:27:57.441Z"
   },
   {
    "duration": 754,
    "start_time": "2024-05-24T13:27:58.790Z"
   },
   {
    "duration": 5,
    "start_time": "2024-05-24T13:27:59.546Z"
   },
   {
    "duration": 1273,
    "start_time": "2024-05-24T13:27:59.553Z"
   },
   {
    "duration": 480,
    "start_time": "2024-05-24T13:28:00.827Z"
   },
   {
    "duration": 19,
    "start_time": "2024-05-24T13:28:01.308Z"
   },
   {
    "duration": 89,
    "start_time": "2024-05-24T13:28:01.328Z"
   },
   {
    "duration": 9,
    "start_time": "2024-05-24T13:28:01.418Z"
   },
   {
    "duration": 795,
    "start_time": "2024-05-24T13:28:01.429Z"
   },
   {
    "duration": 8280,
    "start_time": "2024-05-24T13:28:02.226Z"
   },
   {
    "duration": 18,
    "start_time": "2024-05-24T13:28:10.508Z"
   },
   {
    "duration": 5,
    "start_time": "2024-05-24T13:28:10.527Z"
   },
   {
    "duration": 12833,
    "start_time": "2024-05-24T13:28:10.534Z"
   },
   {
    "duration": 6,
    "start_time": "2024-05-24T13:28:23.369Z"
   },
   {
    "duration": 21,
    "start_time": "2024-05-24T13:28:23.376Z"
   },
   {
    "duration": 13,
    "start_time": "2024-05-24T13:28:23.399Z"
   },
   {
    "duration": 63,
    "start_time": "2024-05-24T13:28:23.413Z"
   },
   {
    "duration": 1058,
    "start_time": "2024-05-24T13:28:23.477Z"
   },
   {
    "duration": 0,
    "start_time": "2024-05-24T13:28:24.537Z"
   },
   {
    "duration": 0,
    "start_time": "2024-05-24T13:28:24.538Z"
   },
   {
    "duration": 0,
    "start_time": "2024-05-24T13:28:24.540Z"
   },
   {
    "duration": 0,
    "start_time": "2024-05-24T13:28:24.541Z"
   },
   {
    "duration": 0,
    "start_time": "2024-05-24T13:28:24.542Z"
   },
   {
    "duration": 0,
    "start_time": "2024-05-24T13:28:24.544Z"
   },
   {
    "duration": 0,
    "start_time": "2024-05-24T13:28:24.545Z"
   },
   {
    "duration": 0,
    "start_time": "2024-05-24T13:28:24.547Z"
   },
   {
    "duration": 0,
    "start_time": "2024-05-24T13:28:24.548Z"
   },
   {
    "duration": 0,
    "start_time": "2024-05-24T13:28:24.549Z"
   },
   {
    "duration": 0,
    "start_time": "2024-05-24T13:28:24.551Z"
   },
   {
    "duration": 0,
    "start_time": "2024-05-24T13:28:24.552Z"
   },
   {
    "duration": 21,
    "start_time": "2024-05-24T13:30:18.130Z"
   },
   {
    "duration": 2676,
    "start_time": "2024-05-24T13:30:24.105Z"
   },
   {
    "duration": 1415,
    "start_time": "2024-05-24T13:30:26.783Z"
   },
   {
    "duration": 767,
    "start_time": "2024-05-24T13:30:28.199Z"
   },
   {
    "duration": 5,
    "start_time": "2024-05-24T13:30:28.968Z"
   },
   {
    "duration": 1253,
    "start_time": "2024-05-24T13:30:28.975Z"
   },
   {
    "duration": 454,
    "start_time": "2024-05-24T13:30:30.230Z"
   },
   {
    "duration": 17,
    "start_time": "2024-05-24T13:30:30.685Z"
   },
   {
    "duration": 89,
    "start_time": "2024-05-24T13:30:30.712Z"
   },
   {
    "duration": 8,
    "start_time": "2024-05-24T13:30:30.803Z"
   },
   {
    "duration": 827,
    "start_time": "2024-05-24T13:30:30.812Z"
   },
   {
    "duration": 10478,
    "start_time": "2024-05-24T13:30:31.640Z"
   },
   {
    "duration": 20,
    "start_time": "2024-05-24T13:30:42.120Z"
   },
   {
    "duration": 4,
    "start_time": "2024-05-24T13:30:42.141Z"
   },
   {
    "duration": 13348,
    "start_time": "2024-05-24T13:30:42.147Z"
   },
   {
    "duration": 17,
    "start_time": "2024-05-24T13:30:55.496Z"
   },
   {
    "duration": 19,
    "start_time": "2024-05-24T13:30:55.515Z"
   },
   {
    "duration": 3,
    "start_time": "2024-05-24T13:30:55.536Z"
   },
   {
    "duration": 73,
    "start_time": "2024-05-24T13:30:55.541Z"
   },
   {
    "duration": 19,
    "start_time": "2024-05-24T13:30:55.616Z"
   },
   {
    "duration": 5,
    "start_time": "2024-05-24T13:30:55.636Z"
   },
   {
    "duration": 1496,
    "start_time": "2024-05-24T13:30:55.643Z"
   },
   {
    "duration": 3,
    "start_time": "2024-05-24T13:30:57.141Z"
   },
   {
    "duration": 71,
    "start_time": "2024-05-24T13:30:57.145Z"
   },
   {
    "duration": 17,
    "start_time": "2024-05-24T13:30:57.218Z"
   },
   {
    "duration": 8,
    "start_time": "2024-05-24T13:30:57.237Z"
   },
   {
    "duration": 13,
    "start_time": "2024-05-24T13:30:57.246Z"
   },
   {
    "duration": 7,
    "start_time": "2024-05-24T13:30:57.260Z"
   },
   {
    "duration": 412068,
    "start_time": "2024-05-24T13:30:57.268Z"
   },
   {
    "duration": 18,
    "start_time": "2024-05-24T13:37:49.337Z"
   },
   {
    "duration": 24,
    "start_time": "2024-05-24T13:37:49.356Z"
   },
   {
    "duration": 2231,
    "start_time": "2024-05-24T13:37:49.381Z"
   },
   {
    "duration": 54,
    "start_time": "2024-05-24T13:42:24.658Z"
   },
   {
    "duration": 52,
    "start_time": "2024-05-24T13:42:30.579Z"
   },
   {
    "duration": 15,
    "start_time": "2024-05-24T13:42:40.099Z"
   },
   {
    "duration": 5,
    "start_time": "2024-05-24T13:42:53.024Z"
   },
   {
    "duration": 5,
    "start_time": "2024-05-24T13:43:01.542Z"
   },
   {
    "duration": 114,
    "start_time": "2024-05-24T13:45:49.506Z"
   },
   {
    "duration": 13,
    "start_time": "2024-05-24T13:46:23.654Z"
   },
   {
    "duration": 2724,
    "start_time": "2024-05-24T13:46:29.248Z"
   },
   {
    "duration": 1428,
    "start_time": "2024-05-24T13:46:31.974Z"
   },
   {
    "duration": 777,
    "start_time": "2024-05-24T13:46:33.403Z"
   },
   {
    "duration": 5,
    "start_time": "2024-05-24T13:46:34.182Z"
   },
   {
    "duration": 1299,
    "start_time": "2024-05-24T13:46:34.190Z"
   },
   {
    "duration": 441,
    "start_time": "2024-05-24T13:46:35.490Z"
   },
   {
    "duration": 17,
    "start_time": "2024-05-24T13:46:35.932Z"
   },
   {
    "duration": 66,
    "start_time": "2024-05-24T13:46:35.950Z"
   },
   {
    "duration": 12,
    "start_time": "2024-05-24T13:46:36.017Z"
   },
   {
    "duration": 749,
    "start_time": "2024-05-24T13:46:36.031Z"
   },
   {
    "duration": 8128,
    "start_time": "2024-05-24T13:46:36.782Z"
   },
   {
    "duration": 18,
    "start_time": "2024-05-24T13:46:44.912Z"
   },
   {
    "duration": 4,
    "start_time": "2024-05-24T13:46:44.932Z"
   },
   {
    "duration": 13158,
    "start_time": "2024-05-24T13:46:44.939Z"
   },
   {
    "duration": 14,
    "start_time": "2024-05-24T13:46:58.098Z"
   },
   {
    "duration": 14,
    "start_time": "2024-05-24T13:46:58.113Z"
   },
   {
    "duration": 2,
    "start_time": "2024-05-24T13:46:58.129Z"
   },
   {
    "duration": 50,
    "start_time": "2024-05-24T13:46:58.133Z"
   },
   {
    "duration": 42,
    "start_time": "2024-05-24T13:46:58.185Z"
   },
   {
    "duration": 5,
    "start_time": "2024-05-24T13:46:58.228Z"
   },
   {
    "duration": 1490,
    "start_time": "2024-05-24T13:46:58.234Z"
   },
   {
    "duration": 4,
    "start_time": "2024-05-24T13:46:59.726Z"
   },
   {
    "duration": 4,
    "start_time": "2024-05-24T13:46:59.731Z"
   },
   {
    "duration": 59,
    "start_time": "2024-05-24T13:46:59.736Z"
   },
   {
    "duration": 29,
    "start_time": "2024-05-24T13:46:59.797Z"
   },
   {
    "duration": 3,
    "start_time": "2024-05-24T13:46:59.827Z"
   },
   {
    "duration": 97,
    "start_time": "2024-05-24T13:46:59.832Z"
   },
   {
    "duration": 6,
    "start_time": "2024-05-24T13:46:59.930Z"
   },
   {
    "duration": 38445,
    "start_time": "2024-05-24T13:46:59.937Z"
   },
   {
    "duration": 14,
    "start_time": "2024-05-24T13:47:38.383Z"
   },
   {
    "duration": 0,
    "start_time": "2024-05-24T13:47:38.398Z"
   },
   {
    "duration": 0,
    "start_time": "2024-05-24T13:47:38.399Z"
   },
   {
    "duration": 12,
    "start_time": "2024-05-24T13:47:38.712Z"
   },
   {
    "duration": 2705,
    "start_time": "2024-05-24T13:48:00.840Z"
   },
   {
    "duration": 3279,
    "start_time": "2024-05-24T13:48:03.547Z"
   },
   {
    "duration": 775,
    "start_time": "2024-05-24T13:48:06.828Z"
   },
   {
    "duration": 8,
    "start_time": "2024-05-24T13:48:07.604Z"
   },
   {
    "duration": 1247,
    "start_time": "2024-05-24T13:48:07.614Z"
   },
   {
    "duration": 459,
    "start_time": "2024-05-24T13:48:08.862Z"
   },
   {
    "duration": 17,
    "start_time": "2024-05-24T13:48:09.322Z"
   },
   {
    "duration": 54,
    "start_time": "2024-05-24T13:48:09.341Z"
   },
   {
    "duration": 18,
    "start_time": "2024-05-24T13:48:09.396Z"
   },
   {
    "duration": 707,
    "start_time": "2024-05-24T13:48:09.416Z"
   },
   {
    "duration": 9389,
    "start_time": "2024-05-24T13:48:10.125Z"
   },
   {
    "duration": 19,
    "start_time": "2024-05-24T13:48:19.516Z"
   },
   {
    "duration": 7,
    "start_time": "2024-05-24T13:48:19.537Z"
   },
   {
    "duration": 12955,
    "start_time": "2024-05-24T13:48:19.547Z"
   },
   {
    "duration": 11,
    "start_time": "2024-05-24T13:48:32.504Z"
   },
   {
    "duration": 19,
    "start_time": "2024-05-24T13:48:32.516Z"
   },
   {
    "duration": 3,
    "start_time": "2024-05-24T13:48:32.536Z"
   },
   {
    "duration": 76,
    "start_time": "2024-05-24T13:48:32.541Z"
   },
   {
    "duration": 27,
    "start_time": "2024-05-24T13:48:32.619Z"
   },
   {
    "duration": 752,
    "start_time": "2024-05-24T13:48:32.647Z"
   },
   {
    "duration": 1430,
    "start_time": "2024-05-24T13:48:33.400Z"
   },
   {
    "duration": 5,
    "start_time": "2024-05-24T13:48:34.831Z"
   },
   {
    "duration": 5,
    "start_time": "2024-05-24T13:48:34.837Z"
   },
   {
    "duration": 48,
    "start_time": "2024-05-24T13:48:34.843Z"
   },
   {
    "duration": 18,
    "start_time": "2024-05-24T13:48:34.911Z"
   },
   {
    "duration": 4,
    "start_time": "2024-05-24T13:48:34.930Z"
   },
   {
    "duration": 5,
    "start_time": "2024-05-24T13:48:34.935Z"
   },
   {
    "duration": 6,
    "start_time": "2024-05-24T13:48:34.942Z"
   },
   {
    "duration": 477783,
    "start_time": "2024-05-24T13:48:34.950Z"
   },
   {
    "duration": 18,
    "start_time": "2024-05-24T13:56:32.735Z"
   },
   {
    "duration": 31,
    "start_time": "2024-05-24T13:56:32.755Z"
   },
   {
    "duration": 2025,
    "start_time": "2024-05-24T13:56:32.787Z"
   },
   {
    "duration": 6,
    "start_time": "2024-05-24T14:08:30.286Z"
   },
   {
    "duration": 1476,
    "start_time": "2024-05-24T14:08:30.860Z"
   },
   {
    "duration": 219,
    "start_time": "2024-05-24T14:16:26.343Z"
   },
   {
    "duration": 3198,
    "start_time": "2024-05-26T19:11:14.759Z"
   },
   {
    "duration": 1624,
    "start_time": "2024-05-26T19:11:17.959Z"
   },
   {
    "duration": 1204,
    "start_time": "2024-05-26T19:11:19.585Z"
   },
   {
    "duration": 5,
    "start_time": "2024-05-26T19:11:20.791Z"
   },
   {
    "duration": 1470,
    "start_time": "2024-05-26T19:11:20.798Z"
   },
   {
    "duration": 936,
    "start_time": "2024-05-26T19:11:22.270Z"
   },
   {
    "duration": 25,
    "start_time": "2024-05-26T19:11:23.207Z"
   },
   {
    "duration": 72,
    "start_time": "2024-05-26T19:11:23.234Z"
   },
   {
    "duration": 9,
    "start_time": "2024-05-26T19:11:23.308Z"
   },
   {
    "duration": 723,
    "start_time": "2024-05-26T19:11:23.318Z"
   },
   {
    "duration": 170980,
    "start_time": "2024-05-26T19:11:24.042Z"
   },
   {
    "duration": 21,
    "start_time": "2024-05-26T19:14:15.025Z"
   },
   {
    "duration": 42,
    "start_time": "2024-05-26T19:14:15.048Z"
   },
   {
    "duration": 15142,
    "start_time": "2024-05-26T19:14:15.094Z"
   },
   {
    "duration": 6,
    "start_time": "2024-05-26T19:14:30.237Z"
   },
   {
    "duration": 59,
    "start_time": "2024-05-26T19:14:30.245Z"
   },
   {
    "duration": 30,
    "start_time": "2024-05-26T19:14:30.305Z"
   },
   {
    "duration": 95,
    "start_time": "2024-05-26T19:14:30.337Z"
   },
   {
    "duration": 23,
    "start_time": "2024-05-26T19:14:30.433Z"
   },
   {
    "duration": 970,
    "start_time": "2024-05-26T19:14:30.457Z"
   },
   {
    "duration": 1508,
    "start_time": "2024-05-26T19:14:31.429Z"
   },
   {
    "duration": 2,
    "start_time": "2024-05-26T19:14:32.940Z"
   },
   {
    "duration": 80,
    "start_time": "2024-05-26T19:14:32.944Z"
   },
   {
    "duration": 18,
    "start_time": "2024-05-26T19:14:33.026Z"
   },
   {
    "duration": 15,
    "start_time": "2024-05-26T19:14:33.046Z"
   },
   {
    "duration": 26,
    "start_time": "2024-05-26T19:14:33.063Z"
   },
   {
    "duration": 22,
    "start_time": "2024-05-26T19:14:33.091Z"
   },
   {
    "duration": 489918,
    "start_time": "2024-05-26T19:14:33.115Z"
   },
   {
    "duration": 15,
    "start_time": "2024-05-26T19:22:43.035Z"
   },
   {
    "duration": 55,
    "start_time": "2024-05-26T19:22:43.052Z"
   },
   {
    "duration": 1996,
    "start_time": "2024-05-26T19:22:43.108Z"
   },
   {
    "duration": 3131,
    "start_time": "2024-05-27T05:45:54.847Z"
   },
   {
    "duration": 1596,
    "start_time": "2024-05-27T05:45:57.980Z"
   },
   {
    "duration": 2817,
    "start_time": "2024-05-27T05:45:59.577Z"
   },
   {
    "duration": 5,
    "start_time": "2024-05-27T05:46:02.396Z"
   },
   {
    "duration": 1408,
    "start_time": "2024-05-27T05:46:02.403Z"
   },
   {
    "duration": 852,
    "start_time": "2024-05-27T05:46:03.812Z"
   },
   {
    "duration": 17,
    "start_time": "2024-05-27T05:46:04.666Z"
   },
   {
    "duration": 77,
    "start_time": "2024-05-27T05:46:04.684Z"
   },
   {
    "duration": 13,
    "start_time": "2024-05-27T05:46:04.762Z"
   },
   {
    "duration": 642,
    "start_time": "2024-05-27T05:46:04.777Z"
   },
   {
    "duration": 156745,
    "start_time": "2024-05-27T05:46:05.421Z"
   },
   {
    "duration": 18,
    "start_time": "2024-05-27T05:48:42.168Z"
   },
   {
    "duration": 5,
    "start_time": "2024-05-27T05:48:42.187Z"
   },
   {
    "duration": 14625,
    "start_time": "2024-05-27T05:48:42.194Z"
   },
   {
    "duration": 6,
    "start_time": "2024-05-27T05:48:56.820Z"
   },
   {
    "duration": 22,
    "start_time": "2024-05-27T05:48:56.827Z"
   },
   {
    "duration": 3,
    "start_time": "2024-05-27T05:48:56.851Z"
   },
   {
    "duration": 49,
    "start_time": "2024-05-27T05:48:56.855Z"
   },
   {
    "duration": 41,
    "start_time": "2024-05-27T05:48:56.906Z"
   },
   {
    "duration": 886,
    "start_time": "2024-05-27T05:48:56.948Z"
   },
   {
    "duration": 1454,
    "start_time": "2024-05-27T05:48:57.835Z"
   },
   {
    "duration": 2,
    "start_time": "2024-05-27T05:48:59.291Z"
   },
   {
    "duration": 75,
    "start_time": "2024-05-27T05:48:59.294Z"
   },
   {
    "duration": 17,
    "start_time": "2024-05-27T05:48:59.370Z"
   },
   {
    "duration": 4,
    "start_time": "2024-05-27T05:48:59.389Z"
   },
   {
    "duration": 11,
    "start_time": "2024-05-27T05:48:59.394Z"
   },
   {
    "duration": 4,
    "start_time": "2024-05-27T05:48:59.406Z"
   },
   {
    "duration": 490144,
    "start_time": "2024-05-27T05:48:59.412Z"
   },
   {
    "duration": 16,
    "start_time": "2024-05-27T05:57:09.559Z"
   },
   {
    "duration": 31,
    "start_time": "2024-05-27T05:57:09.576Z"
   },
   {
    "duration": 1848,
    "start_time": "2024-05-27T05:57:09.609Z"
   },
   {
    "duration": 116,
    "start_time": "2024-05-27T06:01:09.230Z"
   },
   {
    "duration": 66,
    "start_time": "2024-05-27T06:03:23.387Z"
   },
   {
    "duration": 79,
    "start_time": "2024-05-27T06:03:38.169Z"
   },
   {
    "duration": 27,
    "start_time": "2024-05-27T06:06:01.921Z"
   },
   {
    "duration": 2292,
    "start_time": "2024-05-27T08:07:34.699Z"
   },
   {
    "duration": 1439,
    "start_time": "2024-05-27T08:07:36.993Z"
   },
   {
    "duration": 830,
    "start_time": "2024-05-27T08:07:38.434Z"
   },
   {
    "duration": 5,
    "start_time": "2024-05-27T08:07:39.266Z"
   },
   {
    "duration": 1471,
    "start_time": "2024-05-27T08:07:39.274Z"
   },
   {
    "duration": 899,
    "start_time": "2024-05-27T08:07:40.746Z"
   },
   {
    "duration": 19,
    "start_time": "2024-05-27T08:07:41.647Z"
   },
   {
    "duration": 46,
    "start_time": "2024-05-27T08:07:41.668Z"
   },
   {
    "duration": 9,
    "start_time": "2024-05-27T08:07:41.715Z"
   },
   {
    "duration": 783,
    "start_time": "2024-05-27T08:07:41.725Z"
   },
   {
    "duration": 164384,
    "start_time": "2024-05-27T08:07:42.510Z"
   },
   {
    "duration": 20,
    "start_time": "2024-05-27T08:10:26.896Z"
   },
   {
    "duration": 5,
    "start_time": "2024-05-27T08:10:26.917Z"
   },
   {
    "duration": 14877,
    "start_time": "2024-05-27T08:10:26.926Z"
   },
   {
    "duration": 6,
    "start_time": "2024-05-27T08:10:41.805Z"
   },
   {
    "duration": 64,
    "start_time": "2024-05-27T08:10:41.813Z"
   },
   {
    "duration": 3,
    "start_time": "2024-05-27T08:10:41.878Z"
   },
   {
    "duration": 53,
    "start_time": "2024-05-27T08:10:41.883Z"
   },
   {
    "duration": 29,
    "start_time": "2024-05-27T08:10:41.937Z"
   },
   {
    "duration": 842,
    "start_time": "2024-05-27T08:10:41.968Z"
   },
   {
    "duration": 1456,
    "start_time": "2024-05-27T08:10:42.812Z"
   },
   {
    "duration": 86,
    "start_time": "2024-05-27T08:10:44.269Z"
   },
   {
    "duration": 264,
    "start_time": "2024-05-27T08:10:44.357Z"
   },
   {
    "duration": 0,
    "start_time": "2024-05-27T08:10:44.622Z"
   },
   {
    "duration": 0,
    "start_time": "2024-05-27T08:10:44.623Z"
   },
   {
    "duration": 0,
    "start_time": "2024-05-27T08:10:44.624Z"
   },
   {
    "duration": 0,
    "start_time": "2024-05-27T08:10:44.625Z"
   },
   {
    "duration": 0,
    "start_time": "2024-05-27T08:10:44.626Z"
   },
   {
    "duration": 0,
    "start_time": "2024-05-27T08:10:44.627Z"
   },
   {
    "duration": 0,
    "start_time": "2024-05-27T08:10:44.628Z"
   },
   {
    "duration": 0,
    "start_time": "2024-05-27T08:10:44.629Z"
   },
   {
    "duration": 0,
    "start_time": "2024-05-27T08:10:44.630Z"
   },
   {
    "duration": 0,
    "start_time": "2024-05-27T08:10:44.631Z"
   },
   {
    "duration": 529446,
    "start_time": "2024-05-27T08:15:24.342Z"
   },
   {
    "duration": 25,
    "start_time": "2024-05-27T08:24:14.348Z"
   },
   {
    "duration": 28,
    "start_time": "2024-05-27T08:24:42.509Z"
   },
   {
    "duration": 48,
    "start_time": "2024-05-27T08:35:11.459Z"
   },
   {
    "duration": 7,
    "start_time": "2024-05-27T08:35:35.475Z"
   },
   {
    "duration": 6,
    "start_time": "2024-05-27T08:38:27.974Z"
   },
   {
    "duration": 2292,
    "start_time": "2024-05-27T08:38:48.258Z"
   },
   {
    "duration": 1454,
    "start_time": "2024-05-27T08:38:50.552Z"
   },
   {
    "duration": 2747,
    "start_time": "2024-05-27T08:38:52.007Z"
   },
   {
    "duration": 5,
    "start_time": "2024-05-27T08:38:54.756Z"
   },
   {
    "duration": 1316,
    "start_time": "2024-05-27T08:38:54.763Z"
   },
   {
    "duration": 821,
    "start_time": "2024-05-27T08:38:56.080Z"
   },
   {
    "duration": 19,
    "start_time": "2024-05-27T08:38:56.903Z"
   },
   {
    "duration": 60,
    "start_time": "2024-05-27T08:38:56.924Z"
   },
   {
    "duration": 8,
    "start_time": "2024-05-27T08:38:56.985Z"
   },
   {
    "duration": 874,
    "start_time": "2024-05-27T08:38:56.995Z"
   },
   {
    "duration": 156293,
    "start_time": "2024-05-27T08:38:57.870Z"
   },
   {
    "duration": 18,
    "start_time": "2024-05-27T08:41:34.164Z"
   },
   {
    "duration": 12,
    "start_time": "2024-05-27T08:41:34.183Z"
   },
   {
    "duration": 14351,
    "start_time": "2024-05-27T08:41:34.197Z"
   },
   {
    "duration": 5,
    "start_time": "2024-05-27T08:41:48.550Z"
   },
   {
    "duration": 21,
    "start_time": "2024-05-27T08:41:48.557Z"
   },
   {
    "duration": 10,
    "start_time": "2024-05-27T08:41:48.580Z"
   },
   {
    "duration": 58,
    "start_time": "2024-05-27T08:41:48.592Z"
   },
   {
    "duration": 20,
    "start_time": "2024-05-27T08:41:48.651Z"
   },
   {
    "duration": 880,
    "start_time": "2024-05-27T08:41:48.673Z"
   },
   {
    "duration": 1516,
    "start_time": "2024-05-27T08:41:49.555Z"
   },
   {
    "duration": 85,
    "start_time": "2024-05-27T08:41:51.073Z"
   },
   {
    "duration": 8,
    "start_time": "2024-05-27T08:41:51.159Z"
   },
   {
    "duration": 37,
    "start_time": "2024-05-27T08:41:51.168Z"
   },
   {
    "duration": 10,
    "start_time": "2024-05-27T08:41:51.206Z"
   },
   {
    "duration": 2264,
    "start_time": "2024-05-27T08:43:07.279Z"
   },
   {
    "duration": 1405,
    "start_time": "2024-05-27T08:43:09.546Z"
   },
   {
    "duration": 813,
    "start_time": "2024-05-27T08:43:10.952Z"
   },
   {
    "duration": 6,
    "start_time": "2024-05-27T08:43:11.767Z"
   },
   {
    "duration": 1377,
    "start_time": "2024-05-27T08:43:11.775Z"
   },
   {
    "duration": 898,
    "start_time": "2024-05-27T08:43:13.153Z"
   },
   {
    "duration": 18,
    "start_time": "2024-05-27T08:43:14.053Z"
   },
   {
    "duration": 46,
    "start_time": "2024-05-27T08:43:14.072Z"
   },
   {
    "duration": 26,
    "start_time": "2024-05-27T08:43:14.119Z"
   },
   {
    "duration": 736,
    "start_time": "2024-05-27T08:43:14.147Z"
   },
   {
    "duration": 161023,
    "start_time": "2024-05-27T08:43:14.884Z"
   },
   {
    "duration": 19,
    "start_time": "2024-05-27T08:45:55.908Z"
   },
   {
    "duration": 10,
    "start_time": "2024-05-27T08:45:55.928Z"
   },
   {
    "duration": 14436,
    "start_time": "2024-05-27T08:45:55.940Z"
   },
   {
    "duration": 6,
    "start_time": "2024-05-27T08:46:10.377Z"
   },
   {
    "duration": 41,
    "start_time": "2024-05-27T08:46:10.384Z"
   },
   {
    "duration": 16,
    "start_time": "2024-05-27T08:46:10.427Z"
   },
   {
    "duration": 86,
    "start_time": "2024-05-27T08:46:10.445Z"
   },
   {
    "duration": 21,
    "start_time": "2024-05-27T08:46:10.532Z"
   },
   {
    "duration": 902,
    "start_time": "2024-05-27T08:46:10.554Z"
   },
   {
    "duration": 1509,
    "start_time": "2024-05-27T08:46:11.458Z"
   },
   {
    "duration": 86,
    "start_time": "2024-05-27T08:46:12.968Z"
   },
   {
    "duration": 7,
    "start_time": "2024-05-27T08:46:13.056Z"
   },
   {
    "duration": 51,
    "start_time": "2024-05-27T08:46:13.064Z"
   },
   {
    "duration": 5,
    "start_time": "2024-05-27T08:46:13.116Z"
   },
   {
    "duration": 22,
    "start_time": "2024-05-27T08:46:13.122Z"
   },
   {
    "duration": 5,
    "start_time": "2024-05-27T08:46:13.146Z"
   },
   {
    "duration": 56,
    "start_time": "2024-05-27T08:46:13.152Z"
   },
   {
    "duration": 18,
    "start_time": "2024-05-27T08:46:13.209Z"
   },
   {
    "duration": 17,
    "start_time": "2024-05-27T08:46:13.228Z"
   },
   {
    "duration": 7,
    "start_time": "2024-05-27T08:46:13.247Z"
   },
   {
    "duration": 7,
    "start_time": "2024-05-27T08:46:13.255Z"
   },
   {
    "duration": 485719,
    "start_time": "2024-05-27T08:46:13.263Z"
   },
   {
    "duration": 16,
    "start_time": "2024-05-27T08:54:18.983Z"
   },
   {
    "duration": 23,
    "start_time": "2024-05-27T08:54:19.046Z"
   },
   {
    "duration": 1899,
    "start_time": "2024-05-27T08:54:19.071Z"
   },
   {
    "duration": 168797,
    "start_time": "2024-05-27T09:17:58.655Z"
   },
   {
    "duration": 27,
    "start_time": "2024-05-27T09:57:56.217Z"
   },
   {
    "duration": 172,
    "start_time": "2024-05-27T10:48:21.298Z"
   },
   {
    "duration": 0,
    "start_time": "2024-05-27T10:48:21.472Z"
   },
   {
    "duration": 0,
    "start_time": "2024-05-27T10:48:21.474Z"
   },
   {
    "duration": 0,
    "start_time": "2024-05-27T10:48:21.475Z"
   },
   {
    "duration": 0,
    "start_time": "2024-05-27T10:48:21.476Z"
   },
   {
    "duration": 7,
    "start_time": "2024-05-27T10:48:21.688Z"
   },
   {
    "duration": 0,
    "start_time": "2024-05-27T10:48:21.696Z"
   },
   {
    "duration": 0,
    "start_time": "2024-05-27T10:48:21.697Z"
   },
   {
    "duration": 6,
    "start_time": "2024-05-27T10:48:21.756Z"
   },
   {
    "duration": 0,
    "start_time": "2024-05-27T10:48:21.763Z"
   },
   {
    "duration": 0,
    "start_time": "2024-05-27T10:48:21.764Z"
   },
   {
    "duration": 0,
    "start_time": "2024-05-27T10:48:21.766Z"
   },
   {
    "duration": 0,
    "start_time": "2024-05-27T10:48:21.767Z"
   },
   {
    "duration": 0,
    "start_time": "2024-05-27T10:48:21.768Z"
   },
   {
    "duration": 0,
    "start_time": "2024-05-27T10:48:21.769Z"
   },
   {
    "duration": 0,
    "start_time": "2024-05-27T10:48:21.771Z"
   },
   {
    "duration": 0,
    "start_time": "2024-05-27T10:48:21.772Z"
   },
   {
    "duration": 7,
    "start_time": "2024-05-27T10:48:21.844Z"
   },
   {
    "duration": 0,
    "start_time": "2024-05-27T10:48:21.853Z"
   },
   {
    "duration": 0,
    "start_time": "2024-05-27T10:48:21.854Z"
   },
   {
    "duration": 0,
    "start_time": "2024-05-27T10:48:21.855Z"
   },
   {
    "duration": 0,
    "start_time": "2024-05-27T10:48:21.856Z"
   },
   {
    "duration": 0,
    "start_time": "2024-05-27T10:48:21.857Z"
   },
   {
    "duration": 111,
    "start_time": "2024-05-27T10:48:21.867Z"
   },
   {
    "duration": 0,
    "start_time": "2024-05-27T10:48:21.980Z"
   },
   {
    "duration": 6,
    "start_time": "2024-05-27T10:48:22.200Z"
   },
   {
    "duration": 7,
    "start_time": "2024-05-27T10:48:22.259Z"
   },
   {
    "duration": 0,
    "start_time": "2024-05-27T10:48:22.267Z"
   },
   {
    "duration": 0,
    "start_time": "2024-05-27T10:48:22.268Z"
   },
   {
    "duration": 8,
    "start_time": "2024-05-27T10:48:22.310Z"
   },
   {
    "duration": 0,
    "start_time": "2024-05-27T10:48:22.320Z"
   },
   {
    "duration": 0,
    "start_time": "2024-05-27T10:48:22.321Z"
   },
   {
    "duration": 0,
    "start_time": "2024-05-27T10:48:22.323Z"
   },
   {
    "duration": 6,
    "start_time": "2024-05-27T10:48:22.371Z"
   },
   {
    "duration": 0,
    "start_time": "2024-05-27T10:48:22.378Z"
   },
   {
    "duration": 0,
    "start_time": "2024-05-27T10:48:22.379Z"
   },
   {
    "duration": 2342,
    "start_time": "2024-05-27T10:50:46.839Z"
   },
   {
    "duration": 1404,
    "start_time": "2024-05-27T10:50:49.183Z"
   },
   {
    "duration": 2,
    "start_time": "2024-05-27T10:50:50.588Z"
   },
   {
    "duration": 875,
    "start_time": "2024-05-27T10:50:50.592Z"
   },
   {
    "duration": 6,
    "start_time": "2024-05-27T10:50:51.469Z"
   },
   {
    "duration": 1408,
    "start_time": "2024-05-27T10:50:51.476Z"
   },
   {
    "duration": 929,
    "start_time": "2024-05-27T10:50:52.885Z"
   },
   {
    "duration": 30,
    "start_time": "2024-05-27T10:50:53.815Z"
   },
   {
    "duration": 48,
    "start_time": "2024-05-27T10:50:53.846Z"
   },
   {
    "duration": 8,
    "start_time": "2024-05-27T10:50:53.896Z"
   },
   {
    "duration": 741,
    "start_time": "2024-05-27T10:50:53.905Z"
   },
   {
    "duration": 17,
    "start_time": "2024-05-27T10:50:54.647Z"
   },
   {
    "duration": 14,
    "start_time": "2024-05-27T10:50:54.665Z"
   },
   {
    "duration": 14753,
    "start_time": "2024-05-27T10:50:54.682Z"
   },
   {
    "duration": 10,
    "start_time": "2024-05-27T10:51:09.436Z"
   },
   {
    "duration": 15,
    "start_time": "2024-05-27T10:51:09.447Z"
   },
   {
    "duration": 3,
    "start_time": "2024-05-27T10:51:09.463Z"
   },
   {
    "duration": 81,
    "start_time": "2024-05-27T10:51:09.467Z"
   },
   {
    "duration": 25,
    "start_time": "2024-05-27T10:51:09.550Z"
   },
   {
    "duration": 883,
    "start_time": "2024-05-27T10:51:09.577Z"
   },
   {
    "duration": 1517,
    "start_time": "2024-05-27T10:51:10.461Z"
   },
   {
    "duration": 13,
    "start_time": "2024-05-27T10:51:11.980Z"
   },
   {
    "duration": 90,
    "start_time": "2024-05-27T10:51:11.994Z"
   },
   {
    "duration": 8,
    "start_time": "2024-05-27T10:51:12.085Z"
   },
   {
    "duration": 69,
    "start_time": "2024-05-27T10:51:12.094Z"
   },
   {
    "duration": 169169,
    "start_time": "2024-05-27T10:51:12.165Z"
   },
   {
    "duration": 58,
    "start_time": "2024-05-27T10:54:01.337Z"
   },
   {
    "duration": 34,
    "start_time": "2024-05-27T10:54:01.396Z"
   },
   {
    "duration": 152,
    "start_time": "2024-05-27T10:54:01.432Z"
   },
   {
    "duration": 0,
    "start_time": "2024-05-27T10:54:01.585Z"
   },
   {
    "duration": 0,
    "start_time": "2024-05-27T10:54:01.587Z"
   },
   {
    "duration": 0,
    "start_time": "2024-05-27T10:54:01.588Z"
   },
   {
    "duration": 0,
    "start_time": "2024-05-27T10:54:01.589Z"
   },
   {
    "duration": 0,
    "start_time": "2024-05-27T10:54:01.589Z"
   },
   {
    "duration": 0,
    "start_time": "2024-05-27T10:54:01.590Z"
   },
   {
    "duration": 0,
    "start_time": "2024-05-27T10:54:01.591Z"
   },
   {
    "duration": 2247,
    "start_time": "2024-05-27T11:19:11.158Z"
   },
   {
    "duration": 1352,
    "start_time": "2024-05-27T11:19:13.407Z"
   },
   {
    "duration": 3,
    "start_time": "2024-05-27T11:19:14.760Z"
   },
   {
    "duration": 871,
    "start_time": "2024-05-27T11:19:14.764Z"
   },
   {
    "duration": 8,
    "start_time": "2024-05-27T11:19:15.637Z"
   },
   {
    "duration": 1449,
    "start_time": "2024-05-27T11:19:15.647Z"
   },
   {
    "duration": 922,
    "start_time": "2024-05-27T11:19:17.097Z"
   },
   {
    "duration": 25,
    "start_time": "2024-05-27T11:19:18.020Z"
   },
   {
    "duration": 50,
    "start_time": "2024-05-27T11:19:18.046Z"
   },
   {
    "duration": 13,
    "start_time": "2024-05-27T11:19:18.098Z"
   },
   {
    "duration": 766,
    "start_time": "2024-05-27T11:19:18.112Z"
   },
   {
    "duration": 18,
    "start_time": "2024-05-27T11:19:18.880Z"
   },
   {
    "duration": 6,
    "start_time": "2024-05-27T11:19:18.899Z"
   },
   {
    "duration": 14316,
    "start_time": "2024-05-27T11:19:18.909Z"
   },
   {
    "duration": 6,
    "start_time": "2024-05-27T11:19:33.226Z"
   },
   {
    "duration": 64,
    "start_time": "2024-05-27T11:19:33.233Z"
   },
   {
    "duration": 13,
    "start_time": "2024-05-27T11:19:33.299Z"
   },
   {
    "duration": 69,
    "start_time": "2024-05-27T11:19:33.313Z"
   },
   {
    "duration": 22,
    "start_time": "2024-05-27T11:19:33.383Z"
   },
   {
    "duration": 828,
    "start_time": "2024-05-27T11:19:33.406Z"
   },
   {
    "duration": 1545,
    "start_time": "2024-05-27T11:19:34.236Z"
   },
   {
    "duration": 13,
    "start_time": "2024-05-27T11:19:35.782Z"
   },
   {
    "duration": 91,
    "start_time": "2024-05-27T11:19:35.796Z"
   },
   {
    "duration": 7,
    "start_time": "2024-05-27T11:19:35.888Z"
   },
   {
    "duration": 72,
    "start_time": "2024-05-27T11:19:35.897Z"
   },
   {
    "duration": 160497,
    "start_time": "2024-05-27T11:19:35.970Z"
   },
   {
    "duration": 54,
    "start_time": "2024-05-27T11:22:16.468Z"
   },
   {
    "duration": 18,
    "start_time": "2024-05-27T11:22:16.524Z"
   },
   {
    "duration": 6,
    "start_time": "2024-05-27T11:22:16.543Z"
   },
   {
    "duration": 111,
    "start_time": "2024-05-27T11:22:16.551Z"
   },
   {
    "duration": 69,
    "start_time": "2024-05-27T11:22:16.664Z"
   },
   {
    "duration": 3,
    "start_time": "2024-05-27T11:22:16.745Z"
   },
   {
    "duration": 287441,
    "start_time": "2024-05-27T11:22:16.750Z"
   },
   {
    "duration": 53,
    "start_time": "2024-05-27T11:27:04.193Z"
   },
   {
    "duration": 41,
    "start_time": "2024-05-27T11:27:04.248Z"
   },
   {
    "duration": 457,
    "start_time": "2024-05-27T11:27:04.291Z"
   },
   {
    "duration": 5,
    "start_time": "2024-05-27T11:30:37.869Z"
   },
   {
    "duration": 3,
    "start_time": "2024-05-27T11:30:45.727Z"
   },
   {
    "duration": 170,
    "start_time": "2024-05-27T11:30:46.496Z"
   },
   {
    "duration": 4,
    "start_time": "2024-05-27T11:38:53.043Z"
   },
   {
    "duration": 9,
    "start_time": "2024-05-27T11:38:55.068Z"
   },
   {
    "duration": 2371,
    "start_time": "2024-05-27T11:39:13.096Z"
   },
   {
    "duration": 1454,
    "start_time": "2024-05-27T11:39:15.469Z"
   },
   {
    "duration": 3,
    "start_time": "2024-05-27T11:39:16.925Z"
   },
   {
    "duration": 894,
    "start_time": "2024-05-27T11:39:16.929Z"
   },
   {
    "duration": 5,
    "start_time": "2024-05-27T11:39:17.825Z"
   },
   {
    "duration": 1560,
    "start_time": "2024-05-27T11:39:17.832Z"
   },
   {
    "duration": 1033,
    "start_time": "2024-05-27T11:39:19.393Z"
   },
   {
    "duration": 30,
    "start_time": "2024-05-27T11:39:20.428Z"
   },
   {
    "duration": 86,
    "start_time": "2024-05-27T11:39:20.459Z"
   },
   {
    "duration": 8,
    "start_time": "2024-05-27T11:39:20.547Z"
   },
   {
    "duration": 719,
    "start_time": "2024-05-27T11:39:20.557Z"
   },
   {
    "duration": 17,
    "start_time": "2024-05-27T11:39:21.278Z"
   },
   {
    "duration": 14,
    "start_time": "2024-05-27T11:39:21.297Z"
   },
   {
    "duration": 15222,
    "start_time": "2024-05-27T11:39:21.313Z"
   },
   {
    "duration": 12,
    "start_time": "2024-05-27T11:39:36.537Z"
   },
   {
    "duration": 51,
    "start_time": "2024-05-27T11:39:36.551Z"
   },
   {
    "duration": 28,
    "start_time": "2024-05-27T11:39:36.604Z"
   },
   {
    "duration": 96,
    "start_time": "2024-05-27T11:39:36.634Z"
   },
   {
    "duration": 57,
    "start_time": "2024-05-27T11:39:36.731Z"
   },
   {
    "duration": 907,
    "start_time": "2024-05-27T11:39:36.790Z"
   },
   {
    "duration": 1480,
    "start_time": "2024-05-27T11:39:37.698Z"
   },
   {
    "duration": 14,
    "start_time": "2024-05-27T11:39:39.179Z"
   },
   {
    "duration": 116,
    "start_time": "2024-05-27T11:39:39.194Z"
   },
   {
    "duration": 15,
    "start_time": "2024-05-27T11:39:39.311Z"
   },
   {
    "duration": 75,
    "start_time": "2024-05-27T11:39:39.328Z"
   },
   {
    "duration": 2306,
    "start_time": "2024-05-27T11:56:06.865Z"
   },
   {
    "duration": 1398,
    "start_time": "2024-05-27T11:56:09.173Z"
   },
   {
    "duration": 2,
    "start_time": "2024-05-27T11:56:10.573Z"
   },
   {
    "duration": 821,
    "start_time": "2024-05-27T11:56:10.576Z"
   },
   {
    "duration": 5,
    "start_time": "2024-05-27T11:56:11.399Z"
   },
   {
    "duration": 1372,
    "start_time": "2024-05-27T11:56:11.405Z"
   },
   {
    "duration": 842,
    "start_time": "2024-05-27T11:56:12.779Z"
   },
   {
    "duration": 26,
    "start_time": "2024-05-27T11:56:13.622Z"
   },
   {
    "duration": 64,
    "start_time": "2024-05-27T11:56:13.649Z"
   },
   {
    "duration": 8,
    "start_time": "2024-05-27T11:56:13.714Z"
   },
   {
    "duration": 696,
    "start_time": "2024-05-27T11:56:13.723Z"
   },
   {
    "duration": 25,
    "start_time": "2024-05-27T11:56:14.420Z"
   },
   {
    "duration": 23,
    "start_time": "2024-05-27T11:56:14.446Z"
   },
   {
    "duration": 14815,
    "start_time": "2024-05-27T11:56:14.472Z"
   },
   {
    "duration": 7,
    "start_time": "2024-05-27T11:56:29.289Z"
   },
   {
    "duration": 40,
    "start_time": "2024-05-27T11:56:29.297Z"
   },
   {
    "duration": 35,
    "start_time": "2024-05-27T11:56:29.339Z"
   },
   {
    "duration": 69,
    "start_time": "2024-05-27T11:56:29.375Z"
   },
   {
    "duration": 24,
    "start_time": "2024-05-27T11:56:29.446Z"
   },
   {
    "duration": 936,
    "start_time": "2024-05-27T11:56:29.471Z"
   },
   {
    "duration": 1575,
    "start_time": "2024-05-27T11:56:30.409Z"
   },
   {
    "duration": 14,
    "start_time": "2024-05-27T11:56:31.985Z"
   },
   {
    "duration": 93,
    "start_time": "2024-05-27T11:56:32.000Z"
   },
   {
    "duration": 7,
    "start_time": "2024-05-27T11:56:32.095Z"
   },
   {
    "duration": 50,
    "start_time": "2024-05-27T11:56:32.103Z"
   },
   {
    "duration": 164056,
    "start_time": "2024-05-27T11:56:32.154Z"
   },
   {
    "duration": 58,
    "start_time": "2024-05-27T11:59:16.212Z"
   },
   {
    "duration": 21,
    "start_time": "2024-05-27T11:59:16.271Z"
   },
   {
    "duration": 5,
    "start_time": "2024-05-27T11:59:16.293Z"
   },
   {
    "duration": 137,
    "start_time": "2024-05-27T11:59:16.299Z"
   },
   {
    "duration": 75,
    "start_time": "2024-05-27T11:59:16.438Z"
   },
   {
    "duration": 5,
    "start_time": "2024-05-27T11:59:16.515Z"
   },
   {
    "duration": 309274,
    "start_time": "2024-05-27T11:59:16.521Z"
   },
   {
    "duration": 59,
    "start_time": "2024-05-27T12:04:25.798Z"
   },
   {
    "duration": 60,
    "start_time": "2024-05-27T12:04:25.859Z"
   },
   {
    "duration": 529,
    "start_time": "2024-05-27T12:04:25.920Z"
   },
   {
    "duration": 4,
    "start_time": "2024-05-27T12:17:44.046Z"
   },
   {
    "duration": 9,
    "start_time": "2024-05-27T12:17:45.595Z"
   },
   {
    "duration": 110,
    "start_time": "2024-05-27T12:20:07.961Z"
   },
   {
    "duration": 132,
    "start_time": "2024-05-27T12:20:08.747Z"
   },
   {
    "duration": 2307,
    "start_time": "2024-05-27T12:22:32.703Z"
   },
   {
    "duration": 1458,
    "start_time": "2024-05-27T12:22:35.013Z"
   },
   {
    "duration": 2,
    "start_time": "2024-05-27T12:22:36.473Z"
   },
   {
    "duration": 861,
    "start_time": "2024-05-27T12:22:36.476Z"
   },
   {
    "duration": 7,
    "start_time": "2024-05-27T12:22:37.340Z"
   },
   {
    "duration": 1398,
    "start_time": "2024-05-27T12:22:37.349Z"
   },
   {
    "duration": 867,
    "start_time": "2024-05-27T12:22:38.749Z"
   },
   {
    "duration": 28,
    "start_time": "2024-05-27T12:22:39.617Z"
   },
   {
    "duration": 48,
    "start_time": "2024-05-27T12:22:39.646Z"
   },
   {
    "duration": 8,
    "start_time": "2024-05-27T12:22:39.695Z"
   },
   {
    "duration": 669,
    "start_time": "2024-05-27T12:22:39.705Z"
   },
   {
    "duration": 17,
    "start_time": "2024-05-27T12:22:40.376Z"
   },
   {
    "duration": 17,
    "start_time": "2024-05-27T12:22:40.395Z"
   },
   {
    "duration": 14616,
    "start_time": "2024-05-27T12:22:40.415Z"
   },
   {
    "duration": 6,
    "start_time": "2024-05-27T12:22:55.032Z"
   },
   {
    "duration": 21,
    "start_time": "2024-05-27T12:22:55.045Z"
   },
   {
    "duration": 16,
    "start_time": "2024-05-27T12:22:55.067Z"
   },
   {
    "duration": 84,
    "start_time": "2024-05-27T12:22:55.084Z"
   },
   {
    "duration": 22,
    "start_time": "2024-05-27T12:22:55.169Z"
   },
   {
    "duration": 874,
    "start_time": "2024-05-27T12:22:55.192Z"
   },
   {
    "duration": 1511,
    "start_time": "2024-05-27T12:22:56.067Z"
   },
   {
    "duration": 14,
    "start_time": "2024-05-27T12:22:57.579Z"
   },
   {
    "duration": 94,
    "start_time": "2024-05-27T12:22:57.594Z"
   },
   {
    "duration": 11,
    "start_time": "2024-05-27T12:22:57.690Z"
   },
   {
    "duration": 43,
    "start_time": "2024-05-27T12:22:57.703Z"
   },
   {
    "duration": 159548,
    "start_time": "2024-05-27T12:22:57.747Z"
   },
   {
    "duration": 104,
    "start_time": "2024-05-27T12:25:37.297Z"
   },
   {
    "duration": 138,
    "start_time": "2024-05-27T12:25:37.402Z"
   },
   {
    "duration": 5,
    "start_time": "2024-05-27T12:25:37.545Z"
   },
   {
    "duration": 27,
    "start_time": "2024-05-27T12:25:37.551Z"
   },
   {
    "duration": 5,
    "start_time": "2024-05-27T12:25:37.579Z"
   },
   {
    "duration": 70,
    "start_time": "2024-05-27T12:25:37.586Z"
   },
   {
    "duration": 4,
    "start_time": "2024-05-27T12:25:37.658Z"
   },
   {
    "duration": 169,
    "start_time": "2024-05-27T12:25:37.663Z"
   },
   {
    "duration": 93,
    "start_time": "2024-05-27T12:25:37.833Z"
   },
   {
    "duration": 8,
    "start_time": "2024-05-27T12:25:37.928Z"
   },
   {
    "duration": 0,
    "start_time": "2024-05-27T12:25:37.938Z"
   },
   {
    "duration": 0,
    "start_time": "2024-05-27T12:25:37.939Z"
   },
   {
    "duration": 0,
    "start_time": "2024-05-27T12:25:37.939Z"
   },
   {
    "duration": 0,
    "start_time": "2024-05-27T12:25:37.940Z"
   },
   {
    "duration": 60,
    "start_time": "2024-05-27T12:26:02.535Z"
   },
   {
    "duration": 20259,
    "start_time": "2024-05-27T12:26:03.447Z"
   },
   {
    "duration": 106,
    "start_time": "2024-05-27T12:26:28.132Z"
   },
   {
    "duration": 2239,
    "start_time": "2024-05-27T12:26:38.220Z"
   },
   {
    "duration": 1392,
    "start_time": "2024-05-27T12:26:40.462Z"
   },
   {
    "duration": 2,
    "start_time": "2024-05-27T12:26:41.856Z"
   },
   {
    "duration": 791,
    "start_time": "2024-05-27T12:26:41.860Z"
   },
   {
    "duration": 6,
    "start_time": "2024-05-27T12:26:42.653Z"
   },
   {
    "duration": 1414,
    "start_time": "2024-05-27T12:26:42.660Z"
   },
   {
    "duration": 871,
    "start_time": "2024-05-27T12:26:44.075Z"
   },
   {
    "duration": 18,
    "start_time": "2024-05-27T12:26:44.948Z"
   },
   {
    "duration": 49,
    "start_time": "2024-05-27T12:26:44.967Z"
   },
   {
    "duration": 8,
    "start_time": "2024-05-27T12:26:45.018Z"
   },
   {
    "duration": 674,
    "start_time": "2024-05-27T12:26:45.045Z"
   },
   {
    "duration": 25,
    "start_time": "2024-05-27T12:26:45.720Z"
   },
   {
    "duration": 5,
    "start_time": "2024-05-27T12:26:45.746Z"
   },
   {
    "duration": 14585,
    "start_time": "2024-05-27T12:26:45.753Z"
   },
   {
    "duration": 5,
    "start_time": "2024-05-27T12:27:00.340Z"
   },
   {
    "duration": 38,
    "start_time": "2024-05-27T12:27:00.347Z"
   },
   {
    "duration": 43,
    "start_time": "2024-05-27T12:27:00.387Z"
   },
   {
    "duration": 71,
    "start_time": "2024-05-27T12:27:00.431Z"
   },
   {
    "duration": 37,
    "start_time": "2024-05-27T12:27:00.504Z"
   },
   {
    "duration": 879,
    "start_time": "2024-05-27T12:27:00.542Z"
   },
   {
    "duration": 1553,
    "start_time": "2024-05-27T12:27:01.422Z"
   },
   {
    "duration": 13,
    "start_time": "2024-05-27T12:27:02.977Z"
   },
   {
    "duration": 85,
    "start_time": "2024-05-27T12:27:02.991Z"
   },
   {
    "duration": 7,
    "start_time": "2024-05-27T12:27:03.078Z"
   },
   {
    "duration": 54,
    "start_time": "2024-05-27T12:27:03.087Z"
   },
   {
    "duration": 164140,
    "start_time": "2024-05-27T12:27:03.142Z"
   },
   {
    "duration": 101,
    "start_time": "2024-05-27T12:29:47.284Z"
   },
   {
    "duration": 115,
    "start_time": "2024-05-27T12:29:47.386Z"
   },
   {
    "duration": 0,
    "start_time": "2024-05-27T12:29:47.503Z"
   },
   {
    "duration": 0,
    "start_time": "2024-05-27T12:29:47.504Z"
   },
   {
    "duration": 0,
    "start_time": "2024-05-27T12:29:47.505Z"
   },
   {
    "duration": 0,
    "start_time": "2024-05-27T12:29:47.506Z"
   },
   {
    "duration": 0,
    "start_time": "2024-05-27T12:29:47.507Z"
   },
   {
    "duration": 0,
    "start_time": "2024-05-27T12:29:47.508Z"
   },
   {
    "duration": 0,
    "start_time": "2024-05-27T12:29:47.509Z"
   },
   {
    "duration": 0,
    "start_time": "2024-05-27T12:29:47.510Z"
   },
   {
    "duration": 0,
    "start_time": "2024-05-27T12:29:47.511Z"
   },
   {
    "duration": 0,
    "start_time": "2024-05-27T12:29:47.513Z"
   },
   {
    "duration": 0,
    "start_time": "2024-05-27T12:29:47.514Z"
   },
   {
    "duration": 0,
    "start_time": "2024-05-27T12:29:47.515Z"
   },
   {
    "duration": 2332,
    "start_time": "2024-05-27T12:32:06.825Z"
   },
   {
    "duration": 1437,
    "start_time": "2024-05-27T12:32:09.160Z"
   },
   {
    "duration": 2,
    "start_time": "2024-05-27T12:32:10.599Z"
   },
   {
    "duration": 814,
    "start_time": "2024-05-27T12:32:10.602Z"
   },
   {
    "duration": 7,
    "start_time": "2024-05-27T12:32:11.418Z"
   },
   {
    "duration": 1311,
    "start_time": "2024-05-27T12:32:11.426Z"
   },
   {
    "duration": 842,
    "start_time": "2024-05-27T12:32:12.739Z"
   },
   {
    "duration": 17,
    "start_time": "2024-05-27T12:32:13.582Z"
   },
   {
    "duration": 62,
    "start_time": "2024-05-27T12:32:13.601Z"
   },
   {
    "duration": 8,
    "start_time": "2024-05-27T12:32:13.665Z"
   },
   {
    "duration": 671,
    "start_time": "2024-05-27T12:32:13.674Z"
   },
   {
    "duration": 22,
    "start_time": "2024-05-27T12:32:14.346Z"
   },
   {
    "duration": 17,
    "start_time": "2024-05-27T12:32:14.369Z"
   },
   {
    "duration": 14385,
    "start_time": "2024-05-27T12:32:14.390Z"
   },
   {
    "duration": 5,
    "start_time": "2024-05-27T12:32:28.776Z"
   },
   {
    "duration": 41,
    "start_time": "2024-05-27T12:32:28.783Z"
   },
   {
    "duration": 17,
    "start_time": "2024-05-27T12:32:28.825Z"
   },
   {
    "duration": 95,
    "start_time": "2024-05-27T12:32:28.844Z"
   },
   {
    "duration": 23,
    "start_time": "2024-05-27T12:32:28.942Z"
   },
   {
    "duration": 889,
    "start_time": "2024-05-27T12:32:28.966Z"
   },
   {
    "duration": 1522,
    "start_time": "2024-05-27T12:32:29.856Z"
   },
   {
    "duration": 13,
    "start_time": "2024-05-27T12:32:31.380Z"
   },
   {
    "duration": 167,
    "start_time": "2024-05-27T12:32:31.394Z"
   },
   {
    "duration": 135,
    "start_time": "2024-05-27T12:32:31.562Z"
   },
   {
    "duration": 138,
    "start_time": "2024-05-27T12:32:31.698Z"
   },
   {
    "duration": 161149,
    "start_time": "2024-05-27T12:32:31.837Z"
   },
   {
    "duration": 102,
    "start_time": "2024-05-27T12:35:12.988Z"
   },
   {
    "duration": 147,
    "start_time": "2024-05-27T12:35:13.091Z"
   },
   {
    "duration": 6,
    "start_time": "2024-05-27T12:35:13.239Z"
   },
   {
    "duration": 48,
    "start_time": "2024-05-27T12:35:13.246Z"
   },
   {
    "duration": 36,
    "start_time": "2024-05-27T12:35:13.296Z"
   },
   {
    "duration": 79,
    "start_time": "2024-05-27T12:35:13.334Z"
   },
   {
    "duration": 33,
    "start_time": "2024-05-27T12:35:13.415Z"
   },
   {
    "duration": 20867,
    "start_time": "2024-05-27T12:35:13.450Z"
   },
   {
    "duration": 20212,
    "start_time": "2024-05-27T12:35:34.318Z"
   },
   {
    "duration": 124,
    "start_time": "2024-05-27T12:35:54.532Z"
   },
   {
    "duration": 0,
    "start_time": "2024-05-27T12:35:54.657Z"
   },
   {
    "duration": 0,
    "start_time": "2024-05-27T12:35:54.659Z"
   },
   {
    "duration": 0,
    "start_time": "2024-05-27T12:35:54.660Z"
   },
   {
    "duration": 0,
    "start_time": "2024-05-27T12:35:54.660Z"
   },
   {
    "duration": 85,
    "start_time": "2024-05-27T12:36:16.135Z"
   },
   {
    "duration": 10,
    "start_time": "2024-05-27T12:36:27.358Z"
   },
   {
    "duration": 11,
    "start_time": "2024-05-27T12:44:24.420Z"
   },
   {
    "duration": 4,
    "start_time": "2024-05-27T12:44:24.551Z"
   },
   {
    "duration": 2236,
    "start_time": "2024-05-27T12:47:40.177Z"
   },
   {
    "duration": 1467,
    "start_time": "2024-05-27T12:47:42.415Z"
   },
   {
    "duration": 2,
    "start_time": "2024-05-27T12:47:43.883Z"
   },
   {
    "duration": 812,
    "start_time": "2024-05-27T12:47:43.887Z"
   },
   {
    "duration": 5,
    "start_time": "2024-05-27T12:47:44.700Z"
   },
   {
    "duration": 1463,
    "start_time": "2024-05-27T12:47:44.706Z"
   },
   {
    "duration": 906,
    "start_time": "2024-05-27T12:47:46.171Z"
   },
   {
    "duration": 17,
    "start_time": "2024-05-27T12:47:47.079Z"
   },
   {
    "duration": 56,
    "start_time": "2024-05-27T12:47:47.098Z"
   },
   {
    "duration": 9,
    "start_time": "2024-05-27T12:47:47.156Z"
   },
   {
    "duration": 674,
    "start_time": "2024-05-27T12:47:47.166Z"
   },
   {
    "duration": 18,
    "start_time": "2024-05-27T12:47:47.841Z"
   },
   {
    "duration": 4,
    "start_time": "2024-05-27T12:47:47.861Z"
   },
   {
    "duration": 14168,
    "start_time": "2024-05-27T12:47:47.866Z"
   },
   {
    "duration": 6,
    "start_time": "2024-05-27T12:48:02.036Z"
   },
   {
    "duration": 53,
    "start_time": "2024-05-27T12:48:02.043Z"
   },
   {
    "duration": 30,
    "start_time": "2024-05-27T12:48:02.097Z"
   },
   {
    "duration": 933,
    "start_time": "2024-05-27T12:48:02.128Z"
   },
   {
    "duration": 16,
    "start_time": "2024-05-27T12:48:03.063Z"
   },
   {
    "duration": 13,
    "start_time": "2024-05-27T12:48:03.081Z"
   },
   {
    "duration": 1481,
    "start_time": "2024-05-27T12:48:03.096Z"
   },
   {
    "duration": 13,
    "start_time": "2024-05-27T12:48:04.578Z"
   },
   {
    "duration": 89,
    "start_time": "2024-05-27T12:48:04.593Z"
   },
   {
    "duration": 7,
    "start_time": "2024-05-27T12:48:04.684Z"
   },
   {
    "duration": 63,
    "start_time": "2024-05-27T12:48:04.692Z"
   },
   {
    "duration": 158829,
    "start_time": "2024-05-27T12:48:04.757Z"
   },
   {
    "duration": 72,
    "start_time": "2024-05-27T12:50:43.588Z"
   },
   {
    "duration": 147,
    "start_time": "2024-05-27T12:50:43.663Z"
   },
   {
    "duration": 0,
    "start_time": "2024-05-27T12:50:43.812Z"
   },
   {
    "duration": 0,
    "start_time": "2024-05-27T12:50:43.813Z"
   },
   {
    "duration": 0,
    "start_time": "2024-05-27T12:50:43.814Z"
   },
   {
    "duration": 0,
    "start_time": "2024-05-27T12:50:43.816Z"
   },
   {
    "duration": 0,
    "start_time": "2024-05-27T12:50:43.817Z"
   },
   {
    "duration": 0,
    "start_time": "2024-05-27T12:50:43.818Z"
   },
   {
    "duration": 0,
    "start_time": "2024-05-27T12:50:43.820Z"
   },
   {
    "duration": 0,
    "start_time": "2024-05-27T12:50:43.821Z"
   },
   {
    "duration": 49,
    "start_time": "2024-05-27T12:50:57.844Z"
   },
   {
    "duration": 2391,
    "start_time": "2024-05-27T12:51:15.221Z"
   },
   {
    "duration": 1454,
    "start_time": "2024-05-27T12:51:17.614Z"
   },
   {
    "duration": 3,
    "start_time": "2024-05-27T12:51:19.069Z"
   },
   {
    "duration": 830,
    "start_time": "2024-05-27T12:51:19.073Z"
   },
   {
    "duration": 5,
    "start_time": "2024-05-27T12:51:19.905Z"
   },
   {
    "duration": 1403,
    "start_time": "2024-05-27T12:51:19.912Z"
   },
   {
    "duration": 896,
    "start_time": "2024-05-27T12:51:21.317Z"
   },
   {
    "duration": 19,
    "start_time": "2024-05-27T12:51:22.214Z"
   },
   {
    "duration": 59,
    "start_time": "2024-05-27T12:51:22.234Z"
   },
   {
    "duration": 9,
    "start_time": "2024-05-27T12:51:22.294Z"
   },
   {
    "duration": 685,
    "start_time": "2024-05-27T12:51:22.304Z"
   },
   {
    "duration": 18,
    "start_time": "2024-05-27T12:51:22.991Z"
   },
   {
    "duration": 6,
    "start_time": "2024-05-27T12:51:23.010Z"
   },
   {
    "duration": 14368,
    "start_time": "2024-05-27T12:51:23.019Z"
   },
   {
    "duration": 6,
    "start_time": "2024-05-27T12:51:37.388Z"
   },
   {
    "duration": 36,
    "start_time": "2024-05-27T12:51:37.395Z"
   },
   {
    "duration": 22,
    "start_time": "2024-05-27T12:51:37.432Z"
   },
   {
    "duration": 64,
    "start_time": "2024-05-27T12:51:37.456Z"
   },
   {
    "duration": 24,
    "start_time": "2024-05-27T12:51:37.521Z"
   },
   {
    "duration": 846,
    "start_time": "2024-05-27T12:51:37.546Z"
   },
   {
    "duration": 1475,
    "start_time": "2024-05-27T12:51:38.394Z"
   },
   {
    "duration": 14,
    "start_time": "2024-05-27T12:51:39.870Z"
   },
   {
    "duration": 86,
    "start_time": "2024-05-27T12:51:39.885Z"
   },
   {
    "duration": 8,
    "start_time": "2024-05-27T12:51:39.972Z"
   },
   {
    "duration": 34,
    "start_time": "2024-05-27T12:51:39.981Z"
   },
   {
    "duration": 161210,
    "start_time": "2024-05-27T12:51:40.017Z"
   },
   {
    "duration": 59,
    "start_time": "2024-05-27T12:54:21.229Z"
   },
   {
    "duration": 160,
    "start_time": "2024-05-27T12:54:21.290Z"
   },
   {
    "duration": 4,
    "start_time": "2024-05-27T12:54:21.451Z"
   },
   {
    "duration": 9,
    "start_time": "2024-05-27T12:54:21.457Z"
   },
   {
    "duration": 6,
    "start_time": "2024-05-27T12:54:21.467Z"
   },
   {
    "duration": 7,
    "start_time": "2024-05-27T12:54:21.474Z"
   },
   {
    "duration": 285311,
    "start_time": "2024-05-27T12:54:21.482Z"
   },
   {
    "duration": 55,
    "start_time": "2024-05-27T12:59:06.794Z"
   },
   {
    "duration": 72,
    "start_time": "2024-05-27T12:59:06.850Z"
   },
   {
    "duration": 212,
    "start_time": "2024-05-27T12:59:06.923Z"
   },
   {
    "duration": 2243,
    "start_time": "2024-05-27T12:59:51.072Z"
   },
   {
    "duration": 1624,
    "start_time": "2024-05-27T12:59:53.317Z"
   },
   {
    "duration": 3,
    "start_time": "2024-05-27T12:59:54.943Z"
   },
   {
    "duration": 863,
    "start_time": "2024-05-27T12:59:54.947Z"
   },
   {
    "duration": 5,
    "start_time": "2024-05-27T12:59:55.812Z"
   },
   {
    "duration": 1426,
    "start_time": "2024-05-27T12:59:55.819Z"
   },
   {
    "duration": 881,
    "start_time": "2024-05-27T12:59:57.246Z"
   },
   {
    "duration": 31,
    "start_time": "2024-05-27T12:59:58.129Z"
   },
   {
    "duration": 60,
    "start_time": "2024-05-27T12:59:58.162Z"
   },
   {
    "duration": 21,
    "start_time": "2024-05-27T12:59:58.224Z"
   },
   {
    "duration": 648,
    "start_time": "2024-05-27T12:59:58.247Z"
   },
   {
    "duration": 23,
    "start_time": "2024-05-27T12:59:58.897Z"
   },
   {
    "duration": 22,
    "start_time": "2024-05-27T12:59:58.921Z"
   },
   {
    "duration": 14551,
    "start_time": "2024-05-27T12:59:58.945Z"
   },
   {
    "duration": 6,
    "start_time": "2024-05-27T13:00:13.497Z"
   },
   {
    "duration": 32,
    "start_time": "2024-05-27T13:00:13.505Z"
   },
   {
    "duration": 6,
    "start_time": "2024-05-27T13:00:13.539Z"
   },
   {
    "duration": 58,
    "start_time": "2024-05-27T13:00:13.546Z"
   },
   {
    "duration": 23,
    "start_time": "2024-05-27T13:00:13.605Z"
   },
   {
    "duration": 871,
    "start_time": "2024-05-27T13:00:13.630Z"
   },
   {
    "duration": 1470,
    "start_time": "2024-05-27T13:00:14.503Z"
   },
   {
    "duration": 13,
    "start_time": "2024-05-27T13:00:15.975Z"
   },
   {
    "duration": 92,
    "start_time": "2024-05-27T13:00:15.989Z"
   },
   {
    "duration": 8,
    "start_time": "2024-05-27T13:00:16.083Z"
   },
   {
    "duration": 42,
    "start_time": "2024-05-27T13:00:16.093Z"
   },
   {
    "duration": 162377,
    "start_time": "2024-05-27T13:00:16.137Z"
   },
   {
    "duration": 69,
    "start_time": "2024-05-27T13:02:58.516Z"
   },
   {
    "duration": 25,
    "start_time": "2024-05-27T13:02:58.587Z"
   },
   {
    "duration": 23,
    "start_time": "2024-05-27T13:02:58.614Z"
   },
   {
    "duration": 34,
    "start_time": "2024-05-27T13:02:58.638Z"
   },
   {
    "duration": 43,
    "start_time": "2024-05-27T13:02:58.674Z"
   },
   {
    "duration": 47,
    "start_time": "2024-05-27T13:02:58.719Z"
   },
   {
    "duration": 294428,
    "start_time": "2024-05-27T13:02:58.768Z"
   },
   {
    "duration": 63,
    "start_time": "2024-05-27T13:07:53.197Z"
   },
   {
    "duration": 64,
    "start_time": "2024-05-27T13:07:53.262Z"
   },
   {
    "duration": 171,
    "start_time": "2024-05-27T13:07:53.328Z"
   },
   {
    "duration": 68,
    "start_time": "2024-05-27T13:09:28.953Z"
   },
   {
    "duration": 65,
    "start_time": "2024-05-27T13:09:33.109Z"
   },
   {
    "duration": 12,
    "start_time": "2024-05-27T13:09:39.156Z"
   },
   {
    "duration": 73,
    "start_time": "2024-05-27T13:10:06.054Z"
   },
   {
    "duration": 935,
    "start_time": "2024-05-27T13:10:38.183Z"
   },
   {
    "duration": 75,
    "start_time": "2024-05-27T13:12:45.665Z"
   },
   {
    "duration": 55,
    "start_time": "2024-05-27T13:16:13.648Z"
   },
   {
    "duration": 65,
    "start_time": "2024-05-27T13:17:14.486Z"
   },
   {
    "duration": 5,
    "start_time": "2024-05-27T13:17:59.153Z"
   },
   {
    "duration": 2335,
    "start_time": "2024-05-27T13:18:08.387Z"
   },
   {
    "duration": 1458,
    "start_time": "2024-05-27T13:18:10.724Z"
   },
   {
    "duration": 3,
    "start_time": "2024-05-27T13:18:12.183Z"
   },
   {
    "duration": 857,
    "start_time": "2024-05-27T13:18:12.188Z"
   },
   {
    "duration": 6,
    "start_time": "2024-05-27T13:18:13.047Z"
   },
   {
    "duration": 1438,
    "start_time": "2024-05-27T13:18:13.054Z"
   },
   {
    "duration": 898,
    "start_time": "2024-05-27T13:18:14.494Z"
   },
   {
    "duration": 19,
    "start_time": "2024-05-27T13:18:15.393Z"
   },
   {
    "duration": 60,
    "start_time": "2024-05-27T13:18:15.413Z"
   },
   {
    "duration": 8,
    "start_time": "2024-05-27T13:18:15.474Z"
   },
   {
    "duration": 669,
    "start_time": "2024-05-27T13:18:15.484Z"
   },
   {
    "duration": 17,
    "start_time": "2024-05-27T13:18:16.155Z"
   },
   {
    "duration": 32,
    "start_time": "2024-05-27T13:18:16.173Z"
   },
   {
    "duration": 14841,
    "start_time": "2024-05-27T13:18:16.208Z"
   },
   {
    "duration": 6,
    "start_time": "2024-05-27T13:18:31.051Z"
   },
   {
    "duration": 121,
    "start_time": "2024-05-27T13:18:31.058Z"
   },
   {
    "duration": 47,
    "start_time": "2024-05-27T13:18:31.181Z"
   },
   {
    "duration": 98,
    "start_time": "2024-05-27T13:18:31.230Z"
   },
   {
    "duration": 116,
    "start_time": "2024-05-27T13:18:31.329Z"
   },
   {
    "duration": 888,
    "start_time": "2024-05-27T13:18:31.446Z"
   },
   {
    "duration": 1545,
    "start_time": "2024-05-27T13:18:32.335Z"
   },
   {
    "duration": 14,
    "start_time": "2024-05-27T13:18:33.882Z"
   },
   {
    "duration": 98,
    "start_time": "2024-05-27T13:18:33.897Z"
   },
   {
    "duration": 11,
    "start_time": "2024-05-27T13:18:33.996Z"
   },
   {
    "duration": 49,
    "start_time": "2024-05-27T13:18:34.009Z"
   },
   {
    "duration": 161992,
    "start_time": "2024-05-27T13:18:34.059Z"
   },
   {
    "duration": 56,
    "start_time": "2024-05-27T13:21:16.052Z"
   },
   {
    "duration": 14,
    "start_time": "2024-05-27T13:21:16.109Z"
   },
   {
    "duration": 81,
    "start_time": "2024-05-27T13:21:16.124Z"
   },
   {
    "duration": 4,
    "start_time": "2024-05-27T13:21:16.207Z"
   },
   {
    "duration": 22,
    "start_time": "2024-05-27T13:21:16.213Z"
   },
   {
    "duration": 19,
    "start_time": "2024-05-27T13:21:16.236Z"
   },
   {
    "duration": 9,
    "start_time": "2024-05-27T13:21:16.257Z"
   },
   {
    "duration": 313988,
    "start_time": "2024-05-27T13:21:16.268Z"
   },
   {
    "duration": 15,
    "start_time": "2024-05-27T13:26:30.258Z"
   },
   {
    "duration": 136,
    "start_time": "2024-05-27T13:26:30.274Z"
   },
   {
    "duration": 175,
    "start_time": "2024-05-27T13:26:30.411Z"
   },
   {
    "duration": 11,
    "start_time": "2024-05-27T13:48:28.189Z"
   },
   {
    "duration": 52,
    "start_time": "2024-05-27T13:49:09.518Z"
   },
   {
    "duration": 2409,
    "start_time": "2024-05-27T13:49:16.967Z"
   },
   {
    "duration": 1411,
    "start_time": "2024-05-27T13:49:19.378Z"
   },
   {
    "duration": 2,
    "start_time": "2024-05-27T13:49:20.790Z"
   },
   {
    "duration": 854,
    "start_time": "2024-05-27T13:49:20.793Z"
   },
   {
    "duration": 7,
    "start_time": "2024-05-27T13:49:21.650Z"
   },
   {
    "duration": 1423,
    "start_time": "2024-05-27T13:49:21.658Z"
   },
   {
    "duration": 938,
    "start_time": "2024-05-27T13:49:23.082Z"
   },
   {
    "duration": 26,
    "start_time": "2024-05-27T13:49:24.022Z"
   },
   {
    "duration": 50,
    "start_time": "2024-05-27T13:49:24.050Z"
   },
   {
    "duration": 8,
    "start_time": "2024-05-27T13:49:24.102Z"
   },
   {
    "duration": 695,
    "start_time": "2024-05-27T13:49:24.112Z"
   },
   {
    "duration": 18,
    "start_time": "2024-05-27T13:49:24.808Z"
   },
   {
    "duration": 5,
    "start_time": "2024-05-27T13:49:24.827Z"
   },
   {
    "duration": 14911,
    "start_time": "2024-05-27T13:49:24.834Z"
   },
   {
    "duration": 6,
    "start_time": "2024-05-27T13:49:39.746Z"
   },
   {
    "duration": 16,
    "start_time": "2024-05-27T13:49:39.753Z"
   },
   {
    "duration": 3,
    "start_time": "2024-05-27T13:49:39.771Z"
   },
   {
    "duration": 75,
    "start_time": "2024-05-27T13:49:39.775Z"
   },
   {
    "duration": 23,
    "start_time": "2024-05-27T13:49:39.851Z"
   },
   {
    "duration": 886,
    "start_time": "2024-05-27T13:49:39.875Z"
   },
   {
    "duration": 1528,
    "start_time": "2024-05-27T13:49:40.764Z"
   },
   {
    "duration": 15,
    "start_time": "2024-05-27T13:49:42.293Z"
   },
   {
    "duration": 95,
    "start_time": "2024-05-27T13:49:42.309Z"
   },
   {
    "duration": 8,
    "start_time": "2024-05-27T13:49:42.405Z"
   },
   {
    "duration": 38,
    "start_time": "2024-05-27T13:49:42.415Z"
   },
   {
    "duration": 164596,
    "start_time": "2024-05-27T13:49:42.455Z"
   },
   {
    "duration": 62,
    "start_time": "2024-05-27T13:52:27.052Z"
   },
   {
    "duration": 148,
    "start_time": "2024-05-27T13:52:27.115Z"
   },
   {
    "duration": 0,
    "start_time": "2024-05-27T13:52:27.265Z"
   },
   {
    "duration": 0,
    "start_time": "2024-05-27T13:52:27.266Z"
   },
   {
    "duration": 0,
    "start_time": "2024-05-27T13:52:27.268Z"
   },
   {
    "duration": 0,
    "start_time": "2024-05-27T13:52:27.269Z"
   },
   {
    "duration": 0,
    "start_time": "2024-05-27T13:52:27.271Z"
   },
   {
    "duration": 0,
    "start_time": "2024-05-27T13:52:27.272Z"
   },
   {
    "duration": 0,
    "start_time": "2024-05-27T13:52:27.273Z"
   },
   {
    "duration": 0,
    "start_time": "2024-05-27T13:52:27.274Z"
   },
   {
    "duration": 0,
    "start_time": "2024-05-27T13:52:27.275Z"
   },
   {
    "duration": 0,
    "start_time": "2024-05-27T13:52:27.276Z"
   },
   {
    "duration": 24,
    "start_time": "2024-05-27T13:53:22.705Z"
   },
   {
    "duration": 128,
    "start_time": "2024-05-27T13:53:24.329Z"
   },
   {
    "duration": 12,
    "start_time": "2024-05-27T13:54:45.583Z"
   },
   {
    "duration": 2343,
    "start_time": "2024-05-27T13:55:52.827Z"
   },
   {
    "duration": 1430,
    "start_time": "2024-05-27T13:55:55.172Z"
   },
   {
    "duration": 2,
    "start_time": "2024-05-27T13:55:56.603Z"
   },
   {
    "duration": 873,
    "start_time": "2024-05-27T13:55:56.607Z"
   },
   {
    "duration": 6,
    "start_time": "2024-05-27T13:55:57.482Z"
   },
   {
    "duration": 1537,
    "start_time": "2024-05-27T13:55:57.490Z"
   },
   {
    "duration": 959,
    "start_time": "2024-05-27T13:55:59.028Z"
   },
   {
    "duration": 18,
    "start_time": "2024-05-27T13:55:59.989Z"
   },
   {
    "duration": 67,
    "start_time": "2024-05-27T13:56:00.009Z"
   },
   {
    "duration": 14,
    "start_time": "2024-05-27T13:56:00.079Z"
   },
   {
    "duration": 691,
    "start_time": "2024-05-27T13:56:00.095Z"
   },
   {
    "duration": 18,
    "start_time": "2024-05-27T13:56:00.788Z"
   },
   {
    "duration": 27,
    "start_time": "2024-05-27T13:56:00.807Z"
   },
   {
    "duration": 15323,
    "start_time": "2024-05-27T13:56:00.836Z"
   },
   {
    "duration": 6,
    "start_time": "2024-05-27T13:56:16.161Z"
   },
   {
    "duration": 20,
    "start_time": "2024-05-27T13:56:16.169Z"
   },
   {
    "duration": 3,
    "start_time": "2024-05-27T13:56:16.190Z"
   },
   {
    "duration": 78,
    "start_time": "2024-05-27T13:56:16.194Z"
   },
   {
    "duration": 22,
    "start_time": "2024-05-27T13:56:16.274Z"
   },
   {
    "duration": 870,
    "start_time": "2024-05-27T13:56:16.297Z"
   },
   {
    "duration": 1512,
    "start_time": "2024-05-27T13:56:17.169Z"
   },
   {
    "duration": 13,
    "start_time": "2024-05-27T13:56:18.682Z"
   },
   {
    "duration": 91,
    "start_time": "2024-05-27T13:56:18.696Z"
   },
   {
    "duration": 10,
    "start_time": "2024-05-27T13:56:18.788Z"
   },
   {
    "duration": 48,
    "start_time": "2024-05-27T13:56:18.800Z"
   },
   {
    "duration": 168697,
    "start_time": "2024-05-27T13:56:18.850Z"
   },
   {
    "duration": 62,
    "start_time": "2024-05-27T13:59:07.548Z"
   },
   {
    "duration": 14,
    "start_time": "2024-05-27T13:59:07.614Z"
   },
   {
    "duration": 159,
    "start_time": "2024-05-27T13:59:07.645Z"
   },
   {
    "duration": 22,
    "start_time": "2024-05-27T13:59:07.805Z"
   },
   {
    "duration": 17,
    "start_time": "2024-05-27T13:59:07.829Z"
   },
   {
    "duration": 52,
    "start_time": "2024-05-27T13:59:07.847Z"
   },
   {
    "duration": 34,
    "start_time": "2024-05-27T13:59:07.901Z"
   },
   {
    "duration": 23,
    "start_time": "2024-05-27T13:59:07.937Z"
   },
   {
    "duration": 304392,
    "start_time": "2024-05-27T13:59:07.962Z"
   },
   {
    "duration": 14,
    "start_time": "2024-05-27T14:04:12.356Z"
   },
   {
    "duration": 92,
    "start_time": "2024-05-27T14:04:12.372Z"
   },
   {
    "duration": 187,
    "start_time": "2024-05-27T14:04:12.466Z"
   },
   {
    "duration": 13,
    "start_time": "2024-05-27T14:05:36.133Z"
   },
   {
    "duration": 120,
    "start_time": "2024-05-27T14:06:18.708Z"
   },
   {
    "duration": 18,
    "start_time": "2024-05-27T14:06:38.847Z"
   },
   {
    "duration": 27,
    "start_time": "2024-05-27T14:06:57.089Z"
   },
   {
    "duration": 2454,
    "start_time": "2024-05-27T14:07:42.957Z"
   },
   {
    "duration": 1501,
    "start_time": "2024-05-27T14:07:45.413Z"
   },
   {
    "duration": 3,
    "start_time": "2024-05-27T14:07:46.915Z"
   },
   {
    "duration": 894,
    "start_time": "2024-05-27T14:07:46.920Z"
   },
   {
    "duration": 6,
    "start_time": "2024-05-27T14:07:47.816Z"
   },
   {
    "duration": 1493,
    "start_time": "2024-05-27T14:07:47.823Z"
   },
   {
    "duration": 982,
    "start_time": "2024-05-27T14:07:49.317Z"
   },
   {
    "duration": 19,
    "start_time": "2024-05-27T14:07:50.301Z"
   },
   {
    "duration": 65,
    "start_time": "2024-05-27T14:07:50.321Z"
   },
   {
    "duration": 8,
    "start_time": "2024-05-27T14:07:50.388Z"
   },
   {
    "duration": 713,
    "start_time": "2024-05-27T14:07:50.398Z"
   },
   {
    "duration": 17,
    "start_time": "2024-05-27T14:07:51.113Z"
   },
   {
    "duration": 13,
    "start_time": "2024-05-27T14:07:51.132Z"
   },
   {
    "duration": 15846,
    "start_time": "2024-05-27T14:07:51.148Z"
   },
   {
    "duration": 6,
    "start_time": "2024-05-27T14:08:06.995Z"
   },
   {
    "duration": 22,
    "start_time": "2024-05-27T14:08:07.002Z"
   },
   {
    "duration": 3,
    "start_time": "2024-05-27T14:08:07.025Z"
   },
   {
    "duration": 61,
    "start_time": "2024-05-27T14:08:07.029Z"
   },
   {
    "duration": 23,
    "start_time": "2024-05-27T14:08:07.091Z"
   },
   {
    "duration": 925,
    "start_time": "2024-05-27T14:08:07.115Z"
   },
   {
    "duration": 1539,
    "start_time": "2024-05-27T14:08:08.045Z"
   },
   {
    "duration": 13,
    "start_time": "2024-05-27T14:08:09.586Z"
   },
   {
    "duration": 90,
    "start_time": "2024-05-27T14:08:09.600Z"
   },
   {
    "duration": 131,
    "start_time": "2024-05-27T14:08:09.691Z"
   },
   {
    "duration": 0,
    "start_time": "2024-05-27T14:08:09.823Z"
   },
   {
    "duration": 0,
    "start_time": "2024-05-27T14:08:09.824Z"
   },
   {
    "duration": 0,
    "start_time": "2024-05-27T14:08:09.825Z"
   },
   {
    "duration": 0,
    "start_time": "2024-05-27T14:08:09.826Z"
   },
   {
    "duration": 0,
    "start_time": "2024-05-27T14:08:09.827Z"
   },
   {
    "duration": 0,
    "start_time": "2024-05-27T14:08:09.828Z"
   },
   {
    "duration": 0,
    "start_time": "2024-05-27T14:08:09.829Z"
   },
   {
    "duration": 0,
    "start_time": "2024-05-27T14:08:09.830Z"
   },
   {
    "duration": 0,
    "start_time": "2024-05-27T14:08:09.831Z"
   },
   {
    "duration": 0,
    "start_time": "2024-05-27T14:08:09.832Z"
   },
   {
    "duration": 0,
    "start_time": "2024-05-27T14:08:09.845Z"
   },
   {
    "duration": 0,
    "start_time": "2024-05-27T14:08:09.846Z"
   },
   {
    "duration": 0,
    "start_time": "2024-05-27T14:08:09.847Z"
   },
   {
    "duration": 0,
    "start_time": "2024-05-27T14:08:09.848Z"
   },
   {
    "duration": 2532,
    "start_time": "2024-05-27T14:08:46.494Z"
   },
   {
    "duration": 1486,
    "start_time": "2024-05-27T14:08:49.028Z"
   },
   {
    "duration": 3,
    "start_time": "2024-05-27T14:08:50.515Z"
   },
   {
    "duration": 943,
    "start_time": "2024-05-27T14:08:50.520Z"
   },
   {
    "duration": 6,
    "start_time": "2024-05-27T14:08:51.465Z"
   },
   {
    "duration": 1614,
    "start_time": "2024-05-27T14:08:51.472Z"
   },
   {
    "duration": 971,
    "start_time": "2024-05-27T14:08:53.088Z"
   },
   {
    "duration": 20,
    "start_time": "2024-05-27T14:08:54.060Z"
   },
   {
    "duration": 65,
    "start_time": "2024-05-27T14:08:54.082Z"
   },
   {
    "duration": 14,
    "start_time": "2024-05-27T14:08:54.149Z"
   },
   {
    "duration": 686,
    "start_time": "2024-05-27T14:08:54.164Z"
   },
   {
    "duration": 18,
    "start_time": "2024-05-27T14:08:54.852Z"
   },
   {
    "duration": 5,
    "start_time": "2024-05-27T14:08:54.871Z"
   },
   {
    "duration": 15475,
    "start_time": "2024-05-27T14:08:54.880Z"
   },
   {
    "duration": 6,
    "start_time": "2024-05-27T14:09:10.357Z"
   },
   {
    "duration": 28,
    "start_time": "2024-05-27T14:09:10.364Z"
   },
   {
    "duration": 3,
    "start_time": "2024-05-27T14:09:10.394Z"
   },
   {
    "duration": 74,
    "start_time": "2024-05-27T14:09:10.399Z"
   },
   {
    "duration": 23,
    "start_time": "2024-05-27T14:09:10.475Z"
   },
   {
    "duration": 957,
    "start_time": "2024-05-27T14:09:10.500Z"
   },
   {
    "duration": 1526,
    "start_time": "2024-05-27T14:09:11.458Z"
   },
   {
    "duration": 15,
    "start_time": "2024-05-27T14:09:12.985Z"
   },
   {
    "duration": 98,
    "start_time": "2024-05-27T14:09:13.002Z"
   },
   {
    "duration": 132,
    "start_time": "2024-05-27T14:09:13.101Z"
   },
   {
    "duration": 12,
    "start_time": "2024-05-27T14:09:13.234Z"
   },
   {
    "duration": 75,
    "start_time": "2024-05-27T14:09:13.248Z"
   },
   {
    "duration": 2346,
    "start_time": "2024-05-27T14:10:44.724Z"
   },
   {
    "duration": 1448,
    "start_time": "2024-05-27T14:10:47.072Z"
   },
   {
    "duration": 3,
    "start_time": "2024-05-27T14:10:48.522Z"
   },
   {
    "duration": 877,
    "start_time": "2024-05-27T14:10:48.526Z"
   },
   {
    "duration": 5,
    "start_time": "2024-05-27T14:10:49.406Z"
   },
   {
    "duration": 1516,
    "start_time": "2024-05-27T14:10:49.412Z"
   },
   {
    "duration": 949,
    "start_time": "2024-05-27T14:10:50.929Z"
   },
   {
    "duration": 21,
    "start_time": "2024-05-27T14:10:51.880Z"
   },
   {
    "duration": 67,
    "start_time": "2024-05-27T14:10:51.903Z"
   },
   {
    "duration": 674,
    "start_time": "2024-05-27T14:10:51.972Z"
   },
   {
    "duration": 19,
    "start_time": "2024-05-27T14:10:52.647Z"
   },
   {
    "duration": 5,
    "start_time": "2024-05-27T14:10:52.667Z"
   },
   {
    "duration": 15394,
    "start_time": "2024-05-27T14:10:52.673Z"
   },
   {
    "duration": 6,
    "start_time": "2024-05-27T14:11:08.070Z"
   },
   {
    "duration": 34,
    "start_time": "2024-05-27T14:11:08.078Z"
   },
   {
    "duration": 5,
    "start_time": "2024-05-27T14:11:08.114Z"
   },
   {
    "duration": 963,
    "start_time": "2024-05-27T14:11:08.120Z"
   },
   {
    "duration": 19,
    "start_time": "2024-05-27T14:11:09.084Z"
   },
   {
    "duration": 5,
    "start_time": "2024-05-27T14:11:09.104Z"
   },
   {
    "duration": 1472,
    "start_time": "2024-05-27T14:11:09.110Z"
   },
   {
    "duration": 15,
    "start_time": "2024-05-27T14:11:10.583Z"
   },
   {
    "duration": 93,
    "start_time": "2024-05-27T14:11:10.599Z"
   },
   {
    "duration": 144,
    "start_time": "2024-05-27T14:11:10.694Z"
   },
   {
    "duration": 8,
    "start_time": "2024-05-27T14:11:10.840Z"
   },
   {
    "duration": 52,
    "start_time": "2024-05-27T14:11:10.850Z"
   },
   {
    "duration": 3187,
    "start_time": "2024-05-27T14:11:10.904Z"
   },
   {
    "duration": 37,
    "start_time": "2024-05-27T14:11:14.092Z"
   },
   {
    "duration": 16,
    "start_time": "2024-05-27T14:11:14.130Z"
   },
   {
    "duration": 28,
    "start_time": "2024-05-27T14:11:14.148Z"
   },
   {
    "duration": 4,
    "start_time": "2024-05-27T14:11:14.178Z"
   },
   {
    "duration": 10,
    "start_time": "2024-05-27T14:11:14.183Z"
   },
   {
    "duration": 8,
    "start_time": "2024-05-27T14:11:14.194Z"
   },
   {
    "duration": 22,
    "start_time": "2024-05-27T14:11:14.203Z"
   },
   {
    "duration": 304826,
    "start_time": "2024-05-27T14:11:14.227Z"
   },
   {
    "duration": 16,
    "start_time": "2024-05-27T14:16:19.054Z"
   },
   {
    "duration": 95,
    "start_time": "2024-05-27T14:16:19.072Z"
   },
   {
    "duration": 201,
    "start_time": "2024-05-27T14:16:19.168Z"
   },
   {
    "duration": 15,
    "start_time": "2024-05-27T14:18:24.578Z"
   },
   {
    "duration": 53,
    "start_time": "2024-05-27T14:19:04.340Z"
   },
   {
    "duration": 43,
    "start_time": "2024-05-27T14:19:10.456Z"
   },
   {
    "duration": 20,
    "start_time": "2024-05-27T14:23:50.636Z"
   },
   {
    "duration": 6,
    "start_time": "2024-05-27T14:28:09.603Z"
   },
   {
    "duration": 2481,
    "start_time": "2024-05-27T14:28:16.109Z"
   },
   {
    "duration": 1465,
    "start_time": "2024-05-27T14:28:18.593Z"
   },
   {
    "duration": 3,
    "start_time": "2024-05-27T14:28:20.060Z"
   },
   {
    "duration": 887,
    "start_time": "2024-05-27T14:28:20.064Z"
   },
   {
    "duration": 8,
    "start_time": "2024-05-27T14:28:20.955Z"
   },
   {
    "duration": 1495,
    "start_time": "2024-05-27T14:28:20.965Z"
   },
   {
    "duration": 928,
    "start_time": "2024-05-27T14:28:22.462Z"
   },
   {
    "duration": 20,
    "start_time": "2024-05-27T14:28:23.392Z"
   },
   {
    "duration": 80,
    "start_time": "2024-05-27T14:28:23.413Z"
   },
   {
    "duration": 763,
    "start_time": "2024-05-27T14:28:23.495Z"
   },
   {
    "duration": 20,
    "start_time": "2024-05-27T14:28:24.260Z"
   },
   {
    "duration": 127,
    "start_time": "2024-05-27T14:28:24.281Z"
   },
   {
    "duration": 15405,
    "start_time": "2024-05-27T14:28:24.410Z"
   },
   {
    "duration": 6,
    "start_time": "2024-05-27T14:28:39.818Z"
   },
   {
    "duration": 32,
    "start_time": "2024-05-27T14:28:39.825Z"
   },
   {
    "duration": 3,
    "start_time": "2024-05-27T14:28:39.858Z"
   },
   {
    "duration": 1018,
    "start_time": "2024-05-27T14:28:39.864Z"
   },
   {
    "duration": 24,
    "start_time": "2024-05-27T14:28:40.885Z"
   },
   {
    "duration": 5,
    "start_time": "2024-05-27T14:28:40.911Z"
   },
   {
    "duration": 1558,
    "start_time": "2024-05-27T14:28:40.917Z"
   },
   {
    "duration": 14,
    "start_time": "2024-05-27T14:28:42.477Z"
   },
   {
    "duration": 89,
    "start_time": "2024-05-27T14:28:42.492Z"
   },
   {
    "duration": 2,
    "start_time": "2024-05-27T14:28:42.583Z"
   },
   {
    "duration": 4537,
    "start_time": "2024-05-27T14:28:42.586Z"
   },
   {
    "duration": 70,
    "start_time": "2024-05-27T14:28:47.124Z"
   },
   {
    "duration": 33,
    "start_time": "2024-05-27T14:28:47.196Z"
   },
   {
    "duration": 68,
    "start_time": "2024-05-27T14:28:47.246Z"
   },
   {
    "duration": 5,
    "start_time": "2024-05-27T14:28:47.315Z"
   },
   {
    "duration": 24,
    "start_time": "2024-05-27T14:28:47.321Z"
   },
   {
    "duration": 5,
    "start_time": "2024-05-27T14:28:47.347Z"
   },
   {
    "duration": 18,
    "start_time": "2024-05-27T14:28:47.353Z"
   },
   {
    "duration": 24620,
    "start_time": "2024-05-27T14:28:47.373Z"
   },
   {
    "duration": 14,
    "start_time": "2024-05-27T14:29:11.995Z"
   },
   {
    "duration": 0,
    "start_time": "2024-05-27T14:29:12.011Z"
   },
   {
    "duration": 0,
    "start_time": "2024-05-27T14:29:12.013Z"
   },
   {
    "duration": 9,
    "start_time": "2024-05-27T14:30:35.875Z"
   },
   {
    "duration": 34,
    "start_time": "2024-05-27T14:30:41.322Z"
   },
   {
    "duration": 131,
    "start_time": "2024-05-27T14:32:36.548Z"
   },
   {
    "duration": 2436,
    "start_time": "2024-05-27T14:32:51.947Z"
   },
   {
    "duration": 1491,
    "start_time": "2024-05-27T14:32:54.386Z"
   },
   {
    "duration": 2,
    "start_time": "2024-05-27T14:32:55.879Z"
   },
   {
    "duration": 935,
    "start_time": "2024-05-27T14:32:55.883Z"
   },
   {
    "duration": 6,
    "start_time": "2024-05-27T14:32:56.820Z"
   },
   {
    "duration": 1762,
    "start_time": "2024-05-27T14:32:56.827Z"
   },
   {
    "duration": 961,
    "start_time": "2024-05-27T14:32:58.590Z"
   },
   {
    "duration": 28,
    "start_time": "2024-05-27T14:32:59.552Z"
   },
   {
    "duration": 68,
    "start_time": "2024-05-27T14:32:59.582Z"
   },
   {
    "duration": 659,
    "start_time": "2024-05-27T14:32:59.652Z"
   },
   {
    "duration": 18,
    "start_time": "2024-05-27T14:33:00.313Z"
   },
   {
    "duration": 11,
    "start_time": "2024-05-27T14:33:00.344Z"
   },
   {
    "duration": 15265,
    "start_time": "2024-05-27T14:33:00.357Z"
   },
   {
    "duration": 6,
    "start_time": "2024-05-27T14:33:15.625Z"
   },
   {
    "duration": 31,
    "start_time": "2024-05-27T14:33:15.632Z"
   },
   {
    "duration": 8,
    "start_time": "2024-05-27T14:33:15.664Z"
   },
   {
    "duration": 959,
    "start_time": "2024-05-27T14:33:15.674Z"
   },
   {
    "duration": 17,
    "start_time": "2024-05-27T14:33:16.646Z"
   },
   {
    "duration": 5,
    "start_time": "2024-05-27T14:33:16.665Z"
   },
   {
    "duration": 1529,
    "start_time": "2024-05-27T14:33:16.671Z"
   },
   {
    "duration": 19,
    "start_time": "2024-05-27T14:33:18.202Z"
   },
   {
    "duration": 106,
    "start_time": "2024-05-27T14:33:18.226Z"
   },
   {
    "duration": 137,
    "start_time": "2024-05-27T14:33:18.334Z"
   },
   {
    "duration": 118,
    "start_time": "2024-05-27T14:33:18.473Z"
   },
   {
    "duration": 0,
    "start_time": "2024-05-27T14:33:18.593Z"
   },
   {
    "duration": 0,
    "start_time": "2024-05-27T14:33:18.594Z"
   },
   {
    "duration": 0,
    "start_time": "2024-05-27T14:33:18.595Z"
   },
   {
    "duration": 0,
    "start_time": "2024-05-27T14:33:18.596Z"
   },
   {
    "duration": 0,
    "start_time": "2024-05-27T14:33:18.597Z"
   },
   {
    "duration": 0,
    "start_time": "2024-05-27T14:33:18.598Z"
   },
   {
    "duration": 0,
    "start_time": "2024-05-27T14:33:18.598Z"
   },
   {
    "duration": 0,
    "start_time": "2024-05-27T14:33:18.599Z"
   },
   {
    "duration": 0,
    "start_time": "2024-05-27T14:33:18.600Z"
   },
   {
    "duration": 0,
    "start_time": "2024-05-27T14:33:18.601Z"
   },
   {
    "duration": 0,
    "start_time": "2024-05-27T14:33:18.602Z"
   },
   {
    "duration": 0,
    "start_time": "2024-05-27T14:33:18.604Z"
   },
   {
    "duration": 0,
    "start_time": "2024-05-27T14:33:18.605Z"
   },
   {
    "duration": 0,
    "start_time": "2024-05-27T14:33:18.606Z"
   },
   {
    "duration": 2384,
    "start_time": "2024-05-27T14:34:14.548Z"
   },
   {
    "duration": 1496,
    "start_time": "2024-05-27T14:34:16.934Z"
   },
   {
    "duration": 3,
    "start_time": "2024-05-27T14:34:18.432Z"
   },
   {
    "duration": 882,
    "start_time": "2024-05-27T14:34:18.436Z"
   },
   {
    "duration": 6,
    "start_time": "2024-05-27T14:34:19.320Z"
   },
   {
    "duration": 1545,
    "start_time": "2024-05-27T14:34:19.328Z"
   },
   {
    "duration": 984,
    "start_time": "2024-05-27T14:34:20.875Z"
   },
   {
    "duration": 22,
    "start_time": "2024-05-27T14:34:21.861Z"
   },
   {
    "duration": 72,
    "start_time": "2024-05-27T14:34:21.885Z"
   },
   {
    "duration": 704,
    "start_time": "2024-05-27T14:34:21.958Z"
   },
   {
    "duration": 19,
    "start_time": "2024-05-27T14:34:22.663Z"
   },
   {
    "duration": 7,
    "start_time": "2024-05-27T14:34:22.683Z"
   },
   {
    "duration": 15462,
    "start_time": "2024-05-27T14:34:22.692Z"
   },
   {
    "duration": 6,
    "start_time": "2024-05-27T14:34:38.156Z"
   },
   {
    "duration": 38,
    "start_time": "2024-05-27T14:34:38.163Z"
   },
   {
    "duration": 4,
    "start_time": "2024-05-27T14:34:38.204Z"
   },
   {
    "duration": 978,
    "start_time": "2024-05-27T14:34:38.210Z"
   },
   {
    "duration": 17,
    "start_time": "2024-05-27T14:34:39.189Z"
   },
   {
    "duration": 5,
    "start_time": "2024-05-27T14:34:39.208Z"
   },
   {
    "duration": 1573,
    "start_time": "2024-05-27T14:34:39.214Z"
   },
   {
    "duration": 14,
    "start_time": "2024-05-27T14:34:40.789Z"
   },
   {
    "duration": 94,
    "start_time": "2024-05-27T14:34:40.804Z"
   },
   {
    "duration": 133,
    "start_time": "2024-05-27T14:34:40.899Z"
   },
   {
    "duration": 8,
    "start_time": "2024-05-27T14:34:41.034Z"
   },
   {
    "duration": 37,
    "start_time": "2024-05-27T14:34:41.045Z"
   },
   {
    "duration": 3151,
    "start_time": "2024-05-27T14:34:41.084Z"
   },
   {
    "duration": 34,
    "start_time": "2024-05-27T14:34:44.236Z"
   },
   {
    "duration": 15,
    "start_time": "2024-05-27T14:34:44.272Z"
   },
   {
    "duration": 18,
    "start_time": "2024-05-27T14:34:44.289Z"
   },
   {
    "duration": 4,
    "start_time": "2024-05-27T14:34:44.309Z"
   },
   {
    "duration": 33,
    "start_time": "2024-05-27T14:34:44.314Z"
   },
   {
    "duration": 8,
    "start_time": "2024-05-27T14:34:44.348Z"
   },
   {
    "duration": 18,
    "start_time": "2024-05-27T14:34:44.357Z"
   },
   {
    "duration": 314009,
    "start_time": "2024-05-27T14:34:44.376Z"
   },
   {
    "duration": 15,
    "start_time": "2024-05-27T14:39:58.387Z"
   },
   {
    "duration": 99,
    "start_time": "2024-05-27T14:39:58.446Z"
   },
   {
    "duration": 200,
    "start_time": "2024-05-27T14:39:58.547Z"
   },
   {
    "duration": 18,
    "start_time": "2024-05-27T14:49:09.095Z"
   },
   {
    "duration": 11,
    "start_time": "2024-05-27T14:49:50.301Z"
   },
   {
    "duration": 6,
    "start_time": "2024-05-27T14:50:06.721Z"
   },
   {
    "duration": 6,
    "start_time": "2024-05-27T14:50:13.064Z"
   },
   {
    "duration": 6,
    "start_time": "2024-05-27T14:50:17.236Z"
   },
   {
    "duration": 12,
    "start_time": "2024-05-27T14:51:11.308Z"
   },
   {
    "duration": 18,
    "start_time": "2024-05-27T14:51:20.497Z"
   },
   {
    "duration": 6,
    "start_time": "2024-05-27T14:53:22.840Z"
   },
   {
    "duration": 2368,
    "start_time": "2024-05-27T14:53:27.636Z"
   },
   {
    "duration": 1388,
    "start_time": "2024-05-27T14:53:30.007Z"
   },
   {
    "duration": 3,
    "start_time": "2024-05-27T14:53:31.396Z"
   },
   {
    "duration": 893,
    "start_time": "2024-05-27T14:53:31.400Z"
   },
   {
    "duration": 5,
    "start_time": "2024-05-27T14:53:32.295Z"
   },
   {
    "duration": 1462,
    "start_time": "2024-05-27T14:53:32.301Z"
   },
   {
    "duration": 970,
    "start_time": "2024-05-27T14:53:33.765Z"
   },
   {
    "duration": 18,
    "start_time": "2024-05-27T14:53:34.736Z"
   },
   {
    "duration": 51,
    "start_time": "2024-05-27T14:53:34.756Z"
   },
   {
    "duration": 683,
    "start_time": "2024-05-27T14:53:34.809Z"
   },
   {
    "duration": 20,
    "start_time": "2024-05-27T14:53:35.494Z"
   },
   {
    "duration": 5,
    "start_time": "2024-05-27T14:53:35.516Z"
   },
   {
    "duration": 15486,
    "start_time": "2024-05-27T14:53:35.523Z"
   },
   {
    "duration": 5,
    "start_time": "2024-05-27T14:53:51.012Z"
   },
   {
    "duration": 30,
    "start_time": "2024-05-27T14:53:51.019Z"
   },
   {
    "duration": 917,
    "start_time": "2024-05-27T14:53:51.051Z"
   },
   {
    "duration": 76,
    "start_time": "2024-05-27T14:53:51.972Z"
   },
   {
    "duration": 18,
    "start_time": "2024-05-27T14:53:52.049Z"
   },
   {
    "duration": 7,
    "start_time": "2024-05-27T14:53:52.069Z"
   },
   {
    "duration": 1524,
    "start_time": "2024-05-27T14:53:52.077Z"
   },
   {
    "duration": 16,
    "start_time": "2024-05-27T14:53:53.603Z"
   },
   {
    "duration": 91,
    "start_time": "2024-05-27T14:53:53.620Z"
   },
   {
    "duration": 138,
    "start_time": "2024-05-27T14:53:53.713Z"
   },
   {
    "duration": 9,
    "start_time": "2024-05-27T14:53:53.852Z"
   },
   {
    "duration": 40,
    "start_time": "2024-05-27T14:53:53.862Z"
   },
   {
    "duration": 19,
    "start_time": "2024-05-27T14:53:53.903Z"
   },
   {
    "duration": 3112,
    "start_time": "2024-05-27T14:53:53.923Z"
   },
   {
    "duration": 33,
    "start_time": "2024-05-27T14:53:57.037Z"
   },
   {
    "duration": 15,
    "start_time": "2024-05-27T14:53:57.072Z"
   },
   {
    "duration": 18,
    "start_time": "2024-05-27T14:53:57.089Z"
   },
   {
    "duration": 7,
    "start_time": "2024-05-27T14:53:57.108Z"
   },
   {
    "duration": 30,
    "start_time": "2024-05-27T14:53:57.116Z"
   },
   {
    "duration": 5,
    "start_time": "2024-05-27T14:53:57.148Z"
   },
   {
    "duration": 7,
    "start_time": "2024-05-27T14:53:57.155Z"
   },
   {
    "duration": 26,
    "start_time": "2024-05-27T14:53:57.163Z"
   },
   {
    "duration": 315516,
    "start_time": "2024-05-27T14:53:57.190Z"
   },
   {
    "duration": 14,
    "start_time": "2024-05-27T14:59:12.707Z"
   },
   {
    "duration": 98,
    "start_time": "2024-05-27T14:59:12.723Z"
   },
   {
    "duration": 196,
    "start_time": "2024-05-27T14:59:12.823Z"
   },
   {
    "duration": 543,
    "start_time": "2024-05-27T15:00:02.407Z"
   },
   {
    "duration": 437,
    "start_time": "2024-05-27T15:00:07.909Z"
   },
   {
    "duration": 33,
    "start_time": "2024-05-27T15:01:24.688Z"
   },
   {
    "duration": 2395,
    "start_time": "2024-05-27T15:07:08.713Z"
   },
   {
    "duration": 1421,
    "start_time": "2024-05-27T15:07:11.110Z"
   },
   {
    "duration": 3,
    "start_time": "2024-05-27T15:07:12.532Z"
   },
   {
    "duration": 856,
    "start_time": "2024-05-27T15:07:12.536Z"
   },
   {
    "duration": 5,
    "start_time": "2024-05-27T15:07:13.395Z"
   },
   {
    "duration": 1449,
    "start_time": "2024-05-27T15:07:13.402Z"
   },
   {
    "duration": 943,
    "start_time": "2024-05-27T15:07:14.853Z"
   },
   {
    "duration": 19,
    "start_time": "2024-05-27T15:07:15.797Z"
   },
   {
    "duration": 69,
    "start_time": "2024-05-27T15:07:15.818Z"
   },
   {
    "duration": 709,
    "start_time": "2024-05-27T15:07:15.888Z"
   },
   {
    "duration": 22,
    "start_time": "2024-05-27T15:07:16.599Z"
   },
   {
    "duration": 4,
    "start_time": "2024-05-27T15:07:16.623Z"
   },
   {
    "duration": 15210,
    "start_time": "2024-05-27T15:07:16.644Z"
   },
   {
    "duration": 5,
    "start_time": "2024-05-27T15:07:31.857Z"
   },
   {
    "duration": 28,
    "start_time": "2024-05-27T15:07:31.864Z"
   },
   {
    "duration": 896,
    "start_time": "2024-05-27T15:07:31.894Z"
   },
   {
    "duration": 69,
    "start_time": "2024-05-27T15:07:32.791Z"
   },
   {
    "duration": 22,
    "start_time": "2024-05-27T15:07:32.862Z"
   },
   {
    "duration": 5,
    "start_time": "2024-05-27T15:07:32.885Z"
   },
   {
    "duration": 1498,
    "start_time": "2024-05-27T15:07:32.891Z"
   },
   {
    "duration": 15,
    "start_time": "2024-05-27T15:07:34.390Z"
   },
   {
    "duration": 93,
    "start_time": "2024-05-27T15:07:34.406Z"
   },
   {
    "duration": 137,
    "start_time": "2024-05-27T15:07:34.501Z"
   },
   {
    "duration": 8,
    "start_time": "2024-05-27T15:07:34.640Z"
   },
   {
    "duration": 37,
    "start_time": "2024-05-27T15:07:34.650Z"
   },
   {
    "duration": 29,
    "start_time": "2024-05-27T15:07:34.689Z"
   },
   {
    "duration": 3132,
    "start_time": "2024-05-27T15:07:34.719Z"
   },
   {
    "duration": 33,
    "start_time": "2024-05-27T15:07:37.852Z"
   },
   {
    "duration": 11,
    "start_time": "2024-05-27T15:07:37.887Z"
   },
   {
    "duration": 13,
    "start_time": "2024-05-27T15:07:37.900Z"
   },
   {
    "duration": 5,
    "start_time": "2024-05-27T15:07:37.915Z"
   },
   {
    "duration": 28,
    "start_time": "2024-05-27T15:07:37.921Z"
   },
   {
    "duration": 11,
    "start_time": "2024-05-27T15:07:37.951Z"
   },
   {
    "duration": 16,
    "start_time": "2024-05-27T15:07:37.964Z"
   },
   {
    "duration": 20,
    "start_time": "2024-05-27T15:07:37.982Z"
   },
   {
    "duration": 2348,
    "start_time": "2024-05-27T15:10:02.842Z"
   },
   {
    "duration": 1444,
    "start_time": "2024-05-27T15:10:05.193Z"
   },
   {
    "duration": 3,
    "start_time": "2024-05-27T15:10:06.638Z"
   },
   {
    "duration": 866,
    "start_time": "2024-05-27T15:10:06.642Z"
   },
   {
    "duration": 5,
    "start_time": "2024-05-27T15:10:07.510Z"
   },
   {
    "duration": 1464,
    "start_time": "2024-05-27T15:10:07.517Z"
   },
   {
    "duration": 954,
    "start_time": "2024-05-27T15:10:08.982Z"
   },
   {
    "duration": 25,
    "start_time": "2024-05-27T15:10:09.937Z"
   },
   {
    "duration": 50,
    "start_time": "2024-05-27T15:10:09.964Z"
   },
   {
    "duration": 743,
    "start_time": "2024-05-27T15:10:10.015Z"
   },
   {
    "duration": 18,
    "start_time": "2024-05-27T15:10:10.760Z"
   },
   {
    "duration": 15,
    "start_time": "2024-05-27T15:10:10.779Z"
   },
   {
    "duration": 15169,
    "start_time": "2024-05-27T15:10:10.795Z"
   },
   {
    "duration": 7,
    "start_time": "2024-05-27T15:10:25.967Z"
   },
   {
    "duration": 29,
    "start_time": "2024-05-27T15:10:25.975Z"
   },
   {
    "duration": 904,
    "start_time": "2024-05-27T15:10:26.006Z"
   },
   {
    "duration": 62,
    "start_time": "2024-05-27T15:10:26.912Z"
   },
   {
    "duration": 21,
    "start_time": "2024-05-27T15:10:26.976Z"
   },
   {
    "duration": 5,
    "start_time": "2024-05-27T15:10:26.999Z"
   },
   {
    "duration": 1469,
    "start_time": "2024-05-27T15:10:27.006Z"
   },
   {
    "duration": 13,
    "start_time": "2024-05-27T15:10:28.477Z"
   },
   {
    "duration": 98,
    "start_time": "2024-05-27T15:10:28.492Z"
   },
   {
    "duration": 133,
    "start_time": "2024-05-27T15:10:28.592Z"
   },
   {
    "duration": 9,
    "start_time": "2024-05-27T15:10:28.727Z"
   },
   {
    "duration": 40,
    "start_time": "2024-05-27T15:10:28.738Z"
   },
   {
    "duration": 28,
    "start_time": "2024-05-27T15:10:28.780Z"
   },
   {
    "duration": 3217,
    "start_time": "2024-05-27T15:10:28.810Z"
   },
   {
    "duration": 35,
    "start_time": "2024-05-27T15:10:32.028Z"
   },
   {
    "duration": 10,
    "start_time": "2024-05-27T15:10:32.065Z"
   },
   {
    "duration": 23,
    "start_time": "2024-05-27T15:10:32.077Z"
   },
   {
    "duration": 11,
    "start_time": "2024-05-27T15:10:32.102Z"
   },
   {
    "duration": 21,
    "start_time": "2024-05-27T15:10:32.115Z"
   },
   {
    "duration": 8,
    "start_time": "2024-05-27T15:10:32.137Z"
   },
   {
    "duration": 28,
    "start_time": "2024-05-27T15:10:32.146Z"
   },
   {
    "duration": 86,
    "start_time": "2024-05-27T15:10:32.175Z"
   },
   {
    "duration": 320604,
    "start_time": "2024-05-27T15:10:32.263Z"
   },
   {
    "duration": 15,
    "start_time": "2024-05-27T15:15:52.868Z"
   },
   {
    "duration": 99,
    "start_time": "2024-05-27T15:15:52.885Z"
   },
   {
    "duration": 460,
    "start_time": "2024-05-27T15:15:52.985Z"
   },
   {
    "duration": 126,
    "start_time": "2024-05-27T15:20:48.117Z"
   },
   {
    "duration": 4,
    "start_time": "2024-05-27T15:20:52.349Z"
   },
   {
    "duration": 12,
    "start_time": "2024-05-27T15:20:53.300Z"
   },
   {
    "duration": 2346,
    "start_time": "2024-05-27T15:22:08.973Z"
   },
   {
    "duration": 1521,
    "start_time": "2024-05-27T15:22:11.321Z"
   },
   {
    "duration": 3,
    "start_time": "2024-05-27T15:22:12.843Z"
   },
   {
    "duration": 825,
    "start_time": "2024-05-27T15:22:12.847Z"
   },
   {
    "duration": 5,
    "start_time": "2024-05-27T15:22:13.674Z"
   },
   {
    "duration": 1560,
    "start_time": "2024-05-27T15:22:13.681Z"
   },
   {
    "duration": 955,
    "start_time": "2024-05-27T15:22:15.243Z"
   },
   {
    "duration": 19,
    "start_time": "2024-05-27T15:22:16.200Z"
   },
   {
    "duration": 74,
    "start_time": "2024-05-27T15:22:16.221Z"
   },
   {
    "duration": 696,
    "start_time": "2024-05-27T15:22:16.297Z"
   },
   {
    "duration": 18,
    "start_time": "2024-05-27T15:22:16.995Z"
   },
   {
    "duration": 5,
    "start_time": "2024-05-27T15:22:17.015Z"
   },
   {
    "duration": 15177,
    "start_time": "2024-05-27T15:22:17.022Z"
   },
   {
    "duration": 6,
    "start_time": "2024-05-27T15:22:32.203Z"
   },
   {
    "duration": 983,
    "start_time": "2024-05-27T15:22:32.211Z"
   },
   {
    "duration": 3,
    "start_time": "2024-05-27T15:22:33.196Z"
   },
   {
    "duration": 67,
    "start_time": "2024-05-27T15:22:33.200Z"
   },
   {
    "duration": 16,
    "start_time": "2024-05-27T15:22:33.269Z"
   },
   {
    "duration": 4,
    "start_time": "2024-05-27T15:22:33.287Z"
   },
   {
    "duration": 1484,
    "start_time": "2024-05-27T15:22:33.293Z"
   },
   {
    "duration": 14,
    "start_time": "2024-05-27T15:22:34.778Z"
   },
   {
    "duration": 90,
    "start_time": "2024-05-27T15:22:34.793Z"
   },
   {
    "duration": 11,
    "start_time": "2024-05-27T15:22:34.885Z"
   },
   {
    "duration": 16,
    "start_time": "2024-05-27T15:22:34.898Z"
   },
   {
    "duration": 54,
    "start_time": "2024-05-27T15:22:34.916Z"
   },
   {
    "duration": 84,
    "start_time": "2024-05-27T15:22:34.971Z"
   },
   {
    "duration": 4327,
    "start_time": "2024-05-27T15:22:35.056Z"
   },
   {
    "duration": 64,
    "start_time": "2024-05-27T15:22:39.385Z"
   },
   {
    "duration": 18,
    "start_time": "2024-05-27T15:22:39.451Z"
   },
   {
    "duration": 76,
    "start_time": "2024-05-27T15:22:39.470Z"
   },
   {
    "duration": 4,
    "start_time": "2024-05-27T15:22:39.548Z"
   },
   {
    "duration": 22,
    "start_time": "2024-05-27T15:22:39.553Z"
   },
   {
    "duration": 112,
    "start_time": "2024-05-27T15:22:39.577Z"
   },
   {
    "duration": 0,
    "start_time": "2024-05-27T15:22:39.690Z"
   },
   {
    "duration": 0,
    "start_time": "2024-05-27T15:22:39.691Z"
   },
   {
    "duration": 0,
    "start_time": "2024-05-27T15:22:39.693Z"
   },
   {
    "duration": 0,
    "start_time": "2024-05-27T15:22:39.694Z"
   },
   {
    "duration": 0,
    "start_time": "2024-05-27T15:22:39.695Z"
   },
   {
    "duration": 0,
    "start_time": "2024-05-27T15:22:39.695Z"
   },
   {
    "duration": 0,
    "start_time": "2024-05-27T15:22:39.696Z"
   },
   {
    "duration": 5,
    "start_time": "2024-05-27T15:23:38.528Z"
   },
   {
    "duration": 4,
    "start_time": "2024-05-27T15:23:39.320Z"
   },
   {
    "duration": 5,
    "start_time": "2024-05-27T15:23:40.952Z"
   },
   {
    "duration": 3,
    "start_time": "2024-05-27T15:23:43.817Z"
   },
   {
    "duration": 54,
    "start_time": "2024-05-27T15:23:44.565Z"
   },
   {
    "duration": 93,
    "start_time": "2024-05-27T15:23:45.485Z"
   },
   {
    "duration": 122,
    "start_time": "2024-05-27T15:30:46.159Z"
   },
   {
    "duration": 2299,
    "start_time": "2024-05-27T15:30:50.340Z"
   },
   {
    "duration": 1425,
    "start_time": "2024-05-27T15:30:52.642Z"
   },
   {
    "duration": 2,
    "start_time": "2024-05-27T15:30:54.069Z"
   },
   {
    "duration": 823,
    "start_time": "2024-05-27T15:30:54.073Z"
   },
   {
    "duration": 5,
    "start_time": "2024-05-27T15:30:54.898Z"
   },
   {
    "duration": 1374,
    "start_time": "2024-05-27T15:30:54.905Z"
   },
   {
    "duration": 885,
    "start_time": "2024-05-27T15:30:56.281Z"
   },
   {
    "duration": 23,
    "start_time": "2024-05-27T15:30:57.168Z"
   },
   {
    "duration": 65,
    "start_time": "2024-05-27T15:30:57.192Z"
   },
   {
    "duration": 706,
    "start_time": "2024-05-27T15:30:57.258Z"
   },
   {
    "duration": 18,
    "start_time": "2024-05-27T15:30:57.966Z"
   },
   {
    "duration": 6,
    "start_time": "2024-05-27T15:30:57.985Z"
   },
   {
    "duration": 14575,
    "start_time": "2024-05-27T15:30:57.992Z"
   },
   {
    "duration": 6,
    "start_time": "2024-05-27T15:31:12.570Z"
   },
   {
    "duration": 24,
    "start_time": "2024-05-27T15:31:12.577Z"
   },
   {
    "duration": 990,
    "start_time": "2024-05-27T15:31:12.603Z"
   },
   {
    "duration": 57,
    "start_time": "2024-05-27T15:31:13.595Z"
   },
   {
    "duration": 16,
    "start_time": "2024-05-27T15:31:13.653Z"
   },
   {
    "duration": 5,
    "start_time": "2024-05-27T15:31:13.671Z"
   },
   {
    "duration": 1498,
    "start_time": "2024-05-27T15:31:13.677Z"
   },
   {
    "duration": 13,
    "start_time": "2024-05-27T15:31:15.176Z"
   },
   {
    "duration": 123,
    "start_time": "2024-05-27T15:31:15.191Z"
   },
   {
    "duration": 129,
    "start_time": "2024-05-27T15:31:15.316Z"
   },
   {
    "duration": 8,
    "start_time": "2024-05-27T15:31:15.446Z"
   },
   {
    "duration": 57,
    "start_time": "2024-05-27T15:31:15.456Z"
   },
   {
    "duration": 31,
    "start_time": "2024-05-27T15:31:15.515Z"
   },
   {
    "duration": 3079,
    "start_time": "2024-05-27T15:31:15.547Z"
   },
   {
    "duration": 35,
    "start_time": "2024-05-27T15:31:18.628Z"
   },
   {
    "duration": 17,
    "start_time": "2024-05-27T15:31:18.664Z"
   },
   {
    "duration": 29,
    "start_time": "2024-05-27T15:31:18.682Z"
   },
   {
    "duration": 16,
    "start_time": "2024-05-27T15:31:18.713Z"
   },
   {
    "duration": 36,
    "start_time": "2024-05-27T15:31:18.731Z"
   },
   {
    "duration": 23,
    "start_time": "2024-05-27T15:31:18.769Z"
   },
   {
    "duration": 39,
    "start_time": "2024-05-27T15:31:18.793Z"
   },
   {
    "duration": 40,
    "start_time": "2024-05-27T15:31:18.833Z"
   },
   {
    "duration": 289874,
    "start_time": "2024-05-27T15:31:18.875Z"
   },
   {
    "duration": 15,
    "start_time": "2024-05-27T15:36:08.750Z"
   },
   {
    "duration": 105,
    "start_time": "2024-05-27T15:36:08.766Z"
   },
   {
    "duration": 475,
    "start_time": "2024-05-27T15:36:08.872Z"
   },
   {
    "duration": 114,
    "start_time": "2024-05-27T15:37:04.914Z"
   },
   {
    "duration": 5,
    "start_time": "2024-05-27T15:37:12.099Z"
   },
   {
    "duration": 315015,
    "start_time": "2024-05-27T15:37:18.348Z"
   },
   {
    "duration": 2341,
    "start_time": "2024-05-27T15:54:06.555Z"
   },
   {
    "duration": 1369,
    "start_time": "2024-05-27T15:54:08.899Z"
   },
   {
    "duration": 3,
    "start_time": "2024-05-27T15:54:10.269Z"
   },
   {
    "duration": 872,
    "start_time": "2024-05-27T15:54:10.273Z"
   },
   {
    "duration": 5,
    "start_time": "2024-05-27T15:54:11.147Z"
   },
   {
    "duration": 1380,
    "start_time": "2024-05-27T15:54:11.154Z"
   },
   {
    "duration": 913,
    "start_time": "2024-05-27T15:54:12.535Z"
   },
   {
    "duration": 24,
    "start_time": "2024-05-27T15:54:13.450Z"
   },
   {
    "duration": 71,
    "start_time": "2024-05-27T15:54:13.476Z"
   },
   {
    "duration": 684,
    "start_time": "2024-05-27T15:54:13.550Z"
   },
   {
    "duration": 21,
    "start_time": "2024-05-27T15:54:14.235Z"
   },
   {
    "duration": 5,
    "start_time": "2024-05-27T15:54:14.257Z"
   },
   {
    "duration": 14580,
    "start_time": "2024-05-27T15:54:14.263Z"
   },
   {
    "duration": 5,
    "start_time": "2024-05-27T15:54:28.845Z"
   },
   {
    "duration": 25,
    "start_time": "2024-05-27T15:54:28.852Z"
   },
   {
    "duration": 3,
    "start_time": "2024-05-27T15:54:28.878Z"
   },
   {
    "duration": 64,
    "start_time": "2024-05-27T15:54:28.882Z"
   },
   {
    "duration": 22,
    "start_time": "2024-05-27T15:54:28.947Z"
   },
   {
    "duration": 928,
    "start_time": "2024-05-27T15:54:28.970Z"
   },
   {
    "duration": 1472,
    "start_time": "2024-05-27T15:54:29.899Z"
   },
   {
    "duration": 13,
    "start_time": "2024-05-27T15:54:31.373Z"
   },
   {
    "duration": 288,
    "start_time": "2024-05-27T15:54:31.387Z"
   },
   {
    "duration": 123,
    "start_time": "2024-05-27T15:54:31.676Z"
   },
   {
    "duration": 8,
    "start_time": "2024-05-27T15:54:31.801Z"
   },
   {
    "duration": 83,
    "start_time": "2024-05-27T15:54:31.810Z"
   },
   {
    "duration": 28,
    "start_time": "2024-05-27T15:54:31.895Z"
   },
   {
    "duration": 2958,
    "start_time": "2024-05-27T15:54:31.924Z"
   },
   {
    "duration": 31,
    "start_time": "2024-05-27T15:54:34.886Z"
   },
   {
    "duration": 11,
    "start_time": "2024-05-27T15:54:34.919Z"
   },
   {
    "duration": 16,
    "start_time": "2024-05-27T15:54:34.931Z"
   },
   {
    "duration": 4,
    "start_time": "2024-05-27T15:54:34.949Z"
   },
   {
    "duration": 16,
    "start_time": "2024-05-27T15:54:34.954Z"
   },
   {
    "duration": 5,
    "start_time": "2024-05-27T15:54:34.971Z"
   },
   {
    "duration": 10,
    "start_time": "2024-05-27T15:54:34.977Z"
   },
   {
    "duration": 18,
    "start_time": "2024-05-27T15:54:34.988Z"
   },
   {
    "duration": 141227,
    "start_time": "2024-05-27T15:54:35.007Z"
   },
   {
    "duration": 11,
    "start_time": "2024-05-27T15:56:56.236Z"
   },
   {
    "duration": 0,
    "start_time": "2024-05-27T15:56:56.248Z"
   },
   {
    "duration": 0,
    "start_time": "2024-05-27T15:56:56.249Z"
   },
   {
    "duration": 3395,
    "start_time": "2024-05-27T19:08:34.560Z"
   },
   {
    "duration": 1729,
    "start_time": "2024-05-27T19:08:37.957Z"
   },
   {
    "duration": 2,
    "start_time": "2024-05-27T19:08:39.688Z"
   },
   {
    "duration": 1146,
    "start_time": "2024-05-27T19:08:39.692Z"
   },
   {
    "duration": 5,
    "start_time": "2024-05-27T19:08:40.839Z"
   },
   {
    "duration": 1464,
    "start_time": "2024-05-27T19:08:40.846Z"
   },
   {
    "duration": 935,
    "start_time": "2024-05-27T19:08:42.312Z"
   },
   {
    "duration": 18,
    "start_time": "2024-05-27T19:08:43.249Z"
   },
   {
    "duration": 52,
    "start_time": "2024-05-27T19:08:43.279Z"
   },
   {
    "duration": 678,
    "start_time": "2024-05-27T19:08:43.334Z"
   },
   {
    "duration": 17,
    "start_time": "2024-05-27T19:08:44.013Z"
   },
   {
    "duration": 4,
    "start_time": "2024-05-27T19:08:44.032Z"
   },
   {
    "duration": 15336,
    "start_time": "2024-05-27T19:08:44.038Z"
   },
   {
    "duration": 7,
    "start_time": "2024-05-27T19:08:59.379Z"
   },
   {
    "duration": 24,
    "start_time": "2024-05-27T19:08:59.387Z"
   },
   {
    "duration": 4,
    "start_time": "2024-05-27T19:08:59.413Z"
   },
   {
    "duration": 74,
    "start_time": "2024-05-27T19:08:59.418Z"
   },
   {
    "duration": 24,
    "start_time": "2024-05-27T19:08:59.494Z"
   },
   {
    "duration": 915,
    "start_time": "2024-05-27T19:08:59.520Z"
   },
   {
    "duration": 1692,
    "start_time": "2024-05-27T19:09:00.437Z"
   },
   {
    "duration": 15,
    "start_time": "2024-05-27T19:09:02.131Z"
   },
   {
    "duration": 98,
    "start_time": "2024-05-27T19:09:02.147Z"
   },
   {
    "duration": 137,
    "start_time": "2024-05-27T19:09:02.246Z"
   },
   {
    "duration": 8,
    "start_time": "2024-05-27T19:09:02.385Z"
   },
   {
    "duration": 124,
    "start_time": "2024-05-27T19:09:02.395Z"
   },
   {
    "duration": 32,
    "start_time": "2024-05-27T19:09:02.521Z"
   },
   {
    "duration": 3263,
    "start_time": "2024-05-27T19:09:02.555Z"
   },
   {
    "duration": 35,
    "start_time": "2024-05-27T19:09:05.821Z"
   },
   {
    "duration": 11,
    "start_time": "2024-05-27T19:09:05.857Z"
   },
   {
    "duration": 24,
    "start_time": "2024-05-27T19:09:05.869Z"
   },
   {
    "duration": 5,
    "start_time": "2024-05-27T19:09:05.895Z"
   },
   {
    "duration": 31,
    "start_time": "2024-05-27T19:09:05.901Z"
   },
   {
    "duration": 6,
    "start_time": "2024-05-27T19:09:05.934Z"
   },
   {
    "duration": 6,
    "start_time": "2024-05-27T19:09:05.942Z"
   },
   {
    "duration": 18,
    "start_time": "2024-05-27T19:09:05.950Z"
   },
   {
    "duration": 2527,
    "start_time": "2024-05-27T19:09:30.991Z"
   },
   {
    "duration": 1418,
    "start_time": "2024-05-27T19:09:33.521Z"
   },
   {
    "duration": 3,
    "start_time": "2024-05-27T19:09:34.940Z"
   },
   {
    "duration": 887,
    "start_time": "2024-05-27T19:09:34.944Z"
   },
   {
    "duration": 5,
    "start_time": "2024-05-27T19:09:35.833Z"
   },
   {
    "duration": 1472,
    "start_time": "2024-05-27T19:09:35.840Z"
   },
   {
    "duration": 967,
    "start_time": "2024-05-27T19:09:37.314Z"
   },
   {
    "duration": 19,
    "start_time": "2024-05-27T19:09:38.282Z"
   },
   {
    "duration": 58,
    "start_time": "2024-05-27T19:09:38.302Z"
   },
   {
    "duration": 743,
    "start_time": "2024-05-27T19:09:38.362Z"
   },
   {
    "duration": 18,
    "start_time": "2024-05-27T19:09:39.106Z"
   },
   {
    "duration": 28,
    "start_time": "2024-05-27T19:09:39.125Z"
   },
   {
    "duration": 15417,
    "start_time": "2024-05-27T19:09:39.154Z"
   },
   {
    "duration": 7,
    "start_time": "2024-05-27T19:09:54.580Z"
   },
   {
    "duration": 19,
    "start_time": "2024-05-27T19:09:54.589Z"
   },
   {
    "duration": 4,
    "start_time": "2024-05-27T19:09:54.610Z"
   },
   {
    "duration": 994,
    "start_time": "2024-05-27T19:09:54.616Z"
   },
   {
    "duration": 20,
    "start_time": "2024-05-27T19:09:55.612Z"
   },
   {
    "duration": 5,
    "start_time": "2024-05-27T19:09:55.634Z"
   },
   {
    "duration": 1645,
    "start_time": "2024-05-27T19:09:55.640Z"
   },
   {
    "duration": 21,
    "start_time": "2024-05-27T19:09:57.287Z"
   },
   {
    "duration": 146,
    "start_time": "2024-05-27T19:09:57.310Z"
   },
   {
    "duration": 139,
    "start_time": "2024-05-27T19:09:57.458Z"
   },
   {
    "duration": 8,
    "start_time": "2024-05-27T19:09:57.598Z"
   },
   {
    "duration": 38,
    "start_time": "2024-05-27T19:09:57.607Z"
   },
   {
    "duration": 45,
    "start_time": "2024-05-27T19:09:57.646Z"
   },
   {
    "duration": 3278,
    "start_time": "2024-05-27T19:09:57.692Z"
   },
   {
    "duration": 38,
    "start_time": "2024-05-27T19:10:00.971Z"
   },
   {
    "duration": 12,
    "start_time": "2024-05-27T19:10:01.010Z"
   },
   {
    "duration": 84,
    "start_time": "2024-05-27T19:10:01.024Z"
   },
   {
    "duration": 41,
    "start_time": "2024-05-27T19:10:01.110Z"
   },
   {
    "duration": 50,
    "start_time": "2024-05-27T19:10:01.153Z"
   },
   {
    "duration": 25,
    "start_time": "2024-05-27T19:10:01.205Z"
   },
   {
    "duration": 45,
    "start_time": "2024-05-27T19:10:01.231Z"
   },
   {
    "duration": 79,
    "start_time": "2024-05-27T19:10:01.277Z"
   },
   {
    "duration": 332526,
    "start_time": "2024-05-27T19:10:01.357Z"
   },
   {
    "duration": 15,
    "start_time": "2024-05-27T19:15:33.884Z"
   },
   {
    "duration": 166,
    "start_time": "2024-05-27T19:15:33.901Z"
   },
   {
    "duration": 519,
    "start_time": "2024-05-27T19:15:34.069Z"
   },
   {
    "duration": 112,
    "start_time": "2024-05-27T19:15:34.599Z"
   },
   {
    "duration": 2695,
    "start_time": "2024-05-28T05:56:32.598Z"
   },
   {
    "duration": 1635,
    "start_time": "2024-05-28T05:56:35.295Z"
   },
   {
    "duration": 3,
    "start_time": "2024-05-28T05:56:36.932Z"
   },
   {
    "duration": 2798,
    "start_time": "2024-05-28T05:56:36.937Z"
   },
   {
    "duration": 6,
    "start_time": "2024-05-28T05:56:39.737Z"
   },
   {
    "duration": 1379,
    "start_time": "2024-05-28T05:56:39.744Z"
   },
   {
    "duration": 851,
    "start_time": "2024-05-28T05:56:41.125Z"
   },
   {
    "duration": 19,
    "start_time": "2024-05-28T05:56:41.978Z"
   },
   {
    "duration": 64,
    "start_time": "2024-05-28T05:56:41.999Z"
   },
   {
    "duration": 664,
    "start_time": "2024-05-28T05:56:42.065Z"
   },
   {
    "duration": 19,
    "start_time": "2024-05-28T05:56:42.731Z"
   },
   {
    "duration": 5,
    "start_time": "2024-05-28T05:56:42.751Z"
   },
   {
    "duration": 14509,
    "start_time": "2024-05-28T05:56:42.757Z"
   },
   {
    "duration": 7,
    "start_time": "2024-05-28T05:56:57.268Z"
   },
   {
    "duration": 16,
    "start_time": "2024-05-28T05:56:57.276Z"
   },
   {
    "duration": 3,
    "start_time": "2024-05-28T05:56:57.293Z"
   },
   {
    "duration": 75,
    "start_time": "2024-05-28T05:56:57.297Z"
   },
   {
    "duration": 24,
    "start_time": "2024-05-28T05:56:57.374Z"
   },
   {
    "duration": 848,
    "start_time": "2024-05-28T05:56:57.399Z"
   },
   {
    "duration": 1536,
    "start_time": "2024-05-28T05:56:58.248Z"
   },
   {
    "duration": 13,
    "start_time": "2024-05-28T05:56:59.786Z"
   },
   {
    "duration": 91,
    "start_time": "2024-05-28T05:56:59.801Z"
   },
   {
    "duration": 128,
    "start_time": "2024-05-28T05:56:59.894Z"
   },
   {
    "duration": 9,
    "start_time": "2024-05-28T05:57:00.024Z"
   },
   {
    "duration": 75,
    "start_time": "2024-05-28T05:57:00.035Z"
   },
   {
    "duration": 31,
    "start_time": "2024-05-28T05:57:00.112Z"
   },
   {
    "duration": 2991,
    "start_time": "2024-05-28T05:57:00.145Z"
   },
   {
    "duration": 33,
    "start_time": "2024-05-28T05:57:03.144Z"
   },
   {
    "duration": 11,
    "start_time": "2024-05-28T05:57:03.179Z"
   },
   {
    "duration": 23,
    "start_time": "2024-05-28T05:57:03.191Z"
   },
   {
    "duration": 124,
    "start_time": "2024-05-28T05:57:03.215Z"
   },
   {
    "duration": 0,
    "start_time": "2024-05-28T05:57:03.340Z"
   },
   {
    "duration": 0,
    "start_time": "2024-05-28T05:57:03.345Z"
   },
   {
    "duration": 0,
    "start_time": "2024-05-28T05:57:03.346Z"
   },
   {
    "duration": 0,
    "start_time": "2024-05-28T05:57:03.347Z"
   },
   {
    "duration": 0,
    "start_time": "2024-05-28T05:57:03.348Z"
   },
   {
    "duration": 0,
    "start_time": "2024-05-28T05:57:03.349Z"
   },
   {
    "duration": 0,
    "start_time": "2024-05-28T05:57:03.351Z"
   },
   {
    "duration": 0,
    "start_time": "2024-05-28T05:57:03.351Z"
   },
   {
    "duration": 4,
    "start_time": "2024-05-28T05:58:42.358Z"
   },
   {
    "duration": 4,
    "start_time": "2024-05-28T05:58:50.358Z"
   },
   {
    "duration": 5,
    "start_time": "2024-05-28T05:58:51.758Z"
   },
   {
    "duration": 3,
    "start_time": "2024-05-28T05:59:03.222Z"
   },
   {
    "duration": 17,
    "start_time": "2024-05-28T05:59:04.055Z"
   },
   {
    "duration": 247765,
    "start_time": "2024-05-28T05:59:06.165Z"
   },
   {
    "duration": 11,
    "start_time": "2024-05-28T06:03:13.932Z"
   },
   {
    "duration": 3722,
    "start_time": "2024-05-28T08:47:57.299Z"
   },
   {
    "duration": 7186,
    "start_time": "2024-05-28T08:48:01.023Z"
   },
   {
    "duration": 1626,
    "start_time": "2024-05-28T08:48:08.211Z"
   },
   {
    "duration": 3,
    "start_time": "2024-05-28T08:48:09.840Z"
   },
   {
    "duration": 1189,
    "start_time": "2024-05-28T08:48:09.844Z"
   },
   {
    "duration": 6,
    "start_time": "2024-05-28T08:48:11.035Z"
   },
   {
    "duration": 1563,
    "start_time": "2024-05-28T08:48:11.042Z"
   },
   {
    "duration": 1071,
    "start_time": "2024-05-28T08:48:12.607Z"
   },
   {
    "duration": 25,
    "start_time": "2024-05-28T08:48:13.680Z"
   },
   {
    "duration": 61,
    "start_time": "2024-05-28T08:48:13.708Z"
   },
   {
    "duration": 782,
    "start_time": "2024-05-28T08:48:13.771Z"
   },
   {
    "duration": 18,
    "start_time": "2024-05-28T08:48:14.555Z"
   },
   {
    "duration": 5,
    "start_time": "2024-05-28T08:48:14.574Z"
   },
   {
    "duration": 16530,
    "start_time": "2024-05-28T08:48:14.580Z"
   },
   {
    "duration": 6,
    "start_time": "2024-05-28T08:48:31.112Z"
   },
   {
    "duration": 94,
    "start_time": "2024-05-28T08:48:31.120Z"
   },
   {
    "duration": 138,
    "start_time": "2024-05-28T08:48:31.216Z"
   },
   {
    "duration": 126,
    "start_time": "2024-05-28T08:48:31.355Z"
   },
   {
    "duration": 113,
    "start_time": "2024-05-28T08:48:31.482Z"
   },
   {
    "duration": 951,
    "start_time": "2024-05-28T08:48:31.596Z"
   },
   {
    "duration": 1603,
    "start_time": "2024-05-28T08:48:32.549Z"
   },
   {
    "duration": 13,
    "start_time": "2024-05-28T08:48:34.154Z"
   },
   {
    "duration": 100,
    "start_time": "2024-05-28T08:48:34.169Z"
   },
   {
    "duration": 150,
    "start_time": "2024-05-28T08:48:34.270Z"
   },
   {
    "duration": 11,
    "start_time": "2024-05-28T08:48:34.422Z"
   },
   {
    "duration": 65,
    "start_time": "2024-05-28T08:48:34.435Z"
   },
   {
    "duration": 34,
    "start_time": "2024-05-28T08:48:34.501Z"
   },
   {
    "duration": 3323,
    "start_time": "2024-05-28T08:48:34.539Z"
   },
   {
    "duration": 42,
    "start_time": "2024-05-28T08:48:37.865Z"
   },
   {
    "duration": 12,
    "start_time": "2024-05-28T08:48:37.910Z"
   },
   {
    "duration": 14,
    "start_time": "2024-05-28T08:48:37.924Z"
   },
   {
    "duration": 188,
    "start_time": "2024-05-28T08:48:37.940Z"
   },
   {
    "duration": 0,
    "start_time": "2024-05-28T08:48:38.129Z"
   },
   {
    "duration": 0,
    "start_time": "2024-05-28T08:48:38.131Z"
   },
   {
    "duration": 0,
    "start_time": "2024-05-28T08:48:38.132Z"
   },
   {
    "duration": 0,
    "start_time": "2024-05-28T08:48:38.133Z"
   },
   {
    "duration": 0,
    "start_time": "2024-05-28T08:48:38.134Z"
   },
   {
    "duration": 0,
    "start_time": "2024-05-28T08:48:38.135Z"
   },
   {
    "duration": 0,
    "start_time": "2024-05-28T08:48:38.136Z"
   },
   {
    "duration": 0,
    "start_time": "2024-05-28T08:48:38.137Z"
   },
   {
    "duration": 5,
    "start_time": "2024-05-28T09:02:28.925Z"
   },
   {
    "duration": 4,
    "start_time": "2024-05-28T09:03:27.620Z"
   },
   {
    "duration": 7,
    "start_time": "2024-05-28T09:03:28.851Z"
   },
   {
    "duration": 65,
    "start_time": "2024-05-28T09:04:16.268Z"
   },
   {
    "duration": 4,
    "start_time": "2024-05-28T09:04:22.568Z"
   },
   {
    "duration": 5,
    "start_time": "2024-05-28T09:04:48.167Z"
   },
   {
    "duration": 61,
    "start_time": "2024-05-28T09:06:02.124Z"
   },
   {
    "duration": 72,
    "start_time": "2024-05-28T09:06:14.673Z"
   },
   {
    "duration": 62,
    "start_time": "2024-05-28T09:06:29.920Z"
   },
   {
    "duration": 6,
    "start_time": "2024-05-28T09:07:03.369Z"
   },
   {
    "duration": 5,
    "start_time": "2024-05-28T09:07:10.851Z"
   },
   {
    "duration": 21,
    "start_time": "2024-05-28T09:07:11.552Z"
   },
   {
    "duration": 406721,
    "start_time": "2024-05-28T09:07:13.204Z"
   },
   {
    "duration": 18,
    "start_time": "2024-05-28T09:13:59.928Z"
   },
   {
    "duration": 87,
    "start_time": "2024-05-28T09:14:05.669Z"
   },
   {
    "duration": 17,
    "start_time": "2024-05-28T09:15:01.270Z"
   },
   {
    "duration": 2808,
    "start_time": "2024-05-28T09:15:16.531Z"
   },
   {
    "duration": 3331,
    "start_time": "2024-05-28T09:15:19.342Z"
   },
   {
    "duration": 1988,
    "start_time": "2024-05-28T09:15:22.675Z"
   },
   {
    "duration": 4,
    "start_time": "2024-05-28T09:15:24.665Z"
   },
   {
    "duration": 1052,
    "start_time": "2024-05-28T09:15:24.671Z"
   },
   {
    "duration": 7,
    "start_time": "2024-05-28T09:15:25.725Z"
   },
   {
    "duration": 1668,
    "start_time": "2024-05-28T09:15:25.734Z"
   },
   {
    "duration": 1101,
    "start_time": "2024-05-28T09:15:27.404Z"
   },
   {
    "duration": 22,
    "start_time": "2024-05-28T09:15:28.507Z"
   },
   {
    "duration": 76,
    "start_time": "2024-05-28T09:15:28.530Z"
   },
   {
    "duration": 806,
    "start_time": "2024-05-28T09:15:28.609Z"
   },
   {
    "duration": 30,
    "start_time": "2024-05-28T09:15:29.418Z"
   },
   {
    "duration": 6,
    "start_time": "2024-05-28T09:15:29.450Z"
   },
   {
    "duration": 17288,
    "start_time": "2024-05-28T09:15:29.460Z"
   },
   {
    "duration": 7,
    "start_time": "2024-05-28T09:15:46.750Z"
   },
   {
    "duration": 45,
    "start_time": "2024-05-28T09:15:46.759Z"
   },
   {
    "duration": 6,
    "start_time": "2024-05-28T09:15:46.812Z"
   },
   {
    "duration": 68,
    "start_time": "2024-05-28T09:15:46.820Z"
   },
   {
    "duration": 34,
    "start_time": "2024-05-28T09:15:46.890Z"
   },
   {
    "duration": 1007,
    "start_time": "2024-05-28T09:15:46.926Z"
   },
   {
    "duration": 1696,
    "start_time": "2024-05-28T09:15:47.934Z"
   },
   {
    "duration": 15,
    "start_time": "2024-05-28T09:15:49.631Z"
   },
   {
    "duration": 98,
    "start_time": "2024-05-28T09:15:49.648Z"
   },
   {
    "duration": 172,
    "start_time": "2024-05-28T09:15:49.748Z"
   },
   {
    "duration": 13,
    "start_time": "2024-05-28T09:15:49.923Z"
   },
   {
    "duration": 88,
    "start_time": "2024-05-28T09:15:49.939Z"
   },
   {
    "duration": 47,
    "start_time": "2024-05-28T09:15:50.029Z"
   },
   {
    "duration": 3525,
    "start_time": "2024-05-28T09:15:50.078Z"
   },
   {
    "duration": 58,
    "start_time": "2024-05-28T09:15:53.605Z"
   },
   {
    "duration": 12,
    "start_time": "2024-05-28T09:15:53.665Z"
   },
   {
    "duration": 44,
    "start_time": "2024-05-28T09:15:53.681Z"
   },
   {
    "duration": 6,
    "start_time": "2024-05-28T09:15:53.727Z"
   },
   {
    "duration": 46,
    "start_time": "2024-05-28T09:15:53.734Z"
   },
   {
    "duration": 22,
    "start_time": "2024-05-28T09:15:53.781Z"
   },
   {
    "duration": 28,
    "start_time": "2024-05-28T09:15:53.805Z"
   },
   {
    "duration": 95,
    "start_time": "2024-05-28T09:15:53.835Z"
   },
   {
    "duration": 415381,
    "start_time": "2024-05-28T09:15:53.932Z"
   },
   {
    "duration": 16,
    "start_time": "2024-05-28T09:22:49.315Z"
   },
   {
    "duration": 103,
    "start_time": "2024-05-28T09:22:49.333Z"
   },
   {
    "duration": 751,
    "start_time": "2024-05-28T09:22:49.438Z"
   },
   {
    "duration": 12,
    "start_time": "2024-05-28T09:28:24.837Z"
   },
   {
    "duration": 30,
    "start_time": "2024-05-28T09:28:28.816Z"
   },
   {
    "duration": 66,
    "start_time": "2024-05-28T09:28:59.303Z"
   },
   {
    "duration": 6,
    "start_time": "2024-05-28T09:29:08.335Z"
   },
   {
    "duration": 3,
    "start_time": "2024-05-28T09:29:12.870Z"
   },
   {
    "duration": 18,
    "start_time": "2024-05-28T09:29:13.567Z"
   },
   {
    "duration": 405917,
    "start_time": "2024-05-28T09:29:15.487Z"
   },
   {
    "duration": 20,
    "start_time": "2024-05-28T09:37:40.770Z"
   },
   {
    "duration": 101,
    "start_time": "2024-05-28T09:37:43.321Z"
   },
   {
    "duration": 6,
    "start_time": "2024-05-28T09:38:09.152Z"
   },
   {
    "duration": 4,
    "start_time": "2024-05-28T09:38:12.018Z"
   },
   {
    "duration": 23,
    "start_time": "2024-05-28T09:38:12.822Z"
   },
   {
    "duration": 473323,
    "start_time": "2024-05-28T09:38:13.439Z"
   },
   {
    "duration": 17,
    "start_time": "2024-05-28T09:46:45.262Z"
   },
   {
    "duration": 71,
    "start_time": "2024-05-28T09:46:48.416Z"
   },
   {
    "duration": 35,
    "start_time": "2024-05-28T09:52:33.264Z"
   },
   {
    "duration": 23,
    "start_time": "2024-05-28T09:53:30.487Z"
   },
   {
    "duration": 2563,
    "start_time": "2024-05-28T09:53:48.654Z"
   },
   {
    "duration": 3021,
    "start_time": "2024-05-28T09:53:51.219Z"
   },
   {
    "duration": 1557,
    "start_time": "2024-05-28T09:53:54.242Z"
   },
   {
    "duration": 3,
    "start_time": "2024-05-28T09:53:55.801Z"
   },
   {
    "duration": 1008,
    "start_time": "2024-05-28T09:53:55.806Z"
   },
   {
    "duration": 6,
    "start_time": "2024-05-28T09:53:56.815Z"
   },
   {
    "duration": 1655,
    "start_time": "2024-05-28T09:53:56.823Z"
   },
   {
    "duration": 1079,
    "start_time": "2024-05-28T09:53:58.480Z"
   },
   {
    "duration": 22,
    "start_time": "2024-05-28T09:53:59.561Z"
   },
   {
    "duration": 80,
    "start_time": "2024-05-28T09:53:59.584Z"
   },
   {
    "duration": 740,
    "start_time": "2024-05-28T09:53:59.666Z"
   },
   {
    "duration": 20,
    "start_time": "2024-05-28T09:54:00.408Z"
   },
   {
    "duration": 53,
    "start_time": "2024-05-28T09:54:00.430Z"
   },
   {
    "duration": 16287,
    "start_time": "2024-05-28T09:54:00.487Z"
   },
   {
    "duration": 7,
    "start_time": "2024-05-28T09:54:16.776Z"
   },
   {
    "duration": 20,
    "start_time": "2024-05-28T09:54:16.793Z"
   },
   {
    "duration": 4,
    "start_time": "2024-05-28T09:54:16.815Z"
   },
   {
    "duration": 1158,
    "start_time": "2024-05-28T09:54:16.821Z"
   },
   {
    "duration": 32,
    "start_time": "2024-05-28T09:54:17.981Z"
   },
   {
    "duration": 6,
    "start_time": "2024-05-28T09:54:18.015Z"
   },
   {
    "duration": 1579,
    "start_time": "2024-05-28T09:54:18.023Z"
   },
   {
    "duration": 15,
    "start_time": "2024-05-28T09:54:19.603Z"
   },
   {
    "duration": 93,
    "start_time": "2024-05-28T09:54:19.619Z"
   },
   {
    "duration": 137,
    "start_time": "2024-05-28T09:54:19.714Z"
   },
   {
    "duration": 9,
    "start_time": "2024-05-28T09:54:19.853Z"
   },
   {
    "duration": 67,
    "start_time": "2024-05-28T09:54:19.864Z"
   },
   {
    "duration": 29,
    "start_time": "2024-05-28T09:54:19.933Z"
   },
   {
    "duration": 3378,
    "start_time": "2024-05-28T09:54:19.964Z"
   },
   {
    "duration": 39,
    "start_time": "2024-05-28T09:54:23.344Z"
   },
   {
    "duration": 79,
    "start_time": "2024-05-28T09:54:23.384Z"
   },
   {
    "duration": 59,
    "start_time": "2024-05-28T09:54:23.465Z"
   },
   {
    "duration": 6,
    "start_time": "2024-05-28T09:54:23.527Z"
   },
   {
    "duration": 29,
    "start_time": "2024-05-28T09:54:23.535Z"
   },
   {
    "duration": 25,
    "start_time": "2024-05-28T09:54:23.565Z"
   },
   {
    "duration": 6,
    "start_time": "2024-05-28T09:54:23.592Z"
   },
   {
    "duration": 27,
    "start_time": "2024-05-28T09:54:23.600Z"
   },
   {
    "duration": 32,
    "start_time": "2024-05-28T09:54:23.629Z"
   },
   {
    "duration": 530059,
    "start_time": "2024-05-28T09:54:23.663Z"
   },
   {
    "duration": 16,
    "start_time": "2024-05-28T10:03:13.723Z"
   },
   {
    "duration": 106,
    "start_time": "2024-05-28T10:03:13.741Z"
   },
   {
    "duration": 784,
    "start_time": "2024-05-28T10:03:13.851Z"
   },
   {
    "duration": 492,
    "start_time": "2024-05-28T10:03:54.017Z"
   },
   {
    "duration": 6,
    "start_time": "2024-05-28T10:05:46.143Z"
   },
   {
    "duration": 4,
    "start_time": "2024-05-28T10:05:49.110Z"
   },
   {
    "duration": 19,
    "start_time": "2024-05-28T10:05:50.042Z"
   },
   {
    "duration": 460047,
    "start_time": "2024-05-28T10:05:51.063Z"
   },
   {
    "duration": 16,
    "start_time": "2024-05-28T10:13:31.112Z"
   },
   {
    "duration": 92,
    "start_time": "2024-05-28T10:14:30.843Z"
   },
   {
    "duration": 3171,
    "start_time": "2024-05-28T15:10:40.755Z"
   },
   {
    "duration": 3042,
    "start_time": "2024-05-28T15:10:43.929Z"
   },
   {
    "duration": 1809,
    "start_time": "2024-05-28T15:10:46.973Z"
   },
   {
    "duration": 3,
    "start_time": "2024-05-28T15:10:48.784Z"
   },
   {
    "duration": 2909,
    "start_time": "2024-05-28T15:10:48.788Z"
   },
   {
    "duration": 6,
    "start_time": "2024-05-28T15:10:51.698Z"
   },
   {
    "duration": 1562,
    "start_time": "2024-05-28T15:10:51.705Z"
   },
   {
    "duration": 906,
    "start_time": "2024-05-28T15:10:53.268Z"
   },
   {
    "duration": 27,
    "start_time": "2024-05-28T15:10:54.175Z"
   },
   {
    "duration": 69,
    "start_time": "2024-05-28T15:10:54.205Z"
   },
   {
    "duration": 720,
    "start_time": "2024-05-28T15:10:54.275Z"
   },
   {
    "duration": 18,
    "start_time": "2024-05-28T15:10:54.997Z"
   },
   {
    "duration": 4,
    "start_time": "2024-05-28T15:10:55.017Z"
   },
   {
    "duration": 15384,
    "start_time": "2024-05-28T15:10:55.023Z"
   },
   {
    "duration": 6,
    "start_time": "2024-05-28T15:11:10.408Z"
   },
   {
    "duration": 25,
    "start_time": "2024-05-28T15:11:10.415Z"
   },
   {
    "duration": 3,
    "start_time": "2024-05-28T15:11:10.442Z"
   },
   {
    "duration": 929,
    "start_time": "2024-05-28T15:11:10.446Z"
   },
   {
    "duration": 21,
    "start_time": "2024-05-28T15:11:11.377Z"
   },
   {
    "duration": 5,
    "start_time": "2024-05-28T15:11:11.399Z"
   },
   {
    "duration": 1504,
    "start_time": "2024-05-28T15:11:11.406Z"
   },
   {
    "duration": 14,
    "start_time": "2024-05-28T15:11:12.912Z"
   },
   {
    "duration": 107,
    "start_time": "2024-05-28T15:11:12.928Z"
   },
   {
    "duration": 150,
    "start_time": "2024-05-28T15:11:13.037Z"
   },
   {
    "duration": 10,
    "start_time": "2024-05-28T15:11:13.189Z"
   },
   {
    "duration": 56,
    "start_time": "2024-05-28T15:11:13.200Z"
   },
   {
    "duration": 28,
    "start_time": "2024-05-28T15:11:13.257Z"
   },
   {
    "duration": 3162,
    "start_time": "2024-05-28T15:11:13.288Z"
   },
   {
    "duration": 35,
    "start_time": "2024-05-28T15:11:16.452Z"
   },
   {
    "duration": 14,
    "start_time": "2024-05-28T15:11:16.489Z"
   },
   {
    "duration": 48,
    "start_time": "2024-05-28T15:11:16.505Z"
   },
   {
    "duration": 18,
    "start_time": "2024-05-28T15:11:16.555Z"
   },
   {
    "duration": 32,
    "start_time": "2024-05-28T15:11:16.575Z"
   },
   {
    "duration": 48,
    "start_time": "2024-05-28T15:11:16.609Z"
   },
   {
    "duration": 18,
    "start_time": "2024-05-28T15:11:16.659Z"
   },
   {
    "duration": 3,
    "start_time": "2024-05-28T15:11:35.247Z"
   },
   {
    "duration": 20,
    "start_time": "2024-05-28T15:11:37.591Z"
   },
   {
    "duration": 115,
    "start_time": "2024-05-28T15:11:42.846Z"
   },
   {
    "duration": 129386,
    "start_time": "2024-05-28T15:11:46.591Z"
   },
   {
    "duration": 3,
    "start_time": "2024-05-28T15:13:55.979Z"
   },
   {
    "duration": 501,
    "start_time": "2024-05-28T15:14:47.431Z"
   },
   {
    "duration": 528,
    "start_time": "2024-05-28T15:15:31.383Z"
   },
   {
    "duration": 2375,
    "start_time": "2024-05-28T15:15:54.065Z"
   },
   {
    "duration": 43034,
    "start_time": "2024-05-28T15:16:08.952Z"
   },
   {
    "duration": 5,
    "start_time": "2024-05-28T15:16:58.448Z"
   },
   {
    "duration": 33965,
    "start_time": "2024-05-28T15:23:59.640Z"
   },
   {
    "duration": 4,
    "start_time": "2024-05-28T15:24:49.490Z"
   },
   {
    "duration": 3311,
    "start_time": "2024-05-28T18:13:16.758Z"
   },
   {
    "duration": 5923,
    "start_time": "2024-05-28T18:13:20.071Z"
   },
   {
    "duration": 1489,
    "start_time": "2024-05-28T18:13:25.996Z"
   },
   {
    "duration": 3,
    "start_time": "2024-05-28T18:13:27.487Z"
   },
   {
    "duration": 933,
    "start_time": "2024-05-28T18:13:27.491Z"
   },
   {
    "duration": 5,
    "start_time": "2024-05-28T18:13:28.425Z"
   },
   {
    "duration": 1103,
    "start_time": "2024-05-28T18:13:28.431Z"
   },
   {
    "duration": 697,
    "start_time": "2024-05-28T18:13:29.535Z"
   },
   {
    "duration": 17,
    "start_time": "2024-05-28T18:13:30.234Z"
   },
   {
    "duration": 104,
    "start_time": "2024-05-28T18:13:30.254Z"
   },
   {
    "duration": 658,
    "start_time": "2024-05-28T18:13:30.359Z"
   },
   {
    "duration": 17,
    "start_time": "2024-05-28T18:13:31.018Z"
   },
   {
    "duration": 15,
    "start_time": "2024-05-28T18:13:31.037Z"
   },
   {
    "duration": 11634,
    "start_time": "2024-05-28T18:13:31.053Z"
   },
   {
    "duration": 4,
    "start_time": "2024-05-28T18:13:42.689Z"
   },
   {
    "duration": 24,
    "start_time": "2024-05-28T18:13:42.695Z"
   },
   {
    "duration": 4,
    "start_time": "2024-05-28T18:13:42.721Z"
   },
   {
    "duration": 84,
    "start_time": "2024-05-28T18:13:42.726Z"
   },
   {
    "duration": 27,
    "start_time": "2024-05-28T18:13:42.811Z"
   },
   {
    "duration": 687,
    "start_time": "2024-05-28T18:13:42.840Z"
   },
   {
    "duration": 1395,
    "start_time": "2024-05-28T18:13:43.529Z"
   },
   {
    "duration": 12,
    "start_time": "2024-05-28T18:13:44.926Z"
   },
   {
    "duration": 78,
    "start_time": "2024-05-28T18:13:44.940Z"
   },
   {
    "duration": 110,
    "start_time": "2024-05-28T18:13:45.019Z"
   },
   {
    "duration": 7,
    "start_time": "2024-05-28T18:13:45.131Z"
   },
   {
    "duration": 32,
    "start_time": "2024-05-28T18:13:45.140Z"
   },
   {
    "duration": 34,
    "start_time": "2024-05-28T18:13:45.173Z"
   },
   {
    "duration": 2523,
    "start_time": "2024-05-28T18:13:45.210Z"
   },
   {
    "duration": 28,
    "start_time": "2024-05-28T18:13:47.735Z"
   },
   {
    "duration": 10,
    "start_time": "2024-05-28T18:13:47.764Z"
   },
   {
    "duration": 24,
    "start_time": "2024-05-28T18:13:47.776Z"
   },
   {
    "duration": 5,
    "start_time": "2024-05-28T18:13:47.801Z"
   },
   {
    "duration": 17,
    "start_time": "2024-05-28T18:13:47.807Z"
   },
   {
    "duration": 19,
    "start_time": "2024-05-28T18:13:47.825Z"
   },
   {
    "duration": 3,
    "start_time": "2024-05-28T18:13:47.845Z"
   },
   {
    "duration": 7,
    "start_time": "2024-05-28T18:13:47.850Z"
   },
   {
    "duration": 14,
    "start_time": "2024-05-28T18:13:47.859Z"
   },
   {
    "duration": 3206,
    "start_time": "2024-05-29T04:09:00.036Z"
   },
   {
    "duration": 6251,
    "start_time": "2024-05-29T04:09:03.245Z"
   },
   {
    "duration": 1508,
    "start_time": "2024-05-29T04:09:09.498Z"
   },
   {
    "duration": 3,
    "start_time": "2024-05-29T04:09:11.008Z"
   },
   {
    "duration": 2870,
    "start_time": "2024-05-29T04:09:11.012Z"
   },
   {
    "duration": 5,
    "start_time": "2024-05-29T04:09:13.884Z"
   },
   {
    "duration": 1335,
    "start_time": "2024-05-29T04:09:13.890Z"
   },
   {
    "duration": 834,
    "start_time": "2024-05-29T04:09:15.227Z"
   },
   {
    "duration": 18,
    "start_time": "2024-05-29T04:09:16.063Z"
   },
   {
    "duration": 54,
    "start_time": "2024-05-29T04:09:16.083Z"
   },
   {
    "duration": 706,
    "start_time": "2024-05-29T04:09:16.139Z"
   },
   {
    "duration": 23,
    "start_time": "2024-05-29T04:09:16.846Z"
   },
   {
    "duration": 6,
    "start_time": "2024-05-29T04:09:16.870Z"
   },
   {
    "duration": 14018,
    "start_time": "2024-05-29T04:09:16.877Z"
   },
   {
    "duration": 6,
    "start_time": "2024-05-29T04:09:30.896Z"
   },
   {
    "duration": 50,
    "start_time": "2024-05-29T04:09:30.903Z"
   },
   {
    "duration": 22,
    "start_time": "2024-05-29T04:09:30.955Z"
   },
   {
    "duration": 961,
    "start_time": "2024-05-29T04:09:30.979Z"
   },
   {
    "duration": 23,
    "start_time": "2024-05-29T04:09:31.942Z"
   },
   {
    "duration": 5,
    "start_time": "2024-05-29T04:09:31.967Z"
   },
   {
    "duration": 1507,
    "start_time": "2024-05-29T04:09:31.973Z"
   },
   {
    "duration": 14,
    "start_time": "2024-05-29T04:09:33.481Z"
   },
   {
    "duration": 90,
    "start_time": "2024-05-29T04:09:33.496Z"
   },
   {
    "duration": 132,
    "start_time": "2024-05-29T04:09:33.587Z"
   },
   {
    "duration": 13,
    "start_time": "2024-05-29T04:09:33.722Z"
   },
   {
    "duration": 49,
    "start_time": "2024-05-29T04:09:33.737Z"
   },
   {
    "duration": 29,
    "start_time": "2024-05-29T04:09:33.787Z"
   },
   {
    "duration": 2977,
    "start_time": "2024-05-29T04:09:33.819Z"
   },
   {
    "duration": 34,
    "start_time": "2024-05-29T04:09:36.798Z"
   },
   {
    "duration": 10,
    "start_time": "2024-05-29T04:09:36.833Z"
   },
   {
    "duration": 19,
    "start_time": "2024-05-29T04:09:36.845Z"
   },
   {
    "duration": 4,
    "start_time": "2024-05-29T04:09:36.866Z"
   },
   {
    "duration": 8,
    "start_time": "2024-05-29T04:09:36.871Z"
   },
   {
    "duration": 22,
    "start_time": "2024-05-29T04:09:36.881Z"
   },
   {
    "duration": 61,
    "start_time": "2024-05-29T04:09:36.905Z"
   },
   {
    "duration": 0,
    "start_time": "2024-05-29T04:09:36.967Z"
   },
   {
    "duration": 0,
    "start_time": "2024-05-29T04:09:36.968Z"
   },
   {
    "duration": 0,
    "start_time": "2024-05-29T04:09:36.970Z"
   },
   {
    "duration": 0,
    "start_time": "2024-05-29T04:09:36.971Z"
   },
   {
    "duration": 0,
    "start_time": "2024-05-29T04:09:36.972Z"
   },
   {
    "duration": 0,
    "start_time": "2024-05-29T04:09:36.973Z"
   },
   {
    "duration": 2286,
    "start_time": "2024-05-29T04:10:39.778Z"
   },
   {
    "duration": 2757,
    "start_time": "2024-05-29T04:10:42.066Z"
   },
   {
    "duration": 1285,
    "start_time": "2024-05-29T04:10:44.825Z"
   },
   {
    "duration": 3,
    "start_time": "2024-05-29T04:10:46.112Z"
   },
   {
    "duration": 802,
    "start_time": "2024-05-29T04:10:46.117Z"
   },
   {
    "duration": 8,
    "start_time": "2024-05-29T04:10:46.921Z"
   },
   {
    "duration": 1321,
    "start_time": "2024-05-29T04:10:46.930Z"
   },
   {
    "duration": 870,
    "start_time": "2024-05-29T04:10:48.253Z"
   },
   {
    "duration": 17,
    "start_time": "2024-05-29T04:10:49.125Z"
   },
   {
    "duration": 60,
    "start_time": "2024-05-29T04:10:49.144Z"
   },
   {
    "duration": 687,
    "start_time": "2024-05-29T04:10:49.206Z"
   },
   {
    "duration": 21,
    "start_time": "2024-05-29T04:10:49.895Z"
   },
   {
    "duration": 6,
    "start_time": "2024-05-29T04:10:49.917Z"
   },
   {
    "duration": 14210,
    "start_time": "2024-05-29T04:10:49.926Z"
   },
   {
    "duration": 8,
    "start_time": "2024-05-29T04:11:04.137Z"
   },
   {
    "duration": 28,
    "start_time": "2024-05-29T04:11:04.147Z"
   },
   {
    "duration": 3,
    "start_time": "2024-05-29T04:11:04.177Z"
   },
   {
    "duration": 821,
    "start_time": "2024-05-29T04:11:04.181Z"
   },
   {
    "duration": 15,
    "start_time": "2024-05-29T04:11:05.004Z"
   },
   {
    "duration": 4,
    "start_time": "2024-05-29T04:11:05.021Z"
   },
   {
    "duration": 1454,
    "start_time": "2024-05-29T04:11:05.027Z"
   },
   {
    "duration": 13,
    "start_time": "2024-05-29T04:11:06.482Z"
   },
   {
    "duration": 86,
    "start_time": "2024-05-29T04:11:06.496Z"
   },
   {
    "duration": 122,
    "start_time": "2024-05-29T04:11:06.583Z"
   },
   {
    "duration": 8,
    "start_time": "2024-05-29T04:11:06.707Z"
   },
   {
    "duration": 33,
    "start_time": "2024-05-29T04:11:06.716Z"
   },
   {
    "duration": 39,
    "start_time": "2024-05-29T04:11:06.750Z"
   },
   {
    "duration": 2913,
    "start_time": "2024-05-29T04:11:06.791Z"
   },
   {
    "duration": 34,
    "start_time": "2024-05-29T04:11:09.706Z"
   },
   {
    "duration": 12,
    "start_time": "2024-05-29T04:11:09.741Z"
   },
   {
    "duration": 31,
    "start_time": "2024-05-29T04:11:09.755Z"
   },
   {
    "duration": 6,
    "start_time": "2024-05-29T04:11:09.788Z"
   },
   {
    "duration": 5,
    "start_time": "2024-05-29T04:11:09.796Z"
   },
   {
    "duration": 21,
    "start_time": "2024-05-29T04:11:09.802Z"
   },
   {
    "duration": 4,
    "start_time": "2024-05-29T04:11:09.825Z"
   },
   {
    "duration": 6,
    "start_time": "2024-05-29T04:11:09.830Z"
   },
   {
    "duration": 43,
    "start_time": "2024-05-29T04:11:09.838Z"
   },
   {
    "duration": 182,
    "start_time": "2024-05-29T04:11:09.883Z"
   },
   {
    "duration": 9,
    "start_time": "2024-05-29T04:11:10.067Z"
   },
   {
    "duration": 0,
    "start_time": "2024-05-29T04:11:10.077Z"
   },
   {
    "duration": 0,
    "start_time": "2024-05-29T04:11:10.078Z"
   },
   {
    "duration": 5,
    "start_time": "2024-05-29T04:12:01.917Z"
   },
   {
    "duration": 4,
    "start_time": "2024-05-29T04:12:04.954Z"
   },
   {
    "duration": 17,
    "start_time": "2024-05-29T04:12:05.758Z"
   },
   {
    "duration": 1058940,
    "start_time": "2024-05-29T04:12:06.408Z"
   },
   {
    "duration": 17,
    "start_time": "2024-05-29T05:14:05.541Z"
   },
   {
    "duration": 20,
    "start_time": "2024-05-29T07:33:14.015Z"
   },
   {
    "duration": 4,
    "start_time": "2024-05-29T09:14:54.143Z"
   },
   {
    "duration": 3,
    "start_time": "2024-05-29T09:14:57.632Z"
   },
   {
    "duration": 18,
    "start_time": "2024-05-29T09:14:58.387Z"
   },
   {
    "duration": 5,
    "start_time": "2024-05-29T09:14:58.951Z"
   },
   {
    "duration": 3,
    "start_time": "2024-05-29T09:15:01.933Z"
   },
   {
    "duration": 16,
    "start_time": "2024-05-29T09:15:02.767Z"
   },
   {
    "duration": 100692,
    "start_time": "2024-05-29T09:15:04.648Z"
   },
   {
    "duration": 9,
    "start_time": "2024-05-29T09:16:45.341Z"
   },
   {
    "duration": 4,
    "start_time": "2024-05-29T09:16:55.519Z"
   },
   {
    "duration": 2371,
    "start_time": "2024-05-29T09:16:59.967Z"
   },
   {
    "duration": 2838,
    "start_time": "2024-05-29T09:17:02.340Z"
   },
   {
    "duration": 1364,
    "start_time": "2024-05-29T09:17:05.180Z"
   },
   {
    "duration": 2,
    "start_time": "2024-05-29T09:17:06.546Z"
   },
   {
    "duration": 876,
    "start_time": "2024-05-29T09:17:06.550Z"
   },
   {
    "duration": 5,
    "start_time": "2024-05-29T09:17:07.427Z"
   },
   {
    "duration": 1417,
    "start_time": "2024-05-29T09:17:07.434Z"
   },
   {
    "duration": 960,
    "start_time": "2024-05-29T09:17:08.853Z"
   },
   {
    "duration": 28,
    "start_time": "2024-05-29T09:17:09.815Z"
   },
   {
    "duration": 63,
    "start_time": "2024-05-29T09:17:09.845Z"
   },
   {
    "duration": 655,
    "start_time": "2024-05-29T09:17:09.910Z"
   },
   {
    "duration": 17,
    "start_time": "2024-05-29T09:17:10.567Z"
   },
   {
    "duration": 5,
    "start_time": "2024-05-29T09:17:10.585Z"
   },
   {
    "duration": 14562,
    "start_time": "2024-05-29T09:17:10.593Z"
   },
   {
    "duration": 11,
    "start_time": "2024-05-29T09:17:25.157Z"
   },
   {
    "duration": 15,
    "start_time": "2024-05-29T09:17:25.169Z"
   },
   {
    "duration": 3,
    "start_time": "2024-05-29T09:17:25.186Z"
   },
   {
    "duration": 949,
    "start_time": "2024-05-29T09:17:25.190Z"
   },
   {
    "duration": 24,
    "start_time": "2024-05-29T09:17:26.141Z"
   },
   {
    "duration": 4,
    "start_time": "2024-05-29T09:17:26.167Z"
   },
   {
    "duration": 1518,
    "start_time": "2024-05-29T09:17:26.173Z"
   },
   {
    "duration": 13,
    "start_time": "2024-05-29T09:17:27.693Z"
   },
   {
    "duration": 91,
    "start_time": "2024-05-29T09:17:27.707Z"
   },
   {
    "duration": 146,
    "start_time": "2024-05-29T09:17:27.800Z"
   },
   {
    "duration": 8,
    "start_time": "2024-05-29T09:17:27.947Z"
   },
   {
    "duration": 38,
    "start_time": "2024-05-29T09:17:27.957Z"
   },
   {
    "duration": 26,
    "start_time": "2024-05-29T09:17:27.997Z"
   },
   {
    "duration": 3000,
    "start_time": "2024-05-29T09:17:28.024Z"
   },
   {
    "duration": 43,
    "start_time": "2024-05-29T09:17:31.026Z"
   },
   {
    "duration": 44,
    "start_time": "2024-05-29T09:17:31.071Z"
   },
   {
    "duration": 60,
    "start_time": "2024-05-29T09:17:31.117Z"
   },
   {
    "duration": 16,
    "start_time": "2024-05-29T09:17:31.179Z"
   },
   {
    "duration": 38,
    "start_time": "2024-05-29T09:17:31.197Z"
   },
   {
    "duration": 42,
    "start_time": "2024-05-29T09:17:31.236Z"
   },
   {
    "duration": 7,
    "start_time": "2024-05-29T09:17:31.279Z"
   },
   {
    "duration": 50,
    "start_time": "2024-05-29T09:17:31.288Z"
   },
   {
    "duration": 68,
    "start_time": "2024-05-29T09:17:31.340Z"
   },
   {
    "duration": 980295,
    "start_time": "2024-05-29T09:17:31.409Z"
   },
   {
    "duration": 5,
    "start_time": "2024-05-29T09:33:51.705Z"
   },
   {
    "duration": 33,
    "start_time": "2024-05-29T09:33:51.712Z"
   },
   {
    "duration": 2553,
    "start_time": "2024-05-29T09:33:51.749Z"
   },
   {
    "duration": 3,
    "start_time": "2024-05-29T09:48:18.414Z"
   },
   {
    "duration": 3,
    "start_time": "2024-05-29T09:48:39.958Z"
   },
   {
    "duration": 121,
    "start_time": "2024-05-29T09:50:20.989Z"
   },
   {
    "duration": 10,
    "start_time": "2024-05-29T09:54:50.162Z"
   },
   {
    "duration": 9,
    "start_time": "2024-05-29T09:56:47.382Z"
   },
   {
    "duration": 3562,
    "start_time": "2024-05-29T09:57:24.393Z"
   },
   {
    "duration": 465,
    "start_time": "2024-05-29T09:57:32.687Z"
   },
   {
    "duration": 564,
    "start_time": "2024-05-29T09:57:40.786Z"
   },
   {
    "duration": 11,
    "start_time": "2024-05-29T09:57:48.558Z"
   },
   {
    "duration": 632,
    "start_time": "2024-05-29T10:00:42.701Z"
   },
   {
    "duration": 11,
    "start_time": "2024-05-29T10:01:00.852Z"
   },
   {
    "duration": 564,
    "start_time": "2024-05-29T10:02:04.292Z"
   },
   {
    "duration": 593,
    "start_time": "2024-05-29T10:02:50.470Z"
   },
   {
    "duration": 677,
    "start_time": "2024-05-29T10:04:42.830Z"
   },
   {
    "duration": 415997,
    "start_time": "2024-05-29T10:05:38.230Z"
   },
   {
    "duration": 419659,
    "start_time": "2024-05-29T10:14:02.298Z"
   },
   {
    "duration": 0,
    "start_time": "2024-05-29T10:29:16.544Z"
   },
   {
    "duration": 420598,
    "start_time": "2024-05-29T10:29:29.806Z"
   },
   {
    "duration": 431627,
    "start_time": "2024-05-29T10:39:03.048Z"
   },
   {
    "duration": 441556,
    "start_time": "2024-05-29T10:47:46.702Z"
   },
   {
    "duration": 73,
    "start_time": "2024-05-29T12:03:00.455Z"
   },
   {
    "duration": 2672,
    "start_time": "2024-05-29T12:04:28.050Z"
   },
   {
    "duration": 3233,
    "start_time": "2024-05-29T12:04:30.724Z"
   },
   {
    "duration": 2585,
    "start_time": "2024-05-29T12:04:33.960Z"
   },
   {
    "duration": 2027,
    "start_time": "2024-05-29T12:04:36.548Z"
   },
   {
    "duration": 3,
    "start_time": "2024-05-29T12:04:38.577Z"
   },
   {
    "duration": 1074,
    "start_time": "2024-05-29T12:04:38.581Z"
   },
   {
    "duration": 12,
    "start_time": "2024-05-29T12:04:39.657Z"
   },
   {
    "duration": 1641,
    "start_time": "2024-05-29T12:04:39.671Z"
   },
   {
    "duration": 1079,
    "start_time": "2024-05-29T12:04:41.314Z"
   },
   {
    "duration": 22,
    "start_time": "2024-05-29T12:04:42.397Z"
   },
   {
    "duration": 68,
    "start_time": "2024-05-29T12:04:42.421Z"
   },
   {
    "duration": 746,
    "start_time": "2024-05-29T12:04:42.491Z"
   },
   {
    "duration": 26,
    "start_time": "2024-05-29T12:04:43.239Z"
   },
   {
    "duration": 4,
    "start_time": "2024-05-29T12:04:43.267Z"
   },
   {
    "duration": 15741,
    "start_time": "2024-05-29T12:04:43.273Z"
   },
   {
    "duration": 6,
    "start_time": "2024-05-29T12:04:59.016Z"
   },
   {
    "duration": 30,
    "start_time": "2024-05-29T12:04:59.024Z"
   },
   {
    "duration": 3,
    "start_time": "2024-05-29T12:04:59.056Z"
   },
   {
    "duration": 60,
    "start_time": "2024-05-29T12:04:59.061Z"
   },
   {
    "duration": 26,
    "start_time": "2024-05-29T12:04:59.122Z"
   },
   {
    "duration": 19,
    "start_time": "2024-05-29T12:04:59.149Z"
   },
   {
    "duration": 2547,
    "start_time": "2024-05-29T12:04:59.170Z"
   },
   {
    "duration": 15,
    "start_time": "2024-05-29T12:05:01.718Z"
   },
   {
    "duration": 263,
    "start_time": "2024-05-29T12:05:01.734Z"
   },
   {
    "duration": 137,
    "start_time": "2024-05-29T12:05:01.999Z"
   },
   {
    "duration": 8,
    "start_time": "2024-05-29T12:05:02.137Z"
   },
   {
    "duration": 58,
    "start_time": "2024-05-29T12:05:02.147Z"
   },
   {
    "duration": 29,
    "start_time": "2024-05-29T12:05:02.208Z"
   },
   {
    "duration": 3309,
    "start_time": "2024-05-29T12:05:02.238Z"
   },
   {
    "duration": 40,
    "start_time": "2024-05-29T12:05:05.549Z"
   },
   {
    "duration": 11,
    "start_time": "2024-05-29T12:05:05.591Z"
   },
   {
    "duration": 21,
    "start_time": "2024-05-29T12:05:05.604Z"
   },
   {
    "duration": 6,
    "start_time": "2024-05-29T12:05:05.627Z"
   },
   {
    "duration": 31,
    "start_time": "2024-05-29T12:05:05.634Z"
   },
   {
    "duration": 8,
    "start_time": "2024-05-29T12:05:05.667Z"
   },
   {
    "duration": 7,
    "start_time": "2024-05-29T12:05:05.677Z"
   },
   {
    "duration": 120,
    "start_time": "2024-05-29T12:05:05.685Z"
   },
   {
    "duration": 1018364,
    "start_time": "2024-05-29T12:05:05.807Z"
   },
   {
    "duration": 6,
    "start_time": "2024-05-29T12:22:04.173Z"
   },
   {
    "duration": 27,
    "start_time": "2024-05-29T12:22:04.180Z"
   },
   {
    "duration": 2599,
    "start_time": "2024-05-29T12:22:04.209Z"
   },
   {
    "duration": 444968,
    "start_time": "2024-05-29T12:22:06.810Z"
   },
   {
    "duration": 0,
    "start_time": "2024-05-29T12:41:50.026Z"
   },
   {
    "duration": 439292,
    "start_time": "2024-05-29T12:46:21.631Z"
   },
   {
    "duration": 426455,
    "start_time": "2024-05-29T12:57:08.146Z"
   }
  ],
  "kernelspec": {
   "display_name": "Python 3 (ipykernel)",
   "language": "python",
   "name": "python3"
  },
  "language_info": {
   "codemirror_mode": {
    "name": "ipython",
    "version": 3
   },
   "file_extension": ".py",
   "mimetype": "text/x-python",
   "name": "python",
   "nbconvert_exporter": "python",
   "pygments_lexer": "ipython3",
   "version": "3.9.13"
  },
  "toc": {
   "base_numbering": 1,
   "nav_menu": {},
   "number_sections": true,
   "sideBar": true,
   "skip_h1_title": true,
   "title_cell": "Table of Contents",
   "title_sidebar": "Contents",
   "toc_cell": false,
   "toc_position": {
    "height": "calc(100% - 180px)",
    "left": "10px",
    "top": "150px",
    "width": "171.729px"
   },
   "toc_section_display": true,
   "toc_window_display": true
  }
 },
 "nbformat": 4,
 "nbformat_minor": 4
}
