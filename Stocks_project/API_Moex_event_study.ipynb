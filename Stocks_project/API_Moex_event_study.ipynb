{
 "cells": [
  {
   "cell_type": "code",
   "execution_count": 1,
   "id": "a061e9cb-def3-42b6-8a47-b5bc9614f893",
   "metadata": {},
   "outputs": [],
   "source": [
    "import pandas as pd\n",
    "import numpy as np\n",
    "import requests as req\n",
    "import datetime as dt\n",
    "import time\n",
    "from scipy.stats import norm, binom\n",
    "import statsmodels.api as sm"
   ]
  },
  {
   "cell_type": "markdown",
   "id": "5b7b2677-f0c5-43be-9308-a5b6522d21de",
   "metadata": {},
   "source": [
    "__Pet проект__. \n",
    "\n",
    "Данная тетрадь представляет из себя набор функций на основании которых можно составить стратегию для торгового бота. \n",
    "\n",
    "Представлены функции для загрузки данных с Московской биржи:\n",
    "- Цены акции\n",
    "- Индекс MOEX\n",
    "- Кривая бескупонной доходности\n",
    "\n",
    "Представлены функции для расчета:\n",
    "- бета коэффициента\n",
    "- альфа коэффициента\n",
    "- event study\n"
   ]
  },
  {
   "cell_type": "markdown",
   "id": "6b78d52d-b092-4b74-ad87-978a27b190ab",
   "metadata": {},
   "source": [
    "# Загрузка данных"
   ]
  },
  {
   "cell_type": "markdown",
   "id": "78c28ab4-06ea-4676-af15-3acdd7de51d2",
   "metadata": {},
   "source": [
    "__Константы для функций__"
   ]
  },
  {
   "cell_type": "code",
   "execution_count": 2,
   "id": "72009b05-dd8b-4a44-ae9d-2d18d6dcc1c1",
   "metadata": {},
   "outputs": [],
   "source": [
    "# Определение констант \n",
    "SECID = 'SBER'\n",
    "INDEXID = 'IMOEX'\n",
    "END_DATE = dt.datetime.today().strftime('%Y-%m-%d') # Окно заканчивается сегодняшней ценой закрытия\n",
    "START_DATE = (dt.datetime.today() - dt.timedelta(days=365)).strftime('%Y-%m-%d') #Окно начинается год назад\n",
    "EVENT_DATE = (dt.datetime.today() - dt.timedelta(days=10)).strftime('%Y-%m-%d')  # Дата события 10 дней назад"
   ]
  },
  {
   "cell_type": "markdown",
   "id": "ccfc56e9-6711-4641-b56e-721acee19268",
   "metadata": {},
   "source": [
    "## Загрузка данных акций"
   ]
  },
  {
   "cell_type": "markdown",
   "id": "d8ec6a15-dc77-4280-8c68-395e0042c162",
   "metadata": {},
   "source": [
    "Для загрузки данных с API применяются три основные функции:\n",
    "__flatten__, __get_moex_stock_data__, __get_moex_data_and_prepare__"
   ]
  },
  {
   "cell_type": "markdown",
   "id": "d07b9914-6a4e-4b86-935c-a2811f06068f",
   "metadata": {},
   "source": [
    "### Описание функций\n",
    "\n",
    "__- flatten__ используется для преобразования вложенного JSON-объекта, полученного из MOEX API, в плоский список словарей. \n",
    "\n",
    "Применяется в других методах получения данных\n",
    "\n",
    "Параметры:\n",
    "\n",
    "- j (dict): JSON-объект, полученный из MOEX API. Этот объект должен содержать блок данных с определёнными столбцами и значениями.\n",
    "- blockname (str): Имя ключа в JSON-объекте, который содержит необходимые данные. Обычно этот ключ указывает на блок данных, например, “history”.\n",
    "\n",
    "__- Функция get_moex_stock_data__ Функция возвращает список словарей, где каждый словарь представляет одну запись с данными о ценах акций.\n",
    "\n",
    "Параметры:\n",
    "\n",
    "- secid (str): Идентификатор ценной бумаги.\n",
    "- start_date (str or datetime.date): Начальная дата в формате “YYYY-MM-DD” или объект datetime.date.\n",
    "- end_date (str or datetime.date): Конечная дата в формате “YYYY-MM-DD” или объект datetime.date.\n",
    "- engine (str): Движок рынка. По умолчанию ‘stock’.\n",
    "- market (str): Рынок. По умолчанию ‘shares’.\n",
    "- board (str): Торговая площадка. По умолчанию ‘TQBR’.\n",
    "\n",
    "__- get_moex_data_and_prepare__ - извлекает данные о ценах акций с MOEX API за заданный период времени.\n",
    "\n",
    "Параметры:\n",
    "\n",
    "- secid (str): Идентификатор ценной бумаги.\n",
    "- start_date (str or datetime.date): Начальная дата в формате “YYYY-MM-DD” или объект datetime.date.\n",
    "- end_date (str or datetime.date): Конечная дата в формате “YYYY-MM-DD” или объект datetime.date.\n",
    "\n",
    "Функция использует __get_moex_stock_data__ для получения данных и преобразует их в DataFrame с ценами акций и доходностью."
   ]
  },
  {
   "cell_type": "markdown",
   "id": "6269b5be-073d-4ab4-9e81-71125b04259f",
   "metadata": {},
   "source": [
    "### Функции"
   ]
  },
  {
   "cell_type": "code",
   "execution_count": 4,
   "id": "07066bf2-2468-4bc7-b3cf-ceeb2808daa3",
   "metadata": {},
   "outputs": [],
   "source": [
    "# Функция для извлечения данных с JSON объекта\n",
    "def flatten(j: dict, blockname: str):\n",
    "    columns = j[blockname]['columns']\n",
    "    return [{k: r[I] for I, k in enumerate(columns)} for r in j[blockname]['data']]\n",
    "\n",
    "# Функция для запроса тикера и извлечения данных с JSON объекта\n",
    "def get_moex_stock_data(secid, start_date, end_date, engine='stock', market='shares', board='TQBR'):\n",
    "    # Преобразование дат в объекты datetime, если они являются строками\n",
    "    if isinstance(start_date, str):\n",
    "        start_date = dt.datetime.strptime(start_date, \"%Y-%m-%d\").date()\n",
    "    if isinstance(end_date, str):\n",
    "        end_date = dt.datetime.strptime(end_date, \"%Y-%m-%d\").date()\n",
    "\n",
    "    all_data = []\n",
    "    current_start_date = start_date\n",
    "\n",
    "    while current_start_date <= end_date:\n",
    "        current_end_date = current_start_date + dt.timedelta(days=99)\n",
    "        if current_end_date > end_date:\n",
    "            current_end_date = end_date\n",
    "\n",
    "        # Запрос к MOEX\n",
    "        url = f\"https://iss.moex.com/iss/history/engines/{engine}/markets/{market}/boards/{board}/securities/{secid}.json?from={current_start_date}&till={current_end_date}&iss.meta=off\"\n",
    "        try:\n",
    "            r = req.get(url)\n",
    "            r.encoding = 'utf-8'\n",
    "            j = r.json()\n",
    "\n",
    "            # Преобразование ответа и добавление данных в список all_data\n",
    "            flattened_data = flatten(j, 'history')\n",
    "            all_data.extend(flattened_data)\n",
    "\n",
    "            # Переход к следующему периоду\n",
    "            current_start_date = current_end_date + dt.timedelta(days=1)\n",
    "\n",
    "            # Добавление задержки, чтобы избежать отправки слишком большого количества запросов за короткий период\n",
    "            time.sleep(1)\n",
    "\n",
    "        except req.exceptions.RequestException as e:\n",
    "            print(f\"Запрос не удался: {e}\")\n",
    "            break\n",
    "\n",
    "    return all_data\n",
    "\n",
    "# Функция для обработки данных и упрощения данных\n",
    "def get_moex_data_and_prepare(secid, start_date, end_date):\n",
    "    data = get_moex_stock_data(secid, start_date, end_date)\n",
    "    df = pd.DataFrame(data)\n",
    "    df['TRADEDATE'] = pd.to_datetime(df['TRADEDATE'])\n",
    "    df.set_index('TRADEDATE', inplace=True)\n",
    "    df = df[['CLOSE']].asfreq(\"B\").fillna(method='ffill')\n",
    "    df.columns = [f'{secid}_Stock_Price']\n",
    "    \n",
    "    # Добавление столбца с доходностью и удаление первой строки\n",
    "    df[f'{secid}_Daily_Return'] = df[f'{secid}_Stock_Price'].pct_change()\n",
    "    df.dropna(inplace=True)\n",
    "    \n",
    "    return df"
   ]
  },
  {
   "cell_type": "markdown",
   "id": "db57a1fd-14b8-4a79-9da7-e5f24c24b2bc",
   "metadata": {},
   "source": [
    "### Пример использования"
   ]
  },
  {
   "cell_type": "code",
   "execution_count": 5,
   "id": "bdb81a4d-1a45-479a-9d74-13ae67b29bb3",
   "metadata": {},
   "outputs": [],
   "source": [
    "ticker_df = get_moex_data_and_prepare(SECID, START_DATE, END_DATE)"
   ]
  },
  {
   "cell_type": "code",
   "execution_count": 6,
   "id": "a51d87e7-fb89-49d8-92fa-f8cd1a0e6529",
   "metadata": {},
   "outputs": [
    {
     "data": {
      "text/html": [
       "<div>\n",
       "<style scoped>\n",
       "    .dataframe tbody tr th:only-of-type {\n",
       "        vertical-align: middle;\n",
       "    }\n",
       "\n",
       "    .dataframe tbody tr th {\n",
       "        vertical-align: top;\n",
       "    }\n",
       "\n",
       "    .dataframe thead th {\n",
       "        text-align: right;\n",
       "    }\n",
       "</style>\n",
       "<table border=\"1\" class=\"dataframe\">\n",
       "  <thead>\n",
       "    <tr style=\"text-align: right;\">\n",
       "      <th></th>\n",
       "      <th>SBER_Stock_Price</th>\n",
       "      <th>SBER_Daily_Return</th>\n",
       "    </tr>\n",
       "    <tr>\n",
       "      <th>TRADEDATE</th>\n",
       "      <th></th>\n",
       "      <th></th>\n",
       "    </tr>\n",
       "  </thead>\n",
       "  <tbody>\n",
       "    <tr>\n",
       "      <th>2024-05-27</th>\n",
       "      <td>317.09</td>\n",
       "      <td>-0.012181</td>\n",
       "    </tr>\n",
       "    <tr>\n",
       "      <th>2024-05-28</th>\n",
       "      <td>318.22</td>\n",
       "      <td>0.003564</td>\n",
       "    </tr>\n",
       "    <tr>\n",
       "      <th>2024-05-29</th>\n",
       "      <td>320.38</td>\n",
       "      <td>0.006788</td>\n",
       "    </tr>\n",
       "    <tr>\n",
       "      <th>2024-05-30</th>\n",
       "      <td>316.63</td>\n",
       "      <td>-0.011705</td>\n",
       "    </tr>\n",
       "    <tr>\n",
       "      <th>2024-05-31</th>\n",
       "      <td>313.11</td>\n",
       "      <td>-0.011117</td>\n",
       "    </tr>\n",
       "    <tr>\n",
       "      <th>2024-06-03</th>\n",
       "      <td>310.95</td>\n",
       "      <td>-0.006899</td>\n",
       "    </tr>\n",
       "    <tr>\n",
       "      <th>2024-06-04</th>\n",
       "      <td>316.49</td>\n",
       "      <td>0.017816</td>\n",
       "    </tr>\n",
       "    <tr>\n",
       "      <th>2024-06-05</th>\n",
       "      <td>314.72</td>\n",
       "      <td>-0.005593</td>\n",
       "    </tr>\n",
       "    <tr>\n",
       "      <th>2024-06-06</th>\n",
       "      <td>313.08</td>\n",
       "      <td>-0.005211</td>\n",
       "    </tr>\n",
       "    <tr>\n",
       "      <th>2024-06-07</th>\n",
       "      <td>319.90</td>\n",
       "      <td>0.021784</td>\n",
       "    </tr>\n",
       "  </tbody>\n",
       "</table>\n",
       "</div>"
      ],
      "text/plain": [
       "            SBER_Stock_Price  SBER_Daily_Return\n",
       "TRADEDATE                                      \n",
       "2024-05-27            317.09          -0.012181\n",
       "2024-05-28            318.22           0.003564\n",
       "2024-05-29            320.38           0.006788\n",
       "2024-05-30            316.63          -0.011705\n",
       "2024-05-31            313.11          -0.011117\n",
       "2024-06-03            310.95          -0.006899\n",
       "2024-06-04            316.49           0.017816\n",
       "2024-06-05            314.72          -0.005593\n",
       "2024-06-06            313.08          -0.005211\n",
       "2024-06-07            319.90           0.021784"
      ]
     },
     "execution_count": 6,
     "metadata": {},
     "output_type": "execute_result"
    }
   ],
   "source": [
    "ticker_df.tail(10)"
   ]
  },
  {
   "cell_type": "markdown",
   "id": "d1663132-b131-48a7-8272-69c9299e2f87",
   "metadata": {},
   "source": [
    "## Загрузка данных индекса "
   ]
  },
  {
   "cell_type": "markdown",
   "id": "816a5f36-fbb5-4557-8568-062933f7c97b",
   "metadata": {},
   "source": [
    "### Описание функций\n",
    "\n",
    "__- get_moex_index_data__ возвращает список словарей, где каждый словарь представляет одну запись с данными об индексах.\n",
    "\n",
    "Параметры:\n",
    "\n",
    "- indexid (str): Идентификатор индекса.\n",
    "- start_date (str or datetime.date): Начальная дата в формате “YYYY-MM-DD” или объект datetime.date.\n",
    "- end_date (str or datetime.date): Конечная дата в формате “YYYY-MM-DD” или объект datetime.date.\n",
    "- engine (str): Движок рынка. По умолчанию ‘stock’.\n",
    "- market (str): Рынок. По умолчанию ‘index’.\n",
    "- board (str): Торговая площадка. По умолчанию ‘SNDX’.\n",
    "\n",
    "__- get_moex_index_data_and_prepare__ - извлекает данные о котировках индекса из словаря за заданный период времени.\n",
    "\n",
    "Параметры:\n",
    "\n",
    "- indexid (str): Идентификатор индекса.\n",
    "- start_date (str or datetime.date): Начальная дата в формате “YYYY-MM-DD” или объект datetime.date.\n",
    "- end_date (str or datetime.date): Конечная дата в формате “YYYY-MM-DD” или объект datetime.date.\n",
    "\n",
    "Функция использует __get_moex_index_data__ для получения данных и преобразует их в DataFrame с ценами индекса и доходностью."
   ]
  },
  {
   "cell_type": "markdown",
   "id": "497909d1-c62e-44d7-80fb-445f5956ebba",
   "metadata": {},
   "source": [
    "### Функции "
   ]
  },
  {
   "cell_type": "code",
   "execution_count": 7,
   "id": "9f4eb6fb-48ec-40d0-ad0e-9f1b42263dfd",
   "metadata": {},
   "outputs": [],
   "source": [
    "def get_moex_index_data(indexid, start_date, end_date, engine='stock', market='index', board='SNDX'):\n",
    "    # Преобразование дат в объекты datetime, если они являются строками\n",
    "    if isinstance(start_date, str):\n",
    "        start_date = dt.datetime.strptime(start_date, \"%Y-%m-%d\").date()\n",
    "    if isinstance(end_date, str):\n",
    "        end_date = dt.datetime.strptime(end_date, \"%Y-%m-%d\").date()\n",
    "\n",
    "    all_data = []\n",
    "    current_start_date = start_date\n",
    "\n",
    "    while current_start_date <= end_date:\n",
    "        current_end_date = current_start_date + dt.timedelta(days=99)\n",
    "        if current_end_date > end_date:\n",
    "            current_end_date = end_date\n",
    "\n",
    "        # Запрос к MOEX\n",
    "        url = f\"https://iss.moex.com/iss/history/engines/{engine}/markets/{market}/boards/{board}/securities/{indexid}.json?from={current_start_date}&till={current_end_date}&iss.meta=off\"\n",
    "        try:\n",
    "            r = req.get(url)\n",
    "            r.encoding = 'utf-8'\n",
    "            j = r.json()\n",
    "\n",
    "            # Преобразование ответа и добавление данных в список all_data\n",
    "            flattened_data = flatten(j, 'history')\n",
    "            all_data.extend(flattened_data)\n",
    "\n",
    "            # Переход к следующему периоду\n",
    "            current_start_date = current_end_date + dt.timedelta(days=1)\n",
    "\n",
    "            # Добавление задержки, чтобы избежать отправки слишком большого количества запросов за короткий период\n",
    "            time.sleep(1)\n",
    "\n",
    "        except req.exceptions.RequestException as e:\n",
    "            print(f\"Запрос не удался: {e}\")\n",
    "            break\n",
    "\n",
    "    return all_data\n",
    "\n",
    "# Функция для получения данных MOEX и их подготовки\n",
    "def get_moex_index_data_and_prepare(indexid, start_date, end_date):\n",
    "    data = get_moex_index_data(indexid, start_date, end_date)\n",
    "    df = pd.DataFrame(data)\n",
    "    df['TRADEDATE'] = pd.to_datetime(df['TRADEDATE'])\n",
    "    df.set_index('TRADEDATE', inplace=True)\n",
    "    df = df[['CLOSE']].asfreq(\"B\").fillna(method='ffill')\n",
    "    df.columns = [f'{indexid}_Index_Price']\n",
    "    \n",
    "    # Добавление столбца с доходностью и удаление первой строки\n",
    "    df[f'{indexid}_Daily_Return'] = df[f'{indexid}_Index_Price'].pct_change()\n",
    "    df.dropna(inplace=True)\n",
    "    \n",
    "    return df"
   ]
  },
  {
   "cell_type": "markdown",
   "id": "b7922bec-8294-4dd3-a4bb-1b38c8c6183d",
   "metadata": {},
   "source": [
    "### Пример использования"
   ]
  },
  {
   "cell_type": "code",
   "execution_count": 8,
   "id": "baa843c8-e941-444f-8173-0eb57392315c",
   "metadata": {},
   "outputs": [],
   "source": [
    "# Пример использования функции для индекса IMOEX\n",
    "index_df = get_moex_index_data_and_prepare(INDEXID, START_DATE, END_DATE)"
   ]
  },
  {
   "cell_type": "code",
   "execution_count": 9,
   "id": "2df14a19-83b9-4481-b682-b6baa1f3cd4d",
   "metadata": {},
   "outputs": [
    {
     "data": {
      "text/html": [
       "<div>\n",
       "<style scoped>\n",
       "    .dataframe tbody tr th:only-of-type {\n",
       "        vertical-align: middle;\n",
       "    }\n",
       "\n",
       "    .dataframe tbody tr th {\n",
       "        vertical-align: top;\n",
       "    }\n",
       "\n",
       "    .dataframe thead th {\n",
       "        text-align: right;\n",
       "    }\n",
       "</style>\n",
       "<table border=\"1\" class=\"dataframe\">\n",
       "  <thead>\n",
       "    <tr style=\"text-align: right;\">\n",
       "      <th></th>\n",
       "      <th>IMOEX_Index_Price</th>\n",
       "      <th>IMOEX_Daily_Return</th>\n",
       "    </tr>\n",
       "    <tr>\n",
       "      <th>TRADEDATE</th>\n",
       "      <th></th>\n",
       "      <th></th>\n",
       "    </tr>\n",
       "  </thead>\n",
       "  <tbody>\n",
       "    <tr>\n",
       "      <th>2024-05-27</th>\n",
       "      <td>3299.22</td>\n",
       "      <td>-0.028641</td>\n",
       "    </tr>\n",
       "    <tr>\n",
       "      <th>2024-05-28</th>\n",
       "      <td>3302.91</td>\n",
       "      <td>0.001118</td>\n",
       "    </tr>\n",
       "    <tr>\n",
       "      <th>2024-05-29</th>\n",
       "      <td>3318.03</td>\n",
       "      <td>0.004578</td>\n",
       "    </tr>\n",
       "    <tr>\n",
       "      <th>2024-05-30</th>\n",
       "      <td>3282.18</td>\n",
       "      <td>-0.010805</td>\n",
       "    </tr>\n",
       "    <tr>\n",
       "      <th>2024-05-31</th>\n",
       "      <td>3217.19</td>\n",
       "      <td>-0.019801</td>\n",
       "    </tr>\n",
       "    <tr>\n",
       "      <th>2024-06-03</th>\n",
       "      <td>3141.42</td>\n",
       "      <td>-0.023552</td>\n",
       "    </tr>\n",
       "    <tr>\n",
       "      <th>2024-06-04</th>\n",
       "      <td>3186.93</td>\n",
       "      <td>0.014487</td>\n",
       "    </tr>\n",
       "    <tr>\n",
       "      <th>2024-06-05</th>\n",
       "      <td>3212.24</td>\n",
       "      <td>0.007942</td>\n",
       "    </tr>\n",
       "    <tr>\n",
       "      <th>2024-06-06</th>\n",
       "      <td>3192.38</td>\n",
       "      <td>-0.006183</td>\n",
       "    </tr>\n",
       "    <tr>\n",
       "      <th>2024-06-07</th>\n",
       "      <td>3233.22</td>\n",
       "      <td>0.012793</td>\n",
       "    </tr>\n",
       "  </tbody>\n",
       "</table>\n",
       "</div>"
      ],
      "text/plain": [
       "            IMOEX_Index_Price  IMOEX_Daily_Return\n",
       "TRADEDATE                                        \n",
       "2024-05-27            3299.22           -0.028641\n",
       "2024-05-28            3302.91            0.001118\n",
       "2024-05-29            3318.03            0.004578\n",
       "2024-05-30            3282.18           -0.010805\n",
       "2024-05-31            3217.19           -0.019801\n",
       "2024-06-03            3141.42           -0.023552\n",
       "2024-06-04            3186.93            0.014487\n",
       "2024-06-05            3212.24            0.007942\n",
       "2024-06-06            3192.38           -0.006183\n",
       "2024-06-07            3233.22            0.012793"
      ]
     },
     "execution_count": 9,
     "metadata": {},
     "output_type": "execute_result"
    }
   ],
   "source": [
    "index_df.tail(10)"
   ]
  },
  {
   "cell_type": "markdown",
   "id": "acdae17d-e359-4717-81a9-90a1d26c4606",
   "metadata": {},
   "source": [
    "## Загрузка безрисоквой ставки"
   ]
  },
  {
   "cell_type": "markdown",
   "id": "448bed69-d88e-40cb-9292-8649dc74d733",
   "metadata": {},
   "source": [
    "### Описание функций"
   ]
  },
  {
   "cell_type": "markdown",
   "id": "6879b18e-2ca8-4b85-9e8f-aeaf4b977051",
   "metadata": {},
   "source": [
    "__get_rf_moex__ используется для получения данных о безрисковой ставке с MOEX API на заданную дату.\n",
    "\n",
    "Параметры:\n",
    "\n",
    "- date (str or datetime.date): Дата запроса в формате “YYYY-MM-DD” или объект datetime.date.\n",
    "- engine (str): Движок рынка. По умолчанию ‘stock’.\n",
    "\n",
    "__get_risk_free_rate__ используется для извлечения значения безрисковой ставки на заданную дату и для заданного периода с MOEX API.\n",
    "\n",
    "Параметры:\n",
    "\n",
    "- date (str or datetime.date): Дата запроса в формате “YYYY-MM-DD” или объект datetime.date.\n",
    "- period (float): Период безрисковой ставки в годах. По умолчанию 1.0.\n"
   ]
  },
  {
   "cell_type": "markdown",
   "id": "6d19ff7c-c654-4b47-8edf-326689f2a7c9",
   "metadata": {},
   "source": [
    "### Функции"
   ]
  },
  {
   "cell_type": "code",
   "execution_count": 10,
   "id": "ad5dff2d-5bfd-4927-a73c-030c70cd1e54",
   "metadata": {},
   "outputs": [],
   "source": [
    "def get_rf_moex(date, engine='stock'):\n",
    "    if isinstance(date, str):\n",
    "        date = dt.datetime.strptime(date, \"%Y-%m-%d\").date()\n",
    "    \n",
    "    url = f\"https://iss.moex.com/iss/engines/{engine}/zcyc.json?date={date}&iss.meta=off\"\n",
    "    \n",
    "    try:\n",
    "        r = req.get(url)\n",
    "        if r.status_code != 200:\n",
    "            print(f\"HTTP Error: {r.status_code}\")\n",
    "            return None\n",
    "        \n",
    "        r.encoding = 'utf-8-sig'\n",
    "        j = r.json()\n",
    "        return j\n",
    "\n",
    "    except req.exceptions.RequestException as e:\n",
    "        print(f\"Request failed: {e}\")\n",
    "        return None\n",
    "\n",
    "def get_risk_free_rate(date, period=1.0):\n",
    "    response_json = get_rf_moex(date)\n",
    "    if not response_json:\n",
    "        return None\n",
    "    \n",
    "    yearyields_data = response_json.get('yearyields', {})\n",
    "    columns = yearyields_data.get('columns', [])\n",
    "    data = yearyields_data.get('data', [])\n",
    "    \n",
    "    for row in data:\n",
    "        yield_info = {columns[i]: row[i] for i in range(len(columns))}\n",
    "        if yield_info.get('period') == period:\n",
    "            return round(yield_info.get('value') / 100,3)\n",
    "    \n",
    "    return None"
   ]
  },
  {
   "cell_type": "markdown",
   "id": "2fc05556-16db-41e1-a3c4-8254668bd134",
   "metadata": {},
   "source": [
    "### Пример использования"
   ]
  },
  {
   "cell_type": "code",
   "execution_count": 11,
   "id": "2ec98b2b-dc7e-429c-a6c4-315deda9469c",
   "metadata": {},
   "outputs": [
    {
     "name": "stdout",
     "output_type": "stream",
     "text": [
      "Risk-free rate on for 1 year: 0.159\n"
     ]
    }
   ],
   "source": [
    "risk_free_rate = get_risk_free_rate('2024-06-06')\n",
    "print(f\"Risk-free rate on for 1 year: {risk_free_rate}\")"
   ]
  },
  {
   "cell_type": "markdown",
   "id": "6cbadc55-e25c-4a2c-a2e2-6c14bbc5aebb",
   "metadata": {},
   "source": [
    "# Событийный анализ"
   ]
  },
  {
   "cell_type": "markdown",
   "id": "05c989a1-0e77-44b4-840e-333af03c793c",
   "metadata": {},
   "source": [
    "## Расчет метрик alpha & beta"
   ]
  },
  {
   "cell_type": "markdown",
   "id": "fdc71c98-6e7a-4c1c-87a9-f3505a2d764c",
   "metadata": {},
   "source": [
    "### Описание функций\n",
    "\n",
    "__calculate_beta__ используется для расчета бета коэффициента, который измеряет чувствительность доходности акций относительно доходности рыночного индекса.\n",
    "\n",
    "Параметры:\n",
    "\n",
    "- ticker_df (pd.DataFrame): DataFrame с данными о ценах акций, включая дневную доходность.\n",
    "- index_df (pd.DataFrame): DataFrame с данными об индексе, включая дневную доходность.\n",
    "- ticker_id (str): Идентификатор ценной бумаги.\n",
    "- index_id (str): Идентификатор индекса.\n",
    "- window (int): Окно для расчета бета коэффициента в днях. По умолчанию 90.\n",
    "\n",
    "Функция объединяет данные акций и индекса, берет последние данные в указанном окне и использует линейную регрессию для расчета бета коэффициента.\n",
    "\n",
    "__calculate_alpha__ используется для расчета альфа коэффициента, который измеряет избыточную доходность акций по сравнению с ожидаемой доходностью, рассчитанной на основе бета коэффициента.\n",
    "\n",
    "Параметры:\n",
    "\n",
    "- ticker_df (pd.DataFrame): DataFrame с данными о ценах акций, включая дневную доходность.\n",
    "- index_df (pd.DataFrame): DataFrame с данными об индексе, включая дневную доходность.\n",
    "- ticker_id (str): Идентификатор ценной бумаги.\n",
    "- index_id (str): Идентификатор индекса.\n",
    "- beta (float): Предварительно рассчитанный бета коэффициент для ценной бумаги.\n",
    "- risk_free_rate (float): Безрисковая ставка доходности. По умолчанию 0.0.\n",
    "- window (int): Окно для расчета альфа коэффициента в днях. По умолчанию 90.\n",
    "\n",
    "Функция объединяет данные акций и индекса, берет последние данные в указанном окне, вычисляет среднюю доходность акций и индекса, и на основе этих данных рассчитывает альфа коэффициент.\n"
   ]
  },
  {
   "cell_type": "markdown",
   "id": "56d3a2ef-dbd2-4df8-adda-2393be804c58",
   "metadata": {},
   "source": [
    "### Функции"
   ]
  },
  {
   "cell_type": "code",
   "execution_count": 12,
   "id": "30a502b4-933f-4cc1-a9cf-20b6f5e175ac",
   "metadata": {},
   "outputs": [],
   "source": [
    "# Функция для расчета бета коэффициента\n",
    "def calculate_beta(ticker_df, index_df, ticker_id, index_id, window=90):\n",
    "    # Объединение данных на основе даты\n",
    "    merged_df = pd.merge(ticker_df, index_df, left_index=True, right_index=True, suffixes=('_ticker', '_index'))\n",
    "\n",
    "    # Взятие только последних данных в окне\n",
    "    returns_ticker = merged_df[f'{ticker_id}_Daily_Return'].tail(window)\n",
    "    returns_index = merged_df[f'{index_id}_Daily_Return'].tail(window)\n",
    "\n",
    "    # Добавление константы для выполнения линейной регрессии\n",
    "    X = sm.add_constant(returns_index)\n",
    "\n",
    "    # Создание и подгонка модели\n",
    "    model = sm.OLS(returns_ticker, X).fit()\n",
    "\n",
    "    # Извлечение бета коэффициента\n",
    "    beta = model.params[1]\n",
    "\n",
    "    return beta\n",
    "\n",
    "# Функция для расчета альфа коэффициента с использованием безрисковой ставки доходности\n",
    "def calculate_alpha(ticker_df, index_df, ticker_id, index_id, beta, window=90):\n",
    "    # Объединение данных на основе даты\n",
    "    merged_df = pd.merge(ticker_df, index_df, left_index=True, right_index=True, suffixes=('_ticker', '_index'))\n",
    "\n",
    "    # Взятие только последних данных в окне\n",
    "    returns_ticker = merged_df[f'{ticker_id}_Daily_Return'].tail(window)\n",
    "    returns_index = merged_df[f'{index_id}_Daily_Return'].tail(window)\n",
    "\n",
    "    # Средняя доходность акций и индекса\n",
    "    mean_ticker_return = returns_ticker.mean()\n",
    "    mean_index_return = returns_index.mean()\n",
    "\n",
    "    # Получение безрисковой ставки доходности\n",
    "    risk_free_rate = get_risk_free_rate(returns_ticker.index[-1]) \n",
    "\n",
    "    if risk_free_rate is None:\n",
    "        print(\"Не удалось получить безрисковую ставку доходности\")\n",
    "        return None\n",
    "\n",
    "    # Расчет альфа коэффициента\n",
    "    alpha = mean_ticker_return - beta * (mean_index_return - risk_free_rate)\n",
    "\n",
    "    return alpha"
   ]
  },
  {
   "cell_type": "markdown",
   "id": "2768134a-94e8-45c5-b085-e40ced83334d",
   "metadata": {},
   "source": [
    "### Пример использования"
   ]
  },
  {
   "cell_type": "markdown",
   "id": "6c6760d6-31b4-442e-8f30-70eb47c8663e",
   "metadata": {},
   "source": [
    "__Бета-коэффициент__\n",
    "\n",
    "- __Бета__ Коэффициент наклона линии регрессии, показывающий чувствительность доходности актива к доходности рынка.\n",
    "\n",
    "\n",
    "- __beta__ = 1: Доходность актива изменяется в точности как доходность рынка. Актив имеет средний рыночный риск.\n",
    "- __beta__ > 1: Актив более волатильный и рискованный по сравнению с рынком. Например, __beta__ = 1.5 означает, что если рынок вырастет на 1%, доходность актива вырастет на 1.5%, и наоборот.\n",
    "- __beta__ < 1: Актив менее волатильный и менее рискованный по сравнению с рынком. Например, __beta__ = 0.5 означает, что если рынок вырастет на 1%, доходность актива вырастет на 0.5%, и наоборот.\n",
    "- __beta__ = 0: Доходность актива не зависит от доходности рынка. Такие активы имеют минимальный рыночный риск.\n",
    "- __beta__ < 0: Актив движется в противоположном направлении от рынка. Например, __beta__ = -1 означает, что если рынок вырастет на 1%, доходность актива упадет на 1%, и наоборот.\n",
    "\n",
    "__Альфа-коэффициент__\n",
    "\n",
    "- __Альфа__ Интерсепт, показывающий избыточную доходность актива после учета влияния рынка.\n",
    "\n",
    "\n",
    "- __alpha__ > 0: Актив обеспечивает избыточную доходность по сравнению с ожидаемой доходностью на основе его риска. Это указывает на превосходную управленческую эффективность.\n",
    "- __alpha__ = 0: Актив обеспечивает доходность, соответствующую ожидаемой доходности на основе его риска. Это указывает на то, что актив работает так, как предсказывается моделью.\n",
    "- __alpha__ < 0: Актив обеспечивает доходность ниже ожидаемой на основе его риска. Это указывает на недостаточную управленческую эффективность."
   ]
  },
  {
   "cell_type": "code",
   "execution_count": 13,
   "id": "9f0c1903-f3de-4bc9-95c2-d052a8f37a32",
   "metadata": {},
   "outputs": [
    {
     "name": "stdout",
     "output_type": "stream",
     "text": [
      "Бета коэффициент: 0.743\n",
      "Альфа коэффициент: 0.12\n"
     ]
    }
   ],
   "source": [
    "# Проверка для расчета коэффициента бета\n",
    "beta = calculate_beta(ticker_df, index_df, SECID, INDEXID, window=90)\n",
    "\n",
    "# Проверка для расчета коэффициента альфа\n",
    "alpha = calculate_alpha(ticker_df, index_df, SECID, INDEXID, beta, window=90)\n",
    "\n",
    "print(\"Бета коэффициент:\", round(beta,3))\n",
    "print(\"Альфа коэффициент:\", round(alpha,3))"
   ]
  },
  {
   "cell_type": "markdown",
   "id": "2792902d-0191-4592-8148-706039a8ad77",
   "metadata": {},
   "source": [
    "## Событийный анализ (Event study)"
   ]
  },
  {
   "cell_type": "markdown",
   "id": "5452e5ce-7feb-4ccf-92b3-0d4485bba04d",
   "metadata": {},
   "source": [
    "### Описание функции\n",
    "\n",
    "__event_study__ используется для проведения исследования событий (event study), которое анализирует влияние определенного события на цены акций.\n",
    "\n",
    "Параметры:\n",
    "\n",
    "- ticker_id (str): Идентификатор ценной бумаги.\n",
    "- index_id (str): Идентификатор индекса.\n",
    "- event_date (datetime.date): Дата события.\n",
    "- estimation_window (int): Окно оценки в днях до события. По умолчанию 90.\n",
    "- event_window (int): Окно события в днях до и после даты события. По умолчанию 10.\n",
    "\n",
    "Функция извлекает данные о ценах акций и индекса за период, включающий окна оценки и события, рассчитывает бета и альфа коэффициенты на основе окна оценки (до события), и вычисляет нормальную и аномальную доходность акций в окне события. Возвращает аномальную доходность и кумулятивную аномальную доходность (CAR)."
   ]
  },
  {
   "cell_type": "markdown",
   "id": "e8914ef6-9327-46f7-b53c-4acb39e64fe6",
   "metadata": {},
   "source": [
    "### Функции:"
   ]
  },
  {
   "cell_type": "code",
   "execution_count": 14,
   "id": "71efc036-bb36-4dce-ab8f-62141ac5aa3e",
   "metadata": {},
   "outputs": [],
   "source": [
    "def event_study(ticker_id, index_id, event_date, estimation_window=90, event_window=5):\n",
    "    event_date = dt.datetime.strptime(event_date, '%Y-%m-%d').date()\n",
    "    start_date = (event_date - dt.timedelta(days=estimation_window + event_window)).strftime('%Y-%m-%d')\n",
    "    end_date = (event_date + dt.timedelta(days=event_window)).strftime('%Y-%m-%d')\n",
    "    ticker_df = get_moex_data_and_prepare(ticker_id, start_date, end_date)\n",
    "    index_df = get_moex_index_data_and_prepare(index_id, start_date, end_date)\n",
    "    \n",
    "    # Определение периода оценки и периода события\n",
    "    estimation_df = ticker_df[:event_date].tail(estimation_window)\n",
    "    event_df = ticker_df[event_date - dt.timedelta(days=event_window):event_date + dt.timedelta(days=event_window)]\n",
    "    \n",
    "    index_estimation_df = index_df[:event_date].tail(estimation_window)\n",
    "    index_event_df = index_df[event_date - dt.timedelta(days=event_window):event_date + dt.timedelta(days=event_window)]\n",
    "    \n",
    "    # Расчет бета и альфа коэффициентов\n",
    "    beta = calculate_beta(estimation_df, index_estimation_df, ticker_id, index_id, window=estimation_window) \n",
    "    alpha = calculate_alpha(estimation_df, index_estimation_df, ticker_id, index_id, beta, window=estimation_window)\n",
    "    \n",
    "    # Расчет нормальной и аномальной доходности\n",
    "    normal_returns = alpha + beta * index_event_df[f'{index_id}_Daily_Return']\n",
    "    abnormal_returns = event_df[f'{ticker_id}_Daily_Return'] - normal_returns\n",
    "    \n",
    "    # Расчет кумулятивной аномальной доходности (CAR)\n",
    "    CAR = abnormal_returns.cumsum()\n",
    "    \n",
    "    # Создание DataFrame с результатами\n",
    "    results_df = pd.DataFrame({\n",
    "        'Actual_Return': event_df[f'{ticker_id}_Daily_Return'],\n",
    "        'Predicted_Return': normal_returns,\n",
    "        'Abnormal_Return': abnormal_returns,\n",
    "        'CAR': CAR})\n",
    "    \n",
    "    results_df.index.name = 'Date'\n",
    "    \n",
    "    return results_df, beta, alpha, estimation_df"
   ]
  },
  {
   "cell_type": "markdown",
   "id": "48b5c400-45b0-41cc-9b13-5bc1396ded70",
   "metadata": {},
   "source": [
    "### Пример использования"
   ]
  },
  {
   "cell_type": "code",
   "execution_count": 15,
   "id": "abea9be1-e60c-497e-a3ee-99dd9265be00",
   "metadata": {},
   "outputs": [
    {
     "data": {
      "text/html": [
       "<div>\n",
       "<style scoped>\n",
       "    .dataframe tbody tr th:only-of-type {\n",
       "        vertical-align: middle;\n",
       "    }\n",
       "\n",
       "    .dataframe tbody tr th {\n",
       "        vertical-align: top;\n",
       "    }\n",
       "\n",
       "    .dataframe thead th {\n",
       "        text-align: right;\n",
       "    }\n",
       "</style>\n",
       "<table border=\"1\" class=\"dataframe\">\n",
       "  <thead>\n",
       "    <tr style=\"text-align: right;\">\n",
       "      <th></th>\n",
       "      <th>Actual_Return</th>\n",
       "      <th>Predicted_Return</th>\n",
       "      <th>Abnormal_Return</th>\n",
       "      <th>CAR</th>\n",
       "    </tr>\n",
       "    <tr>\n",
       "      <th>Date</th>\n",
       "      <th></th>\n",
       "      <th></th>\n",
       "      <th></th>\n",
       "      <th></th>\n",
       "    </tr>\n",
       "  </thead>\n",
       "  <tbody>\n",
       "    <tr>\n",
       "      <th>2024-05-27</th>\n",
       "      <td>-0.012181</td>\n",
       "      <td>0.092439</td>\n",
       "      <td>-0.104620</td>\n",
       "      <td>-0.104620</td>\n",
       "    </tr>\n",
       "    <tr>\n",
       "      <th>2024-05-28</th>\n",
       "      <td>0.003564</td>\n",
       "      <td>0.113302</td>\n",
       "      <td>-0.109739</td>\n",
       "      <td>-0.214359</td>\n",
       "    </tr>\n",
       "    <tr>\n",
       "      <th>2024-05-29</th>\n",
       "      <td>0.006788</td>\n",
       "      <td>0.115728</td>\n",
       "      <td>-0.108940</td>\n",
       "      <td>-0.323298</td>\n",
       "    </tr>\n",
       "    <tr>\n",
       "      <th>2024-05-30</th>\n",
       "      <td>-0.011705</td>\n",
       "      <td>0.104944</td>\n",
       "      <td>-0.116648</td>\n",
       "      <td>-0.439947</td>\n",
       "    </tr>\n",
       "    <tr>\n",
       "      <th>2024-05-31</th>\n",
       "      <td>-0.011117</td>\n",
       "      <td>0.098637</td>\n",
       "      <td>-0.109754</td>\n",
       "      <td>-0.549701</td>\n",
       "    </tr>\n",
       "    <tr>\n",
       "      <th>2024-06-03</th>\n",
       "      <td>-0.006899</td>\n",
       "      <td>0.096007</td>\n",
       "      <td>-0.102906</td>\n",
       "      <td>-0.652606</td>\n",
       "    </tr>\n",
       "    <tr>\n",
       "      <th>2024-06-04</th>\n",
       "      <td>0.017816</td>\n",
       "      <td>0.122675</td>\n",
       "      <td>-0.104858</td>\n",
       "      <td>-0.757465</td>\n",
       "    </tr>\n",
       "    <tr>\n",
       "      <th>2024-06-05</th>\n",
       "      <td>-0.005593</td>\n",
       "      <td>0.118086</td>\n",
       "      <td>-0.123679</td>\n",
       "      <td>-0.881143</td>\n",
       "    </tr>\n",
       "  </tbody>\n",
       "</table>\n",
       "</div>"
      ],
      "text/plain": [
       "            Actual_Return  Predicted_Return  Abnormal_Return       CAR\n",
       "Date                                                                  \n",
       "2024-05-27      -0.012181          0.092439        -0.104620 -0.104620\n",
       "2024-05-28       0.003564          0.113302        -0.109739 -0.214359\n",
       "2024-05-29       0.006788          0.115728        -0.108940 -0.323298\n",
       "2024-05-30      -0.011705          0.104944        -0.116648 -0.439947\n",
       "2024-05-31      -0.011117          0.098637        -0.109754 -0.549701\n",
       "2024-06-03      -0.006899          0.096007        -0.102906 -0.652606\n",
       "2024-06-04       0.017816          0.122675        -0.104858 -0.757465\n",
       "2024-06-05      -0.005593          0.118086        -0.123679 -0.881143"
      ]
     },
     "metadata": {},
     "output_type": "display_data"
    },
    {
     "name": "stdout",
     "output_type": "stream",
     "text": [
      "Бета коэффициент: 0.70105901961856\n",
      "Альфа коэффициент: 0.11251831225736753\n"
     ]
    }
   ],
   "source": [
    "results_df, beta, alpha, estimation_df = event_study(SECID, INDEXID, EVENT_DATE)\n",
    "display(results_df.tail(10))\n",
    "print(f\"Бета коэффициент: {beta}\")\n",
    "print(f\"Альфа коэффициент: {alpha}\")"
   ]
  },
  {
   "cell_type": "markdown",
   "id": "c83f6342-350b-442b-9976-154e5165ed6f",
   "metadata": {},
   "source": [
    "Данная методология может быть развита для тренировки ИИ в целях оценки влияния новостного контента на котировки акций. \n",
    "\n",
    "\n",
    "Есть несколько возможных причин, по которым фактическая доходность (Actual Return) значительно ниже прогнозируемой доходности (Predicted Return):\n",
    "\n",
    "- __Непредвиденные события:__ Вне зависимости от основного события, могли произойти другие непредвиденные события, влияющие на цену акций. Это могут быть новости, изменения в макроэкономических условиях или другие факторы, влияющие на рынок.\n",
    "- __Ошибки модели:__ Прогнозируемая доходность основана на модели линейной регрессии, которая может не учитывать все факторы, влияющие на цену акций. Возможно, выбранная модель недостаточно точно описывает реальность.\n",
    "- __Изменение чувствительности:__ Бета и альфа коэффициенты, рассчитанные за период оценки, могут не быть стабильными и изменяться со временем. Например, чувствительность акций к изменениям на рынке могла измениться после события.\n",
    "- __Период анализа:__ Возможно, период оценки (estimation window) был недостаточно длинным или выбран неудачно, что привело к неверной оценке коэффициентов модели."
   ]
  }
 ],
 "metadata": {
  "kernelspec": {
   "display_name": "Python 3 (ipykernel)",
   "language": "python",
   "name": "python3"
  },
  "language_info": {
   "codemirror_mode": {
    "name": "ipython",
    "version": 3
   },
   "file_extension": ".py",
   "mimetype": "text/x-python",
   "name": "python",
   "nbconvert_exporter": "python",
   "pygments_lexer": "ipython3",
   "version": "3.9.13"
  },
  "toc-autonumbering": true
 },
 "nbformat": 4,
 "nbformat_minor": 5
}
