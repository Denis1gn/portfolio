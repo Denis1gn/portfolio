{
 "cells": [
  {
   "cell_type": "markdown",
   "id": "GEqQaHzsZ_bA",
   "metadata": {
    "id": "GEqQaHzsZ_bA"
   },
   "source": [
    "# Предсказание стоимости жилья\n",
    "\n",
    "В проекте вам нужно обучить модель линейной регрессии на данных о жилье в Калифорнии в 1990 году. На основе данных нужно предсказать медианную стоимость дома в жилом массиве. Обучите модель и сделайте предсказания на тестовой выборке. Для оценки качества модели используйте метрики RMSE, MAE и R2.\n",
    "\n",
    "__План работы__\n",
    "1. Инициализация локальной Spark-сессии.\n",
    "2. Загрузка файла /datasets/housing.csv.\n",
    "3. Выведитем типы данных колонок датасета, используя методы pySpark.\n",
    "4. Предобработка данных:\n",
    "- Исследование данных на наличие пропусков и заполните их.\n",
    "- Преобразовние колонки с категориальными значениями техникой One hot encoding.\n",
    "5. Построение двух моделей линейной регрессии на разных наборах данных:\n",
    "- используя все данные из файла;\n",
    "- используя только числовые переменные, исключив категориальные.\n",
    "6. Анализ результатов\n"
   ]
  },
  {
   "cell_type": "markdown",
   "id": "53871372",
   "metadata": {
    "id": "53871372"
   },
   "source": [
    "## Загрузка и подготовка данных"
   ]
  },
  {
   "cell_type": "code",
   "execution_count": 1,
   "id": "df92e3ec",
   "metadata": {
    "id": "df92e3ec"
   },
   "outputs": [],
   "source": [
    "import pandas as pd \n",
    "import numpy as np\n",
    "\n",
    "import pyspark\n",
    "from pyspark.sql import SparkSession\n",
    "from pyspark.sql.types import *\n",
    "import pyspark.sql.functions as F\n",
    "from pyspark.ml import Pipeline\n",
    "\n",
    "from pyspark.ml.feature import StringIndexer, OneHotEncoder, VectorAssembler, StandardScaler\n",
    "from pyspark.ml.regression import LinearRegression\n",
    "from pyspark.ml.evaluation import RegressionEvaluator\n",
    "from pyspark.ml.tuning import CrossValidator, ParamGridBuilder        "
   ]
  },
  {
   "cell_type": "code",
   "execution_count": 2,
   "id": "3d8f774f",
   "metadata": {},
   "outputs": [
    {
     "name": "stderr",
     "output_type": "stream",
     "text": [
      "[Stage 1:>                                                          (0 + 1) / 1]\r"
     ]
    },
    {
     "name": "stdout",
     "output_type": "stream",
     "text": [
      "root\n",
      " |-- longitude: double (nullable = true)\n",
      " |-- latitude: double (nullable = true)\n",
      " |-- housing_median_age: double (nullable = true)\n",
      " |-- total_rooms: double (nullable = true)\n",
      " |-- total_bedrooms: double (nullable = true)\n",
      " |-- population: double (nullable = true)\n",
      " |-- households: double (nullable = true)\n",
      " |-- median_income: double (nullable = true)\n",
      " |-- median_house_value: double (nullable = true)\n",
      " |-- ocean_proximity: string (nullable = true)\n",
      "\n"
     ]
    },
    {
     "name": "stderr",
     "output_type": "stream",
     "text": [
      "                                                                                \r"
     ]
    }
   ],
   "source": [
    "RANDOM_SEED = 42\n",
    "\n",
    "spark = SparkSession.builder \\\n",
    "                    .master(\"local\") \\\n",
    "                    .appName(\"CA - Linear regression\") \\\n",
    "                    .getOrCreate()\n",
    "\n",
    "df = spark.read.option('header', 'true').csv('/datasets/housing.csv', inferSchema = True) \n",
    "df.printSchema()"
   ]
  },
  {
   "cell_type": "code",
   "execution_count": 3,
   "id": "e3c91aaf",
   "metadata": {},
   "outputs": [
    {
     "name": "stdout",
     "output_type": "stream",
     "text": [
      "               column    type\n",
      "0           longitude  double\n",
      "1            latitude  double\n",
      "2  housing_median_age  double\n",
      "3         total_rooms  double\n",
      "4      total_bedrooms  double\n",
      "5          population  double\n",
      "6          households  double\n",
      "7       median_income  double\n",
      "8  median_house_value  double\n",
      "9     ocean_proximity  string\n",
      "+---------+--------+------------------+-----------+--------------+----------+----------+-------------+------------------+---------------+\n",
      "|longitude|latitude|housing_median_age|total_rooms|total_bedrooms|population|households|median_income|median_house_value|ocean_proximity|\n",
      "+---------+--------+------------------+-----------+--------------+----------+----------+-------------+------------------+---------------+\n",
      "|  -122.23|   37.88|              41.0|      880.0|         129.0|     322.0|     126.0|       8.3252|          452600.0|       NEAR BAY|\n",
      "|  -122.22|   37.86|              21.0|     7099.0|        1106.0|    2401.0|    1138.0|       8.3014|          358500.0|       NEAR BAY|\n",
      "|  -122.24|   37.85|              52.0|     1467.0|         190.0|     496.0|     177.0|       7.2574|          352100.0|       NEAR BAY|\n",
      "|  -122.25|   37.85|              52.0|     1274.0|         235.0|     558.0|     219.0|       5.6431|          341300.0|       NEAR BAY|\n",
      "|  -122.25|   37.85|              52.0|     1627.0|         280.0|     565.0|     259.0|       3.8462|          342200.0|       NEAR BAY|\n",
      "+---------+--------+------------------+-----------+--------------+----------+----------+-------------+------------------+---------------+\n",
      "only showing top 5 rows\n",
      "\n"
     ]
    }
   ],
   "source": [
    "# выведем названия колонок и тип данных\n",
    "print(pd.DataFrame(df.dtypes, columns=['column', 'type']).head(10))\n",
    "\n",
    "# выведем первые 5 строк \n",
    "df.show(5)"
   ]
  },
  {
   "cell_type": "code",
   "execution_count": 4,
   "id": "81617cf1",
   "metadata": {},
   "outputs": [
    {
     "name": "stderr",
     "output_type": "stream",
     "text": [
      "                                                                                \r"
     ]
    },
    {
     "data": {
      "text/html": [
       "<div>\n",
       "<style scoped>\n",
       "    .dataframe tbody tr th:only-of-type {\n",
       "        vertical-align: middle;\n",
       "    }\n",
       "\n",
       "    .dataframe tbody tr th {\n",
       "        vertical-align: top;\n",
       "    }\n",
       "\n",
       "    .dataframe thead th {\n",
       "        text-align: right;\n",
       "    }\n",
       "</style>\n",
       "<table border=\"1\" class=\"dataframe\">\n",
       "  <thead>\n",
       "    <tr style=\"text-align: right;\">\n",
       "      <th></th>\n",
       "      <th>summary</th>\n",
       "      <th>longitude</th>\n",
       "      <th>latitude</th>\n",
       "      <th>housing_median_age</th>\n",
       "      <th>total_rooms</th>\n",
       "      <th>total_bedrooms</th>\n",
       "      <th>population</th>\n",
       "      <th>households</th>\n",
       "      <th>median_income</th>\n",
       "      <th>median_house_value</th>\n",
       "      <th>ocean_proximity</th>\n",
       "    </tr>\n",
       "  </thead>\n",
       "  <tbody>\n",
       "    <tr>\n",
       "      <th>0</th>\n",
       "      <td>count</td>\n",
       "      <td>20640</td>\n",
       "      <td>20640</td>\n",
       "      <td>20640</td>\n",
       "      <td>20640</td>\n",
       "      <td>20433</td>\n",
       "      <td>20640</td>\n",
       "      <td>20640</td>\n",
       "      <td>20640</td>\n",
       "      <td>20640</td>\n",
       "      <td>20640</td>\n",
       "    </tr>\n",
       "    <tr>\n",
       "      <th>1</th>\n",
       "      <td>mean</td>\n",
       "      <td>-119.56970445736148</td>\n",
       "      <td>35.6318614341087</td>\n",
       "      <td>28.639486434108527</td>\n",
       "      <td>2635.7630813953488</td>\n",
       "      <td>537.8705525375618</td>\n",
       "      <td>1425.4767441860465</td>\n",
       "      <td>499.5396802325581</td>\n",
       "      <td>3.8706710029070246</td>\n",
       "      <td>206855.81690891474</td>\n",
       "      <td>None</td>\n",
       "    </tr>\n",
       "    <tr>\n",
       "      <th>2</th>\n",
       "      <td>stddev</td>\n",
       "      <td>2.003531723502584</td>\n",
       "      <td>2.135952397457101</td>\n",
       "      <td>12.58555761211163</td>\n",
       "      <td>2181.6152515827944</td>\n",
       "      <td>421.38507007403115</td>\n",
       "      <td>1132.46212176534</td>\n",
       "      <td>382.3297528316098</td>\n",
       "      <td>1.899821717945263</td>\n",
       "      <td>115395.61587441359</td>\n",
       "      <td>None</td>\n",
       "    </tr>\n",
       "    <tr>\n",
       "      <th>3</th>\n",
       "      <td>min</td>\n",
       "      <td>-124.35</td>\n",
       "      <td>32.54</td>\n",
       "      <td>1.0</td>\n",
       "      <td>2.0</td>\n",
       "      <td>1.0</td>\n",
       "      <td>3.0</td>\n",
       "      <td>1.0</td>\n",
       "      <td>0.4999</td>\n",
       "      <td>14999.0</td>\n",
       "      <td>&lt;1H OCEAN</td>\n",
       "    </tr>\n",
       "    <tr>\n",
       "      <th>4</th>\n",
       "      <td>max</td>\n",
       "      <td>-114.31</td>\n",
       "      <td>41.95</td>\n",
       "      <td>52.0</td>\n",
       "      <td>39320.0</td>\n",
       "      <td>6445.0</td>\n",
       "      <td>35682.0</td>\n",
       "      <td>6082.0</td>\n",
       "      <td>15.0001</td>\n",
       "      <td>500001.0</td>\n",
       "      <td>NEAR OCEAN</td>\n",
       "    </tr>\n",
       "  </tbody>\n",
       "</table>\n",
       "</div>"
      ],
      "text/plain": [
       "  summary            longitude           latitude  housing_median_age  \\\n",
       "0   count                20640              20640               20640   \n",
       "1    mean  -119.56970445736148   35.6318614341087  28.639486434108527   \n",
       "2  stddev    2.003531723502584  2.135952397457101   12.58555761211163   \n",
       "3     min              -124.35              32.54                 1.0   \n",
       "4     max              -114.31              41.95                52.0   \n",
       "\n",
       "          total_rooms      total_bedrooms          population  \\\n",
       "0               20640               20433               20640   \n",
       "1  2635.7630813953488   537.8705525375618  1425.4767441860465   \n",
       "2  2181.6152515827944  421.38507007403115    1132.46212176534   \n",
       "3                 2.0                 1.0                 3.0   \n",
       "4             39320.0              6445.0             35682.0   \n",
       "\n",
       "          households       median_income  median_house_value ocean_proximity  \n",
       "0              20640               20640               20640           20640  \n",
       "1  499.5396802325581  3.8706710029070246  206855.81690891474            None  \n",
       "2  382.3297528316098   1.899821717945263  115395.61587441359            None  \n",
       "3                1.0              0.4999             14999.0       <1H OCEAN  \n",
       "4             6082.0             15.0001            500001.0      NEAR OCEAN  "
      ]
     },
     "execution_count": 4,
     "metadata": {},
     "output_type": "execute_result"
    }
   ],
   "source": [
    "# выведите базовые статистики\n",
    "df.describe().toPandas()"
   ]
  },
  {
   "cell_type": "markdown",
   "id": "67e39421",
   "metadata": {},
   "source": [
    "__Итоги загрузки данных:__\n",
    "- 20640 наблюдений\n",
    "\n",
    "__В колонках датасета содержатся следующие данные:__ \n",
    "- __longitude__ — широта;\n",
    "- __latitude__ — долгота;\n",
    "- __housing_median_age__ — медианный возраст жителей жилого массива;\n",
    "- __total_rooms__ — общее количество комнат в домах жилого массива;\n",
    "- __total_bedrooms__ — общее количество спален в домах жилого массива;\n",
    "- __population__ — количество человек, которые проживают в жилом массиве;\n",
    "- __households__ — количество домовладений в жилом массиве;\n",
    "- __median_income__ — медианный доход жителей жилого массива;\n",
    "- __median_house_value__ — медианная стоимость дома в жилом массиве;\n",
    "- __ocean_proximity__ — близость к океану."
   ]
  },
  {
   "cell_type": "markdown",
   "id": "03593a94",
   "metadata": {},
   "source": [
    "## Поиск и заполнение пропусков"
   ]
  },
  {
   "cell_type": "code",
   "execution_count": 5,
   "id": "5e3e7587",
   "metadata": {},
   "outputs": [
    {
     "name": "stdout",
     "output_type": "stream",
     "text": [
      "total_bedrooms содержит 207 пропусков.\n"
     ]
    }
   ],
   "source": [
    "columns = df.columns\n",
    "\n",
    "for column in columns:\n",
    "    missing_count = df.filter(F.col(column).isNull()).count()\n",
    "    if missing_count > 0:\n",
    "        print(f\"{column} содержит {missing_count} пропусков.\")"
   ]
  },
  {
   "cell_type": "markdown",
   "id": "7cb0e71a",
   "metadata": {},
   "source": [
    "Заменим пропуски на средние значения"
   ]
  },
  {
   "cell_type": "code",
   "execution_count": 6,
   "id": "fe891a0e",
   "metadata": {},
   "outputs": [
    {
     "name": "stdout",
     "output_type": "stream",
     "text": [
      "Заменили отсутствующие значения в столбце total_bedroms на 537.8705525375618.\n"
     ]
    }
   ],
   "source": [
    "mean_bedrooms = df.agg(F.avg(df['total_bedrooms'])).first()[0]\n",
    "df = df.na.fill({'total_bedrooms': mean_bedrooms})\n",
    "print(f\"Заменили отсутствующие значения в столбце total_bedroms на {mean_bedrooms}.\")"
   ]
  },
  {
   "cell_type": "markdown",
   "id": "5ccca981",
   "metadata": {},
   "source": [
    "__Итог раздела__\n",
    "\n",
    "- total_bedrooms содержит 207 пропусков\n",
    "- Заменили отсутствующие значения в столбце total_bedroms на 537.87"
   ]
  },
  {
   "cell_type": "markdown",
   "id": "451b0299",
   "metadata": {},
   "source": [
    "## Подготовка числовых и категорийных признаков"
   ]
  },
  {
   "cell_type": "code",
   "execution_count": 7,
   "id": "d43ff1d4",
   "metadata": {},
   "outputs": [
    {
     "name": "stdout",
     "output_type": "stream",
     "text": [
      "Числовые столбцы: ['longitude', 'latitude', 'housing_median_age', 'total_rooms', 'total_bedrooms', 'population', 'households', 'median_income']\n",
      "Категорийные столбцы: ['ocean_proximity']\n",
      "Целевой столбец: median_house_value \n"
     ]
    }
   ],
   "source": [
    "# Определение числовых и категориальных столбцов\n",
    "numeric_cols = [field.name for field in df.schema.fields \n",
    "                if isinstance(field.dataType, (IntegerType, FloatType, DoubleType, DecimalType)) \n",
    "                and field.name != 'median_house_value']\n",
    "categorical_cols = [field.name for field in df.schema.fields if isinstance(field.dataType, StringType)]\n",
    "target = df['median_house_value']\n",
    "\n",
    "print(\"Числовые столбцы:\", numeric_cols)\n",
    "print(\"Категорийные столбцы:\", categorical_cols)\n",
    "print(f\"Целевой столбец: median_house_value \")"
   ]
  },
  {
   "cell_type": "code",
   "execution_count": 8,
   "id": "33cba72e",
   "metadata": {},
   "outputs": [],
   "source": [
    "#Предобработка категорийных данных\n",
    "indexer = StringIndexer(inputCol=\"ocean_proximity\", outputCol=\"ocean_proximity_index\", handleInvalid=\"keep\")\n",
    "encoder = OneHotEncoder(inputCols=[\"ocean_proximity_index\"], outputCols=[\"ocean_proximity_ohe\"])\n",
    "\n",
    "# Создание ассемблеров для сборки числовых признаков в векторы\n",
    "assembler_numeric_features = VectorAssembler(inputCols=numeric_cols, outputCol=\"features_numeric\")\n",
    "\n",
    "# Масштабирование числовых признаков\n",
    "scaler = StandardScaler(inputCol=\"features_numeric\", outputCol=\"scaled_features_numeric\")\n",
    "\n",
    "# Создание ассемблеров для сборки признаков в векторы\n",
    "assembler_all_features = VectorAssembler(inputCols=[\"scaled_features_numeric\"] + ['ocean_proximity_ohe'], outputCol=\"features_all\")"
   ]
  },
  {
   "cell_type": "markdown",
   "id": "7a769754",
   "metadata": {},
   "source": [
    "__Итог раздела__\n",
    "- Числовые столбцы: ['longitude', 'latitude', 'housing_median_age', 'total_rooms', 'total_bedrooms', 'population', 'households', 'median_income']\n",
    "- Категорийные столбцы: ['ocean_proximity']\n",
    "- Целевой столбец: ['median_house_value']\n",
    "- Проведено кодирование категориального признака через StringIndexer и OneHotEncoder\n",
    "- Выполнено масштабирование признаков\n",
    "- Признаки собраны в векторы"
   ]
  },
  {
   "cell_type": "markdown",
   "id": "9f0a82f3",
   "metadata": {
    "id": "9f0a82f3"
   },
   "source": [
    "## Обучение моделей"
   ]
  },
  {
   "cell_type": "code",
   "execution_count": 9,
   "id": "2e5865ec",
   "metadata": {},
   "outputs": [],
   "source": [
    "# Создание моделей линейной регрессии для обеих конфигураций признаков\n",
    "lr_all_features = LinearRegression(featuresCol=\"features_all\", labelCol=\"median_house_value\")\n",
    "lr_numeric_features = LinearRegression(featuresCol=\"scaled_features_numeric\", labelCol=\"median_house_value\")"
   ]
  },
  {
   "cell_type": "code",
   "execution_count": 10,
   "id": "44031e0e",
   "metadata": {},
   "outputs": [],
   "source": [
    "# Пайплайн для модели со всеми признаками\n",
    "pipeline_all_features = Pipeline(stages=[indexer, encoder, assembler_numeric_features, \n",
    "                                         scaler, assembler_all_features, lr_all_features])\n",
    "\n",
    "# Пайплайн для модели только с числовыми признаками\n",
    "pipeline_numeric_features = Pipeline(stages=[assembler_numeric_features, scaler, lr_numeric_features])"
   ]
  },
  {
   "cell_type": "code",
   "execution_count": 11,
   "id": "c5675eb9",
   "metadata": {},
   "outputs": [],
   "source": [
    "# Настройка сетки параметров для кросс-валидации\n",
    "paramGrid = ParamGridBuilder() \\\n",
    "    .addGrid(lr_all_features.regParam, [0.1, 0.01]) \\\n",
    "    .addGrid(lr_all_features.elasticNetParam, [0.0, 0.5, 1.0]) \\\n",
    "    .build()\n",
    "\n",
    "crossval_all_features = CrossValidator(estimator=pipeline_all_features,\n",
    "                                       estimatorParamMaps=paramGrid,\n",
    "                                       evaluator=RegressionEvaluator(labelCol=\"median_house_value\"),\n",
    "                                       numFolds=5)\n",
    "\n",
    "crossval_numeric_features = CrossValidator(estimator=pipeline_numeric_features,\n",
    "                                           estimatorParamMaps=paramGrid,\n",
    "                                           evaluator=RegressionEvaluator(labelCol=\"median_house_value\"),\n",
    "                                           numFolds=5)"
   ]
  },
  {
   "cell_type": "code",
   "execution_count": 12,
   "id": "ca14277d",
   "metadata": {},
   "outputs": [],
   "source": [
    "# Разделение данных на обучающий и тестовый наборы\n",
    "train_data, test_data = df.randomSplit([0.8, 0.2], seed=42)"
   ]
  },
  {
   "cell_type": "code",
   "execution_count": 13,
   "id": "8daf4750",
   "metadata": {},
   "outputs": [
    {
     "name": "stderr",
     "output_type": "stream",
     "text": [
      "24/05/03 09:32:48 WARN BLAS: Failed to load implementation from: com.github.fommil.netlib.NativeSystemBLAS\n",
      "24/05/03 09:32:48 WARN BLAS: Failed to load implementation from: com.github.fommil.netlib.NativeRefBLAS\n",
      "24/05/03 09:32:49 WARN LAPACK: Failed to load implementation from: com.github.fommil.netlib.NativeSystemLAPACK\n",
      "24/05/03 09:32:49 WARN LAPACK: Failed to load implementation from: com.github.fommil.netlib.NativeRefLAPACK\n",
      "                                                                                \r"
     ]
    }
   ],
   "source": [
    "# Обучение и оценка модели со всеми признаками\n",
    "cvModel_all_features = crossval_all_features.fit(train_data)\n",
    "predictions_all_features = cvModel_all_features.transform(test_data)"
   ]
  },
  {
   "cell_type": "code",
   "execution_count": 14,
   "id": "05b3738f",
   "metadata": {},
   "outputs": [
    {
     "name": "stderr",
     "output_type": "stream",
     "text": [
      "24/05/03 09:33:47 WARN Instrumentation: [b62774de] regParam is zero, which might cause numerical instability and overfitting.\n",
      "24/05/03 09:33:48 WARN Instrumentation: [0474eecf] regParam is zero, which might cause numerical instability and overfitting.\n",
      "24/05/03 09:33:49 WARN Instrumentation: [3fa7d604] regParam is zero, which might cause numerical instability and overfitting.\n",
      "24/05/03 09:33:50 WARN Instrumentation: [3a4496cf] regParam is zero, which might cause numerical instability and overfitting.\n",
      "24/05/03 09:33:50 WARN Instrumentation: [8d327256] regParam is zero, which might cause numerical instability and overfitting.\n",
      "24/05/03 09:33:51 WARN Instrumentation: [2dec20dc] regParam is zero, which might cause numerical instability and overfitting.\n",
      "24/05/03 09:33:52 WARN Instrumentation: [30adaa91] regParam is zero, which might cause numerical instability and overfitting.\n",
      "24/05/03 09:33:53 WARN Instrumentation: [61ca6af3] regParam is zero, which might cause numerical instability and overfitting.\n",
      "24/05/03 09:33:54 WARN Instrumentation: [756f2ad1] regParam is zero, which might cause numerical instability and overfitting.\n",
      "24/05/03 09:33:55 WARN Instrumentation: [76f82cd5] regParam is zero, which might cause numerical instability and overfitting.\n",
      "24/05/03 09:33:55 WARN Instrumentation: [0783a3e0] regParam is zero, which might cause numerical instability and overfitting.\n",
      "24/05/03 09:33:56 WARN Instrumentation: [03e656ad] regParam is zero, which might cause numerical instability and overfitting.\n",
      "24/05/03 09:33:57 WARN Instrumentation: [7e8d47b3] regParam is zero, which might cause numerical instability and overfitting.\n",
      "24/05/03 09:33:58 WARN Instrumentation: [7ad083c5] regParam is zero, which might cause numerical instability and overfitting.\n",
      "24/05/03 09:33:59 WARN Instrumentation: [ffdb764c] regParam is zero, which might cause numerical instability and overfitting.\n",
      "24/05/03 09:33:59 WARN Instrumentation: [806bfc52] regParam is zero, which might cause numerical instability and overfitting.\n",
      "24/05/03 09:34:00 WARN Instrumentation: [33e2fa2b] regParam is zero, which might cause numerical instability and overfitting.\n",
      "24/05/03 09:34:01 WARN Instrumentation: [b5bacc83] regParam is zero, which might cause numerical instability and overfitting.\n",
      "24/05/03 09:34:02 WARN Instrumentation: [76730c78] regParam is zero, which might cause numerical instability and overfitting.\n",
      "24/05/03 09:34:02 WARN Instrumentation: [cfc62246] regParam is zero, which might cause numerical instability and overfitting.\n",
      "24/05/03 09:34:03 WARN Instrumentation: [66a9eff7] regParam is zero, which might cause numerical instability and overfitting.\n",
      "24/05/03 09:34:04 WARN Instrumentation: [e14e8814] regParam is zero, which might cause numerical instability and overfitting.\n",
      "24/05/03 09:34:04 WARN Instrumentation: [4c9b5136] regParam is zero, which might cause numerical instability and overfitting.\n",
      "24/05/03 09:34:05 WARN Instrumentation: [ed60125a] regParam is zero, which might cause numerical instability and overfitting.\n",
      "24/05/03 09:34:06 WARN Instrumentation: [4b640c5a] regParam is zero, which might cause numerical instability and overfitting.\n",
      "24/05/03 09:34:07 WARN Instrumentation: [73b54533] regParam is zero, which might cause numerical instability and overfitting.\n",
      "24/05/03 09:34:08 WARN Instrumentation: [193a614f] regParam is zero, which might cause numerical instability and overfitting.\n",
      "24/05/03 09:34:08 WARN Instrumentation: [f2e9b094] regParam is zero, which might cause numerical instability and overfitting.\n",
      "24/05/03 09:34:09 WARN Instrumentation: [e145cbf9] regParam is zero, which might cause numerical instability and overfitting.\n",
      "24/05/03 09:34:10 WARN Instrumentation: [faf2e219] regParam is zero, which might cause numerical instability and overfitting.\n",
      "24/05/03 09:34:11 WARN Instrumentation: [106db315] regParam is zero, which might cause numerical instability and overfitting.\n"
     ]
    }
   ],
   "source": [
    "# Обучение и оценка модели только с числовыми признаками\n",
    "cvModel_numeric_features = crossval_numeric_features.fit(train_data)\n",
    "predictions_numeric_features = cvModel_numeric_features.transform(test_data)"
   ]
  },
  {
   "cell_type": "code",
   "execution_count": 15,
   "id": "9a2eff78",
   "metadata": {},
   "outputs": [],
   "source": [
    "# Создание оценщиков для метрик качества модели\n",
    "evaluator_rmse = RegressionEvaluator(labelCol=\"median_house_value\", metricName=\"rmse\")\n",
    "evaluator_mae = RegressionEvaluator(labelCol=\"median_house_value\", metricName=\"mae\")\n",
    "evaluator_r2 = RegressionEvaluator(labelCol=\"median_house_value\", metricName=\"r2\")"
   ]
  },
  {
   "cell_type": "code",
   "execution_count": 16,
   "id": "cf581eef",
   "metadata": {},
   "outputs": [],
   "source": [
    "# Расчёт метрик для каждой модели\n",
    "rmse_all = evaluator_rmse.evaluate(predictions_all_features)\n",
    "mae_all = evaluator_mae.evaluate(predictions_all_features)\n",
    "r2_all = evaluator_r2.evaluate(predictions_all_features)\n",
    "\n",
    "rmse_numeric = evaluator_rmse.evaluate(predictions_numeric_features)\n",
    "mae_numeric = evaluator_mae.evaluate(predictions_numeric_features)\n",
    "r2_numeric = evaluator_r2.evaluate(predictions_numeric_features)"
   ]
  },
  {
   "cell_type": "code",
   "execution_count": 17,
   "id": "d8a6826c",
   "metadata": {},
   "outputs": [
    {
     "name": "stdout",
     "output_type": "stream",
     "text": [
      "Результаты модели для всех признаков:\n",
      "RMSE: 70781.4840513847\n",
      "MAE: 50854.202700630536\n",
      "R^2: 0.6378961901340965\n",
      "\n",
      "Результаты модели для числовых признаков:\n",
      "RMSE: 71782.88243179358\n",
      "MAE: 51787.84444119117\n",
      "R^2: 0.6275778072485874\n"
     ]
    }
   ],
   "source": [
    "print(\"Результаты модели для всех признаков:\")\n",
    "print(\"RMSE:\", rmse_all)\n",
    "print(\"MAE:\", mae_all)\n",
    "print(\"R^2:\", r2_all)\n",
    "\n",
    "print(\"\\nРезультаты модели для числовых признаков:\")\n",
    "print(\"RMSE:\", rmse_numeric)\n",
    "print(\"MAE:\", mae_numeric)\n",
    "print(\"R^2:\", r2_numeric)"
   ]
  },
  {
   "cell_type": "code",
   "execution_count": 18,
   "id": "1a85a1de",
   "metadata": {},
   "outputs": [],
   "source": [
    "#Отключаем spark сессию\n",
    "spark.stop()"
   ]
  },
  {
   "cell_type": "markdown",
   "id": "757fd103",
   "metadata": {
    "id": "757fd103"
   },
   "source": [
    "## Анализ результатов"
   ]
  },
  {
   "cell_type": "markdown",
   "id": "3a0bad95",
   "metadata": {},
   "source": [
    "### Итоги по ходу проекта:\n",
    "\n",
    "__Итоги загрузки данных:__\n",
    "- 20640 наблюдений\n",
    "\n",
    "__В колонках датасета содержатся следующие данные:__ \n",
    "- __longitude__ — широта;\n",
    "- __latitude__ — долгота;\n",
    "- __housing_median_age__ — медианный возраст жителей жилого массива;\n",
    "- __total_rooms__ — общее количество комнат в домах жилого массива;\n",
    "- __total_bedrooms__ — общее количество спален в домах жилого массива;\n",
    "- __population__ — количество человек, которые проживают в жилом массиве;\n",
    "- __households__ — количество домовладений в жилом массиве;\n",
    "- __median_income__ — медианный доход жителей жилого массива;\n",
    "- __median_house_value__ — медианная стоимость дома в жилом массиве;\n",
    "- __ocean_proximity__ — близость к океану.\n",
    "\n",
    "__Итог проверки данных на пропуски:__\n",
    "- total_bedrooms содержит 207 пропусков\n",
    "- Заменили отсутствующие значения в столбце total_bedroms на 537.87\n",
    "\n",
    "__Итог подготовки данных:__\n",
    "- Числовые столбцы: ['longitude', 'latitude', 'housing_median_age', 'total_rooms', 'total_bedrooms', 'population', 'households', 'median_income']\n",
    "- Категорийные столбцы: ['ocean_proximity']\n",
    "- Целевой столбец: ['median_house_value']\n",
    "- Проведено кодирование категориального признака через StringIndexer и OneHotEncoder\n",
    "- Выполнено масштабирование признаков\n",
    "- Признаки собраны в векторы\n",
    "\n",
    "__Итоги обучения модели:__\n",
    "\n",
    "- Построен пайплайн для обработки данных под два вида моделей\n",
    "__Настроена сетка параметров:__\n",
    "- regParam: Этот параметр в модели линейной регрессии относится к параметру регуляризации. Регуляризация помогает предотвратить переобучение модели за счёт добавления штрафа за слишком большие веса в модели. Значения [0.1, 0.01] указывают, что в процессе кросс-валидации будут протестированы два уровня силы регуляризации: 0.1 и 0.01, где меньшее значение означает более слабую регуляризацию.\n",
    "- elasticNetParam: Этот параметр определяет сочетание L1 и L2 регуляризации в модели, что часто называется Elastic Net регуляризацией. Значение 0.0 соответствует чистой L2 регуляризации (также известной как Ridge), 1.0 соответствует чистой L1 регуляризации (также известной как Lasso), а 0.5 представляет собой равное сочетание L1 и L2 регуляризации.\n",
    "\n",
    "\n",
    "### Анализ результатов:\n",
    "\n",
    "__Модель со всеми признаками (включая категориальные, преобразованные через One Hot Encoding):__\n",
    "- RMSE (Root Mean Squared Error, Среднеквадратичная ошибка): 70781.23\n",
    "- MAE (Mean Absolute Error, Средняя абсолютная ошибка): 50855.06\n",
    "- R^2 (коэффициент детерминации): 0.638\n",
    "Эта модель показывает лучшее качество прогнозов по всем трем метрикам. Ниже значение RMSE и MAE свидетельствует о том, что модель в среднем делает меньшие ошибки в предсказаниях. Более высокое значение R^2 указывает на то, что модель лучше объясняет вариативность наблюдаемых данных.\n",
    "\n",
    "__Модель только с числовыми признаками:__\n",
    "- RMSE: 71782.88\n",
    "- MAE: 51787.84\n",
    "- R^2: 0.628\n",
    "Модель с числовыми признаками показывает худшие результаты по сравнению с моделью, включающей все признаки. Это может означать, что категориальные признаки вносят значимый вклад в точность и объясняемость модели.\n",
    "Выводы\n",
    "\n",
    "__Влияние категориальных признаков:__\n",
    "Присутствие категориальных признаков, преобразованных через метод One Hot Encoding, значительно улучшает производительность модели. Это подтверждается улучшением всех трех метрик (RMSE, MAE и R^2), что подчеркивает их важность для создания точной предиктивной модели в данной задаче.\n",
    "\n",
    "__Выбор модели для разработки:__\n",
    "На основе этих результатов рекомендуется использовать модель со всеми признаками для дальнейшей разработки и оптимизации, поскольку она показывает лучшую способность к генерализации и предсказанию.\n",
    "\n",
    "__Возможности улучшения:__ \n",
    "Несмотря на то, что модель со всеми признаками показывает лучшие результаты, есть потенциал для дальнейшего улучшения, например, путем тонкой настройки гиперпараметров, использования более сложных методов моделирования. "
   ]
  }
 ],
 "metadata": {
  "ExecuteTimeLog": [
   {
    "duration": 723,
    "start_time": "2024-04-30T12:14:28.522Z"
   },
   {
    "duration": 23441,
    "start_time": "2024-04-30T12:19:19.189Z"
   },
   {
    "duration": 541,
    "start_time": "2024-04-30T12:22:57.180Z"
   },
   {
    "duration": 845,
    "start_time": "2024-04-30T12:26:19.293Z"
   },
   {
    "duration": 318,
    "start_time": "2024-04-30T12:26:59.910Z"
   },
   {
    "duration": 3579,
    "start_time": "2024-04-30T12:29:22.247Z"
   },
   {
    "duration": 732,
    "start_time": "2024-04-30T14:00:28.713Z"
   },
   {
    "duration": 23200,
    "start_time": "2024-04-30T14:00:29.447Z"
   },
   {
    "duration": 776,
    "start_time": "2024-04-30T14:00:52.650Z"
   },
   {
    "duration": 4120,
    "start_time": "2024-04-30T14:00:53.428Z"
   },
   {
    "duration": 75,
    "start_time": "2024-04-30T14:04:09.671Z"
   },
   {
    "duration": 4478,
    "start_time": "2024-04-30T14:04:25.150Z"
   },
   {
    "duration": 4224,
    "start_time": "2024-04-30T14:06:19.214Z"
   },
   {
    "duration": 207,
    "start_time": "2024-04-30T14:14:37.547Z"
   },
   {
    "duration": 3177,
    "start_time": "2024-04-30T14:15:23.064Z"
   },
   {
    "duration": 166,
    "start_time": "2024-04-30T14:16:04.373Z"
   },
   {
    "duration": 1977,
    "start_time": "2024-04-30T14:16:16.662Z"
   },
   {
    "duration": 1788,
    "start_time": "2024-04-30T14:27:36.043Z"
   },
   {
    "duration": 750,
    "start_time": "2024-04-30T14:29:25.711Z"
   },
   {
    "duration": 24692,
    "start_time": "2024-04-30T14:29:26.462Z"
   },
   {
    "duration": 872,
    "start_time": "2024-04-30T14:29:51.156Z"
   },
   {
    "duration": 4791,
    "start_time": "2024-04-30T14:29:52.031Z"
   },
   {
    "duration": 4909,
    "start_time": "2024-04-30T14:29:56.825Z"
   },
   {
    "duration": 3018,
    "start_time": "2024-04-30T14:30:16.631Z"
   },
   {
    "duration": 2519,
    "start_time": "2024-04-30T14:30:25.256Z"
   },
   {
    "duration": 82,
    "start_time": "2024-04-30T14:31:22.826Z"
   },
   {
    "duration": 452,
    "start_time": "2024-04-30T14:31:43.613Z"
   },
   {
    "duration": 2478,
    "start_time": "2024-04-30T14:31:48.672Z"
   },
   {
    "duration": 757,
    "start_time": "2024-04-30T14:32:08.122Z"
   },
   {
    "duration": 26467,
    "start_time": "2024-04-30T14:32:08.881Z"
   },
   {
    "duration": 1074,
    "start_time": "2024-04-30T14:32:35.351Z"
   },
   {
    "duration": 4721,
    "start_time": "2024-04-30T14:32:36.427Z"
   },
   {
    "duration": 4298,
    "start_time": "2024-04-30T14:32:41.150Z"
   },
   {
    "duration": 476,
    "start_time": "2024-04-30T14:32:45.450Z"
   },
   {
    "duration": 244,
    "start_time": "2024-04-30T14:40:38.975Z"
   },
   {
    "duration": 220,
    "start_time": "2024-04-30T14:40:48.504Z"
   },
   {
    "duration": 193,
    "start_time": "2024-04-30T14:41:03.684Z"
   },
   {
    "duration": 291,
    "start_time": "2024-04-30T14:42:33.749Z"
   },
   {
    "duration": 1513,
    "start_time": "2024-04-30T14:56:34.640Z"
   },
   {
    "duration": 14,
    "start_time": "2024-04-30T15:06:50.845Z"
   },
   {
    "duration": 266,
    "start_time": "2024-04-30T15:25:31.571Z"
   },
   {
    "duration": 4,
    "start_time": "2024-04-30T15:28:20.000Z"
   },
   {
    "duration": 76,
    "start_time": "2024-04-30T15:38:38.063Z"
   },
   {
    "duration": 4,
    "start_time": "2024-04-30T15:38:47.796Z"
   },
   {
    "duration": 6,
    "start_time": "2024-04-30T15:40:21.188Z"
   },
   {
    "duration": 5,
    "start_time": "2024-04-30T15:40:43.677Z"
   },
   {
    "duration": 8,
    "start_time": "2024-04-30T15:41:24.342Z"
   },
   {
    "duration": 48,
    "start_time": "2024-04-30T15:41:38.672Z"
   },
   {
    "duration": 1229,
    "start_time": "2024-04-30T15:42:13.098Z"
   },
   {
    "duration": 28,
    "start_time": "2024-04-30T16:01:34.776Z"
   },
   {
    "duration": 707,
    "start_time": "2024-04-30T16:01:51.249Z"
   },
   {
    "duration": 23165,
    "start_time": "2024-04-30T16:01:51.958Z"
   },
   {
    "duration": 691,
    "start_time": "2024-04-30T16:02:15.125Z"
   },
   {
    "duration": 3817,
    "start_time": "2024-04-30T16:02:15.818Z"
   },
   {
    "duration": 3582,
    "start_time": "2024-04-30T16:02:19.637Z"
   },
   {
    "duration": 425,
    "start_time": "2024-04-30T16:02:23.221Z"
   },
   {
    "duration": 8,
    "start_time": "2024-04-30T16:02:23.716Z"
   },
   {
    "duration": 1710,
    "start_time": "2024-04-30T16:02:23.725Z"
   },
   {
    "duration": 383,
    "start_time": "2024-04-30T16:02:25.437Z"
   },
   {
    "duration": 36,
    "start_time": "2024-04-30T16:02:25.821Z"
   },
   {
    "duration": 80,
    "start_time": "2024-04-30T16:02:25.859Z"
   },
   {
    "duration": 1188,
    "start_time": "2024-04-30T16:02:25.941Z"
   },
   {
    "duration": 338,
    "start_time": "2024-04-30T16:05:52.840Z"
   },
   {
    "duration": 2989,
    "start_time": "2024-04-30T16:06:49.628Z"
   },
   {
    "duration": 213,
    "start_time": "2024-04-30T16:21:39.702Z"
   },
   {
    "duration": 676,
    "start_time": "2024-05-01T07:29:12.479Z"
   },
   {
    "duration": 23067,
    "start_time": "2024-05-01T07:29:13.157Z"
   },
   {
    "duration": 705,
    "start_time": "2024-05-01T07:29:36.226Z"
   },
   {
    "duration": 4205,
    "start_time": "2024-05-01T07:29:36.933Z"
   },
   {
    "duration": 4183,
    "start_time": "2024-05-01T07:29:41.140Z"
   },
   {
    "duration": 512,
    "start_time": "2024-05-01T07:29:45.325Z"
   },
   {
    "duration": 8,
    "start_time": "2024-05-01T07:29:45.839Z"
   },
   {
    "duration": 1704,
    "start_time": "2024-05-01T07:29:45.849Z"
   },
   {
    "duration": 421,
    "start_time": "2024-05-01T07:29:47.614Z"
   },
   {
    "duration": 102,
    "start_time": "2024-05-01T07:29:48.037Z"
   },
   {
    "duration": 80,
    "start_time": "2024-05-01T07:29:48.141Z"
   },
   {
    "duration": 1205,
    "start_time": "2024-05-01T07:29:48.223Z"
   },
   {
    "duration": 220,
    "start_time": "2024-05-01T07:29:49.430Z"
   },
   {
    "duration": 0,
    "start_time": "2024-05-01T07:29:49.652Z"
   },
   {
    "duration": 70,
    "start_time": "2024-05-01T07:30:34.950Z"
   },
   {
    "duration": 27,
    "start_time": "2024-05-01T07:30:41.470Z"
   },
   {
    "duration": 93,
    "start_time": "2024-05-01T07:31:14.123Z"
   },
   {
    "duration": 4886,
    "start_time": "2024-05-01T07:31:15.557Z"
   },
   {
    "duration": 4,
    "start_time": "2024-05-01T07:34:22.004Z"
   },
   {
    "duration": 69,
    "start_time": "2024-05-01T07:34:28.777Z"
   },
   {
    "duration": 4,
    "start_time": "2024-05-01T07:36:47.682Z"
   },
   {
    "duration": 11,
    "start_time": "2024-05-01T07:36:48.391Z"
   },
   {
    "duration": 73,
    "start_time": "2024-05-01T07:39:14.519Z"
   },
   {
    "duration": 0,
    "start_time": "2024-05-01T07:39:14.594Z"
   },
   {
    "duration": 0,
    "start_time": "2024-05-01T07:39:14.595Z"
   },
   {
    "duration": 0,
    "start_time": "2024-05-01T07:39:14.596Z"
   },
   {
    "duration": 0,
    "start_time": "2024-05-01T07:39:14.597Z"
   },
   {
    "duration": 0,
    "start_time": "2024-05-01T07:39:14.598Z"
   },
   {
    "duration": 0,
    "start_time": "2024-05-01T07:39:14.599Z"
   },
   {
    "duration": 0,
    "start_time": "2024-05-01T07:39:14.600Z"
   },
   {
    "duration": 0,
    "start_time": "2024-05-01T07:39:14.602Z"
   },
   {
    "duration": 0,
    "start_time": "2024-05-01T07:39:14.602Z"
   },
   {
    "duration": 0,
    "start_time": "2024-05-01T07:39:14.603Z"
   },
   {
    "duration": 0,
    "start_time": "2024-05-01T07:39:14.604Z"
   },
   {
    "duration": 0,
    "start_time": "2024-05-01T07:39:14.605Z"
   },
   {
    "duration": 0,
    "start_time": "2024-05-01T07:39:14.606Z"
   },
   {
    "duration": 0,
    "start_time": "2024-05-01T07:39:14.607Z"
   },
   {
    "duration": 0,
    "start_time": "2024-05-01T07:39:14.608Z"
   },
   {
    "duration": 708,
    "start_time": "2024-05-01T07:40:18.940Z"
   },
   {
    "duration": 715,
    "start_time": "2024-05-01T07:40:25.138Z"
   },
   {
    "duration": 23280,
    "start_time": "2024-05-01T07:40:25.855Z"
   },
   {
    "duration": 707,
    "start_time": "2024-05-01T07:40:49.137Z"
   },
   {
    "duration": 3984,
    "start_time": "2024-05-01T07:40:49.847Z"
   },
   {
    "duration": 3488,
    "start_time": "2024-05-01T07:40:53.833Z"
   },
   {
    "duration": 493,
    "start_time": "2024-05-01T07:40:57.322Z"
   },
   {
    "duration": 9,
    "start_time": "2024-05-01T07:40:57.817Z"
   },
   {
    "duration": 1618,
    "start_time": "2024-05-01T07:40:57.828Z"
   },
   {
    "duration": 384,
    "start_time": "2024-05-01T07:40:59.447Z"
   },
   {
    "duration": 108,
    "start_time": "2024-05-01T07:40:59.835Z"
   },
   {
    "duration": 81,
    "start_time": "2024-05-01T07:40:59.945Z"
   },
   {
    "duration": 1190,
    "start_time": "2024-05-01T07:41:00.028Z"
   },
   {
    "duration": 124,
    "start_time": "2024-05-01T07:41:01.219Z"
   },
   {
    "duration": 6299,
    "start_time": "2024-05-01T07:41:01.344Z"
   },
   {
    "duration": 6,
    "start_time": "2024-05-01T07:41:07.645Z"
   },
   {
    "duration": 131,
    "start_time": "2024-05-01T07:41:07.716Z"
   },
   {
    "duration": 6,
    "start_time": "2024-05-01T07:41:20.385Z"
   },
   {
    "duration": 48,
    "start_time": "2024-05-01T07:41:25.743Z"
   },
   {
    "duration": 4,
    "start_time": "2024-05-01T07:41:31.111Z"
   },
   {
    "duration": 19,
    "start_time": "2024-05-01T07:41:31.879Z"
   },
   {
    "duration": 4,
    "start_time": "2024-05-01T07:41:52.577Z"
   },
   {
    "duration": 11541,
    "start_time": "2024-05-01T07:41:53.309Z"
   },
   {
    "duration": 35,
    "start_time": "2024-05-01T07:43:43.551Z"
   },
   {
    "duration": 739,
    "start_time": "2024-05-01T07:43:50.413Z"
   },
   {
    "duration": 21985,
    "start_time": "2024-05-01T07:43:51.154Z"
   },
   {
    "duration": 702,
    "start_time": "2024-05-01T07:44:13.141Z"
   },
   {
    "duration": 4012,
    "start_time": "2024-05-01T07:44:13.845Z"
   },
   {
    "duration": 3911,
    "start_time": "2024-05-01T07:44:17.916Z"
   },
   {
    "duration": 414,
    "start_time": "2024-05-01T07:44:21.829Z"
   },
   {
    "duration": 78,
    "start_time": "2024-05-01T07:44:22.244Z"
   },
   {
    "duration": 1602,
    "start_time": "2024-05-01T07:44:22.323Z"
   },
   {
    "duration": 409,
    "start_time": "2024-05-01T07:44:23.927Z"
   },
   {
    "duration": 94,
    "start_time": "2024-05-01T07:44:24.338Z"
   },
   {
    "duration": 26,
    "start_time": "2024-05-01T07:44:24.434Z"
   },
   {
    "duration": 1125,
    "start_time": "2024-05-01T07:44:24.516Z"
   },
   {
    "duration": 105,
    "start_time": "2024-05-01T07:44:25.643Z"
   },
   {
    "duration": 4695,
    "start_time": "2024-05-01T07:44:25.750Z"
   },
   {
    "duration": 5,
    "start_time": "2024-05-01T07:44:30.447Z"
   },
   {
    "duration": 10735,
    "start_time": "2024-05-01T07:44:30.515Z"
   },
   {
    "duration": 683,
    "start_time": "2024-05-01T17:55:59.336Z"
   },
   {
    "duration": 23072,
    "start_time": "2024-05-01T17:56:00.021Z"
   },
   {
    "duration": 783,
    "start_time": "2024-05-01T17:56:23.095Z"
   },
   {
    "duration": 3814,
    "start_time": "2024-05-01T17:56:23.880Z"
   },
   {
    "duration": 3985,
    "start_time": "2024-05-01T17:56:27.696Z"
   },
   {
    "duration": 490,
    "start_time": "2024-05-01T17:56:31.683Z"
   },
   {
    "duration": 10,
    "start_time": "2024-05-01T17:56:32.174Z"
   },
   {
    "duration": 1501,
    "start_time": "2024-05-01T17:56:32.186Z"
   },
   {
    "duration": 391,
    "start_time": "2024-05-01T17:56:33.689Z"
   },
   {
    "duration": 94,
    "start_time": "2024-05-01T17:56:34.083Z"
   },
   {
    "duration": 90,
    "start_time": "2024-05-01T17:56:34.179Z"
   },
   {
    "duration": 1217,
    "start_time": "2024-05-01T17:56:34.271Z"
   },
   {
    "duration": 109,
    "start_time": "2024-05-01T17:56:35.489Z"
   },
   {
    "duration": 4592,
    "start_time": "2024-05-01T17:56:35.599Z"
   },
   {
    "duration": 4,
    "start_time": "2024-05-01T17:56:40.192Z"
   },
   {
    "duration": 11611,
    "start_time": "2024-05-01T17:56:40.269Z"
   },
   {
    "duration": 3,
    "start_time": "2024-05-01T17:59:54.545Z"
   },
   {
    "duration": 683,
    "start_time": "2024-05-01T18:54:23.331Z"
   },
   {
    "duration": 23067,
    "start_time": "2024-05-01T18:54:24.016Z"
   },
   {
    "duration": 787,
    "start_time": "2024-05-01T18:54:47.085Z"
   },
   {
    "duration": 4495,
    "start_time": "2024-05-01T18:54:47.874Z"
   },
   {
    "duration": 3732,
    "start_time": "2024-05-01T18:54:52.372Z"
   },
   {
    "duration": 430,
    "start_time": "2024-05-01T18:54:56.170Z"
   },
   {
    "duration": 74,
    "start_time": "2024-05-01T18:54:56.602Z"
   },
   {
    "duration": 103,
    "start_time": "2024-05-01T18:54:56.677Z"
   },
   {
    "duration": 93,
    "start_time": "2024-05-01T18:54:56.782Z"
   },
   {
    "duration": 110,
    "start_time": "2024-05-01T18:54:56.877Z"
   },
   {
    "duration": 0,
    "start_time": "2024-05-01T18:54:56.990Z"
   },
   {
    "duration": 0,
    "start_time": "2024-05-01T18:54:56.991Z"
   },
   {
    "duration": 0,
    "start_time": "2024-05-01T18:54:56.993Z"
   },
   {
    "duration": 0,
    "start_time": "2024-05-01T18:54:56.994Z"
   },
   {
    "duration": 0,
    "start_time": "2024-05-01T18:54:56.995Z"
   },
   {
    "duration": 0,
    "start_time": "2024-05-01T18:54:56.997Z"
   },
   {
    "duration": 0,
    "start_time": "2024-05-01T18:54:56.998Z"
   },
   {
    "duration": 4,
    "start_time": "2024-05-01T18:55:22.276Z"
   },
   {
    "duration": 4,
    "start_time": "2024-05-01T18:55:26.649Z"
   },
   {
    "duration": 16,
    "start_time": "2024-05-01T18:55:27.869Z"
   },
   {
    "duration": 30,
    "start_time": "2024-05-01T18:55:28.902Z"
   },
   {
    "duration": 53994,
    "start_time": "2024-05-01T18:55:29.893Z"
   },
   {
    "duration": 26043,
    "start_time": "2024-05-01T18:56:26.641Z"
   },
   {
    "duration": 13,
    "start_time": "2024-05-01T18:57:02.116Z"
   },
   {
    "duration": 1998,
    "start_time": "2024-05-01T18:57:03.385Z"
   },
   {
    "duration": 7,
    "start_time": "2024-05-01T18:57:06.279Z"
   },
   {
    "duration": 5,
    "start_time": "2024-05-01T19:34:20.216Z"
   },
   {
    "duration": 764,
    "start_time": "2024-05-01T19:51:11.253Z"
   },
   {
    "duration": 22957,
    "start_time": "2024-05-01T19:51:12.019Z"
   },
   {
    "duration": 708,
    "start_time": "2024-05-01T19:51:34.979Z"
   },
   {
    "duration": 4016,
    "start_time": "2024-05-01T19:51:35.689Z"
   },
   {
    "duration": 4062,
    "start_time": "2024-05-01T19:51:39.708Z"
   },
   {
    "duration": 423,
    "start_time": "2024-05-01T19:51:43.772Z"
   },
   {
    "duration": 72,
    "start_time": "2024-05-01T19:51:44.198Z"
   },
   {
    "duration": 102,
    "start_time": "2024-05-01T19:51:44.272Z"
   },
   {
    "duration": 41,
    "start_time": "2024-05-01T19:51:44.376Z"
   },
   {
    "duration": 3,
    "start_time": "2024-05-01T19:51:44.419Z"
   },
   {
    "duration": 51,
    "start_time": "2024-05-01T19:51:44.424Z"
   },
   {
    "duration": 23,
    "start_time": "2024-05-01T19:51:44.477Z"
   },
   {
    "duration": 1086,
    "start_time": "2024-05-02T06:42:35.522Z"
   },
   {
    "duration": 35670,
    "start_time": "2024-05-02T06:42:36.611Z"
   },
   {
    "duration": 1015,
    "start_time": "2024-05-02T06:43:12.284Z"
   },
   {
    "duration": 6680,
    "start_time": "2024-05-02T06:43:13.301Z"
   },
   {
    "duration": 5713,
    "start_time": "2024-05-02T06:43:19.985Z"
   },
   {
    "duration": 888,
    "start_time": "2024-05-02T06:43:25.699Z"
   },
   {
    "duration": 10,
    "start_time": "2024-05-02T06:43:26.589Z"
   },
   {
    "duration": 126,
    "start_time": "2024-05-02T06:43:26.679Z"
   },
   {
    "duration": 177,
    "start_time": "2024-05-02T06:43:26.807Z"
   },
   {
    "duration": 4,
    "start_time": "2024-05-02T06:43:26.985Z"
   },
   {
    "duration": 28,
    "start_time": "2024-05-02T06:43:26.991Z"
   },
   {
    "duration": 26,
    "start_time": "2024-05-02T06:43:27.081Z"
   },
   {
    "duration": 67673,
    "start_time": "2024-05-02T06:43:27.108Z"
   },
   {
    "duration": 1,
    "start_time": "2024-05-02T06:44:34.784Z"
   },
   {
    "duration": 0,
    "start_time": "2024-05-02T06:44:34.786Z"
   },
   {
    "duration": 1,
    "start_time": "2024-05-02T06:44:34.788Z"
   },
   {
    "duration": 0,
    "start_time": "2024-05-02T06:44:34.790Z"
   },
   {
    "duration": 716,
    "start_time": "2024-05-02T13:30:13.469Z"
   },
   {
    "duration": 26045,
    "start_time": "2024-05-02T13:30:14.188Z"
   },
   {
    "duration": 799,
    "start_time": "2024-05-02T13:30:40.236Z"
   },
   {
    "duration": 5322,
    "start_time": "2024-05-02T13:30:41.037Z"
   },
   {
    "duration": 4301,
    "start_time": "2024-05-02T13:30:46.420Z"
   },
   {
    "duration": 601,
    "start_time": "2024-05-02T13:30:50.722Z"
   },
   {
    "duration": 9,
    "start_time": "2024-05-02T13:30:51.325Z"
   },
   {
    "duration": 202,
    "start_time": "2024-05-02T13:30:51.336Z"
   },
   {
    "duration": 0,
    "start_time": "2024-05-02T13:30:51.540Z"
   },
   {
    "duration": 0,
    "start_time": "2024-05-02T13:30:51.541Z"
   },
   {
    "duration": 0,
    "start_time": "2024-05-02T13:30:51.543Z"
   },
   {
    "duration": 0,
    "start_time": "2024-05-02T13:30:51.544Z"
   },
   {
    "duration": 0,
    "start_time": "2024-05-02T13:30:51.545Z"
   },
   {
    "duration": 0,
    "start_time": "2024-05-02T13:30:51.546Z"
   },
   {
    "duration": 0,
    "start_time": "2024-05-02T13:30:51.549Z"
   },
   {
    "duration": 0,
    "start_time": "2024-05-02T13:30:51.550Z"
   },
   {
    "duration": 0,
    "start_time": "2024-05-02T13:30:51.551Z"
   },
   {
    "duration": 27,
    "start_time": "2024-05-02T13:31:32.272Z"
   },
   {
    "duration": 17,
    "start_time": "2024-05-02T13:32:12.759Z"
   },
   {
    "duration": 28,
    "start_time": "2024-05-02T13:32:51.513Z"
   },
   {
    "duration": 42,
    "start_time": "2024-05-02T13:33:51.210Z"
   },
   {
    "duration": 699,
    "start_time": "2024-05-02T13:33:56.964Z"
   },
   {
    "duration": 26355,
    "start_time": "2024-05-02T13:33:57.666Z"
   },
   {
    "duration": 820,
    "start_time": "2024-05-02T13:34:24.024Z"
   },
   {
    "duration": 4776,
    "start_time": "2024-05-02T13:34:24.846Z"
   },
   {
    "duration": 4506,
    "start_time": "2024-05-02T13:34:29.625Z"
   },
   {
    "duration": 514,
    "start_time": "2024-05-02T13:34:34.134Z"
   },
   {
    "duration": 72,
    "start_time": "2024-05-02T13:34:34.649Z"
   },
   {
    "duration": 134,
    "start_time": "2024-05-02T13:34:34.724Z"
   },
   {
    "duration": 104,
    "start_time": "2024-05-02T13:34:34.861Z"
   },
   {
    "duration": 156,
    "start_time": "2024-05-02T13:34:35.021Z"
   },
   {
    "duration": 0,
    "start_time": "2024-05-02T13:34:35.180Z"
   },
   {
    "duration": 0,
    "start_time": "2024-05-02T13:34:35.182Z"
   },
   {
    "duration": 0,
    "start_time": "2024-05-02T13:34:35.184Z"
   },
   {
    "duration": 0,
    "start_time": "2024-05-02T13:34:35.186Z"
   },
   {
    "duration": 0,
    "start_time": "2024-05-02T13:34:35.187Z"
   },
   {
    "duration": 0,
    "start_time": "2024-05-02T13:34:35.189Z"
   },
   {
    "duration": 0,
    "start_time": "2024-05-02T13:34:35.190Z"
   },
   {
    "duration": 691,
    "start_time": "2024-05-03T09:23:37.226Z"
   },
   {
    "duration": 24790,
    "start_time": "2024-05-03T09:23:37.919Z"
   },
   {
    "duration": 723,
    "start_time": "2024-05-03T09:24:02.766Z"
   },
   {
    "duration": 4807,
    "start_time": "2024-05-03T09:24:03.492Z"
   },
   {
    "duration": 4378,
    "start_time": "2024-05-03T09:24:08.301Z"
   },
   {
    "duration": 483,
    "start_time": "2024-05-03T09:24:12.682Z"
   },
   {
    "duration": 10,
    "start_time": "2024-05-03T09:24:13.168Z"
   },
   {
    "duration": 110,
    "start_time": "2024-05-03T09:24:13.180Z"
   },
   {
    "duration": 95,
    "start_time": "2024-05-03T09:24:13.292Z"
   },
   {
    "duration": 79,
    "start_time": "2024-05-03T09:24:13.390Z"
   },
   {
    "duration": 0,
    "start_time": "2024-05-03T09:24:13.471Z"
   },
   {
    "duration": 0,
    "start_time": "2024-05-03T09:24:13.473Z"
   },
   {
    "duration": 0,
    "start_time": "2024-05-03T09:24:13.474Z"
   },
   {
    "duration": 0,
    "start_time": "2024-05-03T09:24:13.475Z"
   },
   {
    "duration": 0,
    "start_time": "2024-05-03T09:24:13.476Z"
   },
   {
    "duration": 0,
    "start_time": "2024-05-03T09:24:13.477Z"
   },
   {
    "duration": 0,
    "start_time": "2024-05-03T09:24:13.479Z"
   },
   {
    "duration": 4,
    "start_time": "2024-05-03T09:24:34.072Z"
   },
   {
    "duration": 16,
    "start_time": "2024-05-03T09:24:36.046Z"
   },
   {
    "duration": 28,
    "start_time": "2024-05-03T09:24:42.878Z"
   },
   {
    "duration": 5665,
    "start_time": "2024-05-03T09:24:44.815Z"
   },
   {
    "duration": 662,
    "start_time": "2024-05-03T09:26:23.940Z"
   },
   {
    "duration": 25485,
    "start_time": "2024-05-03T09:26:24.604Z"
   },
   {
    "duration": 883,
    "start_time": "2024-05-03T09:26:50.091Z"
   },
   {
    "duration": 4723,
    "start_time": "2024-05-03T09:26:50.978Z"
   },
   {
    "duration": 4375,
    "start_time": "2024-05-03T09:26:55.703Z"
   },
   {
    "duration": 686,
    "start_time": "2024-05-03T09:27:00.081Z"
   },
   {
    "duration": 8,
    "start_time": "2024-05-03T09:27:00.769Z"
   },
   {
    "duration": 126,
    "start_time": "2024-05-03T09:27:00.779Z"
   },
   {
    "duration": 94,
    "start_time": "2024-05-03T09:27:00.907Z"
   },
   {
    "duration": 5,
    "start_time": "2024-05-03T09:27:01.003Z"
   },
   {
    "duration": 58,
    "start_time": "2024-05-03T09:27:01.009Z"
   },
   {
    "duration": 61,
    "start_time": "2024-05-03T09:27:01.068Z"
   },
   {
    "duration": 65254,
    "start_time": "2024-05-03T09:27:01.130Z"
   },
   {
    "duration": 27552,
    "start_time": "2024-05-03T09:28:06.386Z"
   },
   {
    "duration": 31,
    "start_time": "2024-05-03T09:28:33.939Z"
   },
   {
    "duration": 1722,
    "start_time": "2024-05-03T09:28:33.972Z"
   },
   {
    "duration": 6,
    "start_time": "2024-05-03T09:28:35.696Z"
   },
   {
    "duration": 68,
    "start_time": "2024-05-03T09:29:32.810Z"
   },
   {
    "duration": 397,
    "start_time": "2024-05-03T09:31:15.077Z"
   },
   {
    "duration": 744,
    "start_time": "2024-05-03T09:32:08.254Z"
   },
   {
    "duration": 24003,
    "start_time": "2024-05-03T09:32:09.001Z"
   },
   {
    "duration": 861,
    "start_time": "2024-05-03T09:32:33.006Z"
   },
   {
    "duration": 4713,
    "start_time": "2024-05-03T09:32:33.870Z"
   },
   {
    "duration": 3779,
    "start_time": "2024-05-03T09:32:38.586Z"
   },
   {
    "duration": 628,
    "start_time": "2024-05-03T09:32:42.368Z"
   },
   {
    "duration": 74,
    "start_time": "2024-05-03T09:32:42.998Z"
   },
   {
    "duration": 110,
    "start_time": "2024-05-03T09:32:43.075Z"
   },
   {
    "duration": 104,
    "start_time": "2024-05-03T09:32:43.187Z"
   },
   {
    "duration": 4,
    "start_time": "2024-05-03T09:32:43.294Z"
   },
   {
    "duration": 79,
    "start_time": "2024-05-03T09:32:43.300Z"
   },
   {
    "duration": 37,
    "start_time": "2024-05-03T09:32:43.381Z"
   },
   {
    "duration": 62772,
    "start_time": "2024-05-03T09:32:43.420Z"
   },
   {
    "duration": 26370,
    "start_time": "2024-05-03T09:33:46.195Z"
   },
   {
    "duration": 14,
    "start_time": "2024-05-03T09:34:12.568Z"
   },
   {
    "duration": 1849,
    "start_time": "2024-05-03T09:34:12.584Z"
   },
   {
    "duration": 35,
    "start_time": "2024-05-03T09:34:14.434Z"
   },
   {
    "duration": 229,
    "start_time": "2024-05-03T09:34:14.471Z"
   }
  ],
  "colab": {
   "name": "PySparkSprint.ipynb",
   "provenance": []
  },
  "kernelspec": {
   "display_name": "Python 3 (ipykernel)",
   "language": "python",
   "name": "python3"
  },
  "language_info": {
   "codemirror_mode": {
    "name": "ipython",
    "version": 3
   },
   "file_extension": ".py",
   "mimetype": "text/x-python",
   "name": "python",
   "nbconvert_exporter": "python",
   "pygments_lexer": "ipython3",
   "version": "3.9.13"
  },
  "toc": {
   "base_numbering": 1,
   "nav_menu": {},
   "number_sections": true,
   "sideBar": true,
   "skip_h1_title": true,
   "title_cell": "Table of Contents",
   "title_sidebar": "Contents",
   "toc_cell": false,
   "toc_position": {
    "height": "calc(100% - 180px)",
    "left": "10px",
    "top": "150px",
    "width": "229.6px"
   },
   "toc_section_display": true,
   "toc_window_display": true
  }
 },
 "nbformat": 4,
 "nbformat_minor": 5
}
