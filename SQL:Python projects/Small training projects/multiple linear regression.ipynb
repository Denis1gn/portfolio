{
 "cells": [
  {
   "cell_type": "markdown",
   "id": "19dbccb1-3539-4865-97fb-98ba963d2af4",
   "metadata": {},
   "source": [
    "## Multiple linear regression\n",
    "Purpose of this training is learning library usage for multiple linear regression. \n",
    "Dataset is built on IPO prosepcts, Crunchbase data, Yahoo finance data for Master's degree research"
   ]
  },
  {
   "cell_type": "code",
   "execution_count": 18,
   "id": "2d24f996-2546-44b7-83b3-d32ff8aa2b01",
   "metadata": {},
   "outputs": [
    {
     "data": {
      "text/html": [
       "<div>\n",
       "<style scoped>\n",
       "    .dataframe tbody tr th:only-of-type {\n",
       "        vertical-align: middle;\n",
       "    }\n",
       "\n",
       "    .dataframe tbody tr th {\n",
       "        vertical-align: top;\n",
       "    }\n",
       "\n",
       "    .dataframe thead th {\n",
       "        text-align: right;\n",
       "    }\n",
       "</style>\n",
       "<table border=\"1\" class=\"dataframe\">\n",
       "  <thead>\n",
       "    <tr style=\"text-align: right;\">\n",
       "      <th></th>\n",
       "      <th>MAIR</th>\n",
       "      <th>VL</th>\n",
       "      <th>FR</th>\n",
       "      <th>OPCFP</th>\n",
       "      <th>NI</th>\n",
       "    </tr>\n",
       "    <tr>\n",
       "      <th>Company</th>\n",
       "      <th></th>\n",
       "      <th></th>\n",
       "      <th></th>\n",
       "      <th></th>\n",
       "      <th></th>\n",
       "    </tr>\n",
       "  </thead>\n",
       "  <tbody>\n",
       "    <tr>\n",
       "      <th>Yandex</th>\n",
       "      <td>0.10</td>\n",
       "      <td>11200000000</td>\n",
       "      <td>5</td>\n",
       "      <td>1</td>\n",
       "      <td>1</td>\n",
       "    </tr>\n",
       "    <tr>\n",
       "      <th>Groupon</th>\n",
       "      <td>0.23</td>\n",
       "      <td>12708067040</td>\n",
       "      <td>6</td>\n",
       "      <td>1</td>\n",
       "      <td>0</td>\n",
       "    </tr>\n",
       "    <tr>\n",
       "      <th>Zynga</th>\n",
       "      <td>-0.06</td>\n",
       "      <td>6990000000</td>\n",
       "      <td>9</td>\n",
       "      <td>1</td>\n",
       "      <td>1</td>\n",
       "    </tr>\n",
       "    <tr>\n",
       "      <th>Facebook</th>\n",
       "      <td>0.02</td>\n",
       "      <td>83500000000</td>\n",
       "      <td>15</td>\n",
       "      <td>1</td>\n",
       "      <td>1</td>\n",
       "    </tr>\n",
       "    <tr>\n",
       "      <th>Workday</th>\n",
       "      <td>0.43</td>\n",
       "      <td>4500000000</td>\n",
       "      <td>6</td>\n",
       "      <td>0</td>\n",
       "      <td>0</td>\n",
       "    </tr>\n",
       "    <tr>\n",
       "      <th>FireEye</th>\n",
       "      <td>0.45</td>\n",
       "      <td>2349416980</td>\n",
       "      <td>5</td>\n",
       "      <td>1</td>\n",
       "      <td>0</td>\n",
       "    </tr>\n",
       "    <tr>\n",
       "      <th>Twitter</th>\n",
       "      <td>0.44</td>\n",
       "      <td>24565826402</td>\n",
       "      <td>12</td>\n",
       "      <td>0</td>\n",
       "      <td>0</td>\n",
       "    </tr>\n",
       "    <tr>\n",
       "      <th>Quotient Technology</th>\n",
       "      <td>0.46</td>\n",
       "      <td>1170716912</td>\n",
       "      <td>9</td>\n",
       "      <td>0</td>\n",
       "      <td>0</td>\n",
       "    </tr>\n",
       "    <tr>\n",
       "      <th>GoPro</th>\n",
       "      <td>0.24</td>\n",
       "      <td>2955000000</td>\n",
       "      <td>3</td>\n",
       "      <td>1</td>\n",
       "      <td>1</td>\n",
       "    </tr>\n",
       "    <tr>\n",
       "      <th>Wayfair</th>\n",
       "      <td>0.23</td>\n",
       "      <td>2400000000</td>\n",
       "      <td>3</td>\n",
       "      <td>1</td>\n",
       "      <td>0</td>\n",
       "    </tr>\n",
       "    <tr>\n",
       "      <th>Lending Club</th>\n",
       "      <td>0.02</td>\n",
       "      <td>5400000000</td>\n",
       "      <td>13</td>\n",
       "      <td>1</td>\n",
       "      <td>1</td>\n",
       "    </tr>\n",
       "  </tbody>\n",
       "</table>\n",
       "</div>"
      ],
      "text/plain": [
       "                     MAIR           VL  FR  OPCFP  NI\n",
       "Company                                              \n",
       "Yandex               0.10  11200000000   5      1   1\n",
       "Groupon              0.23  12708067040   6      1   0\n",
       "Zynga               -0.06   6990000000   9      1   1\n",
       "Facebook             0.02  83500000000  15      1   1\n",
       "Workday              0.43   4500000000   6      0   0\n",
       "FireEye              0.45   2349416980   5      1   0\n",
       "Twitter              0.44  24565826402  12      0   0\n",
       "Quotient Technology  0.46   1170716912   9      0   0\n",
       "GoPro                0.24   2955000000   3      1   1\n",
       "Wayfair              0.23   2400000000   3      1   0\n",
       "Lending Club         0.02   5400000000  13      1   1"
      ]
     },
     "metadata": {},
     "output_type": "display_data"
    }
   ],
   "source": [
    "import pandas as pd\n",
    "import numpy as np\n",
    "df = pd.read_excel('mair_regression.xlsx', index_col='Company')\n",
    "display(df.head(11)) "
   ]
  },
  {
   "cell_type": "markdown",
   "id": "03b32cf0-7342-44e9-8270-9b632e91a53a",
   "metadata": {},
   "source": [
    "MAIR - Market Adjusted Initial Return. It is return on the first traiding day adjusted to market benchmark return for similar day. VL - valuation of the company. FR - funding rounds before IPO. OPCFP - operation cashflow (1 for positive, 0 for negative). NI - Net Income (1 for profitable companies, 0 for companies with losses) "
   ]
  },
  {
   "cell_type": "code",
   "execution_count": 19,
   "id": "7b342d26-1518-46be-b04d-e3f29363d7cd",
   "metadata": {},
   "outputs": [
    {
     "data": {
      "text/html": [
       "<div>\n",
       "<style scoped>\n",
       "    .dataframe tbody tr th:only-of-type {\n",
       "        vertical-align: middle;\n",
       "    }\n",
       "\n",
       "    .dataframe tbody tr th {\n",
       "        vertical-align: top;\n",
       "    }\n",
       "\n",
       "    .dataframe thead th {\n",
       "        text-align: right;\n",
       "    }\n",
       "</style>\n",
       "<table border=\"1\" class=\"dataframe\">\n",
       "  <thead>\n",
       "    <tr style=\"text-align: right;\">\n",
       "      <th></th>\n",
       "      <th>MAIR</th>\n",
       "      <th>VL</th>\n",
       "      <th>FR</th>\n",
       "      <th>OPCFP</th>\n",
       "      <th>NI</th>\n",
       "    </tr>\n",
       "  </thead>\n",
       "  <tbody>\n",
       "    <tr>\n",
       "      <th>count</th>\n",
       "      <td>75.000000</td>\n",
       "      <td>7.500000e+01</td>\n",
       "      <td>75.000000</td>\n",
       "      <td>75.000000</td>\n",
       "      <td>75.000000</td>\n",
       "    </tr>\n",
       "    <tr>\n",
       "      <th>mean</th>\n",
       "      <td>0.188533</td>\n",
       "      <td>7.136725e+09</td>\n",
       "      <td>7.453333</td>\n",
       "      <td>0.320000</td>\n",
       "      <td>0.213333</td>\n",
       "    </tr>\n",
       "    <tr>\n",
       "      <th>std</th>\n",
       "      <td>0.235014</td>\n",
       "      <td>1.398149e+10</td>\n",
       "      <td>4.275301</td>\n",
       "      <td>0.469617</td>\n",
       "      <td>0.412420</td>\n",
       "    </tr>\n",
       "    <tr>\n",
       "      <th>min</th>\n",
       "      <td>-0.440000</td>\n",
       "      <td>1.000000e+09</td>\n",
       "      <td>1.000000</td>\n",
       "      <td>0.000000</td>\n",
       "      <td>0.000000</td>\n",
       "    </tr>\n",
       "    <tr>\n",
       "      <th>25%</th>\n",
       "      <td>0.020000</td>\n",
       "      <td>1.662007e+09</td>\n",
       "      <td>5.000000</td>\n",
       "      <td>0.000000</td>\n",
       "      <td>0.000000</td>\n",
       "    </tr>\n",
       "    <tr>\n",
       "      <th>50%</th>\n",
       "      <td>0.240000</td>\n",
       "      <td>2.500000e+09</td>\n",
       "      <td>6.000000</td>\n",
       "      <td>0.000000</td>\n",
       "      <td>0.000000</td>\n",
       "    </tr>\n",
       "    <tr>\n",
       "      <th>75%</th>\n",
       "      <td>0.355000</td>\n",
       "      <td>6.200000e+09</td>\n",
       "      <td>9.000000</td>\n",
       "      <td>1.000000</td>\n",
       "      <td>0.000000</td>\n",
       "    </tr>\n",
       "    <tr>\n",
       "      <th>max</th>\n",
       "      <td>0.620000</td>\n",
       "      <td>8.350000e+10</td>\n",
       "      <td>24.000000</td>\n",
       "      <td>1.000000</td>\n",
       "      <td>1.000000</td>\n",
       "    </tr>\n",
       "  </tbody>\n",
       "</table>\n",
       "</div>"
      ],
      "text/plain": [
       "            MAIR            VL         FR      OPCFP         NI\n",
       "count  75.000000  7.500000e+01  75.000000  75.000000  75.000000\n",
       "mean    0.188533  7.136725e+09   7.453333   0.320000   0.213333\n",
       "std     0.235014  1.398149e+10   4.275301   0.469617   0.412420\n",
       "min    -0.440000  1.000000e+09   1.000000   0.000000   0.000000\n",
       "25%     0.020000  1.662007e+09   5.000000   0.000000   0.000000\n",
       "50%     0.240000  2.500000e+09   6.000000   0.000000   0.000000\n",
       "75%     0.355000  6.200000e+09   9.000000   1.000000   0.000000\n",
       "max     0.620000  8.350000e+10  24.000000   1.000000   1.000000"
      ]
     },
     "execution_count": 19,
     "metadata": {},
     "output_type": "execute_result"
    }
   ],
   "source": [
    "df.describe()"
   ]
  },
  {
   "cell_type": "code",
   "execution_count": 20,
   "id": "5957535d-2844-402c-b150-350a9139b1b6",
   "metadata": {},
   "outputs": [
    {
     "data": {
      "text/html": [
       "<div>\n",
       "<style scoped>\n",
       "    .dataframe tbody tr th:only-of-type {\n",
       "        vertical-align: middle;\n",
       "    }\n",
       "\n",
       "    .dataframe tbody tr th {\n",
       "        vertical-align: top;\n",
       "    }\n",
       "\n",
       "    .dataframe thead th {\n",
       "        text-align: right;\n",
       "    }\n",
       "</style>\n",
       "<table border=\"1\" class=\"dataframe\">\n",
       "  <thead>\n",
       "    <tr style=\"text-align: right;\">\n",
       "      <th></th>\n",
       "      <th>MAIR</th>\n",
       "      <th>VL</th>\n",
       "      <th>FR</th>\n",
       "      <th>OPCFP</th>\n",
       "      <th>NI</th>\n",
       "    </tr>\n",
       "    <tr>\n",
       "      <th>Company</th>\n",
       "      <th></th>\n",
       "      <th></th>\n",
       "      <th></th>\n",
       "      <th></th>\n",
       "      <th></th>\n",
       "    </tr>\n",
       "  </thead>\n",
       "  <tbody>\n",
       "    <tr>\n",
       "      <th>Yandex</th>\n",
       "      <td>0.10</td>\n",
       "      <td>10.049218</td>\n",
       "      <td>5</td>\n",
       "      <td>1</td>\n",
       "      <td>1</td>\n",
       "    </tr>\n",
       "    <tr>\n",
       "      <th>Groupon</th>\n",
       "      <td>0.23</td>\n",
       "      <td>10.104079</td>\n",
       "      <td>6</td>\n",
       "      <td>1</td>\n",
       "      <td>0</td>\n",
       "    </tr>\n",
       "    <tr>\n",
       "      <th>Zynga</th>\n",
       "      <td>-0.06</td>\n",
       "      <td>9.844477</td>\n",
       "      <td>9</td>\n",
       "      <td>1</td>\n",
       "      <td>1</td>\n",
       "    </tr>\n",
       "    <tr>\n",
       "      <th>Facebook</th>\n",
       "      <td>0.02</td>\n",
       "      <td>10.921686</td>\n",
       "      <td>15</td>\n",
       "      <td>1</td>\n",
       "      <td>1</td>\n",
       "    </tr>\n",
       "    <tr>\n",
       "      <th>Workday</th>\n",
       "      <td>0.43</td>\n",
       "      <td>9.653213</td>\n",
       "      <td>6</td>\n",
       "      <td>0</td>\n",
       "      <td>0</td>\n",
       "    </tr>\n",
       "    <tr>\n",
       "      <th>...</th>\n",
       "      <td>...</td>\n",
       "      <td>...</td>\n",
       "      <td>...</td>\n",
       "      <td>...</td>\n",
       "      <td>...</td>\n",
       "    </tr>\n",
       "    <tr>\n",
       "      <th>Cloudflare</th>\n",
       "      <td>0.17</td>\n",
       "      <td>9.643453</td>\n",
       "      <td>6</td>\n",
       "      <td>0</td>\n",
       "      <td>1</td>\n",
       "    </tr>\n",
       "    <tr>\n",
       "      <th>Peloton</th>\n",
       "      <td>-0.12</td>\n",
       "      <td>9.908485</td>\n",
       "      <td>8</td>\n",
       "      <td>0</td>\n",
       "      <td>0</td>\n",
       "    </tr>\n",
       "    <tr>\n",
       "      <th>Vir Biotechnology</th>\n",
       "      <td>-0.44</td>\n",
       "      <td>9.339650</td>\n",
       "      <td>3</td>\n",
       "      <td>0</td>\n",
       "      <td>0</td>\n",
       "    </tr>\n",
       "    <tr>\n",
       "      <th>Youdao</th>\n",
       "      <td>-0.36</td>\n",
       "      <td>9.204120</td>\n",
       "      <td>1</td>\n",
       "      <td>0</td>\n",
       "      <td>1</td>\n",
       "    </tr>\n",
       "    <tr>\n",
       "      <th>FangDD</th>\n",
       "      <td>-0.01</td>\n",
       "      <td>9.000000</td>\n",
       "      <td>3</td>\n",
       "      <td>1</td>\n",
       "      <td>1</td>\n",
       "    </tr>\n",
       "  </tbody>\n",
       "</table>\n",
       "<p>75 rows × 5 columns</p>\n",
       "</div>"
      ],
      "text/plain": [
       "                   MAIR         VL  FR  OPCFP  NI\n",
       "Company                                          \n",
       "Yandex             0.10  10.049218   5      1   1\n",
       "Groupon            0.23  10.104079   6      1   0\n",
       "Zynga             -0.06   9.844477   9      1   1\n",
       "Facebook           0.02  10.921686  15      1   1\n",
       "Workday            0.43   9.653213   6      0   0\n",
       "...                 ...        ...  ..    ...  ..\n",
       "Cloudflare         0.17   9.643453   6      0   1\n",
       "Peloton           -0.12   9.908485   8      0   0\n",
       "Vir Biotechnology -0.44   9.339650   3      0   0\n",
       "Youdao            -0.36   9.204120   1      0   1\n",
       "FangDD            -0.01   9.000000   3      1   1\n",
       "\n",
       "[75 rows x 5 columns]"
      ]
     },
     "execution_count": 20,
     "metadata": {},
     "output_type": "execute_result"
    }
   ],
   "source": [
    "#Using log for VL to normalize values\n",
    "df['VL'] = np.log10(df['VL'])\n",
    "df"
   ]
  },
  {
   "cell_type": "markdown",
   "id": "51739330-8c78-4bf5-ba10-2d2af50ec33c",
   "metadata": {},
   "source": [
    "## Requirements for multiple linear regression. \n",
    "* Multicollinearity.\n",
    "It is a statistical concept where several independent variables in a model are correlated. Two variables are considered to be perfectly collinear if their correlation coefficient is +/- 1.0. Multicollinearity among independent variables will result in less reliable statistical inferences. We shouldn't have correlation between two variable more than +-0.7\n",
    "\n",
    "* Homoscedasticity.\n",
    "Homoscedasticity is a property of regression, which lies in the fact that all random errors along the regression line have a constant variance. If this condition is violated, then heteroscedasticity takes place. Violation of the homoscedasticity condition leads to difficulty in interpreting the results of the study of the influence of factors on the dependent variable. Homoscedasticity can be checked with White"
   ]
  },
  {
   "cell_type": "code",
   "execution_count": 21,
   "id": "a7c0c4ed-d4c7-4d48-a3a1-022d0ac0d97b",
   "metadata": {},
   "outputs": [
    {
     "data": {
      "text/plain": [
       "<AxesSubplot:>"
      ]
     },
     "execution_count": 21,
     "metadata": {},
     "output_type": "execute_result"
    },
    {
     "data": {
      "image/png": "[encoded data removed]",
      "text/plain": [
       "<Figure size 1000x1000 with 2 Axes>"
      ]
     },
     "metadata": {},
     "output_type": "display_data"
    }
   ],
   "source": [
    "import seaborn as sns\n",
    "from matplotlib import pyplot as plt\n",
    "correlation_matrix = df.corr()\n",
    "\n",
    "plt.figure(figsize = (10, 10))\n",
    "sns.heatmap(correlation_matrix, vmax = 0.8, cmap = 'RdBu_r', annot = True, fmt = '.2f', square = True,\n",
    "            annot_kws = {'size':10}, linecolor = 'white', linewidths = 0.1)"
   ]
  },
  {
   "cell_type": "markdown",
   "id": "cf61c831-6d5a-45f9-af46-688598fa1b88",
   "metadata": {},
   "source": [
    "We see strong correlation between channels. I am going to build different models including them in different ones to check which one is more important for model."
   ]
  },
  {
   "cell_type": "code",
   "execution_count": 22,
   "id": "01e10edd-d3a1-45e0-a081-7eca17b45185",
   "metadata": {},
   "outputs": [
    {
     "data": {
      "text/plain": [
       "Index(['MAIR', 'VL', 'FR', 'OPCFP', 'NI'], dtype='object')"
      ]
     },
     "execution_count": 22,
     "metadata": {},
     "output_type": "execute_result"
    }
   ],
   "source": [
    "df.columns"
   ]
  },
  {
   "cell_type": "code",
   "execution_count": 23,
   "id": "2b5a97e1-6013-4f0b-89eb-001dc20fad64",
   "metadata": {},
   "outputs": [],
   "source": [
    "x = df[['VL', 'FR', 'OPCFP', 'NI']]\n",
    "y = df['MAIR']"
   ]
  },
  {
   "cell_type": "code",
   "execution_count": 28,
   "id": "2bc97df4-6c69-4d33-b9d6-d3348dc5bdfb",
   "metadata": {},
   "outputs": [
    {
     "name": "stdout",
     "output_type": "stream",
     "text": [
      "                            OLS Regression Results                            \n",
      "==============================================================================\n",
      "Dep. Variable:                   MAIR   R-squared:                       0.165\n",
      "Model:                            OLS   Adj. R-squared:                  0.117\n",
      "Method:                 Least Squares   F-statistic:                     3.454\n",
      "Date:                Sun, 25 Dec 2022   Prob (F-statistic):             0.0124\n",
      "Time:                        18:03:29   Log-Likelihood:                 9.4453\n",
      "No. Observations:                  75   AIC:                            -8.891\n",
      "Df Residuals:                      70   BIC:                             2.697\n",
      "Df Model:                           4                                         \n",
      "Covariance Type:            nonrobust                                         \n",
      "==============================================================================\n",
      "                 coef    std err          t      P>|t|      [0.025      0.975]\n",
      "------------------------------------------------------------------------------\n",
      "const          1.8140      0.639      2.839      0.006       0.540       3.088\n",
      "VL            -0.1784      0.070     -2.542      0.013      -0.318      -0.038\n",
      "FR             0.0098      0.007      1.358      0.179      -0.005       0.024\n",
      "OPCFP          0.1325      0.066      2.011      0.048       0.001       0.264\n",
      "NI            -0.1711      0.072     -2.392      0.019      -0.314      -0.028\n",
      "==============================================================================\n",
      "Omnibus:                        7.052   Durbin-Watson:                   1.440\n",
      "Prob(Omnibus):                  0.029   Jarque-Bera (JB):                6.468\n",
      "Skew:                          -0.694   Prob(JB):                       0.0394\n",
      "Kurtosis:                       3.377   Cond. No.                         315.\n",
      "==============================================================================\n",
      "\n",
      "Notes:\n",
      "[1] Standard Errors assume that the covariance matrix of the errors is correctly specified.\n"
     ]
    }
   ],
   "source": [
    "import statsmodels.api as sm\n",
    "\n",
    "x = sm.add_constant(x) # adding a constant\n",
    " \n",
    "model = sm.OLS(y, x).fit()\n",
    "predictions = model.predict(x) \n",
    " \n",
    "print_model = model.summary()\n",
    "print(print_model)"
   ]
  },
  {
   "cell_type": "markdown",
   "id": "430d985d-a576-4139-8172-bbd71bcb4c32",
   "metadata": {},
   "source": [
    "Looking at P value for variables we see that Organic channel is least important factor, we are going to drop it to see how it improves model. We are going to repeat the process removing variables one by one."
   ]
  },
  {
   "cell_type": "markdown",
   "id": "d17a8486-619a-48d7-a92a-3feedec6cb2b",
   "metadata": {},
   "source": [
    "After removing unsignificant variables we have left with two. Though we can't call it a model, but we see that those two factors are important. (R squared metric is really low, but ignoring for purpose of training). "
   ]
  },
  {
   "cell_type": "code",
   "execution_count": 39,
   "id": "3fc781d8-8c0e-4f27-97dd-ee94aaadd178",
   "metadata": {},
   "outputs": [
    {
     "name": "stdout",
     "output_type": "stream",
     "text": [
      "{'Test Statistic': 49.913703553172375, 'Test Statistic p-value': 8.334514015661694e-11, 'F-Statistic': 16.696608730999635, 'F-Test p-value': 8.005203906999662e-11}\n"
     ]
    }
   ],
   "source": [
    "from statsmodels.stats.diagnostic import het_white\n",
    "#perform White's test\n",
    "white_test = het_white(model.resid,  model.model.exog)\n",
    "\n",
    "#define labels to use for output of White's test\n",
    "labels = ['Test Statistic', 'Test Statistic p-value', 'F-Statistic', 'F-Test p-value']\n",
    "\n",
    "#print results of White's test\n",
    "print(dict(zip(labels, white_test)))"
   ]
  },
  {
   "cell_type": "markdown",
   "id": "7720a13b-0788-4b42-9206-9773a0ae5ae4",
   "metadata": {},
   "source": [
    "P value is less than 0,05 it means we have heteroscedacity "
   ]
  },
  {
   "cell_type": "code",
   "execution_count": null,
   "id": "86be2c2e-c5cf-412a-94d1-d50d5a57b6cd",
   "metadata": {},
   "outputs": [],
   "source": []
  }
 ],
 "metadata": {
  "kernelspec": {
   "display_name": "Python 3 (ipykernel)",
   "language": "python",
   "name": "python3"
  },
  "language_info": {
   "codemirror_mode": {
    "name": "ipython",
    "version": 3
   },
   "file_extension": ".py",
   "mimetype": "text/x-python",
   "name": "python",
   "nbconvert_exporter": "python",
   "pygments_lexer": "ipython3",
   "version": "3.9.13"
  }
 },
 "nbformat": 4,
 "nbformat_minor": 5
}
